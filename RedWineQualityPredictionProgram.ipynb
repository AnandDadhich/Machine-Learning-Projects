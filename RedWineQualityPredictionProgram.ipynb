{
 "cells": [
  {
   "cell_type": "code",
   "execution_count": 1,
   "metadata": {},
   "outputs": [],
   "source": [
    "import pandas as pd\n",
    "import numpy as np\n",
    "import matplotlib.pyplot as plt\n",
    "%matplotlib inline\n",
    "import seaborn as sns"
   ]
  },
  {
   "cell_type": "code",
   "execution_count": 2,
   "metadata": {},
   "outputs": [],
   "source": [
    "df=pd.read_csv(\"C:\\\\Users\\\\dell\\\\Desktop\\\\Machine Learning\\\\winequality-red.csv\")"
   ]
  },
  {
   "cell_type": "code",
   "execution_count": 3,
   "metadata": {},
   "outputs": [
    {
     "data": {
      "text/html": [
       "<div>\n",
       "<style scoped>\n",
       "    .dataframe tbody tr th:only-of-type {\n",
       "        vertical-align: middle;\n",
       "    }\n",
       "\n",
       "    .dataframe tbody tr th {\n",
       "        vertical-align: top;\n",
       "    }\n",
       "\n",
       "    .dataframe thead th {\n",
       "        text-align: right;\n",
       "    }\n",
       "</style>\n",
       "<table border=\"1\" class=\"dataframe\">\n",
       "  <thead>\n",
       "    <tr style=\"text-align: right;\">\n",
       "      <th></th>\n",
       "      <th>fixed acidity</th>\n",
       "      <th>volatile acidity</th>\n",
       "      <th>citric acid</th>\n",
       "      <th>residual sugar</th>\n",
       "      <th>chlorides</th>\n",
       "      <th>free sulfur dioxide</th>\n",
       "      <th>total sulfur dioxide</th>\n",
       "      <th>density</th>\n",
       "      <th>pH</th>\n",
       "      <th>sulphates</th>\n",
       "      <th>alcohol</th>\n",
       "      <th>quality</th>\n",
       "    </tr>\n",
       "  </thead>\n",
       "  <tbody>\n",
       "    <tr>\n",
       "      <th>0</th>\n",
       "      <td>7.4</td>\n",
       "      <td>0.70</td>\n",
       "      <td>0.00</td>\n",
       "      <td>1.9</td>\n",
       "      <td>0.076</td>\n",
       "      <td>11.0</td>\n",
       "      <td>34.0</td>\n",
       "      <td>0.9978</td>\n",
       "      <td>3.51</td>\n",
       "      <td>0.56</td>\n",
       "      <td>9.4</td>\n",
       "      <td>5</td>\n",
       "    </tr>\n",
       "    <tr>\n",
       "      <th>1</th>\n",
       "      <td>7.8</td>\n",
       "      <td>0.88</td>\n",
       "      <td>0.00</td>\n",
       "      <td>2.6</td>\n",
       "      <td>0.098</td>\n",
       "      <td>25.0</td>\n",
       "      <td>67.0</td>\n",
       "      <td>0.9968</td>\n",
       "      <td>3.20</td>\n",
       "      <td>0.68</td>\n",
       "      <td>9.8</td>\n",
       "      <td>5</td>\n",
       "    </tr>\n",
       "    <tr>\n",
       "      <th>2</th>\n",
       "      <td>7.8</td>\n",
       "      <td>0.76</td>\n",
       "      <td>0.04</td>\n",
       "      <td>2.3</td>\n",
       "      <td>0.092</td>\n",
       "      <td>15.0</td>\n",
       "      <td>54.0</td>\n",
       "      <td>0.9970</td>\n",
       "      <td>3.26</td>\n",
       "      <td>0.65</td>\n",
       "      <td>9.8</td>\n",
       "      <td>5</td>\n",
       "    </tr>\n",
       "    <tr>\n",
       "      <th>3</th>\n",
       "      <td>11.2</td>\n",
       "      <td>0.28</td>\n",
       "      <td>0.56</td>\n",
       "      <td>1.9</td>\n",
       "      <td>0.075</td>\n",
       "      <td>17.0</td>\n",
       "      <td>60.0</td>\n",
       "      <td>0.9980</td>\n",
       "      <td>3.16</td>\n",
       "      <td>0.58</td>\n",
       "      <td>9.8</td>\n",
       "      <td>6</td>\n",
       "    </tr>\n",
       "    <tr>\n",
       "      <th>4</th>\n",
       "      <td>7.4</td>\n",
       "      <td>0.70</td>\n",
       "      <td>0.00</td>\n",
       "      <td>1.9</td>\n",
       "      <td>0.076</td>\n",
       "      <td>11.0</td>\n",
       "      <td>34.0</td>\n",
       "      <td>0.9978</td>\n",
       "      <td>3.51</td>\n",
       "      <td>0.56</td>\n",
       "      <td>9.4</td>\n",
       "      <td>5</td>\n",
       "    </tr>\n",
       "  </tbody>\n",
       "</table>\n",
       "</div>"
      ],
      "text/plain": [
       "   fixed acidity  volatile acidity  citric acid  residual sugar  chlorides  \\\n",
       "0            7.4              0.70         0.00             1.9      0.076   \n",
       "1            7.8              0.88         0.00             2.6      0.098   \n",
       "2            7.8              0.76         0.04             2.3      0.092   \n",
       "3           11.2              0.28         0.56             1.9      0.075   \n",
       "4            7.4              0.70         0.00             1.9      0.076   \n",
       "\n",
       "   free sulfur dioxide  total sulfur dioxide  density    pH  sulphates  \\\n",
       "0                 11.0                  34.0   0.9978  3.51       0.56   \n",
       "1                 25.0                  67.0   0.9968  3.20       0.68   \n",
       "2                 15.0                  54.0   0.9970  3.26       0.65   \n",
       "3                 17.0                  60.0   0.9980  3.16       0.58   \n",
       "4                 11.0                  34.0   0.9978  3.51       0.56   \n",
       "\n",
       "   alcohol  quality  \n",
       "0      9.4        5  \n",
       "1      9.8        5  \n",
       "2      9.8        5  \n",
       "3      9.8        6  \n",
       "4      9.4        5  "
      ]
     },
     "execution_count": 3,
     "metadata": {},
     "output_type": "execute_result"
    }
   ],
   "source": [
    "df.head()"
   ]
  },
  {
   "cell_type": "code",
   "execution_count": 17,
   "metadata": {},
   "outputs": [
    {
     "name": "stdout",
     "output_type": "stream",
     "text": [
      "<class 'pandas.core.frame.DataFrame'>\n",
      "RangeIndex: 1599 entries, 0 to 1598\n",
      "Data columns (total 12 columns):\n",
      "fixed acidity           1599 non-null float64\n",
      "volatile acidity        1599 non-null float64\n",
      "citric acid             1599 non-null float64\n",
      "residual sugar          1599 non-null float64\n",
      "chlorides               1599 non-null float64\n",
      "free sulfur dioxide     1599 non-null float64\n",
      "total sulfur dioxide    1599 non-null float64\n",
      "density                 1599 non-null float64\n",
      "pH                      1599 non-null float64\n",
      "sulphates               1599 non-null float64\n",
      "alcohol                 1599 non-null float64\n",
      "quality                 1599 non-null int64\n",
      "dtypes: float64(11), int64(1)\n",
      "memory usage: 150.0 KB\n"
     ]
    }
   ],
   "source": [
    "df.info()"
   ]
  },
  {
   "cell_type": "code",
   "execution_count": 18,
   "metadata": {},
   "outputs": [
    {
     "data": {
      "text/html": [
       "<div>\n",
       "<style scoped>\n",
       "    .dataframe tbody tr th:only-of-type {\n",
       "        vertical-align: middle;\n",
       "    }\n",
       "\n",
       "    .dataframe tbody tr th {\n",
       "        vertical-align: top;\n",
       "    }\n",
       "\n",
       "    .dataframe thead th {\n",
       "        text-align: right;\n",
       "    }\n",
       "</style>\n",
       "<table border=\"1\" class=\"dataframe\">\n",
       "  <thead>\n",
       "    <tr style=\"text-align: right;\">\n",
       "      <th></th>\n",
       "      <th>fixed acidity</th>\n",
       "      <th>volatile acidity</th>\n",
       "      <th>citric acid</th>\n",
       "      <th>residual sugar</th>\n",
       "      <th>chlorides</th>\n",
       "      <th>free sulfur dioxide</th>\n",
       "      <th>total sulfur dioxide</th>\n",
       "      <th>density</th>\n",
       "      <th>pH</th>\n",
       "      <th>sulphates</th>\n",
       "      <th>alcohol</th>\n",
       "      <th>quality</th>\n",
       "    </tr>\n",
       "  </thead>\n",
       "  <tbody>\n",
       "    <tr>\n",
       "      <th>count</th>\n",
       "      <td>1599.000000</td>\n",
       "      <td>1599.000000</td>\n",
       "      <td>1599.000000</td>\n",
       "      <td>1599.000000</td>\n",
       "      <td>1599.000000</td>\n",
       "      <td>1599.000000</td>\n",
       "      <td>1599.000000</td>\n",
       "      <td>1599.000000</td>\n",
       "      <td>1599.000000</td>\n",
       "      <td>1599.000000</td>\n",
       "      <td>1599.000000</td>\n",
       "      <td>1599.000000</td>\n",
       "    </tr>\n",
       "    <tr>\n",
       "      <th>mean</th>\n",
       "      <td>8.319637</td>\n",
       "      <td>0.527821</td>\n",
       "      <td>0.270976</td>\n",
       "      <td>2.538806</td>\n",
       "      <td>0.087467</td>\n",
       "      <td>15.874922</td>\n",
       "      <td>46.467792</td>\n",
       "      <td>0.996747</td>\n",
       "      <td>3.311113</td>\n",
       "      <td>0.658149</td>\n",
       "      <td>10.422983</td>\n",
       "      <td>5.636023</td>\n",
       "    </tr>\n",
       "    <tr>\n",
       "      <th>std</th>\n",
       "      <td>1.741096</td>\n",
       "      <td>0.179060</td>\n",
       "      <td>0.194801</td>\n",
       "      <td>1.409928</td>\n",
       "      <td>0.047065</td>\n",
       "      <td>10.460157</td>\n",
       "      <td>32.895324</td>\n",
       "      <td>0.001887</td>\n",
       "      <td>0.154386</td>\n",
       "      <td>0.169507</td>\n",
       "      <td>1.065668</td>\n",
       "      <td>0.807569</td>\n",
       "    </tr>\n",
       "    <tr>\n",
       "      <th>min</th>\n",
       "      <td>4.600000</td>\n",
       "      <td>0.120000</td>\n",
       "      <td>0.000000</td>\n",
       "      <td>0.900000</td>\n",
       "      <td>0.012000</td>\n",
       "      <td>1.000000</td>\n",
       "      <td>6.000000</td>\n",
       "      <td>0.990070</td>\n",
       "      <td>2.740000</td>\n",
       "      <td>0.330000</td>\n",
       "      <td>8.400000</td>\n",
       "      <td>3.000000</td>\n",
       "    </tr>\n",
       "    <tr>\n",
       "      <th>25%</th>\n",
       "      <td>7.100000</td>\n",
       "      <td>0.390000</td>\n",
       "      <td>0.090000</td>\n",
       "      <td>1.900000</td>\n",
       "      <td>0.070000</td>\n",
       "      <td>7.000000</td>\n",
       "      <td>22.000000</td>\n",
       "      <td>0.995600</td>\n",
       "      <td>3.210000</td>\n",
       "      <td>0.550000</td>\n",
       "      <td>9.500000</td>\n",
       "      <td>5.000000</td>\n",
       "    </tr>\n",
       "    <tr>\n",
       "      <th>50%</th>\n",
       "      <td>7.900000</td>\n",
       "      <td>0.520000</td>\n",
       "      <td>0.260000</td>\n",
       "      <td>2.200000</td>\n",
       "      <td>0.079000</td>\n",
       "      <td>14.000000</td>\n",
       "      <td>38.000000</td>\n",
       "      <td>0.996750</td>\n",
       "      <td>3.310000</td>\n",
       "      <td>0.620000</td>\n",
       "      <td>10.200000</td>\n",
       "      <td>6.000000</td>\n",
       "    </tr>\n",
       "    <tr>\n",
       "      <th>75%</th>\n",
       "      <td>9.200000</td>\n",
       "      <td>0.640000</td>\n",
       "      <td>0.420000</td>\n",
       "      <td>2.600000</td>\n",
       "      <td>0.090000</td>\n",
       "      <td>21.000000</td>\n",
       "      <td>62.000000</td>\n",
       "      <td>0.997835</td>\n",
       "      <td>3.400000</td>\n",
       "      <td>0.730000</td>\n",
       "      <td>11.100000</td>\n",
       "      <td>6.000000</td>\n",
       "    </tr>\n",
       "    <tr>\n",
       "      <th>max</th>\n",
       "      <td>15.900000</td>\n",
       "      <td>1.580000</td>\n",
       "      <td>1.000000</td>\n",
       "      <td>15.500000</td>\n",
       "      <td>0.611000</td>\n",
       "      <td>72.000000</td>\n",
       "      <td>289.000000</td>\n",
       "      <td>1.003690</td>\n",
       "      <td>4.010000</td>\n",
       "      <td>2.000000</td>\n",
       "      <td>14.900000</td>\n",
       "      <td>8.000000</td>\n",
       "    </tr>\n",
       "  </tbody>\n",
       "</table>\n",
       "</div>"
      ],
      "text/plain": [
       "       fixed acidity  volatile acidity  citric acid  residual sugar  \\\n",
       "count    1599.000000       1599.000000  1599.000000     1599.000000   \n",
       "mean        8.319637          0.527821     0.270976        2.538806   \n",
       "std         1.741096          0.179060     0.194801        1.409928   \n",
       "min         4.600000          0.120000     0.000000        0.900000   \n",
       "25%         7.100000          0.390000     0.090000        1.900000   \n",
       "50%         7.900000          0.520000     0.260000        2.200000   \n",
       "75%         9.200000          0.640000     0.420000        2.600000   \n",
       "max        15.900000          1.580000     1.000000       15.500000   \n",
       "\n",
       "         chlorides  free sulfur dioxide  total sulfur dioxide      density  \\\n",
       "count  1599.000000          1599.000000           1599.000000  1599.000000   \n",
       "mean      0.087467            15.874922             46.467792     0.996747   \n",
       "std       0.047065            10.460157             32.895324     0.001887   \n",
       "min       0.012000             1.000000              6.000000     0.990070   \n",
       "25%       0.070000             7.000000             22.000000     0.995600   \n",
       "50%       0.079000            14.000000             38.000000     0.996750   \n",
       "75%       0.090000            21.000000             62.000000     0.997835   \n",
       "max       0.611000            72.000000            289.000000     1.003690   \n",
       "\n",
       "                pH    sulphates      alcohol      quality  \n",
       "count  1599.000000  1599.000000  1599.000000  1599.000000  \n",
       "mean      3.311113     0.658149    10.422983     5.636023  \n",
       "std       0.154386     0.169507     1.065668     0.807569  \n",
       "min       2.740000     0.330000     8.400000     3.000000  \n",
       "25%       3.210000     0.550000     9.500000     5.000000  \n",
       "50%       3.310000     0.620000    10.200000     6.000000  \n",
       "75%       3.400000     0.730000    11.100000     6.000000  \n",
       "max       4.010000     2.000000    14.900000     8.000000  "
      ]
     },
     "execution_count": 18,
     "metadata": {},
     "output_type": "execute_result"
    }
   ],
   "source": [
    "df.describe()"
   ]
  },
  {
   "cell_type": "code",
   "execution_count": 19,
   "metadata": {},
   "outputs": [
    {
     "data": {
      "text/plain": [
       "6"
      ]
     },
     "execution_count": 19,
     "metadata": {},
     "output_type": "execute_result"
    }
   ],
   "source": [
    "df['quality'].nunique()"
   ]
  },
  {
   "cell_type": "code",
   "execution_count": 4,
   "metadata": {},
   "outputs": [
    {
     "data": {
      "text/plain": [
       "5    681\n",
       "6    638\n",
       "7    199\n",
       "4     53\n",
       "8     18\n",
       "3     10\n",
       "Name: quality, dtype: int64"
      ]
     },
     "execution_count": 4,
     "metadata": {},
     "output_type": "execute_result"
    }
   ],
   "source": [
    "df['quality'].value_counts()"
   ]
  },
  {
   "cell_type": "code",
   "execution_count": 23,
   "metadata": {},
   "outputs": [
    {
     "data": {
      "text/plain": [
       "9.5     139\n",
       "9.4     103\n",
       "9.8      78\n",
       "9.2      72\n",
       "10.5     67\n",
       "Name: alcohol, dtype: int64"
      ]
     },
     "execution_count": 23,
     "metadata": {},
     "output_type": "execute_result"
    }
   ],
   "source": [
    "df['alcohol'].value_counts().head()"
   ]
  },
  {
   "cell_type": "code",
   "execution_count": 6,
   "metadata": {},
   "outputs": [],
   "source": [
    "#df['fixed acidity'].value_counts()"
   ]
  },
  {
   "cell_type": "code",
   "execution_count": 12,
   "metadata": {},
   "outputs": [
    {
     "data": {
      "text/plain": [
       "Text(0.5,1,'BarPlot of RedWine Quality Check')"
      ]
     },
     "execution_count": 12,
     "metadata": {},
     "output_type": "execute_result"
    },
    {
     "data": {
      "image/png": "[encoded data removed]",
      "text/plain": [
       "<Figure size 4500x2400 with 1 Axes>"
      ]
     },
     "metadata": {},
     "output_type": "display_data"
    }
   ],
   "source": [
    "plt.figure(figsize=(15,8),dpi=300)\n",
    "sns.barplot(x=df['quality'],y=df['fixed acidity'],data=df)\n",
    "plt.title(\"BarPlot of RedWine Quality Check\")"
   ]
  },
  {
   "cell_type": "code",
   "execution_count": 14,
   "metadata": {},
   "outputs": [
    {
     "data": {
      "text/plain": [
       "<matplotlib.axes._subplots.AxesSubplot at 0x2bcae338898>"
      ]
     },
     "execution_count": 14,
     "metadata": {},
     "output_type": "execute_result"
    },
    {
     "data": {
      "image/png": "[encoded data removed]",
      "text/plain": [
       "<Figure size 3000x1500 with 1 Axes>"
      ]
     },
     "metadata": {},
     "output_type": "display_data"
    }
   ],
   "source": [
    "plt.figure(figsize=(10,5),dpi=300)\n",
    "sns.countplot(df['quality'])"
   ]
  },
  {
   "cell_type": "code",
   "execution_count": 16,
   "metadata": {},
   "outputs": [
    {
     "data": {
      "text/plain": [
       "<matplotlib.axes._subplots.AxesSubplot at 0x2bcb0cdbbe0>"
      ]
     },
     "execution_count": 16,
     "metadata": {},
     "output_type": "execute_result"
    },
    {
     "data": {
      "image/png": "[encoded data removed]",
      "text/plain": [
       "<Figure size 4500x2400 with 1 Axes>"
      ]
     },
     "metadata": {},
     "output_type": "display_data"
    }
   ],
   "source": [
    "plt.figure(figsize=(15,8),dpi=300)\n",
    "sns.barplot(x=df['quality'],y=df['volatile acidity'],data=df)"
   ]
  },
  {
   "cell_type": "code",
   "execution_count": 27,
   "metadata": {},
   "outputs": [
    {
     "data": {
      "text/plain": [
       "<matplotlib.axes._subplots.AxesSubplot at 0x2bca80224e0>"
      ]
     },
     "execution_count": 27,
     "metadata": {},
     "output_type": "execute_result"
    },
    {
     "data": {
      "image/png": "[encoded data removed]",
      "text/plain": [
       "<Figure size 4500x2400 with 1 Axes>"
      ]
     },
     "metadata": {},
     "output_type": "display_data"
    }
   ],
   "source": [
    "plt.figure(figsize=(15,8),dpi=300)\n",
    "sns.barplot(x=df['quality'],y=df['citric acid'])"
   ]
  },
  {
   "cell_type": "code",
   "execution_count": 24,
   "metadata": {},
   "outputs": [
    {
     "data": {
      "text/plain": [
       "<matplotlib.axes._subplots.AxesSubplot at 0x2bca7fd9a58>"
      ]
     },
     "execution_count": 24,
     "metadata": {},
     "output_type": "execute_result"
    },
    {
     "data": {
      "image/png": "[encoded data removed]",
      "text/plain": [
       "<Figure size 4500x2400 with 1 Axes>"
      ]
     },
     "metadata": {},
     "output_type": "display_data"
    }
   ],
   "source": [
    "plt.figure(figsize=(15,8),dpi=300)\n",
    "sns.barplot(x='quality',y='alcohol',data=df)"
   ]
  },
  {
   "cell_type": "code",
   "execution_count": 29,
   "metadata": {},
   "outputs": [],
   "source": [
    "x=df.drop(['quality'],axis=1)\n",
    "y=df['quality']"
   ]
  },
  {
   "cell_type": "code",
   "execution_count": 31,
   "metadata": {},
   "outputs": [],
   "source": [
    "from sklearn.model_selection import train_test_split"
   ]
  },
  {
   "cell_type": "code",
   "execution_count": 32,
   "metadata": {},
   "outputs": [],
   "source": [
    "x_train,x_test,y_train,y_test=train_test_split(x,y,test_size=0.2,random_state=42)"
   ]
  },
  {
   "cell_type": "code",
   "execution_count": 33,
   "metadata": {},
   "outputs": [],
   "source": [
    "from sklearn.preprocessing import StandardScaler"
   ]
  },
  {
   "cell_type": "code",
   "execution_count": 34,
   "metadata": {},
   "outputs": [],
   "source": [
    "sc=StandardScaler()\n",
    "x_train=sc.fit_transform(x_train)\n",
    "x_test=sc.transform(x_test)"
   ]
  },
  {
   "cell_type": "code",
   "execution_count": 35,
   "metadata": {},
   "outputs": [],
   "source": [
    "from sklearn.ensemble import RandomForestClassifier"
   ]
  },
  {
   "cell_type": "code",
   "execution_count": 42,
   "metadata": {},
   "outputs": [],
   "source": [
    "model=RandomForestClassifier(n_estimators=200).fit(x_train,y_train)"
   ]
  },
  {
   "cell_type": "code",
   "execution_count": 43,
   "metadata": {},
   "outputs": [],
   "source": [
    "pred=model.predict(x_test)"
   ]
  },
  {
   "cell_type": "code",
   "execution_count": 44,
   "metadata": {},
   "outputs": [],
   "source": [
    "from sklearn.metrics import confusion_matrix,classification_report"
   ]
  },
  {
   "cell_type": "code",
   "execution_count": 54,
   "metadata": {},
   "outputs": [
    {
     "name": "stdout",
     "output_type": "stream",
     "text": [
      "[[ 0  0  1  0  0  0]\n",
      " [ 0  0  7  3  0  0]\n",
      " [ 0  0 97 32  1  0]\n",
      " [ 0  0 35 91  6  0]\n",
      " [ 0  0  0 21 20  1]\n",
      " [ 0  0  0  0  5  0]]\n"
     ]
    }
   ],
   "source": [
    "print(confusion_matrix(y_test,pred))"
   ]
  },
  {
   "cell_type": "code",
   "execution_count": 56,
   "metadata": {},
   "outputs": [
    {
     "name": "stdout",
     "output_type": "stream",
     "text": [
      "             precision    recall  f1-score   support\n",
      "\n",
      "          3       0.00      0.00      0.00         1\n",
      "          4       0.00      0.00      0.00        10\n",
      "          5       0.69      0.75      0.72       130\n",
      "          6       0.62      0.69      0.65       132\n",
      "          7       0.62      0.48      0.54        42\n",
      "          8       0.00      0.00      0.00         5\n",
      "\n",
      "avg / total       0.62      0.65      0.63       320\n",
      "\n"
     ]
    },
    {
     "name": "stderr",
     "output_type": "stream",
     "text": [
      "C:\\Users\\dell\\Anaconda3\\lib\\site-packages\\sklearn\\metrics\\classification.py:1135: UndefinedMetricWarning: Precision and F-score are ill-defined and being set to 0.0 in labels with no predicted samples.\n",
      "  'precision', 'predicted', average, warn_for)\n"
     ]
    }
   ],
   "source": [
    "print(classification_report(y_test,pred))"
   ]
  },
  {
   "cell_type": "code",
   "execution_count": 57,
   "metadata": {},
   "outputs": [],
   "source": [
    "#Making Binary Classification for the Response Variable/Dependent Variable/Label/for y\n",
    "#Dividing wine as Good and Bad by giving the limit for the quality\n",
    "bins=(2,6.5,8)\n",
    "group_names=['bad','good']\n",
    "df['quality']=pd.cut(df['quality'],bins=bins,labels=group_names)"
   ]
  },
  {
   "cell_type": "code",
   "execution_count": 58,
   "metadata": {},
   "outputs": [
    {
     "data": {
      "text/html": [
       "<div>\n",
       "<style scoped>\n",
       "    .dataframe tbody tr th:only-of-type {\n",
       "        vertical-align: middle;\n",
       "    }\n",
       "\n",
       "    .dataframe tbody tr th {\n",
       "        vertical-align: top;\n",
       "    }\n",
       "\n",
       "    .dataframe thead th {\n",
       "        text-align: right;\n",
       "    }\n",
       "</style>\n",
       "<table border=\"1\" class=\"dataframe\">\n",
       "  <thead>\n",
       "    <tr style=\"text-align: right;\">\n",
       "      <th></th>\n",
       "      <th>fixed acidity</th>\n",
       "      <th>volatile acidity</th>\n",
       "      <th>citric acid</th>\n",
       "      <th>residual sugar</th>\n",
       "      <th>chlorides</th>\n",
       "      <th>free sulfur dioxide</th>\n",
       "      <th>total sulfur dioxide</th>\n",
       "      <th>density</th>\n",
       "      <th>pH</th>\n",
       "      <th>sulphates</th>\n",
       "      <th>alcohol</th>\n",
       "      <th>quality</th>\n",
       "    </tr>\n",
       "  </thead>\n",
       "  <tbody>\n",
       "    <tr>\n",
       "      <th>0</th>\n",
       "      <td>7.4</td>\n",
       "      <td>0.70</td>\n",
       "      <td>0.00</td>\n",
       "      <td>1.9</td>\n",
       "      <td>0.076</td>\n",
       "      <td>11.0</td>\n",
       "      <td>34.0</td>\n",
       "      <td>0.9978</td>\n",
       "      <td>3.51</td>\n",
       "      <td>0.56</td>\n",
       "      <td>9.4</td>\n",
       "      <td>bad</td>\n",
       "    </tr>\n",
       "    <tr>\n",
       "      <th>1</th>\n",
       "      <td>7.8</td>\n",
       "      <td>0.88</td>\n",
       "      <td>0.00</td>\n",
       "      <td>2.6</td>\n",
       "      <td>0.098</td>\n",
       "      <td>25.0</td>\n",
       "      <td>67.0</td>\n",
       "      <td>0.9968</td>\n",
       "      <td>3.20</td>\n",
       "      <td>0.68</td>\n",
       "      <td>9.8</td>\n",
       "      <td>bad</td>\n",
       "    </tr>\n",
       "    <tr>\n",
       "      <th>2</th>\n",
       "      <td>7.8</td>\n",
       "      <td>0.76</td>\n",
       "      <td>0.04</td>\n",
       "      <td>2.3</td>\n",
       "      <td>0.092</td>\n",
       "      <td>15.0</td>\n",
       "      <td>54.0</td>\n",
       "      <td>0.9970</td>\n",
       "      <td>3.26</td>\n",
       "      <td>0.65</td>\n",
       "      <td>9.8</td>\n",
       "      <td>bad</td>\n",
       "    </tr>\n",
       "    <tr>\n",
       "      <th>3</th>\n",
       "      <td>11.2</td>\n",
       "      <td>0.28</td>\n",
       "      <td>0.56</td>\n",
       "      <td>1.9</td>\n",
       "      <td>0.075</td>\n",
       "      <td>17.0</td>\n",
       "      <td>60.0</td>\n",
       "      <td>0.9980</td>\n",
       "      <td>3.16</td>\n",
       "      <td>0.58</td>\n",
       "      <td>9.8</td>\n",
       "      <td>bad</td>\n",
       "    </tr>\n",
       "    <tr>\n",
       "      <th>4</th>\n",
       "      <td>7.4</td>\n",
       "      <td>0.70</td>\n",
       "      <td>0.00</td>\n",
       "      <td>1.9</td>\n",
       "      <td>0.076</td>\n",
       "      <td>11.0</td>\n",
       "      <td>34.0</td>\n",
       "      <td>0.9978</td>\n",
       "      <td>3.51</td>\n",
       "      <td>0.56</td>\n",
       "      <td>9.4</td>\n",
       "      <td>bad</td>\n",
       "    </tr>\n",
       "  </tbody>\n",
       "</table>\n",
       "</div>"
      ],
      "text/plain": [
       "   fixed acidity  volatile acidity  citric acid  residual sugar  chlorides  \\\n",
       "0            7.4              0.70         0.00             1.9      0.076   \n",
       "1            7.8              0.88         0.00             2.6      0.098   \n",
       "2            7.8              0.76         0.04             2.3      0.092   \n",
       "3           11.2              0.28         0.56             1.9      0.075   \n",
       "4            7.4              0.70         0.00             1.9      0.076   \n",
       "\n",
       "   free sulfur dioxide  total sulfur dioxide  density    pH  sulphates  \\\n",
       "0                 11.0                  34.0   0.9978  3.51       0.56   \n",
       "1                 25.0                  67.0   0.9968  3.20       0.68   \n",
       "2                 15.0                  54.0   0.9970  3.26       0.65   \n",
       "3                 17.0                  60.0   0.9980  3.16       0.58   \n",
       "4                 11.0                  34.0   0.9978  3.51       0.56   \n",
       "\n",
       "   alcohol quality  \n",
       "0      9.4     bad  \n",
       "1      9.8     bad  \n",
       "2      9.8     bad  \n",
       "3      9.8     bad  \n",
       "4      9.4     bad  "
      ]
     },
     "execution_count": 58,
     "metadata": {},
     "output_type": "execute_result"
    }
   ],
   "source": [
    "df.head()"
   ]
  },
  {
   "cell_type": "code",
   "execution_count": 59,
   "metadata": {},
   "outputs": [],
   "source": [
    "from sklearn.preprocessing import LabelEncoder"
   ]
  },
  {
   "cell_type": "code",
   "execution_count": 60,
   "metadata": {},
   "outputs": [],
   "source": [
    "df['quality']=LabelEncoder().fit_transform(df['quality'])"
   ]
  },
  {
   "cell_type": "code",
   "execution_count": 61,
   "metadata": {},
   "outputs": [
    {
     "data": {
      "text/html": [
       "<div>\n",
       "<style scoped>\n",
       "    .dataframe tbody tr th:only-of-type {\n",
       "        vertical-align: middle;\n",
       "    }\n",
       "\n",
       "    .dataframe tbody tr th {\n",
       "        vertical-align: top;\n",
       "    }\n",
       "\n",
       "    .dataframe thead th {\n",
       "        text-align: right;\n",
       "    }\n",
       "</style>\n",
       "<table border=\"1\" class=\"dataframe\">\n",
       "  <thead>\n",
       "    <tr style=\"text-align: right;\">\n",
       "      <th></th>\n",
       "      <th>fixed acidity</th>\n",
       "      <th>volatile acidity</th>\n",
       "      <th>citric acid</th>\n",
       "      <th>residual sugar</th>\n",
       "      <th>chlorides</th>\n",
       "      <th>free sulfur dioxide</th>\n",
       "      <th>total sulfur dioxide</th>\n",
       "      <th>density</th>\n",
       "      <th>pH</th>\n",
       "      <th>sulphates</th>\n",
       "      <th>alcohol</th>\n",
       "      <th>quality</th>\n",
       "    </tr>\n",
       "  </thead>\n",
       "  <tbody>\n",
       "    <tr>\n",
       "      <th>0</th>\n",
       "      <td>7.4</td>\n",
       "      <td>0.70</td>\n",
       "      <td>0.00</td>\n",
       "      <td>1.9</td>\n",
       "      <td>0.076</td>\n",
       "      <td>11.0</td>\n",
       "      <td>34.0</td>\n",
       "      <td>0.9978</td>\n",
       "      <td>3.51</td>\n",
       "      <td>0.56</td>\n",
       "      <td>9.4</td>\n",
       "      <td>0</td>\n",
       "    </tr>\n",
       "    <tr>\n",
       "      <th>1</th>\n",
       "      <td>7.8</td>\n",
       "      <td>0.88</td>\n",
       "      <td>0.00</td>\n",
       "      <td>2.6</td>\n",
       "      <td>0.098</td>\n",
       "      <td>25.0</td>\n",
       "      <td>67.0</td>\n",
       "      <td>0.9968</td>\n",
       "      <td>3.20</td>\n",
       "      <td>0.68</td>\n",
       "      <td>9.8</td>\n",
       "      <td>0</td>\n",
       "    </tr>\n",
       "    <tr>\n",
       "      <th>2</th>\n",
       "      <td>7.8</td>\n",
       "      <td>0.76</td>\n",
       "      <td>0.04</td>\n",
       "      <td>2.3</td>\n",
       "      <td>0.092</td>\n",
       "      <td>15.0</td>\n",
       "      <td>54.0</td>\n",
       "      <td>0.9970</td>\n",
       "      <td>3.26</td>\n",
       "      <td>0.65</td>\n",
       "      <td>9.8</td>\n",
       "      <td>0</td>\n",
       "    </tr>\n",
       "    <tr>\n",
       "      <th>3</th>\n",
       "      <td>11.2</td>\n",
       "      <td>0.28</td>\n",
       "      <td>0.56</td>\n",
       "      <td>1.9</td>\n",
       "      <td>0.075</td>\n",
       "      <td>17.0</td>\n",
       "      <td>60.0</td>\n",
       "      <td>0.9980</td>\n",
       "      <td>3.16</td>\n",
       "      <td>0.58</td>\n",
       "      <td>9.8</td>\n",
       "      <td>0</td>\n",
       "    </tr>\n",
       "    <tr>\n",
       "      <th>4</th>\n",
       "      <td>7.4</td>\n",
       "      <td>0.70</td>\n",
       "      <td>0.00</td>\n",
       "      <td>1.9</td>\n",
       "      <td>0.076</td>\n",
       "      <td>11.0</td>\n",
       "      <td>34.0</td>\n",
       "      <td>0.9978</td>\n",
       "      <td>3.51</td>\n",
       "      <td>0.56</td>\n",
       "      <td>9.4</td>\n",
       "      <td>0</td>\n",
       "    </tr>\n",
       "  </tbody>\n",
       "</table>\n",
       "</div>"
      ],
      "text/plain": [
       "   fixed acidity  volatile acidity  citric acid  residual sugar  chlorides  \\\n",
       "0            7.4              0.70         0.00             1.9      0.076   \n",
       "1            7.8              0.88         0.00             2.6      0.098   \n",
       "2            7.8              0.76         0.04             2.3      0.092   \n",
       "3           11.2              0.28         0.56             1.9      0.075   \n",
       "4            7.4              0.70         0.00             1.9      0.076   \n",
       "\n",
       "   free sulfur dioxide  total sulfur dioxide  density    pH  sulphates  \\\n",
       "0                 11.0                  34.0   0.9978  3.51       0.56   \n",
       "1                 25.0                  67.0   0.9968  3.20       0.68   \n",
       "2                 15.0                  54.0   0.9970  3.26       0.65   \n",
       "3                 17.0                  60.0   0.9980  3.16       0.58   \n",
       "4                 11.0                  34.0   0.9978  3.51       0.56   \n",
       "\n",
       "   alcohol  quality  \n",
       "0      9.4        0  \n",
       "1      9.8        0  \n",
       "2      9.8        0  \n",
       "3      9.8        0  \n",
       "4      9.4        0  "
      ]
     },
     "execution_count": 61,
     "metadata": {},
     "output_type": "execute_result"
    }
   ],
   "source": [
    "df.head()"
   ]
  },
  {
   "cell_type": "code",
   "execution_count": 64,
   "metadata": {},
   "outputs": [
    {
     "data": {
      "text/plain": [
       "<matplotlib.axes._subplots.AxesSubplot at 0x2bca860d0f0>"
      ]
     },
     "execution_count": 64,
     "metadata": {},
     "output_type": "execute_result"
    },
    {
     "data": {
      "image/png": "[encoded data removed]",
      "text/plain": [
       "<Figure size 432x288 with 1 Axes>"
      ]
     },
     "metadata": {},
     "output_type": "display_data"
    }
   ],
   "source": [
    "sns.countplot(df['quality'])"
   ]
  },
  {
   "cell_type": "code",
   "execution_count": 78,
   "metadata": {},
   "outputs": [],
   "source": [
    "x=df.drop(['quality'],axis=1)\n",
    "y=df['quality']"
   ]
  },
  {
   "cell_type": "code",
   "execution_count": 89,
   "metadata": {},
   "outputs": [],
   "source": [
    "from sklearn.model_selection import train_test_split"
   ]
  },
  {
   "cell_type": "code",
   "execution_count": 90,
   "metadata": {},
   "outputs": [],
   "source": [
    "x_train,x_test,y_train,y_test=train_test_split(x,y,test_size=0.2,random_state=42)"
   ]
  },
  {
   "cell_type": "code",
   "execution_count": 91,
   "metadata": {},
   "outputs": [],
   "source": [
    "#Feature Scaling for to get the Optimized Results and for ease the calculations\n",
    "from sklearn.preprocessing import StandardScaler"
   ]
  },
  {
   "cell_type": "code",
   "execution_count": 92,
   "metadata": {},
   "outputs": [],
   "source": [
    "sc=StandardScaler()\n",
    "x_train=sc.fit_transform(x_train)\n",
    "x_test=sc.transform(x_test)"
   ]
  },
  {
   "cell_type": "code",
   "execution_count": 93,
   "metadata": {},
   "outputs": [],
   "source": [
    "#Now Our data is Ready for Applying Machine Learning Algorithm"
   ]
  },
  {
   "cell_type": "code",
   "execution_count": 94,
   "metadata": {},
   "outputs": [],
   "source": [
    "#Random Forest "
   ]
  },
  {
   "cell_type": "code",
   "execution_count": 95,
   "metadata": {},
   "outputs": [],
   "source": [
    "from sklearn.ensemble import RandomForestClassifier"
   ]
  },
  {
   "cell_type": "code",
   "execution_count": 106,
   "metadata": {},
   "outputs": [],
   "source": [
    "model=RandomForestClassifier(n_estimators=200).fit(x_train,y_train)"
   ]
  },
  {
   "cell_type": "code",
   "execution_count": 107,
   "metadata": {},
   "outputs": [],
   "source": [
    "pred=model.predict(x_test)"
   ]
  },
  {
   "cell_type": "code",
   "execution_count": 108,
   "metadata": {},
   "outputs": [],
   "source": [
    "from sklearn.metrics import confusion_matrix,classification_report"
   ]
  },
  {
   "cell_type": "code",
   "execution_count": 109,
   "metadata": {},
   "outputs": [
    {
     "name": "stdout",
     "output_type": "stream",
     "text": [
      "[[267   6]\n",
      " [ 23  24]]\n"
     ]
    }
   ],
   "source": [
    "print(confusion_matrix(y_test,pred))"
   ]
  },
  {
   "cell_type": "code",
   "execution_count": 110,
   "metadata": {},
   "outputs": [
    {
     "name": "stdout",
     "output_type": "stream",
     "text": [
      "             precision    recall  f1-score   support\n",
      "\n",
      "          0       0.92      0.98      0.95       273\n",
      "          1       0.80      0.51      0.62        47\n",
      "\n",
      "avg / total       0.90      0.91      0.90       320\n",
      "\n"
     ]
    }
   ],
   "source": [
    "print(classification_report(y_test,pred))"
   ]
  },
  {
   "cell_type": "code",
   "execution_count": 111,
   "metadata": {},
   "outputs": [],
   "source": [
    "#Applying SVC"
   ]
  },
  {
   "cell_type": "code",
   "execution_count": 114,
   "metadata": {},
   "outputs": [],
   "source": [
    "from sklearn.svm import SVC"
   ]
  },
  {
   "cell_type": "code",
   "execution_count": 115,
   "metadata": {},
   "outputs": [],
   "source": [
    "model=SVC().fit(x_train,y_train)"
   ]
  },
  {
   "cell_type": "code",
   "execution_count": 116,
   "metadata": {},
   "outputs": [],
   "source": [
    "pred=model.predict(x_test)"
   ]
  },
  {
   "cell_type": "code",
   "execution_count": 117,
   "metadata": {},
   "outputs": [
    {
     "name": "stdout",
     "output_type": "stream",
     "text": [
      "[[268   5]\n",
      " [ 35  12]]\n"
     ]
    }
   ],
   "source": [
    "print(confusion_matrix(y_test,pred))"
   ]
  },
  {
   "cell_type": "code",
   "execution_count": 118,
   "metadata": {},
   "outputs": [
    {
     "name": "stdout",
     "output_type": "stream",
     "text": [
      "             precision    recall  f1-score   support\n",
      "\n",
      "          0       0.88      0.98      0.93       273\n",
      "          1       0.71      0.26      0.37        47\n",
      "\n",
      "avg / total       0.86      0.88      0.85       320\n",
      "\n"
     ]
    }
   ],
   "source": [
    "print(classification_report(y_test,pred))"
   ]
  },
  {
   "cell_type": "code",
   "execution_count": 119,
   "metadata": {},
   "outputs": [],
   "source": [
    "#Lets try to improve the Perfomance or accuracy of models by using GridSearchCV"
   ]
  },
  {
   "cell_type": "code",
   "execution_count": 120,
   "metadata": {},
   "outputs": [],
   "source": [
    "pd={'C':[0.1,0.5,0.8,0.9,1.0,1.1,1.2,1.4,1.5,2],'kernel':['linear','rbf'],'gamma':[1,10,100,1000,10000]}"
   ]
  },
  {
   "cell_type": "code",
   "execution_count": 121,
   "metadata": {},
   "outputs": [],
   "source": [
    "from sklearn.model_selection import GridSearchCV"
   ]
  },
  {
   "cell_type": "code",
   "execution_count": 122,
   "metadata": {},
   "outputs": [],
   "source": [
    "grid=GridSearchCV(estimator=SVC(),param_grid=pd,refit=True,verbose=3)"
   ]
  },
  {
   "cell_type": "code",
   "execution_count": 124,
   "metadata": {},
   "outputs": [
    {
     "data": {
      "text/plain": [
       "{'C': 1.2, 'gamma': 1, 'kernel': 'rbf'}"
      ]
     },
     "execution_count": 124,
     "metadata": {},
     "output_type": "execute_result"
    }
   ],
   "source": [
    "grid.best_params_"
   ]
  },
  {
   "cell_type": "code",
   "execution_count": 125,
   "metadata": {
    "scrolled": true
   },
   "outputs": [
    {
     "name": "stdout",
     "output_type": "stream",
     "text": [
      "Fitting 3 folds for each of 100 candidates, totalling 300 fits\n",
      "[CV] C=0.1, gamma=1, kernel=linear ...................................\n",
      "[CV]  C=0.1, gamma=1, kernel=linear, score=0.8665105386416861, total=   0.0s\n",
      "[CV] C=0.1, gamma=1, kernel=linear ...................................\n",
      "[CV]  C=0.1, gamma=1, kernel=linear, score=0.8665105386416861, total=   0.0s\n",
      "[CV] C=0.1, gamma=1, kernel=linear ...................................\n",
      "[CV]  C=0.1, gamma=1, kernel=linear, score=0.8682352941176471, total=   0.0s\n",
      "[CV] C=0.1, gamma=1, kernel=rbf ......................................\n",
      "[CV]  C=0.1, gamma=1, kernel=rbf, score=0.8665105386416861, total=   0.0s\n",
      "[CV] C=0.1, gamma=1, kernel=rbf ......................................\n"
     ]
    },
    {
     "name": "stderr",
     "output_type": "stream",
     "text": [
      "[Parallel(n_jobs=1)]: Done   1 out of   1 | elapsed:    0.0s remaining:    0.0s\n",
      "[Parallel(n_jobs=1)]: Done   2 out of   2 | elapsed:    0.0s remaining:    0.0s\n"
     ]
    },
    {
     "name": "stdout",
     "output_type": "stream",
     "text": [
      "[CV]  C=0.1, gamma=1, kernel=rbf, score=0.8665105386416861, total=   0.0s\n",
      "[CV] C=0.1, gamma=1, kernel=rbf ......................................\n",
      "[CV]  C=0.1, gamma=1, kernel=rbf, score=0.8682352941176471, total=   0.0s\n",
      "[CV] C=0.1, gamma=10, kernel=linear ..................................\n",
      "[CV]  C=0.1, gamma=10, kernel=linear, score=0.8665105386416861, total=   0.0s\n",
      "[CV] C=0.1, gamma=10, kernel=linear ..................................\n",
      "[CV]  C=0.1, gamma=10, kernel=linear, score=0.8665105386416861, total=   0.0s\n",
      "[CV] C=0.1, gamma=10, kernel=linear ..................................\n",
      "[CV]  C=0.1, gamma=10, kernel=linear, score=0.8682352941176471, total=   0.0s\n",
      "[CV] C=0.1, gamma=10, kernel=rbf .....................................\n",
      "[CV]  C=0.1, gamma=10, kernel=rbf, score=0.8665105386416861, total=   0.0s\n",
      "[CV] C=0.1, gamma=10, kernel=rbf .....................................\n",
      "[CV]  C=0.1, gamma=10, kernel=rbf, score=0.8665105386416861, total=   0.0s\n",
      "[CV] C=0.1, gamma=10, kernel=rbf .....................................\n",
      "[CV]  C=0.1, gamma=10, kernel=rbf, score=0.8682352941176471, total=   0.0s\n",
      "[CV] C=0.1, gamma=100, kernel=linear .................................\n",
      "[CV]  C=0.1, gamma=100, kernel=linear, score=0.8665105386416861, total=   0.0s\n",
      "[CV] C=0.1, gamma=100, kernel=linear .................................\n",
      "[CV]  C=0.1, gamma=100, kernel=linear, score=0.8665105386416861, total=   0.0s\n",
      "[CV] C=0.1, gamma=100, kernel=linear .................................\n",
      "[CV]  C=0.1, gamma=100, kernel=linear, score=0.8682352941176471, total=   0.0s\n",
      "[CV] C=0.1, gamma=100, kernel=rbf ....................................\n",
      "[CV]  C=0.1, gamma=100, kernel=rbf, score=0.8665105386416861, total=   0.0s\n",
      "[CV] C=0.1, gamma=100, kernel=rbf ....................................\n",
      "[CV]  C=0.1, gamma=100, kernel=rbf, score=0.8665105386416861, total=   0.0s\n",
      "[CV] C=0.1, gamma=100, kernel=rbf ....................................\n",
      "[CV]  C=0.1, gamma=100, kernel=rbf, score=0.8682352941176471, total=   0.0s\n",
      "[CV] C=0.1, gamma=1000, kernel=linear ................................\n",
      "[CV]  C=0.1, gamma=1000, kernel=linear, score=0.8665105386416861, total=   0.0s\n",
      "[CV] C=0.1, gamma=1000, kernel=linear ................................\n",
      "[CV]  C=0.1, gamma=1000, kernel=linear, score=0.8665105386416861, total=   0.0s\n",
      "[CV] C=0.1, gamma=1000, kernel=linear ................................\n",
      "[CV]  C=0.1, gamma=1000, kernel=linear, score=0.8682352941176471, total=   0.0s\n",
      "[CV] C=0.1, gamma=1000, kernel=rbf ...................................\n",
      "[CV]  C=0.1, gamma=1000, kernel=rbf, score=0.8665105386416861, total=   0.0s\n",
      "[CV] C=0.1, gamma=1000, kernel=rbf ...................................\n",
      "[CV]  C=0.1, gamma=1000, kernel=rbf, score=0.8665105386416861, total=   0.0s\n",
      "[CV] C=0.1, gamma=1000, kernel=rbf ...................................\n",
      "[CV]  C=0.1, gamma=1000, kernel=rbf, score=0.8682352941176471, total=   0.0s\n",
      "[CV] C=0.1, gamma=10000, kernel=linear ...............................\n",
      "[CV]  C=0.1, gamma=10000, kernel=linear, score=0.8665105386416861, total=   0.0s\n",
      "[CV] C=0.1, gamma=10000, kernel=linear ...............................\n",
      "[CV]  C=0.1, gamma=10000, kernel=linear, score=0.8665105386416861, total=   0.0s\n",
      "[CV] C=0.1, gamma=10000, kernel=linear ...............................\n",
      "[CV]  C=0.1, gamma=10000, kernel=linear, score=0.8682352941176471, total=   0.0s\n",
      "[CV] C=0.1, gamma=10000, kernel=rbf ..................................\n",
      "[CV]  C=0.1, gamma=10000, kernel=rbf, score=0.8665105386416861, total=   0.0s\n",
      "[CV] C=0.1, gamma=10000, kernel=rbf ..................................\n",
      "[CV]  C=0.1, gamma=10000, kernel=rbf, score=0.8665105386416861, total=   0.0s\n",
      "[CV] C=0.1, gamma=10000, kernel=rbf ..................................\n",
      "[CV]  C=0.1, gamma=10000, kernel=rbf, score=0.8682352941176471, total=   0.0s\n",
      "[CV] C=0.5, gamma=1, kernel=linear ...................................\n",
      "[CV]  C=0.5, gamma=1, kernel=linear, score=0.8665105386416861, total=   0.0s\n",
      "[CV] C=0.5, gamma=1, kernel=linear ...................................\n",
      "[CV]  C=0.5, gamma=1, kernel=linear, score=0.8665105386416861, total=   0.0s\n",
      "[CV] C=0.5, gamma=1, kernel=linear ...................................\n",
      "[CV]  C=0.5, gamma=1, kernel=linear, score=0.8682352941176471, total=   0.0s\n",
      "[CV] C=0.5, gamma=1, kernel=rbf ......................................\n",
      "[CV]  C=0.5, gamma=1, kernel=rbf, score=0.8735362997658079, total=   0.0s\n",
      "[CV] C=0.5, gamma=1, kernel=rbf ......................................\n",
      "[CV]  C=0.5, gamma=1, kernel=rbf, score=0.8688524590163934, total=   0.0s\n",
      "[CV] C=0.5, gamma=1, kernel=rbf ......................................\n",
      "[CV]  C=0.5, gamma=1, kernel=rbf, score=0.8752941176470588, total=   0.0s\n",
      "[CV] C=0.5, gamma=10, kernel=linear ..................................\n",
      "[CV]  C=0.5, gamma=10, kernel=linear, score=0.8665105386416861, total=   0.0s\n",
      "[CV] C=0.5, gamma=10, kernel=linear ..................................\n",
      "[CV]  C=0.5, gamma=10, kernel=linear, score=0.8665105386416861, total=   0.0s\n",
      "[CV] C=0.5, gamma=10, kernel=linear ..................................\n",
      "[CV]  C=0.5, gamma=10, kernel=linear, score=0.8682352941176471, total=   0.0s\n",
      "[CV] C=0.5, gamma=10, kernel=rbf .....................................\n",
      "[CV]  C=0.5, gamma=10, kernel=rbf, score=0.8665105386416861, total=   0.0s\n",
      "[CV] C=0.5, gamma=10, kernel=rbf .....................................\n",
      "[CV]  C=0.5, gamma=10, kernel=rbf, score=0.8665105386416861, total=   0.0s\n",
      "[CV] C=0.5, gamma=10, kernel=rbf .....................................\n",
      "[CV]  C=0.5, gamma=10, kernel=rbf, score=0.8682352941176471, total=   0.0s\n",
      "[CV] C=0.5, gamma=100, kernel=linear .................................\n",
      "[CV]  C=0.5, gamma=100, kernel=linear, score=0.8665105386416861, total=   0.0s\n",
      "[CV] C=0.5, gamma=100, kernel=linear .................................\n",
      "[CV]  C=0.5, gamma=100, kernel=linear, score=0.8665105386416861, total=   0.0s\n",
      "[CV] C=0.5, gamma=100, kernel=linear .................................\n",
      "[CV]  C=0.5, gamma=100, kernel=linear, score=0.8682352941176471, total=   0.0s\n",
      "[CV] C=0.5, gamma=100, kernel=rbf ....................................\n",
      "[CV]  C=0.5, gamma=100, kernel=rbf, score=0.8665105386416861, total=   0.0s\n",
      "[CV] C=0.5, gamma=100, kernel=rbf ....................................\n",
      "[CV]  C=0.5, gamma=100, kernel=rbf, score=0.8665105386416861, total=   0.1s\n",
      "[CV] C=0.5, gamma=100, kernel=rbf ....................................\n",
      "[CV]  C=0.5, gamma=100, kernel=rbf, score=0.8682352941176471, total=   0.0s\n",
      "[CV] C=0.5, gamma=1000, kernel=linear ................................\n",
      "[CV]  C=0.5, gamma=1000, kernel=linear, score=0.8665105386416861, total=   0.0s\n",
      "[CV] C=0.5, gamma=1000, kernel=linear ................................\n",
      "[CV]  C=0.5, gamma=1000, kernel=linear, score=0.8665105386416861, total=   0.0s\n",
      "[CV] C=0.5, gamma=1000, kernel=linear ................................\n",
      "[CV]  C=0.5, gamma=1000, kernel=linear, score=0.8682352941176471, total=   0.0s\n",
      "[CV] C=0.5, gamma=1000, kernel=rbf ...................................\n",
      "[CV]  C=0.5, gamma=1000, kernel=rbf, score=0.8665105386416861, total=   0.0s\n",
      "[CV] C=0.5, gamma=1000, kernel=rbf ...................................\n",
      "[CV]  C=0.5, gamma=1000, kernel=rbf, score=0.8665105386416861, total=   0.0s\n",
      "[CV] C=0.5, gamma=1000, kernel=rbf ...................................\n",
      "[CV]  C=0.5, gamma=1000, kernel=rbf, score=0.8682352941176471, total=   0.1s\n",
      "[CV] C=0.5, gamma=10000, kernel=linear ...............................\n",
      "[CV]  C=0.5, gamma=10000, kernel=linear, score=0.8665105386416861, total=   0.0s\n",
      "[CV] C=0.5, gamma=10000, kernel=linear ...............................\n",
      "[CV]  C=0.5, gamma=10000, kernel=linear, score=0.8665105386416861, total=   0.0s\n",
      "[CV] C=0.5, gamma=10000, kernel=linear ...............................\n",
      "[CV]  C=0.5, gamma=10000, kernel=linear, score=0.8682352941176471, total=   0.0s\n",
      "[CV] C=0.5, gamma=10000, kernel=rbf ..................................\n",
      "[CV]  C=0.5, gamma=10000, kernel=rbf, score=0.8665105386416861, total=   0.1s\n",
      "[CV] C=0.5, gamma=10000, kernel=rbf ..................................\n",
      "[CV]  C=0.5, gamma=10000, kernel=rbf, score=0.8665105386416861, total=   0.0s\n",
      "[CV] C=0.5, gamma=10000, kernel=rbf ..................................\n",
      "[CV]  C=0.5, gamma=10000, kernel=rbf, score=0.8682352941176471, total=   0.0s\n",
      "[CV] C=0.8, gamma=1, kernel=linear ...................................\n",
      "[CV]  C=0.8, gamma=1, kernel=linear, score=0.8665105386416861, total=   0.0s\n",
      "[CV] C=0.8, gamma=1, kernel=linear ...................................\n",
      "[CV]  C=0.8, gamma=1, kernel=linear, score=0.8665105386416861, total=   0.0s\n",
      "[CV] C=0.8, gamma=1, kernel=linear ...................................\n",
      "[CV]  C=0.8, gamma=1, kernel=linear, score=0.8682352941176471, total=   0.0s\n",
      "[CV] C=0.8, gamma=1, kernel=rbf ......................................\n",
      "[CV]  C=0.8, gamma=1, kernel=rbf, score=0.892271662763466, total=   0.0s\n",
      "[CV] C=0.8, gamma=1, kernel=rbf ......................................\n"
     ]
    },
    {
     "name": "stdout",
     "output_type": "stream",
     "text": [
      "[CV]  C=0.8, gamma=1, kernel=rbf, score=0.8758782201405152, total=   0.0s\n",
      "[CV] C=0.8, gamma=1, kernel=rbf ......................................\n",
      "[CV]  C=0.8, gamma=1, kernel=rbf, score=0.8894117647058823, total=   0.0s\n",
      "[CV] C=0.8, gamma=10, kernel=linear ..................................\n",
      "[CV]  C=0.8, gamma=10, kernel=linear, score=0.8665105386416861, total=   0.0s\n",
      "[CV] C=0.8, gamma=10, kernel=linear ..................................\n",
      "[CV]  C=0.8, gamma=10, kernel=linear, score=0.8665105386416861, total=   0.0s\n",
      "[CV] C=0.8, gamma=10, kernel=linear ..................................\n",
      "[CV]  C=0.8, gamma=10, kernel=linear, score=0.8682352941176471, total=   0.0s\n",
      "[CV] C=0.8, gamma=10, kernel=rbf .....................................\n",
      "[CV]  C=0.8, gamma=10, kernel=rbf, score=0.8688524590163934, total=   0.0s\n",
      "[CV] C=0.8, gamma=10, kernel=rbf .....................................\n",
      "[CV]  C=0.8, gamma=10, kernel=rbf, score=0.8688524590163934, total=   0.0s\n",
      "[CV] C=0.8, gamma=10, kernel=rbf .....................................\n",
      "[CV]  C=0.8, gamma=10, kernel=rbf, score=0.8705882352941177, total=   0.0s\n",
      "[CV] C=0.8, gamma=100, kernel=linear .................................\n",
      "[CV]  C=0.8, gamma=100, kernel=linear, score=0.8665105386416861, total=   0.0s\n",
      "[CV] C=0.8, gamma=100, kernel=linear .................................\n",
      "[CV]  C=0.8, gamma=100, kernel=linear, score=0.8665105386416861, total=   0.0s\n",
      "[CV] C=0.8, gamma=100, kernel=linear .................................\n",
      "[CV]  C=0.8, gamma=100, kernel=linear, score=0.8682352941176471, total=   0.0s\n",
      "[CV] C=0.8, gamma=100, kernel=rbf ....................................\n",
      "[CV]  C=0.8, gamma=100, kernel=rbf, score=0.8688524590163934, total=   0.1s\n",
      "[CV] C=0.8, gamma=100, kernel=rbf ....................................\n",
      "[CV]  C=0.8, gamma=100, kernel=rbf, score=0.8665105386416861, total=   0.1s\n",
      "[CV] C=0.8, gamma=100, kernel=rbf ....................................\n",
      "[CV]  C=0.8, gamma=100, kernel=rbf, score=0.8705882352941177, total=   0.0s\n",
      "[CV] C=0.8, gamma=1000, kernel=linear ................................\n",
      "[CV]  C=0.8, gamma=1000, kernel=linear, score=0.8665105386416861, total=   0.0s\n",
      "[CV] C=0.8, gamma=1000, kernel=linear ................................\n",
      "[CV]  C=0.8, gamma=1000, kernel=linear, score=0.8665105386416861, total=   0.0s\n",
      "[CV] C=0.8, gamma=1000, kernel=linear ................................\n",
      "[CV]  C=0.8, gamma=1000, kernel=linear, score=0.8682352941176471, total=   0.0s\n",
      "[CV] C=0.8, gamma=1000, kernel=rbf ...................................\n",
      "[CV]  C=0.8, gamma=1000, kernel=rbf, score=0.8665105386416861, total=   0.0s\n",
      "[CV] C=0.8, gamma=1000, kernel=rbf ...................................\n",
      "[CV]  C=0.8, gamma=1000, kernel=rbf, score=0.8665105386416861, total=   0.0s\n",
      "[CV] C=0.8, gamma=1000, kernel=rbf ...................................\n",
      "[CV]  C=0.8, gamma=1000, kernel=rbf, score=0.8682352941176471, total=   0.1s\n",
      "[CV] C=0.8, gamma=10000, kernel=linear ...............................\n",
      "[CV]  C=0.8, gamma=10000, kernel=linear, score=0.8665105386416861, total=   0.0s\n",
      "[CV] C=0.8, gamma=10000, kernel=linear ...............................\n",
      "[CV]  C=0.8, gamma=10000, kernel=linear, score=0.8665105386416861, total=   0.0s\n",
      "[CV] C=0.8, gamma=10000, kernel=linear ...............................\n",
      "[CV]  C=0.8, gamma=10000, kernel=linear, score=0.8682352941176471, total=   0.0s\n",
      "[CV] C=0.8, gamma=10000, kernel=rbf ..................................\n",
      "[CV]  C=0.8, gamma=10000, kernel=rbf, score=0.8665105386416861, total=   0.0s\n",
      "[CV] C=0.8, gamma=10000, kernel=rbf ..................................\n",
      "[CV]  C=0.8, gamma=10000, kernel=rbf, score=0.8665105386416861, total=   0.0s\n",
      "[CV] C=0.8, gamma=10000, kernel=rbf ..................................\n",
      "[CV]  C=0.8, gamma=10000, kernel=rbf, score=0.8682352941176471, total=   0.1s\n",
      "[CV] C=0.9, gamma=1, kernel=linear ...................................\n",
      "[CV]  C=0.9, gamma=1, kernel=linear, score=0.8665105386416861, total=   0.0s\n",
      "[CV] C=0.9, gamma=1, kernel=linear ...................................\n",
      "[CV]  C=0.9, gamma=1, kernel=linear, score=0.8665105386416861, total=   0.0s\n",
      "[CV] C=0.9, gamma=1, kernel=linear ...................................\n",
      "[CV]  C=0.9, gamma=1, kernel=linear, score=0.8682352941176471, total=   0.0s\n",
      "[CV] C=0.9, gamma=1, kernel=rbf ......................................\n",
      "[CV]  C=0.9, gamma=1, kernel=rbf, score=0.8992974238875878, total=   0.0s\n",
      "[CV] C=0.9, gamma=1, kernel=rbf ......................................\n",
      "[CV]  C=0.9, gamma=1, kernel=rbf, score=0.8875878220140515, total=   0.0s\n",
      "[CV] C=0.9, gamma=1, kernel=rbf ......................................\n",
      "[CV]  C=0.9, gamma=1, kernel=rbf, score=0.9011764705882352, total=   0.0s\n",
      "[CV] C=0.9, gamma=10, kernel=linear ..................................\n",
      "[CV]  C=0.9, gamma=10, kernel=linear, score=0.8665105386416861, total=   0.0s\n",
      "[CV] C=0.9, gamma=10, kernel=linear ..................................\n",
      "[CV]  C=0.9, gamma=10, kernel=linear, score=0.8665105386416861, total=   0.0s\n",
      "[CV] C=0.9, gamma=10, kernel=linear ..................................\n",
      "[CV]  C=0.9, gamma=10, kernel=linear, score=0.8682352941176471, total=   0.0s\n",
      "[CV] C=0.9, gamma=10, kernel=rbf .....................................\n",
      "[CV]  C=0.9, gamma=10, kernel=rbf, score=0.8946135831381733, total=   0.0s\n",
      "[CV] C=0.9, gamma=10, kernel=rbf .....................................\n",
      "[CV]  C=0.9, gamma=10, kernel=rbf, score=0.8899297423887588, total=   0.0s\n",
      "[CV] C=0.9, gamma=10, kernel=rbf .....................................\n",
      "[CV]  C=0.9, gamma=10, kernel=rbf, score=0.8988235294117647, total=   0.0s\n",
      "[CV] C=0.9, gamma=100, kernel=linear .................................\n",
      "[CV]  C=0.9, gamma=100, kernel=linear, score=0.8665105386416861, total=   0.0s\n",
      "[CV] C=0.9, gamma=100, kernel=linear .................................\n",
      "[CV]  C=0.9, gamma=100, kernel=linear, score=0.8665105386416861, total=   0.0s\n",
      "[CV] C=0.9, gamma=100, kernel=linear .................................\n",
      "[CV]  C=0.9, gamma=100, kernel=linear, score=0.8682352941176471, total=   0.0s\n",
      "[CV] C=0.9, gamma=100, kernel=rbf ....................................\n",
      "[CV]  C=0.9, gamma=100, kernel=rbf, score=0.8946135831381733, total=   0.0s\n",
      "[CV] C=0.9, gamma=100, kernel=rbf ....................................\n",
      "[CV]  C=0.9, gamma=100, kernel=rbf, score=0.8852459016393442, total=   0.0s\n",
      "[CV] C=0.9, gamma=100, kernel=rbf ....................................\n",
      "[CV]  C=0.9, gamma=100, kernel=rbf, score=0.8964705882352941, total=   0.1s\n",
      "[CV] C=0.9, gamma=1000, kernel=linear ................................\n",
      "[CV]  C=0.9, gamma=1000, kernel=linear, score=0.8665105386416861, total=   0.0s\n",
      "[CV] C=0.9, gamma=1000, kernel=linear ................................\n",
      "[CV]  C=0.9, gamma=1000, kernel=linear, score=0.8665105386416861, total=   0.0s\n",
      "[CV] C=0.9, gamma=1000, kernel=linear ................................\n",
      "[CV]  C=0.9, gamma=1000, kernel=linear, score=0.8682352941176471, total=   0.0s\n",
      "[CV] C=0.9, gamma=1000, kernel=rbf ...................................\n",
      "[CV]  C=0.9, gamma=1000, kernel=rbf, score=0.8946135831381733, total=   0.1s\n",
      "[CV] C=0.9, gamma=1000, kernel=rbf ...................................\n",
      "[CV]  C=0.9, gamma=1000, kernel=rbf, score=0.8852459016393442, total=   0.1s\n",
      "[CV] C=0.9, gamma=1000, kernel=rbf ...................................\n",
      "[CV]  C=0.9, gamma=1000, kernel=rbf, score=0.8964705882352941, total=   0.1s\n",
      "[CV] C=0.9, gamma=10000, kernel=linear ...............................\n",
      "[CV]  C=0.9, gamma=10000, kernel=linear, score=0.8665105386416861, total=   0.0s\n",
      "[CV] C=0.9, gamma=10000, kernel=linear ...............................\n",
      "[CV]  C=0.9, gamma=10000, kernel=linear, score=0.8665105386416861, total=   0.0s\n",
      "[CV] C=0.9, gamma=10000, kernel=linear ...............................\n",
      "[CV]  C=0.9, gamma=10000, kernel=linear, score=0.8682352941176471, total=   0.0s\n",
      "[CV] C=0.9, gamma=10000, kernel=rbf ..................................\n",
      "[CV]  C=0.9, gamma=10000, kernel=rbf, score=0.8946135831381733, total=   0.0s\n",
      "[CV] C=0.9, gamma=10000, kernel=rbf ..................................\n",
      "[CV]  C=0.9, gamma=10000, kernel=rbf, score=0.8852459016393442, total=   0.1s\n",
      "[CV] C=0.9, gamma=10000, kernel=rbf ..................................\n",
      "[CV]  C=0.9, gamma=10000, kernel=rbf, score=0.8964705882352941, total=   0.0s\n",
      "[CV] C=1.0, gamma=1, kernel=linear ...................................\n",
      "[CV]  C=1.0, gamma=1, kernel=linear, score=0.8665105386416861, total=   0.0s\n",
      "[CV] C=1.0, gamma=1, kernel=linear ...................................\n",
      "[CV]  C=1.0, gamma=1, kernel=linear, score=0.8665105386416861, total=   0.0s\n",
      "[CV] C=1.0, gamma=1, kernel=linear ...................................\n",
      "[CV]  C=1.0, gamma=1, kernel=linear, score=0.8682352941176471, total=   0.0s\n",
      "[CV] C=1.0, gamma=1, kernel=rbf ......................................\n",
      "[CV]  C=1.0, gamma=1, kernel=rbf, score=0.9039812646370023, total=   0.0s\n",
      "[CV] C=1.0, gamma=1, kernel=rbf ......................................\n"
     ]
    },
    {
     "name": "stdout",
     "output_type": "stream",
     "text": [
      "[CV]  C=1.0, gamma=1, kernel=rbf, score=0.892271662763466, total=   0.0s\n",
      "[CV] C=1.0, gamma=1, kernel=rbf ......................................\n",
      "[CV]  C=1.0, gamma=1, kernel=rbf, score=0.9058823529411765, total=   0.0s\n",
      "[CV] C=1.0, gamma=10, kernel=linear ..................................\n",
      "[CV]  C=1.0, gamma=10, kernel=linear, score=0.8665105386416861, total=   0.0s\n",
      "[CV] C=1.0, gamma=10, kernel=linear ..................................\n",
      "[CV]  C=1.0, gamma=10, kernel=linear, score=0.8665105386416861, total=   0.0s\n",
      "[CV] C=1.0, gamma=10, kernel=linear ..................................\n",
      "[CV]  C=1.0, gamma=10, kernel=linear, score=0.8682352941176471, total=   0.0s\n",
      "[CV] C=1.0, gamma=10, kernel=rbf .....................................\n",
      "[CV]  C=1.0, gamma=10, kernel=rbf, score=0.8946135831381733, total=   0.0s\n",
      "[CV] C=1.0, gamma=10, kernel=rbf .....................................\n",
      "[CV]  C=1.0, gamma=10, kernel=rbf, score=0.8899297423887588, total=   0.0s\n",
      "[CV] C=1.0, gamma=10, kernel=rbf .....................................\n",
      "[CV]  C=1.0, gamma=10, kernel=rbf, score=0.8988235294117647, total=   0.0s\n",
      "[CV] C=1.0, gamma=100, kernel=linear .................................\n",
      "[CV]  C=1.0, gamma=100, kernel=linear, score=0.8665105386416861, total=   0.0s\n",
      "[CV] C=1.0, gamma=100, kernel=linear .................................\n",
      "[CV]  C=1.0, gamma=100, kernel=linear, score=0.8665105386416861, total=   0.0s\n",
      "[CV] C=1.0, gamma=100, kernel=linear .................................\n",
      "[CV]  C=1.0, gamma=100, kernel=linear, score=0.8682352941176471, total=   0.0s\n",
      "[CV] C=1.0, gamma=100, kernel=rbf ....................................\n",
      "[CV]  C=1.0, gamma=100, kernel=rbf, score=0.8946135831381733, total=   0.1s\n",
      "[CV] C=1.0, gamma=100, kernel=rbf ....................................\n",
      "[CV]  C=1.0, gamma=100, kernel=rbf, score=0.8875878220140515, total=   0.0s\n",
      "[CV] C=1.0, gamma=100, kernel=rbf ....................................\n",
      "[CV]  C=1.0, gamma=100, kernel=rbf, score=0.8988235294117647, total=   0.1s\n",
      "[CV] C=1.0, gamma=1000, kernel=linear ................................\n",
      "[CV]  C=1.0, gamma=1000, kernel=linear, score=0.8665105386416861, total=   0.0s\n",
      "[CV] C=1.0, gamma=1000, kernel=linear ................................\n",
      "[CV]  C=1.0, gamma=1000, kernel=linear, score=0.8665105386416861, total=   0.0s\n",
      "[CV] C=1.0, gamma=1000, kernel=linear ................................\n",
      "[CV]  C=1.0, gamma=1000, kernel=linear, score=0.8682352941176471, total=   0.0s\n",
      "[CV] C=1.0, gamma=1000, kernel=rbf ...................................\n",
      "[CV]  C=1.0, gamma=1000, kernel=rbf, score=0.8946135831381733, total=   0.1s\n",
      "[CV] C=1.0, gamma=1000, kernel=rbf ...................................\n",
      "[CV]  C=1.0, gamma=1000, kernel=rbf, score=0.8852459016393442, total=   0.0s\n",
      "[CV] C=1.0, gamma=1000, kernel=rbf ...................................\n",
      "[CV]  C=1.0, gamma=1000, kernel=rbf, score=0.8964705882352941, total=   0.0s\n",
      "[CV] C=1.0, gamma=10000, kernel=linear ...............................\n",
      "[CV]  C=1.0, gamma=10000, kernel=linear, score=0.8665105386416861, total=   0.0s\n",
      "[CV] C=1.0, gamma=10000, kernel=linear ...............................\n",
      "[CV]  C=1.0, gamma=10000, kernel=linear, score=0.8665105386416861, total=   0.0s\n",
      "[CV] C=1.0, gamma=10000, kernel=linear ...............................\n",
      "[CV]  C=1.0, gamma=10000, kernel=linear, score=0.8682352941176471, total=   0.0s\n",
      "[CV] C=1.0, gamma=10000, kernel=rbf ..................................\n",
      "[CV]  C=1.0, gamma=10000, kernel=rbf, score=0.8946135831381733, total=   0.0s\n",
      "[CV] C=1.0, gamma=10000, kernel=rbf ..................................\n",
      "[CV]  C=1.0, gamma=10000, kernel=rbf, score=0.8852459016393442, total=   0.0s\n",
      "[CV] C=1.0, gamma=10000, kernel=rbf ..................................\n",
      "[CV]  C=1.0, gamma=10000, kernel=rbf, score=0.8964705882352941, total=   0.0s\n",
      "[CV] C=1.1, gamma=1, kernel=linear ...................................\n",
      "[CV]  C=1.1, gamma=1, kernel=linear, score=0.8665105386416861, total=   0.0s\n",
      "[CV] C=1.1, gamma=1, kernel=linear ...................................\n",
      "[CV]  C=1.1, gamma=1, kernel=linear, score=0.8641686182669789, total=   0.0s\n",
      "[CV] C=1.1, gamma=1, kernel=linear ...................................\n",
      "[CV]  C=1.1, gamma=1, kernel=linear, score=0.8682352941176471, total=   0.0s\n",
      "[CV] C=1.1, gamma=1, kernel=rbf ......................................\n",
      "[CV]  C=1.1, gamma=1, kernel=rbf, score=0.9039812646370023, total=   0.0s\n",
      "[CV] C=1.1, gamma=1, kernel=rbf ......................................\n",
      "[CV]  C=1.1, gamma=1, kernel=rbf, score=0.892271662763466, total=   0.0s\n",
      "[CV] C=1.1, gamma=1, kernel=rbf ......................................\n",
      "[CV]  C=1.1, gamma=1, kernel=rbf, score=0.9105882352941177, total=   0.0s\n",
      "[CV] C=1.1, gamma=10, kernel=linear ..................................\n",
      "[CV]  C=1.1, gamma=10, kernel=linear, score=0.8665105386416861, total=   0.0s\n",
      "[CV] C=1.1, gamma=10, kernel=linear ..................................\n",
      "[CV]  C=1.1, gamma=10, kernel=linear, score=0.8641686182669789, total=   0.0s\n",
      "[CV] C=1.1, gamma=10, kernel=linear ..................................\n",
      "[CV]  C=1.1, gamma=10, kernel=linear, score=0.8682352941176471, total=   0.0s\n",
      "[CV] C=1.1, gamma=10, kernel=rbf .....................................\n",
      "[CV]  C=1.1, gamma=10, kernel=rbf, score=0.8946135831381733, total=   0.0s\n",
      "[CV] C=1.1, gamma=10, kernel=rbf .....................................\n",
      "[CV]  C=1.1, gamma=10, kernel=rbf, score=0.8899297423887588, total=   0.0s\n",
      "[CV] C=1.1, gamma=10, kernel=rbf .....................................\n",
      "[CV]  C=1.1, gamma=10, kernel=rbf, score=0.8988235294117647, total=   0.0s\n",
      "[CV] C=1.1, gamma=100, kernel=linear .................................\n",
      "[CV]  C=1.1, gamma=100, kernel=linear, score=0.8665105386416861, total=   0.0s\n",
      "[CV] C=1.1, gamma=100, kernel=linear .................................\n",
      "[CV]  C=1.1, gamma=100, kernel=linear, score=0.8641686182669789, total=   0.0s\n",
      "[CV] C=1.1, gamma=100, kernel=linear .................................\n",
      "[CV]  C=1.1, gamma=100, kernel=linear, score=0.8682352941176471, total=   0.0s\n",
      "[CV] C=1.1, gamma=100, kernel=rbf ....................................\n",
      "[CV]  C=1.1, gamma=100, kernel=rbf, score=0.8946135831381733, total=   0.0s\n",
      "[CV] C=1.1, gamma=100, kernel=rbf ....................................\n",
      "[CV]  C=1.1, gamma=100, kernel=rbf, score=0.8875878220140515, total=   0.1s\n",
      "[CV] C=1.1, gamma=100, kernel=rbf ....................................\n",
      "[CV]  C=1.1, gamma=100, kernel=rbf, score=0.8988235294117647, total=   0.0s\n",
      "[CV] C=1.1, gamma=1000, kernel=linear ................................\n",
      "[CV]  C=1.1, gamma=1000, kernel=linear, score=0.8665105386416861, total=   0.0s\n",
      "[CV] C=1.1, gamma=1000, kernel=linear ................................\n",
      "[CV]  C=1.1, gamma=1000, kernel=linear, score=0.8641686182669789, total=   0.0s\n",
      "[CV] C=1.1, gamma=1000, kernel=linear ................................\n",
      "[CV]  C=1.1, gamma=1000, kernel=linear, score=0.8682352941176471, total=   0.0s\n",
      "[CV] C=1.1, gamma=1000, kernel=rbf ...................................\n",
      "[CV]  C=1.1, gamma=1000, kernel=rbf, score=0.8946135831381733, total=   0.0s\n",
      "[CV] C=1.1, gamma=1000, kernel=rbf ...................................\n",
      "[CV]  C=1.1, gamma=1000, kernel=rbf, score=0.8852459016393442, total=   0.1s\n",
      "[CV] C=1.1, gamma=1000, kernel=rbf ...................................\n",
      "[CV]  C=1.1, gamma=1000, kernel=rbf, score=0.8964705882352941, total=   0.0s\n",
      "[CV] C=1.1, gamma=10000, kernel=linear ...............................\n",
      "[CV]  C=1.1, gamma=10000, kernel=linear, score=0.8665105386416861, total=   0.0s\n",
      "[CV] C=1.1, gamma=10000, kernel=linear ...............................\n",
      "[CV]  C=1.1, gamma=10000, kernel=linear, score=0.8641686182669789, total=   0.0s\n",
      "[CV] C=1.1, gamma=10000, kernel=linear ...............................\n",
      "[CV]  C=1.1, gamma=10000, kernel=linear, score=0.8682352941176471, total=   0.0s\n",
      "[CV] C=1.1, gamma=10000, kernel=rbf ..................................\n",
      "[CV]  C=1.1, gamma=10000, kernel=rbf, score=0.8946135831381733, total=   0.0s\n",
      "[CV] C=1.1, gamma=10000, kernel=rbf ..................................\n",
      "[CV]  C=1.1, gamma=10000, kernel=rbf, score=0.8852459016393442, total=   0.1s\n",
      "[CV] C=1.1, gamma=10000, kernel=rbf ..................................\n",
      "[CV]  C=1.1, gamma=10000, kernel=rbf, score=0.8964705882352941, total=   0.1s\n",
      "[CV] C=1.2, gamma=1, kernel=linear ...................................\n",
      "[CV]  C=1.2, gamma=1, kernel=linear, score=0.8665105386416861, total=   0.0s\n",
      "[CV] C=1.2, gamma=1, kernel=linear ...................................\n",
      "[CV]  C=1.2, gamma=1, kernel=linear, score=0.8665105386416861, total=   0.0s\n",
      "[CV] C=1.2, gamma=1, kernel=linear ...................................\n",
      "[CV]  C=1.2, gamma=1, kernel=linear, score=0.8682352941176471, total=   0.0s\n",
      "[CV] C=1.2, gamma=1, kernel=rbf ......................................\n",
      "[CV]  C=1.2, gamma=1, kernel=rbf, score=0.9039812646370023, total=   0.0s\n",
      "[CV] C=1.2, gamma=1, kernel=rbf ......................................\n"
     ]
    },
    {
     "name": "stdout",
     "output_type": "stream",
     "text": [
      "[CV]  C=1.2, gamma=1, kernel=rbf, score=0.892271662763466, total=   0.0s\n",
      "[CV] C=1.2, gamma=1, kernel=rbf ......................................\n",
      "[CV]  C=1.2, gamma=1, kernel=rbf, score=0.9129411764705883, total=   0.0s\n",
      "[CV] C=1.2, gamma=10, kernel=linear ..................................\n",
      "[CV]  C=1.2, gamma=10, kernel=linear, score=0.8665105386416861, total=   0.0s\n",
      "[CV] C=1.2, gamma=10, kernel=linear ..................................\n",
      "[CV]  C=1.2, gamma=10, kernel=linear, score=0.8665105386416861, total=   0.0s\n",
      "[CV] C=1.2, gamma=10, kernel=linear ..................................\n",
      "[CV]  C=1.2, gamma=10, kernel=linear, score=0.8682352941176471, total=   0.0s\n",
      "[CV] C=1.2, gamma=10, kernel=rbf .....................................\n",
      "[CV]  C=1.2, gamma=10, kernel=rbf, score=0.8946135831381733, total=   0.0s\n",
      "[CV] C=1.2, gamma=10, kernel=rbf .....................................\n",
      "[CV]  C=1.2, gamma=10, kernel=rbf, score=0.8899297423887588, total=   0.0s\n",
      "[CV] C=1.2, gamma=10, kernel=rbf .....................................\n",
      "[CV]  C=1.2, gamma=10, kernel=rbf, score=0.8988235294117647, total=   0.0s\n",
      "[CV] C=1.2, gamma=100, kernel=linear .................................\n",
      "[CV]  C=1.2, gamma=100, kernel=linear, score=0.8665105386416861, total=   0.0s\n",
      "[CV] C=1.2, gamma=100, kernel=linear .................................\n",
      "[CV]  C=1.2, gamma=100, kernel=linear, score=0.8665105386416861, total=   0.0s\n",
      "[CV] C=1.2, gamma=100, kernel=linear .................................\n",
      "[CV]  C=1.2, gamma=100, kernel=linear, score=0.8682352941176471, total=   0.0s\n",
      "[CV] C=1.2, gamma=100, kernel=rbf ....................................\n",
      "[CV]  C=1.2, gamma=100, kernel=rbf, score=0.8946135831381733, total=   0.0s\n",
      "[CV] C=1.2, gamma=100, kernel=rbf ....................................\n",
      "[CV]  C=1.2, gamma=100, kernel=rbf, score=0.8875878220140515, total=   0.0s\n",
      "[CV] C=1.2, gamma=100, kernel=rbf ....................................\n",
      "[CV]  C=1.2, gamma=100, kernel=rbf, score=0.8988235294117647, total=   0.1s\n",
      "[CV] C=1.2, gamma=1000, kernel=linear ................................\n",
      "[CV]  C=1.2, gamma=1000, kernel=linear, score=0.8665105386416861, total=   0.0s\n",
      "[CV] C=1.2, gamma=1000, kernel=linear ................................\n",
      "[CV]  C=1.2, gamma=1000, kernel=linear, score=0.8665105386416861, total=   0.0s\n",
      "[CV] C=1.2, gamma=1000, kernel=linear ................................\n",
      "[CV]  C=1.2, gamma=1000, kernel=linear, score=0.8682352941176471, total=   0.0s\n",
      "[CV] C=1.2, gamma=1000, kernel=rbf ...................................\n",
      "[CV]  C=1.2, gamma=1000, kernel=rbf, score=0.8946135831381733, total=   0.1s\n",
      "[CV] C=1.2, gamma=1000, kernel=rbf ...................................\n",
      "[CV]  C=1.2, gamma=1000, kernel=rbf, score=0.8852459016393442, total=   0.0s\n",
      "[CV] C=1.2, gamma=1000, kernel=rbf ...................................\n",
      "[CV]  C=1.2, gamma=1000, kernel=rbf, score=0.8964705882352941, total=   0.0s\n",
      "[CV] C=1.2, gamma=10000, kernel=linear ...............................\n",
      "[CV]  C=1.2, gamma=10000, kernel=linear, score=0.8665105386416861, total=   0.0s\n",
      "[CV] C=1.2, gamma=10000, kernel=linear ...............................\n",
      "[CV]  C=1.2, gamma=10000, kernel=linear, score=0.8665105386416861, total=   0.0s\n",
      "[CV] C=1.2, gamma=10000, kernel=linear ...............................\n",
      "[CV]  C=1.2, gamma=10000, kernel=linear, score=0.8682352941176471, total=   0.0s\n",
      "[CV] C=1.2, gamma=10000, kernel=rbf ..................................\n",
      "[CV]  C=1.2, gamma=10000, kernel=rbf, score=0.8946135831381733, total=   0.0s\n",
      "[CV] C=1.2, gamma=10000, kernel=rbf ..................................\n",
      "[CV]  C=1.2, gamma=10000, kernel=rbf, score=0.8852459016393442, total=   0.1s\n",
      "[CV] C=1.2, gamma=10000, kernel=rbf ..................................\n",
      "[CV]  C=1.2, gamma=10000, kernel=rbf, score=0.8964705882352941, total=   0.0s\n",
      "[CV] C=1.4, gamma=1, kernel=linear ...................................\n",
      "[CV]  C=1.4, gamma=1, kernel=linear, score=0.8665105386416861, total=   0.0s\n",
      "[CV] C=1.4, gamma=1, kernel=linear ...................................\n",
      "[CV]  C=1.4, gamma=1, kernel=linear, score=0.8665105386416861, total=   0.0s\n",
      "[CV] C=1.4, gamma=1, kernel=linear ...................................\n",
      "[CV]  C=1.4, gamma=1, kernel=linear, score=0.8682352941176471, total=   0.0s\n",
      "[CV] C=1.4, gamma=1, kernel=rbf ......................................\n",
      "[CV]  C=1.4, gamma=1, kernel=rbf, score=0.9016393442622951, total=   0.0s\n",
      "[CV] C=1.4, gamma=1, kernel=rbf ......................................\n",
      "[CV]  C=1.4, gamma=1, kernel=rbf, score=0.8946135831381733, total=   0.0s\n",
      "[CV] C=1.4, gamma=1, kernel=rbf ......................................\n",
      "[CV]  C=1.4, gamma=1, kernel=rbf, score=0.9129411764705883, total=   0.0s\n",
      "[CV] C=1.4, gamma=10, kernel=linear ..................................\n",
      "[CV]  C=1.4, gamma=10, kernel=linear, score=0.8665105386416861, total=   0.0s\n",
      "[CV] C=1.4, gamma=10, kernel=linear ..................................\n",
      "[CV]  C=1.4, gamma=10, kernel=linear, score=0.8665105386416861, total=   0.0s\n",
      "[CV] C=1.4, gamma=10, kernel=linear ..................................\n",
      "[CV]  C=1.4, gamma=10, kernel=linear, score=0.8682352941176471, total=   0.0s\n",
      "[CV] C=1.4, gamma=10, kernel=rbf .....................................\n",
      "[CV]  C=1.4, gamma=10, kernel=rbf, score=0.8946135831381733, total=   0.0s\n",
      "[CV] C=1.4, gamma=10, kernel=rbf .....................................\n",
      "[CV]  C=1.4, gamma=10, kernel=rbf, score=0.8899297423887588, total=   0.0s\n",
      "[CV] C=1.4, gamma=10, kernel=rbf .....................................\n",
      "[CV]  C=1.4, gamma=10, kernel=rbf, score=0.8988235294117647, total=   0.0s\n",
      "[CV] C=1.4, gamma=100, kernel=linear .................................\n",
      "[CV]  C=1.4, gamma=100, kernel=linear, score=0.8665105386416861, total=   0.0s\n",
      "[CV] C=1.4, gamma=100, kernel=linear .................................\n",
      "[CV]  C=1.4, gamma=100, kernel=linear, score=0.8665105386416861, total=   0.0s\n",
      "[CV] C=1.4, gamma=100, kernel=linear .................................\n",
      "[CV]  C=1.4, gamma=100, kernel=linear, score=0.8682352941176471, total=   0.0s\n",
      "[CV] C=1.4, gamma=100, kernel=rbf ....................................\n",
      "[CV]  C=1.4, gamma=100, kernel=rbf, score=0.8946135831381733, total=   0.0s\n",
      "[CV] C=1.4, gamma=100, kernel=rbf ....................................\n",
      "[CV]  C=1.4, gamma=100, kernel=rbf, score=0.8875878220140515, total=   0.1s\n",
      "[CV] C=1.4, gamma=100, kernel=rbf ....................................\n",
      "[CV]  C=1.4, gamma=100, kernel=rbf, score=0.8988235294117647, total=   0.0s\n",
      "[CV] C=1.4, gamma=1000, kernel=linear ................................\n",
      "[CV]  C=1.4, gamma=1000, kernel=linear, score=0.8665105386416861, total=   0.0s\n",
      "[CV] C=1.4, gamma=1000, kernel=linear ................................\n",
      "[CV]  C=1.4, gamma=1000, kernel=linear, score=0.8665105386416861, total=   0.0s\n",
      "[CV] C=1.4, gamma=1000, kernel=linear ................................\n",
      "[CV]  C=1.4, gamma=1000, kernel=linear, score=0.8682352941176471, total=   0.0s\n",
      "[CV] C=1.4, gamma=1000, kernel=rbf ...................................\n",
      "[CV]  C=1.4, gamma=1000, kernel=rbf, score=0.8946135831381733, total=   0.0s\n",
      "[CV] C=1.4, gamma=1000, kernel=rbf ...................................\n",
      "[CV]  C=1.4, gamma=1000, kernel=rbf, score=0.8852459016393442, total=   0.0s\n",
      "[CV] C=1.4, gamma=1000, kernel=rbf ...................................\n",
      "[CV]  C=1.4, gamma=1000, kernel=rbf, score=0.8964705882352941, total=   0.0s\n",
      "[CV] C=1.4, gamma=10000, kernel=linear ...............................\n",
      "[CV]  C=1.4, gamma=10000, kernel=linear, score=0.8665105386416861, total=   0.0s\n",
      "[CV] C=1.4, gamma=10000, kernel=linear ...............................\n",
      "[CV]  C=1.4, gamma=10000, kernel=linear, score=0.8665105386416861, total=   0.0s\n",
      "[CV] C=1.4, gamma=10000, kernel=linear ...............................\n",
      "[CV]  C=1.4, gamma=10000, kernel=linear, score=0.8682352941176471, total=   0.0s\n",
      "[CV] C=1.4, gamma=10000, kernel=rbf ..................................\n",
      "[CV]  C=1.4, gamma=10000, kernel=rbf, score=0.8946135831381733, total=   0.0s\n",
      "[CV] C=1.4, gamma=10000, kernel=rbf ..................................\n",
      "[CV]  C=1.4, gamma=10000, kernel=rbf, score=0.8852459016393442, total=   0.1s\n",
      "[CV] C=1.4, gamma=10000, kernel=rbf ..................................\n",
      "[CV]  C=1.4, gamma=10000, kernel=rbf, score=0.8964705882352941, total=   0.1s\n",
      "[CV] C=1.5, gamma=1, kernel=linear ...................................\n",
      "[CV]  C=1.5, gamma=1, kernel=linear, score=0.8665105386416861, total=   0.0s\n",
      "[CV] C=1.5, gamma=1, kernel=linear ...................................\n",
      "[CV]  C=1.5, gamma=1, kernel=linear, score=0.8665105386416861, total=   0.0s\n",
      "[CV] C=1.5, gamma=1, kernel=linear ...................................\n",
      "[CV]  C=1.5, gamma=1, kernel=linear, score=0.8682352941176471, total=   0.0s\n",
      "[CV] C=1.5, gamma=1, kernel=rbf ......................................\n"
     ]
    },
    {
     "name": "stdout",
     "output_type": "stream",
     "text": [
      "[CV]  C=1.5, gamma=1, kernel=rbf, score=0.9016393442622951, total=   0.0s\n",
      "[CV] C=1.5, gamma=1, kernel=rbf ......................................\n",
      "[CV]  C=1.5, gamma=1, kernel=rbf, score=0.8946135831381733, total=   0.0s\n",
      "[CV] C=1.5, gamma=1, kernel=rbf ......................................\n",
      "[CV]  C=1.5, gamma=1, kernel=rbf, score=0.9129411764705883, total=   0.0s\n",
      "[CV] C=1.5, gamma=10, kernel=linear ..................................\n",
      "[CV]  C=1.5, gamma=10, kernel=linear, score=0.8665105386416861, total=   0.0s\n",
      "[CV] C=1.5, gamma=10, kernel=linear ..................................\n",
      "[CV]  C=1.5, gamma=10, kernel=linear, score=0.8665105386416861, total=   0.0s\n",
      "[CV] C=1.5, gamma=10, kernel=linear ..................................\n",
      "[CV]  C=1.5, gamma=10, kernel=linear, score=0.8682352941176471, total=   0.0s\n",
      "[CV] C=1.5, gamma=10, kernel=rbf .....................................\n",
      "[CV]  C=1.5, gamma=10, kernel=rbf, score=0.8946135831381733, total=   0.0s\n",
      "[CV] C=1.5, gamma=10, kernel=rbf .....................................\n",
      "[CV]  C=1.5, gamma=10, kernel=rbf, score=0.8899297423887588, total=   0.0s\n",
      "[CV] C=1.5, gamma=10, kernel=rbf .....................................\n",
      "[CV]  C=1.5, gamma=10, kernel=rbf, score=0.8988235294117647, total=   0.0s\n",
      "[CV] C=1.5, gamma=100, kernel=linear .................................\n",
      "[CV]  C=1.5, gamma=100, kernel=linear, score=0.8665105386416861, total=   0.0s\n",
      "[CV] C=1.5, gamma=100, kernel=linear .................................\n",
      "[CV]  C=1.5, gamma=100, kernel=linear, score=0.8665105386416861, total=   0.0s\n",
      "[CV] C=1.5, gamma=100, kernel=linear .................................\n",
      "[CV]  C=1.5, gamma=100, kernel=linear, score=0.8682352941176471, total=   0.0s\n",
      "[CV] C=1.5, gamma=100, kernel=rbf ....................................\n",
      "[CV]  C=1.5, gamma=100, kernel=rbf, score=0.8946135831381733, total=   0.0s\n",
      "[CV] C=1.5, gamma=100, kernel=rbf ....................................\n",
      "[CV]  C=1.5, gamma=100, kernel=rbf, score=0.8875878220140515, total=   0.1s\n",
      "[CV] C=1.5, gamma=100, kernel=rbf ....................................\n",
      "[CV]  C=1.5, gamma=100, kernel=rbf, score=0.8988235294117647, total=   0.0s\n",
      "[CV] C=1.5, gamma=1000, kernel=linear ................................\n",
      "[CV]  C=1.5, gamma=1000, kernel=linear, score=0.8665105386416861, total=   0.0s\n",
      "[CV] C=1.5, gamma=1000, kernel=linear ................................\n",
      "[CV]  C=1.5, gamma=1000, kernel=linear, score=0.8665105386416861, total=   0.0s\n",
      "[CV] C=1.5, gamma=1000, kernel=linear ................................\n",
      "[CV]  C=1.5, gamma=1000, kernel=linear, score=0.8682352941176471, total=   0.0s\n",
      "[CV] C=1.5, gamma=1000, kernel=rbf ...................................\n",
      "[CV]  C=1.5, gamma=1000, kernel=rbf, score=0.8946135831381733, total=   0.0s\n",
      "[CV] C=1.5, gamma=1000, kernel=rbf ...................................\n",
      "[CV]  C=1.5, gamma=1000, kernel=rbf, score=0.8852459016393442, total=   0.0s\n",
      "[CV] C=1.5, gamma=1000, kernel=rbf ...................................\n",
      "[CV]  C=1.5, gamma=1000, kernel=rbf, score=0.8964705882352941, total=   0.0s\n",
      "[CV] C=1.5, gamma=10000, kernel=linear ...............................\n",
      "[CV]  C=1.5, gamma=10000, kernel=linear, score=0.8665105386416861, total=   0.0s\n",
      "[CV] C=1.5, gamma=10000, kernel=linear ...............................\n",
      "[CV]  C=1.5, gamma=10000, kernel=linear, score=0.8665105386416861, total=   0.0s\n",
      "[CV] C=1.5, gamma=10000, kernel=linear ...............................\n",
      "[CV]  C=1.5, gamma=10000, kernel=linear, score=0.8682352941176471, total=   0.0s\n",
      "[CV] C=1.5, gamma=10000, kernel=rbf ..................................\n",
      "[CV]  C=1.5, gamma=10000, kernel=rbf, score=0.8946135831381733, total=   0.0s\n",
      "[CV] C=1.5, gamma=10000, kernel=rbf ..................................\n",
      "[CV]  C=1.5, gamma=10000, kernel=rbf, score=0.8852459016393442, total=   0.0s\n",
      "[CV] C=1.5, gamma=10000, kernel=rbf ..................................\n",
      "[CV]  C=1.5, gamma=10000, kernel=rbf, score=0.8964705882352941, total=   0.0s\n",
      "[CV] C=2, gamma=1, kernel=linear .....................................\n",
      "[CV]  C=2, gamma=1, kernel=linear, score=0.8665105386416861, total=   0.0s\n",
      "[CV] C=2, gamma=1, kernel=linear .....................................\n",
      "[CV]  C=2, gamma=1, kernel=linear, score=0.8641686182669789, total=   0.0s\n",
      "[CV] C=2, gamma=1, kernel=linear .....................................\n",
      "[CV]  C=2, gamma=1, kernel=linear, score=0.8682352941176471, total=   0.0s\n",
      "[CV] C=2, gamma=1, kernel=rbf ........................................\n",
      "[CV]  C=2, gamma=1, kernel=rbf, score=0.8992974238875878, total=   0.0s\n",
      "[CV] C=2, gamma=1, kernel=rbf ........................................\n",
      "[CV]  C=2, gamma=1, kernel=rbf, score=0.8899297423887588, total=   0.0s\n",
      "[CV] C=2, gamma=1, kernel=rbf ........................................\n",
      "[CV]  C=2, gamma=1, kernel=rbf, score=0.9105882352941177, total=   0.0s\n",
      "[CV] C=2, gamma=10, kernel=linear ....................................\n",
      "[CV]  C=2, gamma=10, kernel=linear, score=0.8665105386416861, total=   0.0s\n",
      "[CV] C=2, gamma=10, kernel=linear ....................................\n",
      "[CV]  C=2, gamma=10, kernel=linear, score=0.8641686182669789, total=   0.0s\n",
      "[CV] C=2, gamma=10, kernel=linear ....................................\n",
      "[CV]  C=2, gamma=10, kernel=linear, score=0.8682352941176471, total=   0.0s\n",
      "[CV] C=2, gamma=10, kernel=rbf .......................................\n",
      "[CV]  C=2, gamma=10, kernel=rbf, score=0.8946135831381733, total=   0.0s\n",
      "[CV] C=2, gamma=10, kernel=rbf .......................................\n",
      "[CV]  C=2, gamma=10, kernel=rbf, score=0.8899297423887588, total=   0.0s\n",
      "[CV] C=2, gamma=10, kernel=rbf .......................................\n",
      "[CV]  C=2, gamma=10, kernel=rbf, score=0.8988235294117647, total=   0.0s\n",
      "[CV] C=2, gamma=100, kernel=linear ...................................\n",
      "[CV]  C=2, gamma=100, kernel=linear, score=0.8665105386416861, total=   0.0s\n",
      "[CV] C=2, gamma=100, kernel=linear ...................................\n",
      "[CV]  C=2, gamma=100, kernel=linear, score=0.8641686182669789, total=   0.0s\n",
      "[CV] C=2, gamma=100, kernel=linear ...................................\n",
      "[CV]  C=2, gamma=100, kernel=linear, score=0.8682352941176471, total=   0.0s\n",
      "[CV] C=2, gamma=100, kernel=rbf ......................................\n",
      "[CV]  C=2, gamma=100, kernel=rbf, score=0.8946135831381733, total=   0.0s\n",
      "[CV] C=2, gamma=100, kernel=rbf ......................................\n",
      "[CV]  C=2, gamma=100, kernel=rbf, score=0.8875878220140515, total=   0.0s\n",
      "[CV] C=2, gamma=100, kernel=rbf ......................................\n",
      "[CV]  C=2, gamma=100, kernel=rbf, score=0.8988235294117647, total=   0.0s\n",
      "[CV] C=2, gamma=1000, kernel=linear ..................................\n",
      "[CV]  C=2, gamma=1000, kernel=linear, score=0.8665105386416861, total=   0.0s\n",
      "[CV] C=2, gamma=1000, kernel=linear ..................................\n",
      "[CV]  C=2, gamma=1000, kernel=linear, score=0.8641686182669789, total=   0.0s\n",
      "[CV] C=2, gamma=1000, kernel=linear ..................................\n",
      "[CV]  C=2, gamma=1000, kernel=linear, score=0.8682352941176471, total=   0.0s\n",
      "[CV] C=2, gamma=1000, kernel=rbf .....................................\n",
      "[CV]  C=2, gamma=1000, kernel=rbf, score=0.8946135831381733, total=   0.0s\n",
      "[CV] C=2, gamma=1000, kernel=rbf .....................................\n",
      "[CV]  C=2, gamma=1000, kernel=rbf, score=0.8852459016393442, total=   0.1s\n",
      "[CV] C=2, gamma=1000, kernel=rbf .....................................\n",
      "[CV]  C=2, gamma=1000, kernel=rbf, score=0.8964705882352941, total=   0.0s\n",
      "[CV] C=2, gamma=10000, kernel=linear .................................\n",
      "[CV]  C=2, gamma=10000, kernel=linear, score=0.8665105386416861, total=   0.0s\n",
      "[CV] C=2, gamma=10000, kernel=linear .................................\n",
      "[CV]  C=2, gamma=10000, kernel=linear, score=0.8641686182669789, total=   0.0s\n",
      "[CV] C=2, gamma=10000, kernel=linear .................................\n",
      "[CV]  C=2, gamma=10000, kernel=linear, score=0.8682352941176471, total=   0.0s\n",
      "[CV] C=2, gamma=10000, kernel=rbf ....................................\n",
      "[CV]  C=2, gamma=10000, kernel=rbf, score=0.8946135831381733, total=   0.1s\n",
      "[CV] C=2, gamma=10000, kernel=rbf ....................................\n",
      "[CV]  C=2, gamma=10000, kernel=rbf, score=0.8852459016393442, total=   0.1s\n",
      "[CV] C=2, gamma=10000, kernel=rbf ....................................\n"
     ]
    },
    {
     "name": "stdout",
     "output_type": "stream",
     "text": [
      "[CV]  C=2, gamma=10000, kernel=rbf, score=0.8964705882352941, total=   0.1s\n"
     ]
    },
    {
     "name": "stderr",
     "output_type": "stream",
     "text": [
      "[Parallel(n_jobs=1)]: Done 300 out of 300 | elapsed:   31.7s finished\n"
     ]
    },
    {
     "data": {
      "text/plain": [
       "GridSearchCV(cv=None, error_score='raise',\n",
       "       estimator=SVC(C=1.0, cache_size=200, class_weight=None, coef0=0.0,\n",
       "  decision_function_shape='ovr', degree=3, gamma='auto', kernel='rbf',\n",
       "  max_iter=-1, probability=False, random_state=None, shrinking=True,\n",
       "  tol=0.001, verbose=False),\n",
       "       fit_params=None, iid=True, n_jobs=1,\n",
       "       param_grid={'C': [0.1, 0.5, 0.8, 0.9, 1.0, 1.1, 1.2, 1.4, 1.5, 2], 'kernel': ['linear', 'rbf'], 'gamma': [1, 10, 100, 1000, 10000]},\n",
       "       pre_dispatch='2*n_jobs', refit=True, return_train_score='warn',\n",
       "       scoring=None, verbose=3)"
      ]
     },
     "execution_count": 125,
     "metadata": {},
     "output_type": "execute_result"
    }
   ],
   "source": [
    "grid.fit(x_train,y_train)"
   ]
  },
  {
   "cell_type": "code",
   "execution_count": 126,
   "metadata": {},
   "outputs": [
    {
     "data": {
      "text/plain": [
       "{'C': 1.2, 'gamma': 1, 'kernel': 'rbf'}"
      ]
     },
     "execution_count": 126,
     "metadata": {},
     "output_type": "execute_result"
    }
   ],
   "source": [
    "grid.best_params_"
   ]
  },
  {
   "cell_type": "code",
   "execution_count": 127,
   "metadata": {},
   "outputs": [],
   "source": [
    "pred=grid.predict(x_test)"
   ]
  },
  {
   "cell_type": "code",
   "execution_count": 128,
   "metadata": {},
   "outputs": [
    {
     "name": "stdout",
     "output_type": "stream",
     "text": [
      "[[271   2]\n",
      " [ 30  17]]\n"
     ]
    }
   ],
   "source": [
    "print(confusion_matrix(y_test,pred))"
   ]
  },
  {
   "cell_type": "code",
   "execution_count": 129,
   "metadata": {},
   "outputs": [
    {
     "name": "stdout",
     "output_type": "stream",
     "text": [
      "             precision    recall  f1-score   support\n",
      "\n",
      "          0       0.90      0.99      0.94       273\n",
      "          1       0.89      0.36      0.52        47\n",
      "\n",
      "avg / total       0.90      0.90      0.88       320\n",
      "\n"
     ]
    }
   ],
   "source": [
    "print(classification_report(y_test,pred))"
   ]
  },
  {
   "cell_type": "code",
   "execution_count": 130,
   "metadata": {},
   "outputs": [],
   "source": [
    "#Cross Validation Score for Random Forest Classifier"
   ]
  },
  {
   "cell_type": "code",
   "execution_count": 131,
   "metadata": {},
   "outputs": [],
   "source": [
    "from sklearn.model_selection import cross_val_score"
   ]
  },
  {
   "cell_type": "code",
   "execution_count": 133,
   "metadata": {},
   "outputs": [],
   "source": [
    "accuracies=cross_val_score(estimator=RandomForestClassifier(n_estimators=200),X=x_train,y=y_train,cv=10)"
   ]
  },
  {
   "cell_type": "code",
   "execution_count": 134,
   "metadata": {},
   "outputs": [
    {
     "data": {
      "text/plain": [
       "0.9140194389763779"
      ]
     },
     "execution_count": 134,
     "metadata": {},
     "output_type": "execute_result"
    }
   ],
   "source": [
    "accuracies.mean()"
   ]
  },
  {
   "cell_type": "code",
   "execution_count": 135,
   "metadata": {},
   "outputs": [
    {
     "data": {
      "text/plain": [
       "0.0276833585939174"
      ]
     },
     "execution_count": 135,
     "metadata": {},
     "output_type": "execute_result"
    }
   ],
   "source": [
    "accuracies.std()"
   ]
  },
  {
   "cell_type": "code",
   "execution_count": null,
   "metadata": {},
   "outputs": [],
   "source": []
  }
 ],
 "metadata": {
  "kernelspec": {
   "display_name": "Python 3",
   "language": "python",
   "name": "python3"
  },
  "language_info": {
   "codemirror_mode": {
    "name": "ipython",
    "version": 3
   },
   "file_extension": ".py",
   "mimetype": "text/x-python",
   "name": "python",
   "nbconvert_exporter": "python",
   "pygments_lexer": "ipython3",
   "version": "3.6.5"
  }
 },
 "nbformat": 4,
 "nbformat_minor": 2
}
