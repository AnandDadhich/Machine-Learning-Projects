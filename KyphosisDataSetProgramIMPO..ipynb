{
 "cells": [
  {
   "cell_type": "code",
   "execution_count": 86,
   "metadata": {},
   "outputs": [],
   "source": [
    "import pandas as pd\n",
    "import matplotlib.pyplot as plt\n",
    "import seaborn as sns\n",
    "%matplotlib inline"
   ]
  },
  {
   "cell_type": "code",
   "execution_count": 87,
   "metadata": {},
   "outputs": [],
   "source": [
    "df=pd.read_csv(\"C:\\\\Users\\\\dell\\\\Desktop\\\\Machine Learning\\\\kyphosis.csv\")"
   ]
  },
  {
   "cell_type": "code",
   "execution_count": 88,
   "metadata": {},
   "outputs": [
    {
     "data": {
      "text/html": [
       "<div>\n",
       "<style scoped>\n",
       "    .dataframe tbody tr th:only-of-type {\n",
       "        vertical-align: middle;\n",
       "    }\n",
       "\n",
       "    .dataframe tbody tr th {\n",
       "        vertical-align: top;\n",
       "    }\n",
       "\n",
       "    .dataframe thead th {\n",
       "        text-align: right;\n",
       "    }\n",
       "</style>\n",
       "<table border=\"1\" class=\"dataframe\">\n",
       "  <thead>\n",
       "    <tr style=\"text-align: right;\">\n",
       "      <th></th>\n",
       "      <th>Kyphosis</th>\n",
       "      <th>Age</th>\n",
       "      <th>Number</th>\n",
       "      <th>Start</th>\n",
       "    </tr>\n",
       "  </thead>\n",
       "  <tbody>\n",
       "    <tr>\n",
       "      <th>0</th>\n",
       "      <td>absent</td>\n",
       "      <td>71</td>\n",
       "      <td>3</td>\n",
       "      <td>5</td>\n",
       "    </tr>\n",
       "    <tr>\n",
       "      <th>1</th>\n",
       "      <td>absent</td>\n",
       "      <td>158</td>\n",
       "      <td>3</td>\n",
       "      <td>14</td>\n",
       "    </tr>\n",
       "    <tr>\n",
       "      <th>2</th>\n",
       "      <td>present</td>\n",
       "      <td>128</td>\n",
       "      <td>4</td>\n",
       "      <td>5</td>\n",
       "    </tr>\n",
       "    <tr>\n",
       "      <th>3</th>\n",
       "      <td>absent</td>\n",
       "      <td>2</td>\n",
       "      <td>5</td>\n",
       "      <td>1</td>\n",
       "    </tr>\n",
       "    <tr>\n",
       "      <th>4</th>\n",
       "      <td>absent</td>\n",
       "      <td>1</td>\n",
       "      <td>4</td>\n",
       "      <td>15</td>\n",
       "    </tr>\n",
       "  </tbody>\n",
       "</table>\n",
       "</div>"
      ],
      "text/plain": [
       "  Kyphosis  Age  Number  Start\n",
       "0   absent   71       3      5\n",
       "1   absent  158       3     14\n",
       "2  present  128       4      5\n",
       "3   absent    2       5      1\n",
       "4   absent    1       4     15"
      ]
     },
     "execution_count": 88,
     "metadata": {},
     "output_type": "execute_result"
    }
   ],
   "source": [
    "df.head()"
   ]
  },
  {
   "cell_type": "code",
   "execution_count": 89,
   "metadata": {},
   "outputs": [
    {
     "data": {
      "text/plain": [
       "absent     64\n",
       "present    17\n",
       "Name: Kyphosis, dtype: int64"
      ]
     },
     "execution_count": 89,
     "metadata": {},
     "output_type": "execute_result"
    }
   ],
   "source": [
    "df['Kyphosis'].value_counts()"
   ]
  },
  {
   "cell_type": "code",
   "execution_count": 90,
   "metadata": {},
   "outputs": [
    {
     "data": {
      "text/plain": [
       "1      5\n",
       "2      3\n",
       "18     2\n",
       "9      2\n",
       "61     2\n",
       "15     2\n",
       "140    2\n",
       "139    2\n",
       "120    2\n",
       "158    2\n",
       "130    2\n",
       "131    2\n",
       "118    2\n",
       "157    1\n",
       "168    1\n",
       "42     1\n",
       "36     1\n",
       "35     1\n",
       "206    1\n",
       "31     1\n",
       "37     1\n",
       "127    1\n",
       "27     1\n",
       "26     1\n",
       "151    1\n",
       "22     1\n",
       "148    1\n",
       "177    1\n",
       "17     1\n",
       "159    1\n",
       "      ..\n",
       "178    1\n",
       "125    1\n",
       "121    1\n",
       "143    1\n",
       "114    1\n",
       "113    1\n",
       "112    1\n",
       "11     1\n",
       "105    1\n",
       "102    1\n",
       "100    1\n",
       "97     1\n",
       "96     1\n",
       "93     1\n",
       "91     1\n",
       "136    1\n",
       "87     1\n",
       "82     1\n",
       "81     1\n",
       "80     1\n",
       "78     1\n",
       "73     1\n",
       "72     1\n",
       "71     1\n",
       "68     1\n",
       "195    1\n",
       "59     1\n",
       "20     1\n",
       "52     1\n",
       "128    1\n",
       "Name: Age, Length: 64, dtype: int64"
      ]
     },
     "execution_count": 90,
     "metadata": {},
     "output_type": "execute_result"
    }
   ],
   "source": [
    "df['Age'].value_counts()"
   ]
  },
  {
   "cell_type": "code",
   "execution_count": 91,
   "metadata": {},
   "outputs": [
    {
     "data": {
      "text/plain": [
       "3     23\n",
       "4     18\n",
       "5     17\n",
       "2     12\n",
       "7      5\n",
       "6      4\n",
       "10     1\n",
       "9      1\n",
       "Name: Number, dtype: int64"
      ]
     },
     "execution_count": 91,
     "metadata": {},
     "output_type": "execute_result"
    }
   ],
   "source": [
    "df['Number'].value_counts()"
   ]
  },
  {
   "cell_type": "code",
   "execution_count": 92,
   "metadata": {},
   "outputs": [
    {
     "data": {
      "text/plain": [
       "16    17\n",
       "13    12\n",
       "15     7\n",
       "14     5\n",
       "12     5\n",
       "1      5\n",
       "17     4\n",
       "10     4\n",
       "9      4\n",
       "6      4\n",
       "11     3\n",
       "5      3\n",
       "3      3\n",
       "8      2\n",
       "2      2\n",
       "18     1\n",
       "Name: Start, dtype: int64"
      ]
     },
     "execution_count": 92,
     "metadata": {},
     "output_type": "execute_result"
    }
   ],
   "source": [
    "df['Start'].value_counts()"
   ]
  },
  {
   "cell_type": "code",
   "execution_count": 106,
   "metadata": {},
   "outputs": [],
   "source": [
    "x=df.drop(['Kyphosis','present'],axis=1)\n",
    "y=df['present']"
   ]
  },
  {
   "cell_type": "code",
   "execution_count": 107,
   "metadata": {},
   "outputs": [
    {
     "data": {
      "text/plain": [
       "<seaborn.axisgrid.PairGrid at 0x18adab815f8>"
      ]
     },
     "execution_count": 107,
     "metadata": {},
     "output_type": "execute_result"
    },
    {
     "data": {
      "image/png": "[encoded data removed]",
      "text/plain": [
       "<Figure size 720x720 with 20 Axes>"
      ]
     },
     "metadata": {},
     "output_type": "display_data"
    }
   ],
   "source": [
    "sns.pairplot(df)"
   ]
  },
  {
   "cell_type": "code",
   "execution_count": 108,
   "metadata": {},
   "outputs": [
    {
     "data": {
      "text/plain": [
       "<matplotlib.axes._subplots.AxesSubplot at 0x18adb3174a8>"
      ]
     },
     "execution_count": 108,
     "metadata": {},
     "output_type": "execute_result"
    },
    {
     "data": {
      "image/png": "[encoded data removed]",
      "text/plain": [
       "<Figure size 432x288 with 1 Axes>"
      ]
     },
     "metadata": {},
     "output_type": "display_data"
    }
   ],
   "source": [
    "sns.countplot(x='Start',data=df)"
   ]
  },
  {
   "cell_type": "code",
   "execution_count": 109,
   "metadata": {},
   "outputs": [
    {
     "data": {
      "text/plain": [
       "<matplotlib.axes._subplots.AxesSubplot at 0x18adb609940>"
      ]
     },
     "execution_count": 109,
     "metadata": {},
     "output_type": "execute_result"
    },
    {
     "data": {
      "image/png": "[encoded data removed]",
      "text/plain": [
       "<Figure size 432x288 with 1 Axes>"
      ]
     },
     "metadata": {},
     "output_type": "display_data"
    }
   ],
   "source": [
    "sns.boxplot(x=\"Start\",y=\"Age\",data=df)"
   ]
  },
  {
   "cell_type": "code",
   "execution_count": 110,
   "metadata": {},
   "outputs": [
    {
     "name": "stdout",
     "output_type": "stream",
     "text": [
      "<class 'pandas.core.frame.DataFrame'>\n",
      "RangeIndex: 81 entries, 0 to 80\n",
      "Data columns (total 5 columns):\n",
      "Kyphosis    81 non-null object\n",
      "Age         81 non-null int64\n",
      "Number      81 non-null int64\n",
      "Start       81 non-null int64\n",
      "present     81 non-null uint8\n",
      "dtypes: int64(3), object(1), uint8(1)\n",
      "memory usage: 2.7+ KB\n"
     ]
    }
   ],
   "source": [
    "df.info()"
   ]
  },
  {
   "cell_type": "code",
   "execution_count": 111,
   "metadata": {},
   "outputs": [
    {
     "data": {
      "text/html": [
       "<div>\n",
       "<style scoped>\n",
       "    .dataframe tbody tr th:only-of-type {\n",
       "        vertical-align: middle;\n",
       "    }\n",
       "\n",
       "    .dataframe tbody tr th {\n",
       "        vertical-align: top;\n",
       "    }\n",
       "\n",
       "    .dataframe thead th {\n",
       "        text-align: right;\n",
       "    }\n",
       "</style>\n",
       "<table border=\"1\" class=\"dataframe\">\n",
       "  <thead>\n",
       "    <tr style=\"text-align: right;\">\n",
       "      <th></th>\n",
       "      <th>Age</th>\n",
       "      <th>Number</th>\n",
       "      <th>Start</th>\n",
       "      <th>present</th>\n",
       "    </tr>\n",
       "  </thead>\n",
       "  <tbody>\n",
       "    <tr>\n",
       "      <th>count</th>\n",
       "      <td>81.000000</td>\n",
       "      <td>81.000000</td>\n",
       "      <td>81.000000</td>\n",
       "      <td>81.000000</td>\n",
       "    </tr>\n",
       "    <tr>\n",
       "      <th>mean</th>\n",
       "      <td>83.654321</td>\n",
       "      <td>4.049383</td>\n",
       "      <td>11.493827</td>\n",
       "      <td>0.209877</td>\n",
       "    </tr>\n",
       "    <tr>\n",
       "      <th>std</th>\n",
       "      <td>58.104251</td>\n",
       "      <td>1.619423</td>\n",
       "      <td>4.883962</td>\n",
       "      <td>0.409758</td>\n",
       "    </tr>\n",
       "    <tr>\n",
       "      <th>min</th>\n",
       "      <td>1.000000</td>\n",
       "      <td>2.000000</td>\n",
       "      <td>1.000000</td>\n",
       "      <td>0.000000</td>\n",
       "    </tr>\n",
       "    <tr>\n",
       "      <th>25%</th>\n",
       "      <td>26.000000</td>\n",
       "      <td>3.000000</td>\n",
       "      <td>9.000000</td>\n",
       "      <td>0.000000</td>\n",
       "    </tr>\n",
       "    <tr>\n",
       "      <th>50%</th>\n",
       "      <td>87.000000</td>\n",
       "      <td>4.000000</td>\n",
       "      <td>13.000000</td>\n",
       "      <td>0.000000</td>\n",
       "    </tr>\n",
       "    <tr>\n",
       "      <th>75%</th>\n",
       "      <td>130.000000</td>\n",
       "      <td>5.000000</td>\n",
       "      <td>16.000000</td>\n",
       "      <td>0.000000</td>\n",
       "    </tr>\n",
       "    <tr>\n",
       "      <th>max</th>\n",
       "      <td>206.000000</td>\n",
       "      <td>10.000000</td>\n",
       "      <td>18.000000</td>\n",
       "      <td>1.000000</td>\n",
       "    </tr>\n",
       "  </tbody>\n",
       "</table>\n",
       "</div>"
      ],
      "text/plain": [
       "              Age     Number      Start    present\n",
       "count   81.000000  81.000000  81.000000  81.000000\n",
       "mean    83.654321   4.049383  11.493827   0.209877\n",
       "std     58.104251   1.619423   4.883962   0.409758\n",
       "min      1.000000   2.000000   1.000000   0.000000\n",
       "25%     26.000000   3.000000   9.000000   0.000000\n",
       "50%     87.000000   4.000000  13.000000   0.000000\n",
       "75%    130.000000   5.000000  16.000000   0.000000\n",
       "max    206.000000  10.000000  18.000000   1.000000"
      ]
     },
     "execution_count": 111,
     "metadata": {},
     "output_type": "execute_result"
    }
   ],
   "source": [
    "df.describe()"
   ]
  },
  {
   "cell_type": "code",
   "execution_count": 114,
   "metadata": {},
   "outputs": [],
   "source": [
    "x=df.drop(['Kyphosis','present'],axis=1)\n",
    "y=df['present']"
   ]
  },
  {
   "cell_type": "code",
   "execution_count": 113,
   "metadata": {},
   "outputs": [
    {
     "data": {
      "text/html": [
       "<div>\n",
       "<style scoped>\n",
       "    .dataframe tbody tr th:only-of-type {\n",
       "        vertical-align: middle;\n",
       "    }\n",
       "\n",
       "    .dataframe tbody tr th {\n",
       "        vertical-align: top;\n",
       "    }\n",
       "\n",
       "    .dataframe thead th {\n",
       "        text-align: right;\n",
       "    }\n",
       "</style>\n",
       "<table border=\"1\" class=\"dataframe\">\n",
       "  <thead>\n",
       "    <tr style=\"text-align: right;\">\n",
       "      <th></th>\n",
       "      <th>Age</th>\n",
       "      <th>Number</th>\n",
       "      <th>Start</th>\n",
       "    </tr>\n",
       "  </thead>\n",
       "  <tbody>\n",
       "    <tr>\n",
       "      <th>0</th>\n",
       "      <td>71</td>\n",
       "      <td>3</td>\n",
       "      <td>5</td>\n",
       "    </tr>\n",
       "    <tr>\n",
       "      <th>1</th>\n",
       "      <td>158</td>\n",
       "      <td>3</td>\n",
       "      <td>14</td>\n",
       "    </tr>\n",
       "    <tr>\n",
       "      <th>2</th>\n",
       "      <td>128</td>\n",
       "      <td>4</td>\n",
       "      <td>5</td>\n",
       "    </tr>\n",
       "    <tr>\n",
       "      <th>3</th>\n",
       "      <td>2</td>\n",
       "      <td>5</td>\n",
       "      <td>1</td>\n",
       "    </tr>\n",
       "    <tr>\n",
       "      <th>4</th>\n",
       "      <td>1</td>\n",
       "      <td>4</td>\n",
       "      <td>15</td>\n",
       "    </tr>\n",
       "  </tbody>\n",
       "</table>\n",
       "</div>"
      ],
      "text/plain": [
       "   Age  Number  Start\n",
       "0   71       3      5\n",
       "1  158       3     14\n",
       "2  128       4      5\n",
       "3    2       5      1\n",
       "4    1       4     15"
      ]
     },
     "execution_count": 113,
     "metadata": {},
     "output_type": "execute_result"
    }
   ],
   "source": [
    "x.head()"
   ]
  },
  {
   "cell_type": "code",
   "execution_count": 101,
   "metadata": {},
   "outputs": [
    {
     "data": {
      "text/plain": [
       "0      absent\n",
       "1      absent\n",
       "2     present\n",
       "3      absent\n",
       "4      absent\n",
       "5      absent\n",
       "6      absent\n",
       "7      absent\n",
       "8      absent\n",
       "9     present\n",
       "10    present\n",
       "11     absent\n",
       "12     absent\n",
       "13     absent\n",
       "14     absent\n",
       "15     absent\n",
       "16     absent\n",
       "17     absent\n",
       "18     absent\n",
       "19     absent\n",
       "20     absent\n",
       "21    present\n",
       "22    present\n",
       "23     absent\n",
       "24    present\n",
       "25     absent\n",
       "26     absent\n",
       "27     absent\n",
       "28     absent\n",
       "29     absent\n",
       "       ...   \n",
       "51     absent\n",
       "52    present\n",
       "53     absent\n",
       "54     absent\n",
       "55     absent\n",
       "56     absent\n",
       "57    present\n",
       "58     absent\n",
       "59     absent\n",
       "60    present\n",
       "61    present\n",
       "62     absent\n",
       "63     absent\n",
       "64     absent\n",
       "65     absent\n",
       "66     absent\n",
       "67     absent\n",
       "68     absent\n",
       "69     absent\n",
       "70     absent\n",
       "71     absent\n",
       "72     absent\n",
       "73     absent\n",
       "74     absent\n",
       "75     absent\n",
       "76    present\n",
       "77     absent\n",
       "78     absent\n",
       "79    present\n",
       "80     absent\n",
       "Name: Kyphosis, Length: 81, dtype: object"
      ]
     },
     "execution_count": 101,
     "metadata": {},
     "output_type": "execute_result"
    }
   ],
   "source": [
    "y"
   ]
  },
  {
   "cell_type": "code",
   "execution_count": 102,
   "metadata": {},
   "outputs": [],
   "source": [
    "df=pd.concat([df,pd.get_dummies(df['Kyphosis'],drop_first=True)],axis=1)"
   ]
  },
  {
   "cell_type": "code",
   "execution_count": 125,
   "metadata": {},
   "outputs": [
    {
     "data": {
      "text/html": [
       "<div>\n",
       "<style scoped>\n",
       "    .dataframe tbody tr th:only-of-type {\n",
       "        vertical-align: middle;\n",
       "    }\n",
       "\n",
       "    .dataframe tbody tr th {\n",
       "        vertical-align: top;\n",
       "    }\n",
       "\n",
       "    .dataframe thead th {\n",
       "        text-align: right;\n",
       "    }\n",
       "</style>\n",
       "<table border=\"1\" class=\"dataframe\">\n",
       "  <thead>\n",
       "    <tr style=\"text-align: right;\">\n",
       "      <th></th>\n",
       "      <th>Kyphosis</th>\n",
       "      <th>Age</th>\n",
       "      <th>Number</th>\n",
       "      <th>Start</th>\n",
       "      <th>present</th>\n",
       "    </tr>\n",
       "  </thead>\n",
       "  <tbody>\n",
       "    <tr>\n",
       "      <th>0</th>\n",
       "      <td>absent</td>\n",
       "      <td>71</td>\n",
       "      <td>3</td>\n",
       "      <td>5</td>\n",
       "      <td>0</td>\n",
       "    </tr>\n",
       "    <tr>\n",
       "      <th>1</th>\n",
       "      <td>absent</td>\n",
       "      <td>158</td>\n",
       "      <td>3</td>\n",
       "      <td>14</td>\n",
       "      <td>0</td>\n",
       "    </tr>\n",
       "    <tr>\n",
       "      <th>2</th>\n",
       "      <td>present</td>\n",
       "      <td>128</td>\n",
       "      <td>4</td>\n",
       "      <td>5</td>\n",
       "      <td>1</td>\n",
       "    </tr>\n",
       "    <tr>\n",
       "      <th>3</th>\n",
       "      <td>absent</td>\n",
       "      <td>2</td>\n",
       "      <td>5</td>\n",
       "      <td>1</td>\n",
       "      <td>0</td>\n",
       "    </tr>\n",
       "    <tr>\n",
       "      <th>4</th>\n",
       "      <td>absent</td>\n",
       "      <td>1</td>\n",
       "      <td>4</td>\n",
       "      <td>15</td>\n",
       "      <td>0</td>\n",
       "    </tr>\n",
       "  </tbody>\n",
       "</table>\n",
       "</div>"
      ],
      "text/plain": [
       "  Kyphosis  Age  Number  Start  present\n",
       "0   absent   71       3      5        0\n",
       "1   absent  158       3     14        0\n",
       "2  present  128       4      5        1\n",
       "3   absent    2       5      1        0\n",
       "4   absent    1       4     15        0"
      ]
     },
     "execution_count": 125,
     "metadata": {},
     "output_type": "execute_result"
    }
   ],
   "source": [
    "df.head()"
   ]
  },
  {
   "cell_type": "code",
   "execution_count": 115,
   "metadata": {},
   "outputs": [
    {
     "data": {
      "text/html": [
       "<div>\n",
       "<style scoped>\n",
       "    .dataframe tbody tr th:only-of-type {\n",
       "        vertical-align: middle;\n",
       "    }\n",
       "\n",
       "    .dataframe tbody tr th {\n",
       "        vertical-align: top;\n",
       "    }\n",
       "\n",
       "    .dataframe thead th {\n",
       "        text-align: right;\n",
       "    }\n",
       "</style>\n",
       "<table border=\"1\" class=\"dataframe\">\n",
       "  <thead>\n",
       "    <tr style=\"text-align: right;\">\n",
       "      <th></th>\n",
       "      <th>Age</th>\n",
       "      <th>Number</th>\n",
       "      <th>Start</th>\n",
       "    </tr>\n",
       "  </thead>\n",
       "  <tbody>\n",
       "    <tr>\n",
       "      <th>0</th>\n",
       "      <td>71</td>\n",
       "      <td>3</td>\n",
       "      <td>5</td>\n",
       "    </tr>\n",
       "    <tr>\n",
       "      <th>1</th>\n",
       "      <td>158</td>\n",
       "      <td>3</td>\n",
       "      <td>14</td>\n",
       "    </tr>\n",
       "    <tr>\n",
       "      <th>2</th>\n",
       "      <td>128</td>\n",
       "      <td>4</td>\n",
       "      <td>5</td>\n",
       "    </tr>\n",
       "    <tr>\n",
       "      <th>3</th>\n",
       "      <td>2</td>\n",
       "      <td>5</td>\n",
       "      <td>1</td>\n",
       "    </tr>\n",
       "    <tr>\n",
       "      <th>4</th>\n",
       "      <td>1</td>\n",
       "      <td>4</td>\n",
       "      <td>15</td>\n",
       "    </tr>\n",
       "  </tbody>\n",
       "</table>\n",
       "</div>"
      ],
      "text/plain": [
       "   Age  Number  Start\n",
       "0   71       3      5\n",
       "1  158       3     14\n",
       "2  128       4      5\n",
       "3    2       5      1\n",
       "4    1       4     15"
      ]
     },
     "execution_count": 115,
     "metadata": {},
     "output_type": "execute_result"
    }
   ],
   "source": [
    "x.head()"
   ]
  },
  {
   "cell_type": "code",
   "execution_count": 116,
   "metadata": {},
   "outputs": [
    {
     "data": {
      "text/plain": [
       "0     0\n",
       "1     0\n",
       "2     1\n",
       "3     0\n",
       "4     0\n",
       "5     0\n",
       "6     0\n",
       "7     0\n",
       "8     0\n",
       "9     1\n",
       "10    1\n",
       "11    0\n",
       "12    0\n",
       "13    0\n",
       "14    0\n",
       "15    0\n",
       "16    0\n",
       "17    0\n",
       "18    0\n",
       "19    0\n",
       "20    0\n",
       "21    1\n",
       "22    1\n",
       "23    0\n",
       "24    1\n",
       "25    0\n",
       "26    0\n",
       "27    0\n",
       "28    0\n",
       "29    0\n",
       "     ..\n",
       "51    0\n",
       "52    1\n",
       "53    0\n",
       "54    0\n",
       "55    0\n",
       "56    0\n",
       "57    1\n",
       "58    0\n",
       "59    0\n",
       "60    1\n",
       "61    1\n",
       "62    0\n",
       "63    0\n",
       "64    0\n",
       "65    0\n",
       "66    0\n",
       "67    0\n",
       "68    0\n",
       "69    0\n",
       "70    0\n",
       "71    0\n",
       "72    0\n",
       "73    0\n",
       "74    0\n",
       "75    0\n",
       "76    1\n",
       "77    0\n",
       "78    0\n",
       "79    1\n",
       "80    0\n",
       "Name: present, Length: 81, dtype: uint8"
      ]
     },
     "execution_count": 116,
     "metadata": {},
     "output_type": "execute_result"
    }
   ],
   "source": [
    "y"
   ]
  },
  {
   "cell_type": "code",
   "execution_count": 117,
   "metadata": {},
   "outputs": [],
   "source": [
    "from sklearn.model_selection import train_test_split"
   ]
  },
  {
   "cell_type": "code",
   "execution_count": 118,
   "metadata": {},
   "outputs": [],
   "source": [
    "x_train,x_test,y_train,y_test=train_test_split(x,y,test_size=0.2,random_state=42)"
   ]
  },
  {
   "cell_type": "code",
   "execution_count": 119,
   "metadata": {},
   "outputs": [],
   "source": [
    "from sklearn.linear_model import LogisticRegression"
   ]
  },
  {
   "cell_type": "code",
   "execution_count": 120,
   "metadata": {},
   "outputs": [],
   "source": [
    "model=LogisticRegression().fit(x_train,y_train)"
   ]
  },
  {
   "cell_type": "code",
   "execution_count": 121,
   "metadata": {},
   "outputs": [],
   "source": [
    "pred=model.predict(x_test)"
   ]
  },
  {
   "cell_type": "code",
   "execution_count": 122,
   "metadata": {},
   "outputs": [],
   "source": [
    "from sklearn.metrics import confusion_matrix,classification_report"
   ]
  },
  {
   "cell_type": "code",
   "execution_count": 123,
   "metadata": {},
   "outputs": [
    {
     "name": "stdout",
     "output_type": "stream",
     "text": [
      "[[13  1]\n",
      " [ 3  0]]\n"
     ]
    }
   ],
   "source": [
    "print(confusion_matrix(y_test,pred))"
   ]
  },
  {
   "cell_type": "code",
   "execution_count": 124,
   "metadata": {},
   "outputs": [
    {
     "name": "stdout",
     "output_type": "stream",
     "text": [
      "             precision    recall  f1-score   support\n",
      "\n",
      "          0       0.81      0.93      0.87        14\n",
      "          1       0.00      0.00      0.00         3\n",
      "\n",
      "avg / total       0.67      0.76      0.71        17\n",
      "\n"
     ]
    }
   ],
   "source": [
    "print(classification_report(y_test,pred))"
   ]
  },
  {
   "cell_type": "code",
   "execution_count": 126,
   "metadata": {},
   "outputs": [],
   "source": [
    "#In the Case of Classification =>Label Y numeric bhi Ho skta h or ya Y Non-Numeric bhi ho skta And\n",
    "#-but features Non-Numeric Nahi ho skta means X they needed to be Numeric"
   ]
  },
  {
   "cell_type": "code",
   "execution_count": 127,
   "metadata": {},
   "outputs": [],
   "source": [
    "#Or Jab 2 hi Categories ho or 0 ya 1 ki format ho means binary ya Nah ho toh Logistic\n",
    "#Or jab bhut sari Categories ho Label m then Random forest use Krta iss mai bhi 4-5 ho skti hai"
   ]
  },
  {
   "cell_type": "code",
   "execution_count": 136,
   "metadata": {},
   "outputs": [],
   "source": [
    "from sklearn.model_selection import train_test_split"
   ]
  },
  {
   "cell_type": "code",
   "execution_count": 137,
   "metadata": {},
   "outputs": [],
   "source": [
    "x_train,x_test,y_train,y_test=train_test_split(x,y,test_size=0.2,random_state=42)"
   ]
  },
  {
   "cell_type": "code",
   "execution_count": 130,
   "metadata": {},
   "outputs": [],
   "source": [
    "from sklearn.svm import SVC"
   ]
  },
  {
   "cell_type": "code",
   "execution_count": 131,
   "metadata": {},
   "outputs": [],
   "source": [
    "model=SVC().fit(x_train,y_train)"
   ]
  },
  {
   "cell_type": "code",
   "execution_count": 132,
   "metadata": {},
   "outputs": [],
   "source": [
    "pred=model.predict(x_test)"
   ]
  },
  {
   "cell_type": "code",
   "execution_count": 133,
   "metadata": {},
   "outputs": [],
   "source": [
    "from sklearn.metrics import confusion_matrix,classification_report"
   ]
  },
  {
   "cell_type": "code",
   "execution_count": 134,
   "metadata": {},
   "outputs": [
    {
     "name": "stdout",
     "output_type": "stream",
     "text": [
      "[[14  0]\n",
      " [ 3  0]]\n"
     ]
    }
   ],
   "source": [
    "print(confusion_matrix(y_test,pred))"
   ]
  },
  {
   "cell_type": "code",
   "execution_count": 135,
   "metadata": {},
   "outputs": [
    {
     "name": "stdout",
     "output_type": "stream",
     "text": [
      "             precision    recall  f1-score   support\n",
      "\n",
      "          0       0.82      1.00      0.90        14\n",
      "          1       0.00      0.00      0.00         3\n",
      "\n",
      "avg / total       0.68      0.82      0.74        17\n",
      "\n"
     ]
    },
    {
     "name": "stderr",
     "output_type": "stream",
     "text": [
      "C:\\Users\\dell\\Anaconda3\\lib\\site-packages\\sklearn\\metrics\\classification.py:1135: UndefinedMetricWarning: Precision and F-score are ill-defined and being set to 0.0 in labels with no predicted samples.\n",
      "  'precision', 'predicted', average, warn_for)\n"
     ]
    }
   ],
   "source": [
    "print(classification_report(y_test,pred))"
   ]
  },
  {
   "cell_type": "code",
   "execution_count": 144,
   "metadata": {},
   "outputs": [],
   "source": [
    "pg={'C':[0.01,0.001,1.0,2.0,3.0],'kernel':['rbf','linear'],'gamma':[5,4,3,2,1]}"
   ]
  },
  {
   "cell_type": "code",
   "execution_count": 145,
   "metadata": {},
   "outputs": [],
   "source": [
    "from sklearn.model_selection import GridSearchCV"
   ]
  },
  {
   "cell_type": "code",
   "execution_count": 146,
   "metadata": {},
   "outputs": [],
   "source": [
    "grid=GridSearchCV(SVC(),pg,refit=True,verbose=3)"
   ]
  },
  {
   "cell_type": "code",
   "execution_count": 147,
   "metadata": {},
   "outputs": [
    {
     "name": "stdout",
     "output_type": "stream",
     "text": [
      "Fitting 3 folds for each of 50 candidates, totalling 150 fits\n",
      "[CV] C=0.01, gamma=5, kernel=rbf .....................................\n",
      "[CV]  C=0.01, gamma=5, kernel=rbf, score=0.7727272727272727, total=   0.0s\n",
      "[CV] C=0.01, gamma=5, kernel=rbf .....................................\n",
      "[CV]  C=0.01, gamma=5, kernel=rbf, score=0.7727272727272727, total=   0.0s\n",
      "[CV] C=0.01, gamma=5, kernel=rbf .....................................\n",
      "[CV] ........... C=0.01, gamma=5, kernel=rbf, score=0.8, total=   0.0s\n",
      "[CV] C=0.01, gamma=5, kernel=linear ..................................\n",
      "[CV]  C=0.01, gamma=5, kernel=linear, score=0.7272727272727273, total=   0.0s\n",
      "[CV] C=0.01, gamma=5, kernel=linear ..................................\n",
      "[CV]  C=0.01, gamma=5, kernel=linear, score=0.8181818181818182, total=   0.0s\n",
      "[CV] C=0.01, gamma=5, kernel=linear ..................................\n",
      "[CV] ........ C=0.01, gamma=5, kernel=linear, score=0.8, total=   0.0s\n",
      "[CV] C=0.01, gamma=4, kernel=rbf .....................................\n",
      "[CV]  C=0.01, gamma=4, kernel=rbf, score=0.7727272727272727, total=   0.0s\n",
      "[CV] C=0.01, gamma=4, kernel=rbf .....................................\n",
      "[CV]  C=0.01, gamma=4, kernel=rbf, score=0.7727272727272727, total=   0.0s\n",
      "[CV] C=0.01, gamma=4, kernel=rbf .....................................\n",
      "[CV] ........... C=0.01, gamma=4, kernel=rbf, score=0.8, total=   0.0s\n",
      "[CV] C=0.01, gamma=4, kernel=linear ..................................\n",
      "[CV]  C=0.01, gamma=4, kernel=linear, score=0.7272727272727273, total=   0.0s\n",
      "[CV] C=0.01, gamma=4, kernel=linear ..................................\n",
      "[CV]  C=0.01, gamma=4, kernel=linear, score=0.8181818181818182, total=   0.0s\n",
      "[CV] C=0.01, gamma=4, kernel=linear ..................................\n",
      "[CV] ........ C=0.01, gamma=4, kernel=linear, score=0.8, total=   0.0s"
     ]
    },
    {
     "name": "stderr",
     "output_type": "stream",
     "text": [
      "[Parallel(n_jobs=1)]: Done   1 out of   1 | elapsed:    0.0s remaining:    0.0s\n",
      "[Parallel(n_jobs=1)]: Done   2 out of   2 | elapsed:    0.0s remaining:    0.0s\n"
     ]
    },
    {
     "name": "stdout",
     "output_type": "stream",
     "text": [
      "\n",
      "[CV] C=0.01, gamma=3, kernel=rbf .....................................\n",
      "[CV]  C=0.01, gamma=3, kernel=rbf, score=0.7727272727272727, total=   0.0s\n",
      "[CV] C=0.01, gamma=3, kernel=rbf .....................................\n",
      "[CV]  C=0.01, gamma=3, kernel=rbf, score=0.7727272727272727, total=   0.0s\n",
      "[CV] C=0.01, gamma=3, kernel=rbf .....................................\n",
      "[CV] ........... C=0.01, gamma=3, kernel=rbf, score=0.8, total=   0.0s\n",
      "[CV] C=0.01, gamma=3, kernel=linear ..................................\n",
      "[CV]  C=0.01, gamma=3, kernel=linear, score=0.7272727272727273, total=   0.0s\n",
      "[CV] C=0.01, gamma=3, kernel=linear ..................................\n",
      "[CV]  C=0.01, gamma=3, kernel=linear, score=0.8181818181818182, total=   0.0s\n",
      "[CV] C=0.01, gamma=3, kernel=linear ..................................\n",
      "[CV] ........ C=0.01, gamma=3, kernel=linear, score=0.8, total=   0.0s\n",
      "[CV] C=0.01, gamma=2, kernel=rbf .....................................\n",
      "[CV]  C=0.01, gamma=2, kernel=rbf, score=0.7727272727272727, total=   0.0s\n",
      "[CV] C=0.01, gamma=2, kernel=rbf .....................................\n",
      "[CV]  C=0.01, gamma=2, kernel=rbf, score=0.7727272727272727, total=   0.0s\n",
      "[CV] C=0.01, gamma=2, kernel=rbf .....................................\n",
      "[CV] ........... C=0.01, gamma=2, kernel=rbf, score=0.8, total=   0.0s\n",
      "[CV] C=0.01, gamma=2, kernel=linear ..................................\n",
      "[CV]  C=0.01, gamma=2, kernel=linear, score=0.7272727272727273, total=   0.0s\n",
      "[CV] C=0.01, gamma=2, kernel=linear ..................................\n",
      "[CV]  C=0.01, gamma=2, kernel=linear, score=0.8181818181818182, total=   0.0s\n",
      "[CV] C=0.01, gamma=2, kernel=linear ..................................\n",
      "[CV] ........ C=0.01, gamma=2, kernel=linear, score=0.8, total=   0.0s\n",
      "[CV] C=0.01, gamma=1, kernel=rbf .....................................\n",
      "[CV]  C=0.01, gamma=1, kernel=rbf, score=0.7727272727272727, total=   0.0s\n",
      "[CV] C=0.01, gamma=1, kernel=rbf .....................................\n",
      "[CV]  C=0.01, gamma=1, kernel=rbf, score=0.7727272727272727, total=   0.0s\n",
      "[CV] C=0.01, gamma=1, kernel=rbf .....................................\n",
      "[CV] ........... C=0.01, gamma=1, kernel=rbf, score=0.8, total=   0.0s\n",
      "[CV] C=0.01, gamma=1, kernel=linear ..................................\n",
      "[CV]  C=0.01, gamma=1, kernel=linear, score=0.7272727272727273, total=   0.0s\n",
      "[CV] C=0.01, gamma=1, kernel=linear ..................................\n",
      "[CV]  C=0.01, gamma=1, kernel=linear, score=0.8181818181818182, total=   0.0s\n",
      "[CV] C=0.01, gamma=1, kernel=linear ..................................\n",
      "[CV] ........ C=0.01, gamma=1, kernel=linear, score=0.8, total=   0.0s\n",
      "[CV] C=0.001, gamma=5, kernel=rbf ....................................\n",
      "[CV]  C=0.001, gamma=5, kernel=rbf, score=0.7727272727272727, total=   0.0s\n",
      "[CV] C=0.001, gamma=5, kernel=rbf ....................................\n",
      "[CV]  C=0.001, gamma=5, kernel=rbf, score=0.7727272727272727, total=   0.0s\n",
      "[CV] C=0.001, gamma=5, kernel=rbf ....................................\n",
      "[CV] .......... C=0.001, gamma=5, kernel=rbf, score=0.8, total=   0.0s\n",
      "[CV] C=0.001, gamma=5, kernel=linear .................................\n",
      "[CV]  C=0.001, gamma=5, kernel=linear, score=0.7727272727272727, total=   0.0s\n",
      "[CV] C=0.001, gamma=5, kernel=linear .................................\n",
      "[CV]  C=0.001, gamma=5, kernel=linear, score=0.7727272727272727, total=   0.0s\n",
      "[CV] C=0.001, gamma=5, kernel=linear .................................\n",
      "[CV] ....... C=0.001, gamma=5, kernel=linear, score=0.8, total=   0.0s\n",
      "[CV] C=0.001, gamma=4, kernel=rbf ....................................\n",
      "[CV]  C=0.001, gamma=4, kernel=rbf, score=0.7727272727272727, total=   0.0s\n",
      "[CV] C=0.001, gamma=4, kernel=rbf ....................................\n",
      "[CV]  C=0.001, gamma=4, kernel=rbf, score=0.7727272727272727, total=   0.0s\n",
      "[CV] C=0.001, gamma=4, kernel=rbf ....................................\n",
      "[CV] .......... C=0.001, gamma=4, kernel=rbf, score=0.8, total=   0.0s\n",
      "[CV] C=0.001, gamma=4, kernel=linear .................................\n",
      "[CV]  C=0.001, gamma=4, kernel=linear, score=0.7727272727272727, total=   0.0s\n",
      "[CV] C=0.001, gamma=4, kernel=linear .................................\n",
      "[CV]  C=0.001, gamma=4, kernel=linear, score=0.7727272727272727, total=   0.0s\n",
      "[CV] C=0.001, gamma=4, kernel=linear .................................\n",
      "[CV] ....... C=0.001, gamma=4, kernel=linear, score=0.8, total=   0.0s\n",
      "[CV] C=0.001, gamma=3, kernel=rbf ....................................\n",
      "[CV]  C=0.001, gamma=3, kernel=rbf, score=0.7727272727272727, total=   0.0s\n",
      "[CV] C=0.001, gamma=3, kernel=rbf ....................................\n",
      "[CV]  C=0.001, gamma=3, kernel=rbf, score=0.7727272727272727, total=   0.0s\n",
      "[CV] C=0.001, gamma=3, kernel=rbf ....................................\n",
      "[CV] .......... C=0.001, gamma=3, kernel=rbf, score=0.8, total=   0.0s\n",
      "[CV] C=0.001, gamma=3, kernel=linear .................................\n",
      "[CV]  C=0.001, gamma=3, kernel=linear, score=0.7727272727272727, total=   0.0s\n",
      "[CV] C=0.001, gamma=3, kernel=linear .................................\n",
      "[CV]  C=0.001, gamma=3, kernel=linear, score=0.7727272727272727, total=   0.0s\n",
      "[CV] C=0.001, gamma=3, kernel=linear .................................\n",
      "[CV] ....... C=0.001, gamma=3, kernel=linear, score=0.8, total=   0.0s\n",
      "[CV] C=0.001, gamma=2, kernel=rbf ....................................\n",
      "[CV]  C=0.001, gamma=2, kernel=rbf, score=0.7727272727272727, total=   0.0s\n",
      "[CV] C=0.001, gamma=2, kernel=rbf ....................................\n",
      "[CV]  C=0.001, gamma=2, kernel=rbf, score=0.7727272727272727, total=   0.0s\n",
      "[CV] C=0.001, gamma=2, kernel=rbf ....................................\n",
      "[CV] .......... C=0.001, gamma=2, kernel=rbf, score=0.8, total=   0.0s\n",
      "[CV] C=0.001, gamma=2, kernel=linear .................................\n",
      "[CV]  C=0.001, gamma=2, kernel=linear, score=0.7727272727272727, total=   0.0s\n",
      "[CV] C=0.001, gamma=2, kernel=linear .................................\n",
      "[CV]  C=0.001, gamma=2, kernel=linear, score=0.7727272727272727, total=   0.0s\n",
      "[CV] C=0.001, gamma=2, kernel=linear .................................\n",
      "[CV] ....... C=0.001, gamma=2, kernel=linear, score=0.8, total=   0.0s\n",
      "[CV] C=0.001, gamma=1, kernel=rbf ....................................\n",
      "[CV]  C=0.001, gamma=1, kernel=rbf, score=0.7727272727272727, total=   0.0s\n",
      "[CV] C=0.001, gamma=1, kernel=rbf ....................................\n",
      "[CV]  C=0.001, gamma=1, kernel=rbf, score=0.7727272727272727, total=   0.0s\n",
      "[CV] C=0.001, gamma=1, kernel=rbf ....................................\n",
      "[CV] .......... C=0.001, gamma=1, kernel=rbf, score=0.8, total=   0.0s\n",
      "[CV] C=0.001, gamma=1, kernel=linear .................................\n",
      "[CV]  C=0.001, gamma=1, kernel=linear, score=0.7727272727272727, total=   0.0s\n",
      "[CV] C=0.001, gamma=1, kernel=linear .................................\n",
      "[CV]  C=0.001, gamma=1, kernel=linear, score=0.7727272727272727, total=   0.0s\n",
      "[CV] C=0.001, gamma=1, kernel=linear .................................\n",
      "[CV] ....... C=0.001, gamma=1, kernel=linear, score=0.8, total=   0.0s\n",
      "[CV] C=1.0, gamma=5, kernel=rbf ......................................\n",
      "[CV]  C=1.0, gamma=5, kernel=rbf, score=0.7727272727272727, total=   0.0s\n",
      "[CV] C=1.0, gamma=5, kernel=rbf ......................................\n",
      "[CV]  C=1.0, gamma=5, kernel=rbf, score=0.7727272727272727, total=   0.0s\n",
      "[CV] C=1.0, gamma=5, kernel=rbf ......................................\n",
      "[CV] ............ C=1.0, gamma=5, kernel=rbf, score=0.8, total=   0.0s\n",
      "[CV] C=1.0, gamma=5, kernel=linear ...................................\n",
      "[CV]  C=1.0, gamma=5, kernel=linear, score=0.7727272727272727, total=   0.0s\n",
      "[CV] C=1.0, gamma=5, kernel=linear ...................................\n",
      "[CV]  C=1.0, gamma=5, kernel=linear, score=0.7727272727272727, total=   0.0s\n",
      "[CV] C=1.0, gamma=5, kernel=linear ...................................\n",
      "[CV] ......... C=1.0, gamma=5, kernel=linear, score=0.9, total=   0.0s\n",
      "[CV] C=1.0, gamma=4, kernel=rbf ......................................\n",
      "[CV]  C=1.0, gamma=4, kernel=rbf, score=0.7727272727272727, total=   0.0s\n",
      "[CV] C=1.0, gamma=4, kernel=rbf ......................................\n",
      "[CV]  C=1.0, gamma=4, kernel=rbf, score=0.7727272727272727, total=   0.0s\n",
      "[CV] C=1.0, gamma=4, kernel=rbf ......................................\n",
      "[CV] ............ C=1.0, gamma=4, kernel=rbf, score=0.8, total=   0.0s\n",
      "[CV] C=1.0, gamma=4, kernel=linear ...................................\n",
      "[CV]  C=1.0, gamma=4, kernel=linear, score=0.7727272727272727, total=   0.0s\n",
      "[CV] C=1.0, gamma=4, kernel=linear ...................................\n",
      "[CV]  C=1.0, gamma=4, kernel=linear, score=0.7727272727272727, total=   0.0s\n",
      "[CV] C=1.0, gamma=4, kernel=linear ...................................\n",
      "[CV] ......... C=1.0, gamma=4, kernel=linear, score=0.9, total=   0.0s\n",
      "[CV] C=1.0, gamma=3, kernel=rbf ......................................\n",
      "[CV]  C=1.0, gamma=3, kernel=rbf, score=0.7727272727272727, total=   0.0s\n",
      "[CV] C=1.0, gamma=3, kernel=rbf ......................................\n",
      "[CV]  C=1.0, gamma=3, kernel=rbf, score=0.7727272727272727, total=   0.0s\n",
      "[CV] C=1.0, gamma=3, kernel=rbf ......................................\n",
      "[CV] ............ C=1.0, gamma=3, kernel=rbf, score=0.8, total=   0.0s\n",
      "[CV] C=1.0, gamma=3, kernel=linear ...................................\n",
      "[CV]  C=1.0, gamma=3, kernel=linear, score=0.7727272727272727, total=   0.0s\n",
      "[CV] C=1.0, gamma=3, kernel=linear ...................................\n",
      "[CV]  C=1.0, gamma=3, kernel=linear, score=0.7727272727272727, total=   0.0s\n",
      "[CV] C=1.0, gamma=3, kernel=linear ...................................\n",
      "[CV] ......... C=1.0, gamma=3, kernel=linear, score=0.9, total=   0.0s\n",
      "[CV] C=1.0, gamma=2, kernel=rbf ......................................\n",
      "[CV]  C=1.0, gamma=2, kernel=rbf, score=0.7727272727272727, total=   0.0s\n",
      "[CV] C=1.0, gamma=2, kernel=rbf ......................................\n",
      "[CV]  C=1.0, gamma=2, kernel=rbf, score=0.7727272727272727, total=   0.0s\n",
      "[CV] C=1.0, gamma=2, kernel=rbf ......................................\n"
     ]
    },
    {
     "name": "stdout",
     "output_type": "stream",
     "text": [
      "[CV] ............ C=1.0, gamma=2, kernel=rbf, score=0.8, total=   0.0s\n",
      "[CV] C=1.0, gamma=2, kernel=linear ...................................\n",
      "[CV]  C=1.0, gamma=2, kernel=linear, score=0.7727272727272727, total=   0.0s\n",
      "[CV] C=1.0, gamma=2, kernel=linear ...................................\n",
      "[CV]  C=1.0, gamma=2, kernel=linear, score=0.7727272727272727, total=   0.0s\n",
      "[CV] C=1.0, gamma=2, kernel=linear ...................................\n",
      "[CV] ......... C=1.0, gamma=2, kernel=linear, score=0.9, total=   0.0s\n",
      "[CV] C=1.0, gamma=1, kernel=rbf ......................................\n",
      "[CV]  C=1.0, gamma=1, kernel=rbf, score=0.7727272727272727, total=   0.0s\n",
      "[CV] C=1.0, gamma=1, kernel=rbf ......................................\n",
      "[CV]  C=1.0, gamma=1, kernel=rbf, score=0.7727272727272727, total=   0.0s\n",
      "[CV] C=1.0, gamma=1, kernel=rbf ......................................\n",
      "[CV] ............ C=1.0, gamma=1, kernel=rbf, score=0.8, total=   0.0s\n",
      "[CV] C=1.0, gamma=1, kernel=linear ...................................\n",
      "[CV]  C=1.0, gamma=1, kernel=linear, score=0.7727272727272727, total=   0.0s\n",
      "[CV] C=1.0, gamma=1, kernel=linear ...................................\n",
      "[CV]  C=1.0, gamma=1, kernel=linear, score=0.7727272727272727, total=   0.0s\n",
      "[CV] C=1.0, gamma=1, kernel=linear ...................................\n",
      "[CV] ......... C=1.0, gamma=1, kernel=linear, score=0.9, total=   0.0s\n",
      "[CV] C=2.0, gamma=5, kernel=rbf ......................................\n",
      "[CV]  C=2.0, gamma=5, kernel=rbf, score=0.7727272727272727, total=   0.0s\n",
      "[CV] C=2.0, gamma=5, kernel=rbf ......................................\n",
      "[CV]  C=2.0, gamma=5, kernel=rbf, score=0.7727272727272727, total=   0.0s\n",
      "[CV] C=2.0, gamma=5, kernel=rbf ......................................\n",
      "[CV] ............ C=2.0, gamma=5, kernel=rbf, score=0.8, total=   0.0s\n",
      "[CV] C=2.0, gamma=5, kernel=linear ...................................\n",
      "[CV]  C=2.0, gamma=5, kernel=linear, score=0.7727272727272727, total=   0.0s\n",
      "[CV] C=2.0, gamma=5, kernel=linear ...................................\n",
      "[CV]  C=2.0, gamma=5, kernel=linear, score=0.7727272727272727, total=   0.0s\n",
      "[CV] C=2.0, gamma=5, kernel=linear ...................................\n",
      "[CV] ......... C=2.0, gamma=5, kernel=linear, score=0.9, total=   0.0s\n",
      "[CV] C=2.0, gamma=4, kernel=rbf ......................................\n",
      "[CV]  C=2.0, gamma=4, kernel=rbf, score=0.7727272727272727, total=   0.0s\n",
      "[CV] C=2.0, gamma=4, kernel=rbf ......................................\n",
      "[CV]  C=2.0, gamma=4, kernel=rbf, score=0.7727272727272727, total=   0.0s\n",
      "[CV] C=2.0, gamma=4, kernel=rbf ......................................\n",
      "[CV] ............ C=2.0, gamma=4, kernel=rbf, score=0.8, total=   0.0s\n",
      "[CV] C=2.0, gamma=4, kernel=linear ...................................\n",
      "[CV]  C=2.0, gamma=4, kernel=linear, score=0.7727272727272727, total=   0.0s\n",
      "[CV] C=2.0, gamma=4, kernel=linear ...................................\n",
      "[CV]  C=2.0, gamma=4, kernel=linear, score=0.7727272727272727, total=   0.0s\n",
      "[CV] C=2.0, gamma=4, kernel=linear ...................................\n",
      "[CV] ......... C=2.0, gamma=4, kernel=linear, score=0.9, total=   0.0s\n",
      "[CV] C=2.0, gamma=3, kernel=rbf ......................................\n",
      "[CV]  C=2.0, gamma=3, kernel=rbf, score=0.7727272727272727, total=   0.0s\n",
      "[CV] C=2.0, gamma=3, kernel=rbf ......................................\n",
      "[CV]  C=2.0, gamma=3, kernel=rbf, score=0.7727272727272727, total=   0.0s\n",
      "[CV] C=2.0, gamma=3, kernel=rbf ......................................\n",
      "[CV] ............ C=2.0, gamma=3, kernel=rbf, score=0.8, total=   0.0s\n",
      "[CV] C=2.0, gamma=3, kernel=linear ...................................\n",
      "[CV]  C=2.0, gamma=3, kernel=linear, score=0.7727272727272727, total=   0.0s\n",
      "[CV] C=2.0, gamma=3, kernel=linear ...................................\n",
      "[CV]  C=2.0, gamma=3, kernel=linear, score=0.7727272727272727, total=   0.0s\n",
      "[CV] C=2.0, gamma=3, kernel=linear ...................................\n",
      "[CV] ......... C=2.0, gamma=3, kernel=linear, score=0.9, total=   0.0s\n",
      "[CV] C=2.0, gamma=2, kernel=rbf ......................................\n",
      "[CV]  C=2.0, gamma=2, kernel=rbf, score=0.7727272727272727, total=   0.0s\n",
      "[CV] C=2.0, gamma=2, kernel=rbf ......................................\n",
      "[CV]  C=2.0, gamma=2, kernel=rbf, score=0.7727272727272727, total=   0.0s\n",
      "[CV] C=2.0, gamma=2, kernel=rbf ......................................\n",
      "[CV] ............ C=2.0, gamma=2, kernel=rbf, score=0.8, total=   0.0s\n",
      "[CV] C=2.0, gamma=2, kernel=linear ...................................\n",
      "[CV]  C=2.0, gamma=2, kernel=linear, score=0.7727272727272727, total=   0.0s\n",
      "[CV] C=2.0, gamma=2, kernel=linear ...................................\n",
      "[CV]  C=2.0, gamma=2, kernel=linear, score=0.7727272727272727, total=   0.0s\n",
      "[CV] C=2.0, gamma=2, kernel=linear ...................................\n",
      "[CV] ......... C=2.0, gamma=2, kernel=linear, score=0.9, total=   0.0s\n",
      "[CV] C=2.0, gamma=1, kernel=rbf ......................................\n",
      "[CV]  C=2.0, gamma=1, kernel=rbf, score=0.7727272727272727, total=   0.0s\n",
      "[CV] C=2.0, gamma=1, kernel=rbf ......................................\n",
      "[CV]  C=2.0, gamma=1, kernel=rbf, score=0.7727272727272727, total=   0.0s\n",
      "[CV] C=2.0, gamma=1, kernel=rbf ......................................\n",
      "[CV] ............ C=2.0, gamma=1, kernel=rbf, score=0.8, total=   0.0s\n",
      "[CV] C=2.0, gamma=1, kernel=linear ...................................\n",
      "[CV]  C=2.0, gamma=1, kernel=linear, score=0.7727272727272727, total=   0.0s\n",
      "[CV] C=2.0, gamma=1, kernel=linear ...................................\n",
      "[CV]  C=2.0, gamma=1, kernel=linear, score=0.7727272727272727, total=   0.0s\n",
      "[CV] C=2.0, gamma=1, kernel=linear ...................................\n",
      "[CV] ......... C=2.0, gamma=1, kernel=linear, score=0.9, total=   0.0s\n",
      "[CV] C=3.0, gamma=5, kernel=rbf ......................................\n",
      "[CV]  C=3.0, gamma=5, kernel=rbf, score=0.7727272727272727, total=   0.0s\n",
      "[CV] C=3.0, gamma=5, kernel=rbf ......................................\n",
      "[CV]  C=3.0, gamma=5, kernel=rbf, score=0.7727272727272727, total=   0.0s\n",
      "[CV] C=3.0, gamma=5, kernel=rbf ......................................\n",
      "[CV] ............ C=3.0, gamma=5, kernel=rbf, score=0.8, total=   0.0s\n",
      "[CV] C=3.0, gamma=5, kernel=linear ...................................\n",
      "[CV]  C=3.0, gamma=5, kernel=linear, score=0.7727272727272727, total=   0.0s\n",
      "[CV] C=3.0, gamma=5, kernel=linear ...................................\n",
      "[CV]  C=3.0, gamma=5, kernel=linear, score=0.7727272727272727, total=   0.0s\n",
      "[CV] C=3.0, gamma=5, kernel=linear ...................................\n",
      "[CV] ......... C=3.0, gamma=5, kernel=linear, score=0.9, total=   0.0s\n",
      "[CV] C=3.0, gamma=4, kernel=rbf ......................................\n",
      "[CV]  C=3.0, gamma=4, kernel=rbf, score=0.7727272727272727, total=   0.0s\n",
      "[CV] C=3.0, gamma=4, kernel=rbf ......................................\n",
      "[CV]  C=3.0, gamma=4, kernel=rbf, score=0.7727272727272727, total=   0.0s\n",
      "[CV] C=3.0, gamma=4, kernel=rbf ......................................\n",
      "[CV] ............ C=3.0, gamma=4, kernel=rbf, score=0.8, total=   0.0s\n",
      "[CV] C=3.0, gamma=4, kernel=linear ...................................\n",
      "[CV]  C=3.0, gamma=4, kernel=linear, score=0.7727272727272727, total=   0.0s\n",
      "[CV] C=3.0, gamma=4, kernel=linear ...................................\n",
      "[CV]  C=3.0, gamma=4, kernel=linear, score=0.7727272727272727, total=   0.0s\n",
      "[CV] C=3.0, gamma=4, kernel=linear ...................................\n",
      "[CV] ......... C=3.0, gamma=4, kernel=linear, score=0.9, total=   0.0s\n",
      "[CV] C=3.0, gamma=3, kernel=rbf ......................................\n",
      "[CV]  C=3.0, gamma=3, kernel=rbf, score=0.7727272727272727, total=   0.0s\n",
      "[CV] C=3.0, gamma=3, kernel=rbf ......................................\n",
      "[CV]  C=3.0, gamma=3, kernel=rbf, score=0.7727272727272727, total=   0.0s\n",
      "[CV] C=3.0, gamma=3, kernel=rbf ......................................\n",
      "[CV] ............ C=3.0, gamma=3, kernel=rbf, score=0.8, total=   0.0s\n",
      "[CV] C=3.0, gamma=3, kernel=linear ...................................\n",
      "[CV]  C=3.0, gamma=3, kernel=linear, score=0.7727272727272727, total=   0.0s\n",
      "[CV] C=3.0, gamma=3, kernel=linear ...................................\n",
      "[CV]  C=3.0, gamma=3, kernel=linear, score=0.7727272727272727, total=   0.0s\n",
      "[CV] C=3.0, gamma=3, kernel=linear ...................................\n"
     ]
    },
    {
     "name": "stdout",
     "output_type": "stream",
     "text": [
      "[CV] ......... C=3.0, gamma=3, kernel=linear, score=0.9, total=   0.0s\n",
      "[CV] C=3.0, gamma=2, kernel=rbf ......................................\n",
      "[CV]  C=3.0, gamma=2, kernel=rbf, score=0.7727272727272727, total=   0.0s\n",
      "[CV] C=3.0, gamma=2, kernel=rbf ......................................\n",
      "[CV]  C=3.0, gamma=2, kernel=rbf, score=0.7727272727272727, total=   0.0s\n",
      "[CV] C=3.0, gamma=2, kernel=rbf ......................................\n",
      "[CV] ............ C=3.0, gamma=2, kernel=rbf, score=0.8, total=   0.0s\n",
      "[CV] C=3.0, gamma=2, kernel=linear ...................................\n",
      "[CV]  C=3.0, gamma=2, kernel=linear, score=0.7727272727272727, total=   0.0s\n",
      "[CV] C=3.0, gamma=2, kernel=linear ...................................\n",
      "[CV]  C=3.0, gamma=2, kernel=linear, score=0.7727272727272727, total=   0.0s\n",
      "[CV] C=3.0, gamma=2, kernel=linear ...................................\n",
      "[CV] ......... C=3.0, gamma=2, kernel=linear, score=0.9, total=   0.0s\n",
      "[CV] C=3.0, gamma=1, kernel=rbf ......................................\n",
      "[CV]  C=3.0, gamma=1, kernel=rbf, score=0.7727272727272727, total=   0.0s\n",
      "[CV] C=3.0, gamma=1, kernel=rbf ......................................\n",
      "[CV]  C=3.0, gamma=1, kernel=rbf, score=0.7727272727272727, total=   0.0s\n",
      "[CV] C=3.0, gamma=1, kernel=rbf ......................................\n",
      "[CV] ............ C=3.0, gamma=1, kernel=rbf, score=0.8, total=   0.0s\n",
      "[CV] C=3.0, gamma=1, kernel=linear ...................................\n",
      "[CV]  C=3.0, gamma=1, kernel=linear, score=0.7727272727272727, total=   0.0s\n",
      "[CV] C=3.0, gamma=1, kernel=linear ...................................\n",
      "[CV]  C=3.0, gamma=1, kernel=linear, score=0.7727272727272727, total=   0.0s\n",
      "[CV] C=3.0, gamma=1, kernel=linear ...................................\n",
      "[CV] ......... C=3.0, gamma=1, kernel=linear, score=0.9, total=   0.0s\n"
     ]
    },
    {
     "name": "stderr",
     "output_type": "stream",
     "text": [
      "[Parallel(n_jobs=1)]: Done 150 out of 150 | elapsed:    1.2s finished\n"
     ]
    },
    {
     "data": {
      "text/plain": [
       "GridSearchCV(cv=None, error_score='raise',\n",
       "       estimator=SVC(C=1.0, cache_size=200, class_weight=None, coef0=0.0,\n",
       "  decision_function_shape='ovr', degree=3, gamma='auto', kernel='rbf',\n",
       "  max_iter=-1, probability=False, random_state=None, shrinking=True,\n",
       "  tol=0.001, verbose=False),\n",
       "       fit_params=None, iid=True, n_jobs=1,\n",
       "       param_grid={'C': [0.01, 0.001, 1.0, 2.0, 3.0], 'kernel': ['rbf', 'linear'], 'gamma': [5, 4, 3, 2, 1]},\n",
       "       pre_dispatch='2*n_jobs', refit=True, return_train_score='warn',\n",
       "       scoring=None, verbose=3)"
      ]
     },
     "execution_count": 147,
     "metadata": {},
     "output_type": "execute_result"
    }
   ],
   "source": [
    "grid.fit(x_train,y_train)"
   ]
  },
  {
   "cell_type": "code",
   "execution_count": 148,
   "metadata": {},
   "outputs": [
    {
     "data": {
      "text/plain": [
       "{'C': 1.0, 'gamma': 5, 'kernel': 'linear'}"
      ]
     },
     "execution_count": 148,
     "metadata": {},
     "output_type": "execute_result"
    }
   ],
   "source": [
    "grid.best_params_"
   ]
  },
  {
   "cell_type": "code",
   "execution_count": 149,
   "metadata": {},
   "outputs": [
    {
     "data": {
      "text/plain": [
       "SVC(C=1.0, cache_size=200, class_weight=None, coef0=0.0,\n",
       "  decision_function_shape='ovr', degree=3, gamma=5, kernel='linear',\n",
       "  max_iter=-1, probability=False, random_state=None, shrinking=True,\n",
       "  tol=0.001, verbose=False)"
      ]
     },
     "execution_count": 149,
     "metadata": {},
     "output_type": "execute_result"
    }
   ],
   "source": [
    "grid.best_estimator_"
   ]
  },
  {
   "cell_type": "code",
   "execution_count": 150,
   "metadata": {},
   "outputs": [],
   "source": [
    "pred1=grid.predict(x_test)"
   ]
  },
  {
   "cell_type": "code",
   "execution_count": 151,
   "metadata": {},
   "outputs": [],
   "source": [
    "from sklearn.metrics import confusion_matrix,classification_report"
   ]
  },
  {
   "cell_type": "code",
   "execution_count": 155,
   "metadata": {},
   "outputs": [
    {
     "name": "stdout",
     "output_type": "stream",
     "text": [
      "[[13  1]\n",
      " [ 3  0]]\n"
     ]
    }
   ],
   "source": [
    "print(confusion_matrix(y_test,pred1))"
   ]
  },
  {
   "cell_type": "code",
   "execution_count": 156,
   "metadata": {},
   "outputs": [
    {
     "name": "stdout",
     "output_type": "stream",
     "text": [
      "             precision    recall  f1-score   support\n",
      "\n",
      "          0       0.81      0.93      0.87        14\n",
      "          1       0.00      0.00      0.00         3\n",
      "\n",
      "avg / total       0.67      0.76      0.71        17\n",
      "\n"
     ]
    }
   ],
   "source": [
    "print(classification_report(y_test,pred1))"
   ]
  },
  {
   "cell_type": "code",
   "execution_count": 157,
   "metadata": {},
   "outputs": [],
   "source": [
    "from sklearn.model_selection import train_test_split"
   ]
  },
  {
   "cell_type": "code",
   "execution_count": 158,
   "metadata": {},
   "outputs": [],
   "source": [
    "x_train,x_test,y_train,y_test=train_test_split(x,y,test_size=0.2,random_state=42)"
   ]
  },
  {
   "cell_type": "code",
   "execution_count": 159,
   "metadata": {},
   "outputs": [],
   "source": [
    "from sklearn.ensemble import RandomForestClassifier"
   ]
  },
  {
   "cell_type": "code",
   "execution_count": 160,
   "metadata": {},
   "outputs": [],
   "source": [
    "model=RandomForestClassifier().fit(x_train,y_train)"
   ]
  },
  {
   "cell_type": "code",
   "execution_count": 161,
   "metadata": {},
   "outputs": [],
   "source": [
    "pred=model.predict(x_test)"
   ]
  },
  {
   "cell_type": "code",
   "execution_count": 162,
   "metadata": {},
   "outputs": [],
   "source": [
    "from sklearn.metrics import confusion_matrix,classification_report"
   ]
  },
  {
   "cell_type": "code",
   "execution_count": 163,
   "metadata": {},
   "outputs": [
    {
     "name": "stdout",
     "output_type": "stream",
     "text": [
      "[[14  0]\n",
      " [ 3  0]]\n"
     ]
    }
   ],
   "source": [
    "print(confusion_matrix(y_test,pred))"
   ]
  },
  {
   "cell_type": "code",
   "execution_count": 164,
   "metadata": {},
   "outputs": [
    {
     "name": "stdout",
     "output_type": "stream",
     "text": [
      "             precision    recall  f1-score   support\n",
      "\n",
      "          0       0.82      1.00      0.90        14\n",
      "          1       0.00      0.00      0.00         3\n",
      "\n",
      "avg / total       0.68      0.82      0.74        17\n",
      "\n"
     ]
    },
    {
     "name": "stderr",
     "output_type": "stream",
     "text": [
      "C:\\Users\\dell\\Anaconda3\\lib\\site-packages\\sklearn\\metrics\\classification.py:1135: UndefinedMetricWarning: Precision and F-score are ill-defined and being set to 0.0 in labels with no predicted samples.\n",
      "  'precision', 'predicted', average, warn_for)\n"
     ]
    }
   ],
   "source": [
    "print(classification_report(y_test,pred))"
   ]
  },
  {
   "cell_type": "code",
   "execution_count": null,
   "metadata": {},
   "outputs": [],
   "source": []
  }
 ],
 "metadata": {
  "kernelspec": {
   "display_name": "Python 3",
   "language": "python",
   "name": "python3"
  },
  "language_info": {
   "codemirror_mode": {
    "name": "ipython",
    "version": 3
   },
   "file_extension": ".py",
   "mimetype": "text/x-python",
   "name": "python",
   "nbconvert_exporter": "python",
   "pygments_lexer": "ipython3",
   "version": "3.6.5"
  }
 },
 "nbformat": 4,
 "nbformat_minor": 2
}
