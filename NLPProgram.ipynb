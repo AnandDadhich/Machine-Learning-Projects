{
 "cells": [
  {
   "cell_type": "code",
   "execution_count": 1,
   "metadata": {},
   "outputs": [],
   "source": [
    "import pandas as pd\n",
    "import matplotlib.pyplot as plt\n",
    "%matplotlib inline\n",
    "import seaborn as sns"
   ]
  },
  {
   "cell_type": "code",
   "execution_count": 54,
   "metadata": {},
   "outputs": [],
   "source": [
    "df=pd.read_csv('u.csv',sep=\"\\t\",names=['uid','mid','rating','ts'])"
   ]
  },
  {
   "cell_type": "code",
   "execution_count": 55,
   "metadata": {},
   "outputs": [
    {
     "data": {
      "text/html": [
       "<div>\n",
       "<style scoped>\n",
       "    .dataframe tbody tr th:only-of-type {\n",
       "        vertical-align: middle;\n",
       "    }\n",
       "\n",
       "    .dataframe tbody tr th {\n",
       "        vertical-align: top;\n",
       "    }\n",
       "\n",
       "    .dataframe thead th {\n",
       "        text-align: right;\n",
       "    }\n",
       "</style>\n",
       "<table border=\"1\" class=\"dataframe\">\n",
       "  <thead>\n",
       "    <tr style=\"text-align: right;\">\n",
       "      <th></th>\n",
       "      <th>uid</th>\n",
       "      <th>mid</th>\n",
       "      <th>rating</th>\n",
       "      <th>ts</th>\n",
       "    </tr>\n",
       "  </thead>\n",
       "  <tbody>\n",
       "    <tr>\n",
       "      <th>0</th>\n",
       "      <td>0</td>\n",
       "      <td>50</td>\n",
       "      <td>5</td>\n",
       "      <td>881250949</td>\n",
       "    </tr>\n",
       "    <tr>\n",
       "      <th>1</th>\n",
       "      <td>0</td>\n",
       "      <td>172</td>\n",
       "      <td>5</td>\n",
       "      <td>881250949</td>\n",
       "    </tr>\n",
       "    <tr>\n",
       "      <th>2</th>\n",
       "      <td>0</td>\n",
       "      <td>133</td>\n",
       "      <td>1</td>\n",
       "      <td>881250949</td>\n",
       "    </tr>\n",
       "    <tr>\n",
       "      <th>3</th>\n",
       "      <td>196</td>\n",
       "      <td>242</td>\n",
       "      <td>3</td>\n",
       "      <td>881250949</td>\n",
       "    </tr>\n",
       "    <tr>\n",
       "      <th>4</th>\n",
       "      <td>186</td>\n",
       "      <td>302</td>\n",
       "      <td>3</td>\n",
       "      <td>891717742</td>\n",
       "    </tr>\n",
       "  </tbody>\n",
       "</table>\n",
       "</div>"
      ],
      "text/plain": [
       "   uid  mid  rating         ts\n",
       "0    0   50       5  881250949\n",
       "1    0  172       5  881250949\n",
       "2    0  133       1  881250949\n",
       "3  196  242       3  881250949\n",
       "4  186  302       3  891717742"
      ]
     },
     "execution_count": 55,
     "metadata": {},
     "output_type": "execute_result"
    }
   ],
   "source": [
    "df.head()"
   ]
  },
  {
   "cell_type": "code",
   "execution_count": 56,
   "metadata": {},
   "outputs": [
    {
     "data": {
      "text/plain": [
       "Index(['uid', 'mid', 'rating', 'ts'], dtype='object')"
      ]
     },
     "execution_count": 56,
     "metadata": {},
     "output_type": "execute_result"
    }
   ],
   "source": [
    "df.columns"
   ]
  },
  {
   "cell_type": "code",
   "execution_count": 2,
   "metadata": {},
   "outputs": [],
   "source": [
    "df1=pd.read_csv(\"C:\\\\Users\\\\dell\\\\Desktop\\\\Machine Learning\\\\NLP\\\\smsspamcollection\\\\SMSSpamCollection\",sep='\\t',names=['type','text'])"
   ]
  },
  {
   "cell_type": "code",
   "execution_count": 3,
   "metadata": {},
   "outputs": [
    {
     "data": {
      "text/html": [
       "<div>\n",
       "<style scoped>\n",
       "    .dataframe tbody tr th:only-of-type {\n",
       "        vertical-align: middle;\n",
       "    }\n",
       "\n",
       "    .dataframe tbody tr th {\n",
       "        vertical-align: top;\n",
       "    }\n",
       "\n",
       "    .dataframe thead th {\n",
       "        text-align: right;\n",
       "    }\n",
       "</style>\n",
       "<table border=\"1\" class=\"dataframe\">\n",
       "  <thead>\n",
       "    <tr style=\"text-align: right;\">\n",
       "      <th></th>\n",
       "      <th>type</th>\n",
       "      <th>text</th>\n",
       "    </tr>\n",
       "  </thead>\n",
       "  <tbody>\n",
       "    <tr>\n",
       "      <th>0</th>\n",
       "      <td>ham</td>\n",
       "      <td>Go until jurong point, crazy.. Available only ...</td>\n",
       "    </tr>\n",
       "    <tr>\n",
       "      <th>1</th>\n",
       "      <td>ham</td>\n",
       "      <td>Ok lar... Joking wif u oni...</td>\n",
       "    </tr>\n",
       "    <tr>\n",
       "      <th>2</th>\n",
       "      <td>spam</td>\n",
       "      <td>Free entry in 2 a wkly comp to win FA Cup fina...</td>\n",
       "    </tr>\n",
       "    <tr>\n",
       "      <th>3</th>\n",
       "      <td>ham</td>\n",
       "      <td>U dun say so early hor... U c already then say...</td>\n",
       "    </tr>\n",
       "    <tr>\n",
       "      <th>4</th>\n",
       "      <td>ham</td>\n",
       "      <td>Nah I don't think he goes to usf, he lives aro...</td>\n",
       "    </tr>\n",
       "  </tbody>\n",
       "</table>\n",
       "</div>"
      ],
      "text/plain": [
       "   type                                               text\n",
       "0   ham  Go until jurong point, crazy.. Available only ...\n",
       "1   ham                      Ok lar... Joking wif u oni...\n",
       "2  spam  Free entry in 2 a wkly comp to win FA Cup fina...\n",
       "3   ham  U dun say so early hor... U c already then say...\n",
       "4   ham  Nah I don't think he goes to usf, he lives aro..."
      ]
     },
     "execution_count": 3,
     "metadata": {},
     "output_type": "execute_result"
    }
   ],
   "source": [
    "df1.head()"
   ]
  },
  {
   "cell_type": "code",
   "execution_count": 4,
   "metadata": {},
   "outputs": [
    {
     "data": {
      "text/plain": [
       "0       111\n",
       "1        29\n",
       "2       155\n",
       "3        49\n",
       "4        61\n",
       "5       147\n",
       "6        77\n",
       "7       160\n",
       "8       157\n",
       "9       154\n",
       "10      109\n",
       "11      136\n",
       "12      155\n",
       "13      196\n",
       "14       35\n",
       "15      149\n",
       "16       26\n",
       "17       81\n",
       "18       56\n",
       "19      155\n",
       "20       41\n",
       "21       47\n",
       "22       52\n",
       "23       88\n",
       "24       57\n",
       "25      144\n",
       "26       30\n",
       "27      134\n",
       "28       75\n",
       "29       64\n",
       "       ... \n",
       "5542     40\n",
       "5543     38\n",
       "5544    154\n",
       "5545     45\n",
       "5546     42\n",
       "5547    160\n",
       "5548     34\n",
       "5549     87\n",
       "5550     43\n",
       "5551     51\n",
       "5552     91\n",
       "5553     27\n",
       "5554     98\n",
       "5555    153\n",
       "5556     63\n",
       "5557    273\n",
       "5558     22\n",
       "5559     66\n",
       "5560     33\n",
       "5561     70\n",
       "5562     96\n",
       "5563     19\n",
       "5564     67\n",
       "5565     12\n",
       "5566    147\n",
       "5567    160\n",
       "5568     36\n",
       "5569     57\n",
       "5570    125\n",
       "5571     26\n",
       "Name: text, Length: 5572, dtype: int64"
      ]
     },
     "execution_count": 4,
     "metadata": {},
     "output_type": "execute_result"
    }
   ],
   "source": [
    "df1['text'].apply(lambda x:len(x))"
   ]
  },
  {
   "cell_type": "code",
   "execution_count": 5,
   "metadata": {},
   "outputs": [],
   "source": [
    "df1['Length']=df1['text'].apply(lambda x:len(x))"
   ]
  },
  {
   "cell_type": "code",
   "execution_count": 6,
   "metadata": {},
   "outputs": [
    {
     "data": {
      "text/html": [
       "<div>\n",
       "<style scoped>\n",
       "    .dataframe tbody tr th:only-of-type {\n",
       "        vertical-align: middle;\n",
       "    }\n",
       "\n",
       "    .dataframe tbody tr th {\n",
       "        vertical-align: top;\n",
       "    }\n",
       "\n",
       "    .dataframe thead th {\n",
       "        text-align: right;\n",
       "    }\n",
       "</style>\n",
       "<table border=\"1\" class=\"dataframe\">\n",
       "  <thead>\n",
       "    <tr style=\"text-align: right;\">\n",
       "      <th></th>\n",
       "      <th>type</th>\n",
       "      <th>text</th>\n",
       "      <th>Length</th>\n",
       "    </tr>\n",
       "  </thead>\n",
       "  <tbody>\n",
       "    <tr>\n",
       "      <th>0</th>\n",
       "      <td>ham</td>\n",
       "      <td>Go until jurong point, crazy.. Available only ...</td>\n",
       "      <td>111</td>\n",
       "    </tr>\n",
       "    <tr>\n",
       "      <th>1</th>\n",
       "      <td>ham</td>\n",
       "      <td>Ok lar... Joking wif u oni...</td>\n",
       "      <td>29</td>\n",
       "    </tr>\n",
       "    <tr>\n",
       "      <th>2</th>\n",
       "      <td>spam</td>\n",
       "      <td>Free entry in 2 a wkly comp to win FA Cup fina...</td>\n",
       "      <td>155</td>\n",
       "    </tr>\n",
       "    <tr>\n",
       "      <th>3</th>\n",
       "      <td>ham</td>\n",
       "      <td>U dun say so early hor... U c already then say...</td>\n",
       "      <td>49</td>\n",
       "    </tr>\n",
       "    <tr>\n",
       "      <th>4</th>\n",
       "      <td>ham</td>\n",
       "      <td>Nah I don't think he goes to usf, he lives aro...</td>\n",
       "      <td>61</td>\n",
       "    </tr>\n",
       "  </tbody>\n",
       "</table>\n",
       "</div>"
      ],
      "text/plain": [
       "   type                                               text  Length\n",
       "0   ham  Go until jurong point, crazy.. Available only ...     111\n",
       "1   ham                      Ok lar... Joking wif u oni...      29\n",
       "2  spam  Free entry in 2 a wkly comp to win FA Cup fina...     155\n",
       "3   ham  U dun say so early hor... U c already then say...      49\n",
       "4   ham  Nah I don't think he goes to usf, he lives aro...      61"
      ]
     },
     "execution_count": 6,
     "metadata": {},
     "output_type": "execute_result"
    }
   ],
   "source": [
    "df1.head()"
   ]
  },
  {
   "cell_type": "code",
   "execution_count": 7,
   "metadata": {},
   "outputs": [
    {
     "data": {
      "text/html": [
       "<div>\n",
       "<style scoped>\n",
       "    .dataframe tbody tr th:only-of-type {\n",
       "        vertical-align: middle;\n",
       "    }\n",
       "\n",
       "    .dataframe tbody tr th {\n",
       "        vertical-align: top;\n",
       "    }\n",
       "\n",
       "    .dataframe thead th {\n",
       "        text-align: right;\n",
       "    }\n",
       "</style>\n",
       "<table border=\"1\" class=\"dataframe\">\n",
       "  <thead>\n",
       "    <tr style=\"text-align: right;\">\n",
       "      <th></th>\n",
       "      <th>type</th>\n",
       "      <th>text</th>\n",
       "    </tr>\n",
       "  </thead>\n",
       "  <tbody>\n",
       "    <tr>\n",
       "      <th>count</th>\n",
       "      <td>5572</td>\n",
       "      <td>5572</td>\n",
       "    </tr>\n",
       "    <tr>\n",
       "      <th>unique</th>\n",
       "      <td>2</td>\n",
       "      <td>5169</td>\n",
       "    </tr>\n",
       "    <tr>\n",
       "      <th>top</th>\n",
       "      <td>ham</td>\n",
       "      <td>Sorry, I'll call later</td>\n",
       "    </tr>\n",
       "    <tr>\n",
       "      <th>freq</th>\n",
       "      <td>4825</td>\n",
       "      <td>30</td>\n",
       "    </tr>\n",
       "  </tbody>\n",
       "</table>\n",
       "</div>"
      ],
      "text/plain": [
       "        type                    text\n",
       "count   5572                    5572\n",
       "unique     2                    5169\n",
       "top      ham  Sorry, I'll call later\n",
       "freq    4825                      30"
      ]
     },
     "execution_count": 7,
     "metadata": {},
     "output_type": "execute_result"
    }
   ],
   "source": [
    "df1[['type','text']].describe()"
   ]
  },
  {
   "cell_type": "code",
   "execution_count": 8,
   "metadata": {},
   "outputs": [
    {
     "data": {
      "text/html": [
       "<div>\n",
       "<style scoped>\n",
       "    .dataframe tbody tr th:only-of-type {\n",
       "        vertical-align: middle;\n",
       "    }\n",
       "\n",
       "    .dataframe tbody tr th {\n",
       "        vertical-align: top;\n",
       "    }\n",
       "\n",
       "    .dataframe thead th {\n",
       "        text-align: right;\n",
       "    }\n",
       "</style>\n",
       "<table border=\"1\" class=\"dataframe\">\n",
       "  <thead>\n",
       "    <tr style=\"text-align: right;\">\n",
       "      <th></th>\n",
       "      <th>Length</th>\n",
       "    </tr>\n",
       "  </thead>\n",
       "  <tbody>\n",
       "    <tr>\n",
       "      <th>count</th>\n",
       "      <td>5572.000000</td>\n",
       "    </tr>\n",
       "    <tr>\n",
       "      <th>mean</th>\n",
       "      <td>80.489950</td>\n",
       "    </tr>\n",
       "    <tr>\n",
       "      <th>std</th>\n",
       "      <td>59.942907</td>\n",
       "    </tr>\n",
       "    <tr>\n",
       "      <th>min</th>\n",
       "      <td>2.000000</td>\n",
       "    </tr>\n",
       "    <tr>\n",
       "      <th>25%</th>\n",
       "      <td>36.000000</td>\n",
       "    </tr>\n",
       "    <tr>\n",
       "      <th>50%</th>\n",
       "      <td>62.000000</td>\n",
       "    </tr>\n",
       "    <tr>\n",
       "      <th>75%</th>\n",
       "      <td>122.000000</td>\n",
       "    </tr>\n",
       "    <tr>\n",
       "      <th>max</th>\n",
       "      <td>910.000000</td>\n",
       "    </tr>\n",
       "  </tbody>\n",
       "</table>\n",
       "</div>"
      ],
      "text/plain": [
       "            Length\n",
       "count  5572.000000\n",
       "mean     80.489950\n",
       "std      59.942907\n",
       "min       2.000000\n",
       "25%      36.000000\n",
       "50%      62.000000\n",
       "75%     122.000000\n",
       "max     910.000000"
      ]
     },
     "execution_count": 8,
     "metadata": {},
     "output_type": "execute_result"
    }
   ],
   "source": [
    "df1.describe()"
   ]
  },
  {
   "cell_type": "code",
   "execution_count": 64,
   "metadata": {},
   "outputs": [
    {
     "data": {
      "text/html": [
       "<div>\n",
       "<style scoped>\n",
       "    .dataframe tbody tr th:only-of-type {\n",
       "        vertical-align: middle;\n",
       "    }\n",
       "\n",
       "    .dataframe tbody tr th {\n",
       "        vertical-align: top;\n",
       "    }\n",
       "\n",
       "    .dataframe thead tr th {\n",
       "        text-align: left;\n",
       "    }\n",
       "\n",
       "    .dataframe thead tr:last-of-type th {\n",
       "        text-align: right;\n",
       "    }\n",
       "</style>\n",
       "<table border=\"1\" class=\"dataframe\">\n",
       "  <thead>\n",
       "    <tr>\n",
       "      <th></th>\n",
       "      <th colspan=\"8\" halign=\"left\">Length</th>\n",
       "    </tr>\n",
       "    <tr>\n",
       "      <th></th>\n",
       "      <th>count</th>\n",
       "      <th>mean</th>\n",
       "      <th>std</th>\n",
       "      <th>min</th>\n",
       "      <th>25%</th>\n",
       "      <th>50%</th>\n",
       "      <th>75%</th>\n",
       "      <th>max</th>\n",
       "    </tr>\n",
       "    <tr>\n",
       "      <th>type</th>\n",
       "      <th></th>\n",
       "      <th></th>\n",
       "      <th></th>\n",
       "      <th></th>\n",
       "      <th></th>\n",
       "      <th></th>\n",
       "      <th></th>\n",
       "      <th></th>\n",
       "    </tr>\n",
       "  </thead>\n",
       "  <tbody>\n",
       "    <tr>\n",
       "      <th>ham</th>\n",
       "      <td>4825.0</td>\n",
       "      <td>71.482487</td>\n",
       "      <td>58.440652</td>\n",
       "      <td>2.0</td>\n",
       "      <td>33.0</td>\n",
       "      <td>52.0</td>\n",
       "      <td>93.0</td>\n",
       "      <td>910.0</td>\n",
       "    </tr>\n",
       "    <tr>\n",
       "      <th>spam</th>\n",
       "      <td>747.0</td>\n",
       "      <td>138.670683</td>\n",
       "      <td>28.873603</td>\n",
       "      <td>13.0</td>\n",
       "      <td>133.0</td>\n",
       "      <td>149.0</td>\n",
       "      <td>157.0</td>\n",
       "      <td>223.0</td>\n",
       "    </tr>\n",
       "  </tbody>\n",
       "</table>\n",
       "</div>"
      ],
      "text/plain": [
       "      Length                                                         \n",
       "       count        mean        std   min    25%    50%    75%    max\n",
       "type                                                                 \n",
       "ham   4825.0   71.482487  58.440652   2.0   33.0   52.0   93.0  910.0\n",
       "spam   747.0  138.670683  28.873603  13.0  133.0  149.0  157.0  223.0"
      ]
     },
     "execution_count": 64,
     "metadata": {},
     "output_type": "execute_result"
    }
   ],
   "source": [
    "df1.groupby('type').describe()"
   ]
  },
  {
   "cell_type": "code",
   "execution_count": 65,
   "metadata": {},
   "outputs": [
    {
     "data": {
      "text/plain": [
       "ham     4825\n",
       "spam     747\n",
       "Name: type, dtype: int64"
      ]
     },
     "execution_count": 65,
     "metadata": {},
     "output_type": "execute_result"
    }
   ],
   "source": [
    "df1['type'].value_counts()"
   ]
  },
  {
   "cell_type": "code",
   "execution_count": 66,
   "metadata": {},
   "outputs": [
    {
     "data": {
      "text/html": [
       "<div>\n",
       "<style scoped>\n",
       "    .dataframe tbody tr th:only-of-type {\n",
       "        vertical-align: middle;\n",
       "    }\n",
       "\n",
       "    .dataframe tbody tr th {\n",
       "        vertical-align: top;\n",
       "    }\n",
       "\n",
       "    .dataframe thead tr th {\n",
       "        text-align: left;\n",
       "    }\n",
       "\n",
       "    .dataframe thead tr:last-of-type th {\n",
       "        text-align: right;\n",
       "    }\n",
       "</style>\n",
       "<table border=\"1\" class=\"dataframe\">\n",
       "  <thead>\n",
       "    <tr>\n",
       "      <th></th>\n",
       "      <th colspan=\"4\" halign=\"left\">text</th>\n",
       "    </tr>\n",
       "    <tr>\n",
       "      <th></th>\n",
       "      <th>count</th>\n",
       "      <th>unique</th>\n",
       "      <th>top</th>\n",
       "      <th>freq</th>\n",
       "    </tr>\n",
       "    <tr>\n",
       "      <th>type</th>\n",
       "      <th></th>\n",
       "      <th></th>\n",
       "      <th></th>\n",
       "      <th></th>\n",
       "    </tr>\n",
       "  </thead>\n",
       "  <tbody>\n",
       "    <tr>\n",
       "      <th>ham</th>\n",
       "      <td>4825</td>\n",
       "      <td>4516</td>\n",
       "      <td>Sorry, I'll call later</td>\n",
       "      <td>30</td>\n",
       "    </tr>\n",
       "    <tr>\n",
       "      <th>spam</th>\n",
       "      <td>747</td>\n",
       "      <td>653</td>\n",
       "      <td>Please call our customer service representativ...</td>\n",
       "      <td>4</td>\n",
       "    </tr>\n",
       "  </tbody>\n",
       "</table>\n",
       "</div>"
      ],
      "text/plain": [
       "      text                                                               \n",
       "     count unique                                                top freq\n",
       "type                                                                     \n",
       "ham   4825   4516                             Sorry, I'll call later   30\n",
       "spam   747    653  Please call our customer service representativ...    4"
      ]
     },
     "execution_count": 66,
     "metadata": {},
     "output_type": "execute_result"
    }
   ],
   "source": [
    "df1[['type','text']].groupby('type').describe()"
   ]
  },
  {
   "cell_type": "code",
   "execution_count": 67,
   "metadata": {},
   "outputs": [
    {
     "data": {
      "text/plain": [
       "'Go until jurong point, crazy.. Available only in bugis n great world la e buffet... Cine there got amore wat...'"
      ]
     },
     "execution_count": 67,
     "metadata": {},
     "output_type": "execute_result"
    }
   ],
   "source": [
    "df1['text'][0]"
   ]
  },
  {
   "cell_type": "code",
   "execution_count": 68,
   "metadata": {},
   "outputs": [
    {
     "data": {
      "text/plain": [
       "['Go',\n",
       " 'until',\n",
       " 'jurong',\n",
       " 'point,',\n",
       " 'crazy..',\n",
       " 'Available',\n",
       " 'only',\n",
       " 'in',\n",
       " 'bugis',\n",
       " 'n',\n",
       " 'great',\n",
       " 'world',\n",
       " 'la',\n",
       " 'e',\n",
       " 'buffet...',\n",
       " 'Cine',\n",
       " 'there',\n",
       " 'got',\n",
       " 'amore',\n",
       " 'wat...']"
      ]
     },
     "execution_count": 68,
     "metadata": {},
     "output_type": "execute_result"
    }
   ],
   "source": [
    "df1['text'][0].split()"
   ]
  },
  {
   "cell_type": "code",
   "execution_count": 69,
   "metadata": {},
   "outputs": [],
   "source": [
    "def textprocess(s):\n",
    "    df1['text']=s.str.lower(s)\n",
    "    "
   ]
  },
  {
   "cell_type": "code",
   "execution_count": 70,
   "metadata": {},
   "outputs": [
    {
     "ename": "AttributeError",
     "evalue": "'str' object has no attribute 'str'",
     "output_type": "error",
     "traceback": [
      "\u001b[1;31m---------------------------------------------------------------------------\u001b[0m",
      "\u001b[1;31mAttributeError\u001b[0m                            Traceback (most recent call last)",
      "\u001b[1;32m<ipython-input-70-7611325f75d6>\u001b[0m in \u001b[0;36m<module>\u001b[1;34m()\u001b[0m\n\u001b[1;32m----> 1\u001b[1;33m \u001b[0mdf1\u001b[0m\u001b[1;33m[\u001b[0m\u001b[1;34m'text'\u001b[0m\u001b[1;33m]\u001b[0m\u001b[1;33m=\u001b[0m\u001b[0mdf1\u001b[0m\u001b[1;33m[\u001b[0m\u001b[1;34m'text'\u001b[0m\u001b[1;33m]\u001b[0m\u001b[1;33m.\u001b[0m\u001b[0mapply\u001b[0m\u001b[1;33m(\u001b[0m\u001b[0mtextprocess\u001b[0m\u001b[1;33m)\u001b[0m\u001b[1;33m\u001b[0m\u001b[0m\n\u001b[0m",
      "\u001b[1;32m~\\Anaconda3\\lib\\site-packages\\pandas\\core\\series.py\u001b[0m in \u001b[0;36mapply\u001b[1;34m(self, func, convert_dtype, args, **kwds)\u001b[0m\n\u001b[0;32m   3190\u001b[0m             \u001b[1;32melse\u001b[0m\u001b[1;33m:\u001b[0m\u001b[1;33m\u001b[0m\u001b[0m\n\u001b[0;32m   3191\u001b[0m                 \u001b[0mvalues\u001b[0m \u001b[1;33m=\u001b[0m \u001b[0mself\u001b[0m\u001b[1;33m.\u001b[0m\u001b[0mastype\u001b[0m\u001b[1;33m(\u001b[0m\u001b[0mobject\u001b[0m\u001b[1;33m)\u001b[0m\u001b[1;33m.\u001b[0m\u001b[0mvalues\u001b[0m\u001b[1;33m\u001b[0m\u001b[0m\n\u001b[1;32m-> 3192\u001b[1;33m                 \u001b[0mmapped\u001b[0m \u001b[1;33m=\u001b[0m \u001b[0mlib\u001b[0m\u001b[1;33m.\u001b[0m\u001b[0mmap_infer\u001b[0m\u001b[1;33m(\u001b[0m\u001b[0mvalues\u001b[0m\u001b[1;33m,\u001b[0m \u001b[0mf\u001b[0m\u001b[1;33m,\u001b[0m \u001b[0mconvert\u001b[0m\u001b[1;33m=\u001b[0m\u001b[0mconvert_dtype\u001b[0m\u001b[1;33m)\u001b[0m\u001b[1;33m\u001b[0m\u001b[0m\n\u001b[0m\u001b[0;32m   3193\u001b[0m \u001b[1;33m\u001b[0m\u001b[0m\n\u001b[0;32m   3194\u001b[0m         \u001b[1;32mif\u001b[0m \u001b[0mlen\u001b[0m\u001b[1;33m(\u001b[0m\u001b[0mmapped\u001b[0m\u001b[1;33m)\u001b[0m \u001b[1;32mand\u001b[0m \u001b[0misinstance\u001b[0m\u001b[1;33m(\u001b[0m\u001b[0mmapped\u001b[0m\u001b[1;33m[\u001b[0m\u001b[1;36m0\u001b[0m\u001b[1;33m]\u001b[0m\u001b[1;33m,\u001b[0m \u001b[0mSeries\u001b[0m\u001b[1;33m)\u001b[0m\u001b[1;33m:\u001b[0m\u001b[1;33m\u001b[0m\u001b[0m\n",
      "\u001b[1;32mpandas/_libs/src\\inference.pyx\u001b[0m in \u001b[0;36mpandas._libs.lib.map_infer\u001b[1;34m()\u001b[0m\n",
      "\u001b[1;32m<ipython-input-69-148a7e70b183>\u001b[0m in \u001b[0;36mtextprocess\u001b[1;34m(s)\u001b[0m\n\u001b[0;32m      1\u001b[0m \u001b[1;32mdef\u001b[0m \u001b[0mtextprocess\u001b[0m\u001b[1;33m(\u001b[0m\u001b[0ms\u001b[0m\u001b[1;33m)\u001b[0m\u001b[1;33m:\u001b[0m\u001b[1;33m\u001b[0m\u001b[0m\n\u001b[1;32m----> 2\u001b[1;33m     \u001b[0mdf1\u001b[0m\u001b[1;33m[\u001b[0m\u001b[1;34m'text'\u001b[0m\u001b[1;33m]\u001b[0m\u001b[1;33m=\u001b[0m\u001b[0ms\u001b[0m\u001b[1;33m.\u001b[0m\u001b[0mstr\u001b[0m\u001b[1;33m.\u001b[0m\u001b[0mlower\u001b[0m\u001b[1;33m(\u001b[0m\u001b[0ms\u001b[0m\u001b[1;33m)\u001b[0m\u001b[1;33m\u001b[0m\u001b[0m\n\u001b[0m\u001b[0;32m      3\u001b[0m \u001b[1;33m\u001b[0m\u001b[0m\n",
      "\u001b[1;31mAttributeError\u001b[0m: 'str' object has no attribute 'str'"
     ]
    }
   ],
   "source": [
    "df1['text']=df1['text'].apply(textprocess)"
   ]
  },
  {
   "cell_type": "code",
   "execution_count": null,
   "metadata": {},
   "outputs": [],
   "source": [
    "df1['text']=df1['text'].str.lower()"
   ]
  },
  {
   "cell_type": "code",
   "execution_count": 71,
   "metadata": {},
   "outputs": [
    {
     "data": {
      "text/html": [
       "<div>\n",
       "<style scoped>\n",
       "    .dataframe tbody tr th:only-of-type {\n",
       "        vertical-align: middle;\n",
       "    }\n",
       "\n",
       "    .dataframe tbody tr th {\n",
       "        vertical-align: top;\n",
       "    }\n",
       "\n",
       "    .dataframe thead th {\n",
       "        text-align: right;\n",
       "    }\n",
       "</style>\n",
       "<table border=\"1\" class=\"dataframe\">\n",
       "  <thead>\n",
       "    <tr style=\"text-align: right;\">\n",
       "      <th></th>\n",
       "      <th>type</th>\n",
       "      <th>text</th>\n",
       "      <th>Length</th>\n",
       "    </tr>\n",
       "  </thead>\n",
       "  <tbody>\n",
       "    <tr>\n",
       "      <th>0</th>\n",
       "      <td>ham</td>\n",
       "      <td>Go until jurong point, crazy.. Available only ...</td>\n",
       "      <td>111</td>\n",
       "    </tr>\n",
       "    <tr>\n",
       "      <th>1</th>\n",
       "      <td>ham</td>\n",
       "      <td>Ok lar... Joking wif u oni...</td>\n",
       "      <td>29</td>\n",
       "    </tr>\n",
       "    <tr>\n",
       "      <th>2</th>\n",
       "      <td>spam</td>\n",
       "      <td>Free entry in 2 a wkly comp to win FA Cup fina...</td>\n",
       "      <td>155</td>\n",
       "    </tr>\n",
       "    <tr>\n",
       "      <th>3</th>\n",
       "      <td>ham</td>\n",
       "      <td>U dun say so early hor... U c already then say...</td>\n",
       "      <td>49</td>\n",
       "    </tr>\n",
       "    <tr>\n",
       "      <th>4</th>\n",
       "      <td>ham</td>\n",
       "      <td>Nah I don't think he goes to usf, he lives aro...</td>\n",
       "      <td>61</td>\n",
       "    </tr>\n",
       "    <tr>\n",
       "      <th>5</th>\n",
       "      <td>spam</td>\n",
       "      <td>FreeMsg Hey there darling it's been 3 week's n...</td>\n",
       "      <td>147</td>\n",
       "    </tr>\n",
       "    <tr>\n",
       "      <th>6</th>\n",
       "      <td>ham</td>\n",
       "      <td>Even my brother is not like to speak with me. ...</td>\n",
       "      <td>77</td>\n",
       "    </tr>\n",
       "    <tr>\n",
       "      <th>7</th>\n",
       "      <td>ham</td>\n",
       "      <td>As per your request 'Melle Melle (Oru Minnamin...</td>\n",
       "      <td>160</td>\n",
       "    </tr>\n",
       "    <tr>\n",
       "      <th>8</th>\n",
       "      <td>spam</td>\n",
       "      <td>WINNER!! As a valued network customer you have...</td>\n",
       "      <td>157</td>\n",
       "    </tr>\n",
       "    <tr>\n",
       "      <th>9</th>\n",
       "      <td>spam</td>\n",
       "      <td>Had your mobile 11 months or more? U R entitle...</td>\n",
       "      <td>154</td>\n",
       "    </tr>\n",
       "    <tr>\n",
       "      <th>10</th>\n",
       "      <td>ham</td>\n",
       "      <td>I'm gonna be home soon and i don't want to tal...</td>\n",
       "      <td>109</td>\n",
       "    </tr>\n",
       "    <tr>\n",
       "      <th>11</th>\n",
       "      <td>spam</td>\n",
       "      <td>SIX chances to win CASH! From 100 to 20,000 po...</td>\n",
       "      <td>136</td>\n",
       "    </tr>\n",
       "    <tr>\n",
       "      <th>12</th>\n",
       "      <td>spam</td>\n",
       "      <td>URGENT! You have won a 1 week FREE membership ...</td>\n",
       "      <td>155</td>\n",
       "    </tr>\n",
       "    <tr>\n",
       "      <th>13</th>\n",
       "      <td>ham</td>\n",
       "      <td>I've been searching for the right words to tha...</td>\n",
       "      <td>196</td>\n",
       "    </tr>\n",
       "    <tr>\n",
       "      <th>14</th>\n",
       "      <td>ham</td>\n",
       "      <td>I HAVE A DATE ON SUNDAY WITH WILL!!</td>\n",
       "      <td>35</td>\n",
       "    </tr>\n",
       "    <tr>\n",
       "      <th>15</th>\n",
       "      <td>spam</td>\n",
       "      <td>XXXMobileMovieClub: To use your credit, click ...</td>\n",
       "      <td>149</td>\n",
       "    </tr>\n",
       "    <tr>\n",
       "      <th>16</th>\n",
       "      <td>ham</td>\n",
       "      <td>Oh k...i'm watching here:)</td>\n",
       "      <td>26</td>\n",
       "    </tr>\n",
       "    <tr>\n",
       "      <th>17</th>\n",
       "      <td>ham</td>\n",
       "      <td>Eh u remember how 2 spell his name... Yes i di...</td>\n",
       "      <td>81</td>\n",
       "    </tr>\n",
       "    <tr>\n",
       "      <th>18</th>\n",
       "      <td>ham</td>\n",
       "      <td>Fine if thats the way u feel. Thats the way ...</td>\n",
       "      <td>56</td>\n",
       "    </tr>\n",
       "    <tr>\n",
       "      <th>19</th>\n",
       "      <td>spam</td>\n",
       "      <td>England v Macedonia - dont miss the goals/team...</td>\n",
       "      <td>155</td>\n",
       "    </tr>\n",
       "    <tr>\n",
       "      <th>20</th>\n",
       "      <td>ham</td>\n",
       "      <td>Is that seriously how you spell his name?</td>\n",
       "      <td>41</td>\n",
       "    </tr>\n",
       "    <tr>\n",
       "      <th>21</th>\n",
       "      <td>ham</td>\n",
       "      <td>I‘m going to try for 2 months ha ha only joking</td>\n",
       "      <td>47</td>\n",
       "    </tr>\n",
       "    <tr>\n",
       "      <th>22</th>\n",
       "      <td>ham</td>\n",
       "      <td>So ü pay first lar... Then when is da stock co...</td>\n",
       "      <td>52</td>\n",
       "    </tr>\n",
       "    <tr>\n",
       "      <th>23</th>\n",
       "      <td>ham</td>\n",
       "      <td>Aft i finish my lunch then i go str down lor. ...</td>\n",
       "      <td>88</td>\n",
       "    </tr>\n",
       "    <tr>\n",
       "      <th>24</th>\n",
       "      <td>ham</td>\n",
       "      <td>Ffffffffff. Alright no way I can meet up with ...</td>\n",
       "      <td>57</td>\n",
       "    </tr>\n",
       "    <tr>\n",
       "      <th>25</th>\n",
       "      <td>ham</td>\n",
       "      <td>Just forced myself to eat a slice. I'm really ...</td>\n",
       "      <td>144</td>\n",
       "    </tr>\n",
       "    <tr>\n",
       "      <th>26</th>\n",
       "      <td>ham</td>\n",
       "      <td>Lol your always so convincing.</td>\n",
       "      <td>30</td>\n",
       "    </tr>\n",
       "    <tr>\n",
       "      <th>27</th>\n",
       "      <td>ham</td>\n",
       "      <td>Did you catch the bus ? Are you frying an egg ...</td>\n",
       "      <td>134</td>\n",
       "    </tr>\n",
       "    <tr>\n",
       "      <th>28</th>\n",
       "      <td>ham</td>\n",
       "      <td>I'm back &amp;amp; we're packing the car now, I'll...</td>\n",
       "      <td>75</td>\n",
       "    </tr>\n",
       "    <tr>\n",
       "      <th>29</th>\n",
       "      <td>ham</td>\n",
       "      <td>Ahhh. Work. I vaguely remember that! What does...</td>\n",
       "      <td>64</td>\n",
       "    </tr>\n",
       "    <tr>\n",
       "      <th>...</th>\n",
       "      <td>...</td>\n",
       "      <td>...</td>\n",
       "      <td>...</td>\n",
       "    </tr>\n",
       "    <tr>\n",
       "      <th>5542</th>\n",
       "      <td>ham</td>\n",
       "      <td>Armand says get your ass over to epsilon</td>\n",
       "      <td>40</td>\n",
       "    </tr>\n",
       "    <tr>\n",
       "      <th>5543</th>\n",
       "      <td>ham</td>\n",
       "      <td>U still havent got urself a jacket ah?</td>\n",
       "      <td>38</td>\n",
       "    </tr>\n",
       "    <tr>\n",
       "      <th>5544</th>\n",
       "      <td>ham</td>\n",
       "      <td>I'm taking derek &amp;amp; taylor to walmart, if I...</td>\n",
       "      <td>154</td>\n",
       "    </tr>\n",
       "    <tr>\n",
       "      <th>5545</th>\n",
       "      <td>ham</td>\n",
       "      <td>Hi its in durban are you still on this number</td>\n",
       "      <td>45</td>\n",
       "    </tr>\n",
       "    <tr>\n",
       "      <th>5546</th>\n",
       "      <td>ham</td>\n",
       "      <td>Ic. There are a lotta childporn cars then.</td>\n",
       "      <td>42</td>\n",
       "    </tr>\n",
       "    <tr>\n",
       "      <th>5547</th>\n",
       "      <td>spam</td>\n",
       "      <td>Had your contract mobile 11 Mnths? Latest Moto...</td>\n",
       "      <td>160</td>\n",
       "    </tr>\n",
       "    <tr>\n",
       "      <th>5548</th>\n",
       "      <td>ham</td>\n",
       "      <td>No, I was trying it all weekend ;V</td>\n",
       "      <td>34</td>\n",
       "    </tr>\n",
       "    <tr>\n",
       "      <th>5549</th>\n",
       "      <td>ham</td>\n",
       "      <td>You know, wot people wear. T shirts, jumpers, ...</td>\n",
       "      <td>87</td>\n",
       "    </tr>\n",
       "    <tr>\n",
       "      <th>5550</th>\n",
       "      <td>ham</td>\n",
       "      <td>Cool, what time you think you can get here?</td>\n",
       "      <td>43</td>\n",
       "    </tr>\n",
       "    <tr>\n",
       "      <th>5551</th>\n",
       "      <td>ham</td>\n",
       "      <td>Wen did you get so spiritual and deep. That's ...</td>\n",
       "      <td>51</td>\n",
       "    </tr>\n",
       "    <tr>\n",
       "      <th>5552</th>\n",
       "      <td>ham</td>\n",
       "      <td>Have a safe trip to Nigeria. Wish you happines...</td>\n",
       "      <td>91</td>\n",
       "    </tr>\n",
       "    <tr>\n",
       "      <th>5553</th>\n",
       "      <td>ham</td>\n",
       "      <td>Hahaha..use your brain dear</td>\n",
       "      <td>27</td>\n",
       "    </tr>\n",
       "    <tr>\n",
       "      <th>5554</th>\n",
       "      <td>ham</td>\n",
       "      <td>Well keep in mind I've only got enough gas for...</td>\n",
       "      <td>98</td>\n",
       "    </tr>\n",
       "    <tr>\n",
       "      <th>5555</th>\n",
       "      <td>ham</td>\n",
       "      <td>Yeh. Indians was nice. Tho it did kane me off ...</td>\n",
       "      <td>153</td>\n",
       "    </tr>\n",
       "    <tr>\n",
       "      <th>5556</th>\n",
       "      <td>ham</td>\n",
       "      <td>Yes i have. So that's why u texted. Pshew...mi...</td>\n",
       "      <td>63</td>\n",
       "    </tr>\n",
       "    <tr>\n",
       "      <th>5557</th>\n",
       "      <td>ham</td>\n",
       "      <td>No. I meant the calculation is the same. That ...</td>\n",
       "      <td>273</td>\n",
       "    </tr>\n",
       "    <tr>\n",
       "      <th>5558</th>\n",
       "      <td>ham</td>\n",
       "      <td>Sorry, I'll call later</td>\n",
       "      <td>22</td>\n",
       "    </tr>\n",
       "    <tr>\n",
       "      <th>5559</th>\n",
       "      <td>ham</td>\n",
       "      <td>if you aren't here in the next  &amp;lt;#&amp;gt;  hou...</td>\n",
       "      <td>66</td>\n",
       "    </tr>\n",
       "    <tr>\n",
       "      <th>5560</th>\n",
       "      <td>ham</td>\n",
       "      <td>Anything lor. Juz both of us lor.</td>\n",
       "      <td>33</td>\n",
       "    </tr>\n",
       "    <tr>\n",
       "      <th>5561</th>\n",
       "      <td>ham</td>\n",
       "      <td>Get me out of this dump heap. My mom decided t...</td>\n",
       "      <td>70</td>\n",
       "    </tr>\n",
       "    <tr>\n",
       "      <th>5562</th>\n",
       "      <td>ham</td>\n",
       "      <td>Ok lor... Sony ericsson salesman... I ask shuh...</td>\n",
       "      <td>96</td>\n",
       "    </tr>\n",
       "    <tr>\n",
       "      <th>5563</th>\n",
       "      <td>ham</td>\n",
       "      <td>Ard 6 like dat lor.</td>\n",
       "      <td>19</td>\n",
       "    </tr>\n",
       "    <tr>\n",
       "      <th>5564</th>\n",
       "      <td>ham</td>\n",
       "      <td>Why don't you wait 'til at least wednesday to ...</td>\n",
       "      <td>67</td>\n",
       "    </tr>\n",
       "    <tr>\n",
       "      <th>5565</th>\n",
       "      <td>ham</td>\n",
       "      <td>Huh y lei...</td>\n",
       "      <td>12</td>\n",
       "    </tr>\n",
       "    <tr>\n",
       "      <th>5566</th>\n",
       "      <td>spam</td>\n",
       "      <td>REMINDER FROM O2: To get 2.50 pounds free call...</td>\n",
       "      <td>147</td>\n",
       "    </tr>\n",
       "    <tr>\n",
       "      <th>5567</th>\n",
       "      <td>spam</td>\n",
       "      <td>This is the 2nd time we have tried 2 contact u...</td>\n",
       "      <td>160</td>\n",
       "    </tr>\n",
       "    <tr>\n",
       "      <th>5568</th>\n",
       "      <td>ham</td>\n",
       "      <td>Will ü b going to esplanade fr home?</td>\n",
       "      <td>36</td>\n",
       "    </tr>\n",
       "    <tr>\n",
       "      <th>5569</th>\n",
       "      <td>ham</td>\n",
       "      <td>Pity, * was in mood for that. So...any other s...</td>\n",
       "      <td>57</td>\n",
       "    </tr>\n",
       "    <tr>\n",
       "      <th>5570</th>\n",
       "      <td>ham</td>\n",
       "      <td>The guy did some bitching but I acted like i'd...</td>\n",
       "      <td>125</td>\n",
       "    </tr>\n",
       "    <tr>\n",
       "      <th>5571</th>\n",
       "      <td>ham</td>\n",
       "      <td>Rofl. Its true to its name</td>\n",
       "      <td>26</td>\n",
       "    </tr>\n",
       "  </tbody>\n",
       "</table>\n",
       "<p>5572 rows × 3 columns</p>\n",
       "</div>"
      ],
      "text/plain": [
       "      type                                               text  Length\n",
       "0      ham  Go until jurong point, crazy.. Available only ...     111\n",
       "1      ham                      Ok lar... Joking wif u oni...      29\n",
       "2     spam  Free entry in 2 a wkly comp to win FA Cup fina...     155\n",
       "3      ham  U dun say so early hor... U c already then say...      49\n",
       "4      ham  Nah I don't think he goes to usf, he lives aro...      61\n",
       "5     spam  FreeMsg Hey there darling it's been 3 week's n...     147\n",
       "6      ham  Even my brother is not like to speak with me. ...      77\n",
       "7      ham  As per your request 'Melle Melle (Oru Minnamin...     160\n",
       "8     spam  WINNER!! As a valued network customer you have...     157\n",
       "9     spam  Had your mobile 11 months or more? U R entitle...     154\n",
       "10     ham  I'm gonna be home soon and i don't want to tal...     109\n",
       "11    spam  SIX chances to win CASH! From 100 to 20,000 po...     136\n",
       "12    spam  URGENT! You have won a 1 week FREE membership ...     155\n",
       "13     ham  I've been searching for the right words to tha...     196\n",
       "14     ham                I HAVE A DATE ON SUNDAY WITH WILL!!      35\n",
       "15    spam  XXXMobileMovieClub: To use your credit, click ...     149\n",
       "16     ham                         Oh k...i'm watching here:)      26\n",
       "17     ham  Eh u remember how 2 spell his name... Yes i di...      81\n",
       "18     ham  Fine if thats the way u feel. Thats the way ...      56\n",
       "19    spam  England v Macedonia - dont miss the goals/team...     155\n",
       "20     ham          Is that seriously how you spell his name?      41\n",
       "21     ham    I‘m going to try for 2 months ha ha only joking      47\n",
       "22     ham  So ü pay first lar... Then when is da stock co...      52\n",
       "23     ham  Aft i finish my lunch then i go str down lor. ...      88\n",
       "24     ham  Ffffffffff. Alright no way I can meet up with ...      57\n",
       "25     ham  Just forced myself to eat a slice. I'm really ...     144\n",
       "26     ham                     Lol your always so convincing.      30\n",
       "27     ham  Did you catch the bus ? Are you frying an egg ...     134\n",
       "28     ham  I'm back &amp; we're packing the car now, I'll...      75\n",
       "29     ham  Ahhh. Work. I vaguely remember that! What does...      64\n",
       "...    ...                                                ...     ...\n",
       "5542   ham           Armand says get your ass over to epsilon      40\n",
       "5543   ham             U still havent got urself a jacket ah?      38\n",
       "5544   ham  I'm taking derek &amp; taylor to walmart, if I...     154\n",
       "5545   ham      Hi its in durban are you still on this number      45\n",
       "5546   ham         Ic. There are a lotta childporn cars then.      42\n",
       "5547  spam  Had your contract mobile 11 Mnths? Latest Moto...     160\n",
       "5548   ham                 No, I was trying it all weekend ;V      34\n",
       "5549   ham  You know, wot people wear. T shirts, jumpers, ...      87\n",
       "5550   ham        Cool, what time you think you can get here?      43\n",
       "5551   ham  Wen did you get so spiritual and deep. That's ...      51\n",
       "5552   ham  Have a safe trip to Nigeria. Wish you happines...      91\n",
       "5553   ham                        Hahaha..use your brain dear      27\n",
       "5554   ham  Well keep in mind I've only got enough gas for...      98\n",
       "5555   ham  Yeh. Indians was nice. Tho it did kane me off ...     153\n",
       "5556   ham  Yes i have. So that's why u texted. Pshew...mi...      63\n",
       "5557   ham  No. I meant the calculation is the same. That ...     273\n",
       "5558   ham                             Sorry, I'll call later      22\n",
       "5559   ham  if you aren't here in the next  &lt;#&gt;  hou...      66\n",
       "5560   ham                  Anything lor. Juz both of us lor.      33\n",
       "5561   ham  Get me out of this dump heap. My mom decided t...      70\n",
       "5562   ham  Ok lor... Sony ericsson salesman... I ask shuh...      96\n",
       "5563   ham                                Ard 6 like dat lor.      19\n",
       "5564   ham  Why don't you wait 'til at least wednesday to ...      67\n",
       "5565   ham                                       Huh y lei...      12\n",
       "5566  spam  REMINDER FROM O2: To get 2.50 pounds free call...     147\n",
       "5567  spam  This is the 2nd time we have tried 2 contact u...     160\n",
       "5568   ham               Will ü b going to esplanade fr home?      36\n",
       "5569   ham  Pity, * was in mood for that. So...any other s...      57\n",
       "5570   ham  The guy did some bitching but I acted like i'd...     125\n",
       "5571   ham                         Rofl. Its true to its name      26\n",
       "\n",
       "[5572 rows x 3 columns]"
      ]
     },
     "execution_count": 71,
     "metadata": {},
     "output_type": "execute_result"
    }
   ],
   "source": [
    "df1"
   ]
  },
  {
   "cell_type": "code",
   "execution_count": 72,
   "metadata": {},
   "outputs": [],
   "source": [
    "from string import punctuation"
   ]
  },
  {
   "cell_type": "code",
   "execution_count": 73,
   "metadata": {},
   "outputs": [
    {
     "data": {
      "text/plain": [
       "'!\"#$%&\\'()*+,-./:;<=>?@[\\\\]^_`{|}~'"
      ]
     },
     "execution_count": 73,
     "metadata": {},
     "output_type": "execute_result"
    }
   ],
   "source": [
    "punctuation"
   ]
  },
  {
   "cell_type": "code",
   "execution_count": 74,
   "metadata": {},
   "outputs": [],
   "source": [
    "s=df1['text'][101]"
   ]
  },
  {
   "cell_type": "code",
   "execution_count": 75,
   "metadata": {},
   "outputs": [
    {
     "data": {
      "text/plain": [
       "'Okay name ur price as long as its legal! Wen can I pick them up? Y u ave x ams xx'"
      ]
     },
     "execution_count": 75,
     "metadata": {},
     "output_type": "execute_result"
    }
   ],
   "source": [
    "s"
   ]
  },
  {
   "cell_type": "code",
   "execution_count": 76,
   "metadata": {},
   "outputs": [
    {
     "name": "stdout",
     "output_type": "stream",
     "text": [
      "81\n"
     ]
    }
   ],
   "source": [
    "print(len(s))"
   ]
  },
  {
   "cell_type": "code",
   "execution_count": 77,
   "metadata": {},
   "outputs": [],
   "source": [
    "a=punctuation"
   ]
  },
  {
   "cell_type": "code",
   "execution_count": 78,
   "metadata": {},
   "outputs": [],
   "source": [
    "l=''.join([i for i in s if i not in a])"
   ]
  },
  {
   "cell_type": "code",
   "execution_count": 79,
   "metadata": {
    "scrolled": true
   },
   "outputs": [
    {
     "data": {
      "text/plain": [
       "'Okay name ur price as long as its legal Wen can I pick them up Y u ave x ams xx'"
      ]
     },
     "execution_count": 79,
     "metadata": {},
     "output_type": "execute_result"
    }
   ],
   "source": [
    "l"
   ]
  },
  {
   "cell_type": "code",
   "execution_count": 80,
   "metadata": {},
   "outputs": [],
   "source": [
    "b=df1['text']"
   ]
  },
  {
   "cell_type": "code",
   "execution_count": 81,
   "metadata": {},
   "outputs": [
    {
     "data": {
      "text/plain": [
       "0       Go until jurong point, crazy.. Available only ...\n",
       "1                           Ok lar... Joking wif u oni...\n",
       "2       Free entry in 2 a wkly comp to win FA Cup fina...\n",
       "3       U dun say so early hor... U c already then say...\n",
       "4       Nah I don't think he goes to usf, he lives aro...\n",
       "5       FreeMsg Hey there darling it's been 3 week's n...\n",
       "6       Even my brother is not like to speak with me. ...\n",
       "7       As per your request 'Melle Melle (Oru Minnamin...\n",
       "8       WINNER!! As a valued network customer you have...\n",
       "9       Had your mobile 11 months or more? U R entitle...\n",
       "10      I'm gonna be home soon and i don't want to tal...\n",
       "11      SIX chances to win CASH! From 100 to 20,000 po...\n",
       "12      URGENT! You have won a 1 week FREE membership ...\n",
       "13      I've been searching for the right words to tha...\n",
       "14                    I HAVE A DATE ON SUNDAY WITH WILL!!\n",
       "15      XXXMobileMovieClub: To use your credit, click ...\n",
       "16                             Oh k...i'm watching here:)\n",
       "17      Eh u remember how 2 spell his name... Yes i di...\n",
       "18      Fine if thats the way u feel. Thats the way ...\n",
       "19      England v Macedonia - dont miss the goals/team...\n",
       "20              Is that seriously how you spell his name?\n",
       "21        I‘m going to try for 2 months ha ha only joking\n",
       "22      So ü pay first lar... Then when is da stock co...\n",
       "23      Aft i finish my lunch then i go str down lor. ...\n",
       "24      Ffffffffff. Alright no way I can meet up with ...\n",
       "25      Just forced myself to eat a slice. I'm really ...\n",
       "26                         Lol your always so convincing.\n",
       "27      Did you catch the bus ? Are you frying an egg ...\n",
       "28      I'm back &amp; we're packing the car now, I'll...\n",
       "29      Ahhh. Work. I vaguely remember that! What does...\n",
       "                              ...                        \n",
       "5542             Armand says get your ass over to epsilon\n",
       "5543               U still havent got urself a jacket ah?\n",
       "5544    I'm taking derek &amp; taylor to walmart, if I...\n",
       "5545        Hi its in durban are you still on this number\n",
       "5546           Ic. There are a lotta childporn cars then.\n",
       "5547    Had your contract mobile 11 Mnths? Latest Moto...\n",
       "5548                   No, I was trying it all weekend ;V\n",
       "5549    You know, wot people wear. T shirts, jumpers, ...\n",
       "5550          Cool, what time you think you can get here?\n",
       "5551    Wen did you get so spiritual and deep. That's ...\n",
       "5552    Have a safe trip to Nigeria. Wish you happines...\n",
       "5553                          Hahaha..use your brain dear\n",
       "5554    Well keep in mind I've only got enough gas for...\n",
       "5555    Yeh. Indians was nice. Tho it did kane me off ...\n",
       "5556    Yes i have. So that's why u texted. Pshew...mi...\n",
       "5557    No. I meant the calculation is the same. That ...\n",
       "5558                               Sorry, I'll call later\n",
       "5559    if you aren't here in the next  &lt;#&gt;  hou...\n",
       "5560                    Anything lor. Juz both of us lor.\n",
       "5561    Get me out of this dump heap. My mom decided t...\n",
       "5562    Ok lor... Sony ericsson salesman... I ask shuh...\n",
       "5563                                  Ard 6 like dat lor.\n",
       "5564    Why don't you wait 'til at least wednesday to ...\n",
       "5565                                         Huh y lei...\n",
       "5566    REMINDER FROM O2: To get 2.50 pounds free call...\n",
       "5567    This is the 2nd time we have tried 2 contact u...\n",
       "5568                 Will ü b going to esplanade fr home?\n",
       "5569    Pity, * was in mood for that. So...any other s...\n",
       "5570    The guy did some bitching but I acted like i'd...\n",
       "5571                           Rofl. Its true to its name\n",
       "Name: text, Length: 5572, dtype: object"
      ]
     },
     "execution_count": 81,
     "metadata": {},
     "output_type": "execute_result"
    }
   ],
   "source": [
    "b"
   ]
  },
  {
   "cell_type": "code",
   "execution_count": 82,
   "metadata": {},
   "outputs": [],
   "source": [
    "b1=\"\""
   ]
  },
  {
   "cell_type": "code",
   "execution_count": 83,
   "metadata": {},
   "outputs": [],
   "source": [
    "for i in b:\n",
    "    for j in i:\n",
    "        if j not in a:\n",
    "            b1=b1+j"
   ]
  },
  {
   "cell_type": "code",
   "execution_count": 84,
   "metadata": {},
   "outputs": [
    {
     "data": {
      "text/plain": [
       "'Go until jurong point crazy Available only in bugis n great world la e buffet Cine there got amore watOk lar Joking wif u oniFree entry in 2 a wkly comp to win FA Cup final tkts 21st May 2005 Text FA to 87121 to receive entry questionstd txt rateTCs apply 08452810075over18sU dun say so early hor U c already then sayNah I dont think he goes to usf he lives around here thoughFreeMsg Hey there darling its been 3 weeks now and no word back Id like some fun you up for it still Tb ok XxX std chgs to send £150 to rcvEven my brother is not like to speak with me They treat me like aids patentAs per your request Melle Melle Oru Minnaminunginte Nurungu Vettam has been set as your callertune for all Callers Press 9 to copy your friends CallertuneWINNER As a valued network customer you have been selected to receivea £900 prize reward To claim call 09061701461 Claim code KL341 Valid 12 hours onlyHad your mobile 11 months or more U R entitled to Update to the latest colour mobiles with camera for Free Call The Mobile Update Co FREE on 08002986030Im gonna be home soon and i dont want to talk about this stuff anymore tonight k Ive cried enough todaySIX chances to win CASH From 100 to 20000 pounds txt CSH11 and send to 87575 Cost 150pday 6days 16 TsandCs apply Reply HL 4 infoURGENT You have won a 1 week FREE membership in our £100000 Prize Jackpot Txt the word CLAIM to No 81010 TC wwwdbuknet LCCLTD POBOX 4403LDNW1A7RW18Ive been searching for the right words to thank you for this breather I promise i wont take your help for granted and will fulfil my promise You have been wonderful and a blessing at all timesI HAVE A DATE ON SUNDAY WITH WILLXXXMobileMovieClub To use your credit click the WAP link in the next txt message or click here httpwap xxxmobilemovieclubcomnQJKGIGHJJGCBLOh kim watching hereEh u remember how 2 spell his name Yes i did He v naughty make until i v wetFine if that\\x92s the way u feel That\\x92s the way its gota bEngland v Macedonia  dont miss the goalsteam news Txt ur national team to 87077 eg ENGLAND to 87077 TryWALES SCOTLAND 4txtú120 POBOXox36504W45WQ 16Is that seriously how you spell his nameI‘m going to try for 2 months ha ha only jokingSo ü pay first lar Then when is da stock cominAft i finish my lunch then i go str down lor Ard 3 smth lor U finish ur lunch alreadyFfffffffff Alright no way I can meet up with you soonerJust forced myself to eat a slice Im really not hungry tho This sucks Mark is getting worried He knows Im sick when I turn down pizza LolLol your always so convincingDid you catch the bus  Are you frying an egg  Did you make a tea Are you eating your moms left over dinner  Do you feel my Love Im back amp were packing the car now Ill let you know if theres roomAhhh Work I vaguely remember that What does it feel like LolWait thats still not all that clear were you not sure about me being sarcastic or that thats why x doesnt want to live with usYeah he got in at 2 and was v apologetic n had fallen out and she was actin like spoilt child and he got caught up in that Till 2 But we wont go there Not doing too badly cheers You K tell me anything about youFor fear of fainting with the of all that housework you just did Quick have a cuppaThanks for your subscription to Ringtone UK your mobile will be charged £5month Please confirm by replying YES or NO If you reply NO you will not be chargedYup Ok i go home look at the timings then i msg ü again Xuhui going to learn on 2nd may too but her lesson is at 8amOops Ill let you know when my roommates doneI see the letter B on my carAnything lor U decideHello Hows you and how did saturday go I was just texting to see if youd decided to do anything tomo Not that im trying to invite myself or anythingPls go ahead with watts I just wanted to be sure Do have a great weekend AbiolaDid I forget to tell you  I want you  I need you I crave you  But most of all  I love you my sweet Arabian steed  Mmmmmm  Yummy07732584351  Rodger Burns  MSG  We tried to call you re your reply to our sms for a free nokia mobile  free camcorder Please call now 08000930705 for delivery tomorrowWHO ARE YOU SEEINGGreat I hope you like your man well endowed I am  ltgt  inchesNo callsmessagesmissed callsDidnt you get hep b immunisation in nigeriaFair enough anything going onYeah hopefully if tyler cant do it I could maybe ask around a bitU dont know how stubborn I am I didnt even want to go to the hospital I kept telling Mark Im not a weak sucker Hospitals are for weak suckersWhat you thinked about me First time you saw me in classA gram usually runs like  ltgt  a half eighth is smarter though and gets you almost a whole second gram for  ltgtK fyi x has a ride early tomorrow morning but hes crashing at our place tonightWow I never realized that you were so embarassed by your accomodations I thought you liked it since i was doing the best i could and you always seemed so happy about the cave Im sorry I didnt and dont have more to give Im sorry i offered Im sorry your room was so embarassingSMS ac Sptv The New Jersey Devils and the Detroit Red Wings play Ice Hockey Correct or Incorrect End Reply END SPTVDo you know what Mallika Sherawat did yesterday Find out now   ltURLgtCongrats 1 year special cinema pass for 2 is yours call 09061209465 now C Suprman V Matrix3 StarWars3 etc all 4 FREE bx420ip45we 150pm Dont miss out Sorry Ill call later in meetingTell where you reachedYesgauti and sehwag out of odi seriesYour gonna have to pick up a 1 burger for yourself on your way home I cant even move Pain is killing meHa ha ha good joke Girls are situation seekersIts a part of checking IQSorry my roommates took forever it ok if I come by nowOk lar i double check wif da hair dresser already he said wun cut v short He said will cut until i look niceAs a valued customer I am pleased to advise you that following recent review of your Mob No you are awarded with a £1500 Bonus Prize call 09066364589Today is song dedicated day Which song will u dedicate for me Send this to all ur valuable frnds but first rply meUrgent UR awarded a complimentary trip to EuroDisinc Trav AcoEntry41 Or £1000 To claim txt DIS to 87121 186£150moreFrmMob ShrAcomOrSglSuplt10 LS1 3AJDid you hear about the new Divorce Barbie It comes with all of Kens stuffI plane to give on this month endWah lucky man Then can save money HeeFinished class where are youHI BABE IM AT HOME NOW WANNA DO SOMETHING XXKkwhere are youhow did you performedU can call me nowI am waiting machan Call me once you freeThats cool i am a gentleman and will treat you with dignity and respectI like you peoples very much but am very shy paDoes not operate after  ltgt  or whatIts not the same here Still looking for a job How much do Tas earn thereSorry Ill call laterK Did you call me just now ah Ok i am on the way to home hi hiYou will be in the place of that manYup next stopI call you later dont have network If urgnt sms meFor real when u getting on yo I only need 2 more tickets and one more jacket and Im done I already used all my multisYes I started to send requests to make it but pain came back so Im back in bed Double coins at the factory too I gotta cash in all my nitrosIm really not up to it still tonight babeEla kanoil download come wen ur freeYeah do Don‘t stand to close tho you‘ll catch somethingSorry to be a pain Is it ok if we meet another night I spent late afternoon in casualty and that means i havent done any of y stuff42moro and that includes all my time sheets and that Sorry Smile in Pleasure Smile in Pain Smile when trouble pours like Rain Smile when sum1 Hurts U Smile becoz SOMEONE still Loves to see u SmilingPlease call our customer service representative on 0800 169 6031 between 10am9pm as you have WON a guaranteed £1000 cash or £5000 prizeHavent planning to buy later I check already lido only got 530 show in e afternoon U finish work alreadyYour free ringtone is waiting to be collected Simply text the password MIX to 85069 to verify Get Usher and Britney FML PO Box 5249 MK17 92H 450Ppw 16Watching telugu moviewat abt ui see When we finish we have loads of loans to payHi Wk been ok  on hols now Yes on for a bit of a run Forgot that i have hairdressers appointment at four so need to get home n shower beforehand Does that cause prob for uI see a cup of coffee animationPlease dont text me anymore I have nothing else to sayOkay name ur price as long as its legal Wen can I pick them up Y u ave x ams xxIm still looking for a car to buy And have not gone 4the driving test yetAs per your request Melle Melle Oru Minnaminunginte Nurungu Vettam has been set as your callertune for all Callers Press 9 to copy your friends Callertunewow Youre right I didnt mean to do that I guess once i gave up on boston men and changed my search location to nyc something changed Cuz on my signin page it still says bostonUmma my life and vava umma love you lot dearThanks a lot for your wishes on my birthday Thanks you for making my birthday truly memorableAight Ill hit you up when I get some cashHow would my ip address test that considering my computer isnt a minecraft serverI know Grumpy old people My mom was like you better not be lying Then again I am always the one to play jokesDont worry I guess hes busyWhat is the plural of the noun researchGoing for dinnermsg you afterIm ok wif it cos i like 2 try new things But i scared u dun like mah Cos u said not too loudGENT We are trying to contact you Last weekends draw shows that you won a £1000 prize GUARANTEED Call 09064012160 Claim Code K52 Valid 12hrs only 150ppmWa ur openin sentence very formal Anyway im fine too juz tt im eatin too much n puttin on weightHaha So anythin special happenedAs I entered my cabin my PA said  Happy Bday Boss  I felt special She askd me 4 lunch After lunch she invited me to her apartment We went thereYou are a winner U have been specially selected 2 receive £1000 or a 4 holiday flights inc speak to a live operator 2 claim 0871277810910pmin 18 Goodo Yes we must speak friday  eggpotato ratio for tortilla needed Hmmmy uncle just informed me that hes paying the school directly So pls buy foodPRIVATE Your 2004 Account Statement for 07742676969 shows 786 unredeemed Bonus Points To claim call 08719180248 Identifier Code 45239 ExpiresURGENT Your Mobile No was awarded £2000 Bonus Caller Prize on 5903 This is our final try to contact U Call from Landline 09064019788 BOX42WR29C 150PPMhere is my new address applespairsall that malarkyTodays Voda numbers ending 7548 are selected to receive a 350 award If you have a match please call 08712300220 quoting claim code 4041 standard rates appI am going to sao mu today Will be done only at 12 Ü predict wat time üll finish buyingGood stuff will doJust so that you knowyetunde hasnt sent money yet I just sent her a text not to bother sending So its over you dont have to involve yourself in anything I shouldnt have imposed anything on you in the first place so for that i apologiseAre you there in roomHEY GIRL HOW R U HOPE U R WELL ME AN DEL R BAK AGAIN LONG TIME NO C GIVE ME A CALL SUM TIME FROM LUCYxxKkhow much does it costIm homeDear will call Tmorrowpls accomodateFirst answer my questionSunshine Quiz Wkly Q Win a top Sony DVD player if u know which country the Algarve is in Txt ansr to 82277 £150 SPTyroneWant 2 get laid tonight Want real Dogging locations sent direct 2 ur mob Join the UKs largest Dogging Network bt Txting GRAVEL to 69888 Nt ec2a 31pmsg150pI only haf msn Its yijuehotmailcomHe is there You call and meet himNo no I will check all rooms befor activitiesYoull not rcv any more msgs from the chat svc For FREE Hardcore services text GO to 69988 If u get nothing u must Age Verify with yr network  try againGot c I lazy to type I forgot ü in lect I saw a pouch but like not v niceK text me when youre on the waySir Waiting for your mailA swt thought Nver get tired of doing little things 4 lovable persons Cozsomtimes those little things occupy d biggest part in their Hearts Gud ni8I know you are Can you pls open the backYes see ya not on the dotWhats the staff name who is taking class for usFreeMsg Why havent you replied to my text Im Randy sexy female and live local Luv to hear from u Netcollex Ltd 08700621170150p per msg reply Stop to endUmmmawill call after check inour life will begin from qatar so pls pray very hardKi deleted my contact that whySindu got job in birla soft The wine is flowing and im i have neveringYup i thk cine is better cos no need 2 go down 2 plaza mahOk Ur typical replyAs per your request Melle Melle Oru Minnaminunginte Nurungu Vettam has been set as your callertune for all Callers Press 9 to copy your friends CallertuneYou are everywhere dirt on the floor the windows even on my shirt And sometimes when i open my mouth you are all that comes flowing out I dream of my world without you then half my chores are out too A time of joy for me lots of tv shows ill see But i guess like all things you just must exist like rain hail and mist and when my time here is done you and i become oneAaooooright are you at workIm leaving my house nowHello my love What are you doing Did you get to that interview today Are you you happy Are you being a good boy Do you think of meAre you missing me Customer service annoncement You have a New Years delivery waiting for you Please call 07046744435 now to arrange deliveryYou are a winner U have been specially selected 2 receive £1000 cash or a 4 holiday flights inc speak to a live operator 2 claim 0871277810810Keep yourself safe for me because I need you and I miss you already and I envy everyone that sees you in real lifeNew car and house for my parentsi have only new job in handIm so in love with you Im excited each day i spend with you You make me so happyPLS STOP bootydelious 32F is inviting you to be her friend Reply YES434 or NO434 See her wwwSMSacubootydelious STOP Send STOP FRND to 62468BangBabes Ur order is on the way U SHOULD receive a Service Msg 2 download UR content If U do not GoTo wap bangb tv on UR mobile internetservice menuI place all ur points on e cultures module alreadyURGENT We are trying to contact you Last weekends draw shows that you have won a £900 prize GUARANTEED Call 09061701939 Claim code S89 Valid 12hrs onlyHi frnd which is best way to avoid missunderstding wit our beloved onesGreat escape I fancy the bridge but needs her lager See you tomo Yes it completely in out of formclark also utter wasteSir I need AXIS BANK account no and bank addressHmmm Thk sure got time to hop ard Ya can go 4 free abt Muz call u to discuss liao What time you coming down later Bloody hell cant believe you forgot my surname Mr  Ill give u a clue its spanish and begins with m Well im gonna finish my bath now Have a goodfine nightLet me know when youve got the money so carlos can make the callU still going to the mallTurns out my friends are staying for the whole show and wont be back til  ltgt  so feel free to go ahead and smoke that  ltgt  worthText her If she doesnt reply let me know so i can have her log inHi You just spoke to MANEESHA V Wed like to know if you were satisfied with the experience Reply Toll Free with Yes or NoYou lifted my hopes with the offer of money I am in need Especially when the end of the month approaches and it hurts my studying Anyways have a gr8 weekendLol no U can trust meok I am a gentleman and will treat you with dignity and respectHe will you guys closeGoing on nothing greatbyeHello handsome  Are you finding that job  Not being lazy  Working towards getting back that net for mummy  Wheres my boytoy now  Does he miss me Haha awesome be there in a minutePlease call our customer service representative on FREEPHONE 0808 145 4742 between 9am11pm as you have WON a guaranteed £1000 cash or £5000 prizeHave you got Xmas radio times If not i will get it nowI jus reached home I go bathe first But my sis using net tell u when she finishes kAre you unique enough Find out from 30th August wwwareyouuniquecoukIm sorry Ive joined the league of people that dont keep in touch You mean a great deal to me You have been a friend at all times even at great personal cost Do have a great weekHi finally i completed the courseIt will stop on itself I however suggest she stays with someone that will be able to give ors for every stoolHow are you doing Hope youve settled in for the new school year Just wishin you a gr8 dayGud mrng dear hav a nice dayDid u got that persons storyis your hamster dead Hey so tmr i meet you at 1pm orchard mrt Hi its Kate how is your evening I hope i can see you tomorrow for a bit but i have to bloody babyjontet Txt back if u can  xxxFound it ENC  ltgt  where you atI sent you  ltgt  bucksHello darlin ive finished college now so txt me when u finish if u can love Kate xxxYour account has been refilled successfully by INR  ltDECIMALgt  Your KeralaCircle prepaid account balance is Rs  ltDECIMALgt  Your Transaction ID is KR ltgt Goodmorning sleeping gaU call me alter at 11 okÜ say until like dat i dun buy ericsson oso cannot oredi larAs I entered my cabin my PA said  Happy Bday Boss  I felt special She askd me 4 lunch After lunch she invited me to her apartment We went thereAight yo dats straight doggYou please give us connection today itself before  ltDECIMALgt  or refund the billBoth  i shoot big loads so get readyWhats up bruv hope you had a great break Do have a rewarding semesterHome so we can always chatKkgoodstudy wellYup How ü noe lehSounds great Are you home nowFinally the match heading towards draw as your predictionTired I havent slept well the past few nightsEasy ahsen got selected means its goodI have to take exam with march 3Yeah you should I think you can use your gt atm now to register Not sure but if theres anyway i can help let me know But when you do be sure you are readyOk no prob Take ur timeThere is os called ubandu which will run without installing in hard diskyou can use that os to copy the important files in system and give it to repair shopSorry Ill call laterU say leh Of course nothing happen lar Not say v romantic jus a bit only lor I thk e nite scenery not so nice leh500 New Mobiles from 2004 MUST GO Txt NOKIA to No 89545  collect yours todayFrom ONLY £1 www4tcbiz 2optout 08718726270150gbpmtmsg18Would really appreciate if you call me Just need someone to talk toWill u meet ur dream partner soon Is ur career off 2 a flyng start 2 find out free txt HORO followed by ur star sign e g HORO ARIESHey company elama po mudyadhuLife is more strict than teacher Bcoz Teacher teaches lesson amp then conducts exam But Life first conducts Exam amp then teaches Lessons Happy morning  Dear good morning now only i am upGet down in gandhipuram and walk to cross cut road Right side ltgt street road and turn at first rightDear we are going to our rubber placeSorry battery died yeah Im hereYeshere tv is always available in work placeText  meet someone sexy today U can find a date or even flirt its up to U Join 4 just 10p REPLY with NAME  AGE eg Sam 25 18 msg recdthirtyeight penceI have printed it oh So  ltgt  come upstairsOr ill be a little closer like at the bus stop on the same streetWhere are youwhen wil you reach hereNew Theory Argument wins d SITUATION but loses the PERSON So dont argue with ur friends just    kick them amp say Im always correctU 447801259231 have a secret admirer who is looking 2 make contact with Ufind out who they Rreveal who thinks UR so specialcall on 09058094597Tomarrow final hearing on my laptop case so i cantPLEASSSSSSSEEEEEE TEL ME V AVENT DONE SPORTSxOkay No no just shining on That was meant to be signing but that sounds betterAlthough i told u dat im into baig face watches now but i really like e watch u gave cos its fr u Thanx 4 everything dat uve done today im touchedU dont remember that old commercialToo late I said i have the website I didnt i have or dont have the slippersI asked you to call him now okKallis wont bat in 2nd inningsIt didnt work again oh Ok goodnight then Ill fix and have it ready by the time you wake up You are very dearly missed have a good night sleepCongratulations ur awarded 500 of CD vouchers or 125gift guaranteed  Free entry 2 100 wkly draw txt MUSIC to 87066 TnCs wwwLdewcom1win150ppmx3age16Ranjith cal drpd Deeraj and deepak 5min holdWen ur lovable bcums angry wid u dnt take it seriously Coz being angry is d most childish n true way of showing deep affection care n luv kettoda manda Have nice day daWhat you doinghow are youUps which is 3days also and the shipping company that takes 2wks The other way is usps which takes a week but when it gets to lag you may have to bribe nipost to get your stuffIm back lemme know when youre readyDont necessarily expect it to be done before you get back though because Im just now headin outMmm so yummy babe  Nice jolt to the suzyWhere are you lover  I need you We tried to contact you re your reply to our offer of a Video Handset 750 anytime networks mins UNLIMITED TEXT Camcorder Reply or call 08000930705 NOWI‘m parked next to a MINI When are you coming in today do you thinkYupAnyway im going shopping on my own now Cos my sis not done yet Dun disturb u liaoMY NO IN LUTON 0125698789 RING ME IF UR AROUND HHey I am really horny want to chat or see me naked text hot to 69698 text charged at 150pm to unsubscribe text stop 69698Why you Dint come with usSame Wana plan a trip sometme thenNot sure yet still trying to get a hold of himUr ringtone service has changed 25 Free credits Go to club4mobilescom to choose content now Stop txt CLUB STOP to 87070 150pwk Club4 PO Box1146 MK45 2WTThe evo I just had to download flash JealousRingtone Club Get the UK singles chart on your mobile each week and choose any top quality ringtone This message is free of chargeCome to mu were sorting out our narcotics situationNight has ended for another day morning has come in a special way May you smile like the sunny rays and leaves your worries at the blue blue bayHMV BONUS SPECIAL 500 pounds of genuine HMV vouchers to be won Just answer 4 easy questions Play Now Send HMV to 86688 More infowww100percentrealcomUsf I guess might as well take 1 carNo objection My bf not comingThanxTell rob to mack his gf in the theaterAwesome Ill see you in a bitJust sent it So what type of food do you likeAll done All handed in Celebrations in full swing yetYou got called a toolWen u miss someone the person is definitely special for u But if the person is so special why to miss them just Keepintouch gdeveOk I asked for money how farOkieYeah I think my usual guys still passed out from last night if you get ahold of anybody let me know and Ill throw downK I might come by tonight then if my class lets out earlyOkhi baby im cruisin with my girl friend what r u up 2 give me a call in and hour at home if thats alright or fone me on this fone now love jenny xxxMy life Means a lot to me Not because I love my life But because I love the people in my life The world calls them friends I call them my World GeDearshall mail tonitebusy in the streetshall update you tonitethings are looking okvarunnathu edukkukayee raksha ollubut a good one in real senseHey you told your name to gautham ahHaf u found him I feel so stupid da v cam was workingOops 4 got that bitAre you this much buzyI accidentally deleted the message Resend pleaseTMobile customer you may now claim your FREE CAMERA PHONE upgrade  a pay  go sim card for your loyalty Call on 0845 021 3680Offer ends 28thFebTCs applyUnless its a situation where YOU GO GURL would be more appropriateHurt me Tease me Make me cry But in the end of my life when i die plz keep one rose on my grave and say STUPID I MISS U HAVE A NICE DAY BSLVYLI cant pick the phone right now Pls send a messageNeed a coffee run tomoCant believe its that time of week alreadyAwesome I remember the last time we got somebody high for the first time with diesel VShit that is really shocking and scary cant imagine for a second Def up for night out Do u think there is somewhere i could crash for night save on taxiOh and by the way you do have more food in your fridge Want to go out for a meal tonight He is a womdarfull actorSMS ac Blind Date 4U Rodds1 is 21m from Aberdeen United Kingdom Check Him out httpimg sms acWicmb3cktz8r74 no Blind Dates send HIDEYup From what i remb I think should be can book Jos ask if u wana meet upLol yes Our friendship is hanging on a thread cause u wont buy stuffTheMob Check out our newest selection of content Games Tones Gossip babes and sport Keep your mobile fit and funky text WAP to 82468Where are the garage keys They arent on the bookshelfToday is ACCEPT DAYU Accept me as Brother Sister Lover Dear1 Best1 Clos1 Lvblefrnd Jstfrnd Cutefrnd Lifpartnr Belovd Swtheart Bstfrnd No rply means enemyThink ur smart  Win £200 this week in our weekly quiz text PLAY to 85222 nowTCs WinnersClub PO BOX 84 M26 3UZ 16 GBP150weekHe says hell give me a call when his friends got the money but that hes definitely buying before the end of the weekHi the way I was with u 2day is the normal waythis is the real me UR uniqueI hope I know u 4 the rest of mylife Hope u find wot was lostYou made my day Do have a great day tooKkadvance happy pongalHmmm Guess we can go 4 kb n power yoga Haha dunno we can tahan power yoga anot Thk got lo oso forgot liaoNot really dude have no friends im afraid December only Had your mobile 11mths You are entitled to update to the latest colour camera mobile for Free Call The Mobile Update Co FREE on 08002986906Coffee cake i guessMerry Christmas to you too babe i love ya kissesHey Why dont we just go watch x men and have lunch Haha cud u tell ppl im gona b a bit l8 cos 2 buses hav gon past cos they were full  im still waitin 4 1 Pete xThat would be great Well be at the Guild Could meet on Bristol road or somewhere  will get in touch over weekend Our plans take flight Have a good weekNo problem How are you doingNo callsmessagesmissed callsHi dahow is the todays classId say thats a good sign but well you know my track record at reading womenCool text me when youre parkedIm reading the text i just sent you Its meant to be a joke So read it in that lightKkapo kgood movieMaybe i could get book out tomo then return it immediately  Or somethingCall Germany for only 1 pence per minute Call from a fixed line via access number 0844 861 85 85 No prepayment Direct accessAny chance you might have had with me evaporated as soon as you violated my privacy by stealing my phone number from your employers paperwork Not cool at all Please do not contact me again or I will report you to your supervisorValentines Day Special Win over £1000 in our quiz and take your partner on the trip of a lifetime Send GO to 83600 now 150pmsg rcvd CustCare08718720201TaDaaaaa I am home babe are you still up Cool So how come you havent been wined and dined beforeJust sleepingand surfingSorry Ill call laterU calling me right Call my hand phoneOk thats great thanx a lotI take it the post has come then You must have 1000s of texts now Happy reading My one from wiv hello caroline at the end is my favourite Bless himWhere u been hiding strangerAm not interested to do like thatMy sister cleared two round in birla soft yesterdayGudnitetcpractice going onDis is yijue I jus saw ur mail In case huiming havent sent u my num Dis is my numOne small prestige problem nowFancy a shag I doInterested sextextukcom txt XXUK SUZY to 69876 Txts cost 150 per msg TnCs on website XJust checking in on you Really do miss seeing Jeremiah Do have a great monthNah cant help you there Ive never had an iphoneIf youre not in my car in an hour and a half Im going apeshitTODAY is Sorry day If ever i was angry with you if ever i misbehaved or hurt you plz plz JUST SLAP URSELF Bcoz Its ur fault Im basically GOODYo you guys ever figure out how much we need for alcohol Jay and I are trying to figure out how much we can safely spend on weedltgt ISH MINUTES WAS 5 MINUTES AGO WTFThank You for callingForgot to say Happy Onam to you SirjiI am fine here and remembered you when i met an insurance personMeet You in Qatar Insha AllahRakhesh ex Tata AIG who joined TISSCOTayseerCongratulations ur awarded 500 of CD vouchers or 125gift guaranteed  Free entry 2 100 wkly draw txt MUSIC to 87066 TnCs wwwLdewcom1win150ppmx3age16Ur cashbalance is currently 500 pounds  to maximize ur cashin now send CASH to 86688 only 150pmsg CC 08708800282 HGSuite3422Lands RowW1J6HLIm an actor When i work i work in the evening and sleep late Since im unemployed at the moment i ALWAYS sleep late When youre unemployed every day is saturdayHello Just got here st andrewsboy its a long way Its cold I will keep you postedHa ha cool cool chikku chikkuDBOh ok no probCheck audreys status right nowBusy here Trying to finish for new year I am looking forward to finally meeting youGood afternoon sunshine How dawns that day  Are we refreshed and happy to be alive Do we breathe in the air and smile  I think of you my love  As alwaysWell i know Z will take care of me So no worriesUpdateNow  Xmas Offer Latest Motorola SonyEricsson  Nokia  FREE Bluetooth Double Mins  1000 Txt on Orange Call MobileUpd8 on 08000839402 or call2optoutF4QHere is your discount code RP176781 To stop further messages reply stop wwwregalportfoliocouk Customer Services 08717205546Wat uniform In where getCool text me when youre readyHello my boytoy  Geeee I miss you already and I just woke up I wish you were here in bed with me cuddling me I love you I will spoil you in bed as well Im going for bath will msg you next  ltgt  minI cant keep talking to people if am not sure i can pay them if they agree to price So pls tell me what you want to really buy and how much you are willing to payThanks for your Ringtone Order Reference T91 You will be charged GBP 4 per week You can unsubscribe at anytime by calling customer services on 09057039994Can you say what happenYou could have seen mei didt recognise you FaceWell theres not a lot of things happening in Lindsay on New years sighs Some bars in Ptbo and the blue heron has something goingKeep my payasam there if rinu bringsI taught that Ranjith sir called me So only i sms like that Becaus hes verifying about project Prabu told today so only pa dont mistake meI guess thats why you re worried You must know that theres a way the body repairs itself And im quite sure you shouldnt worry Well take it slow First the tests they will guide when your ovulation is then just relax Nothing youve said is a reason to worry but ill keep on followin you upYeah sure give me a couple minutes to track down my walletHey leave it not a big deal take careHey i will be late ah Meet you at 945Double mins and txts 4 6months FREE Bluetooth on Orange Available on Sony Nokia Motorola phones Call MobileUpd8 on 08000839402 or call2optoutN9DXIt took Mr owl 3 licksCustomer place i will call youMm that time you dont like fun4mths half price Orange line rental  latest camera phones 4 FREE Had your phone 11mths  Call MobilesDirect free on 08000938767 to update now or2stoptxtYup having my lunch buffet now U eat alreadyHuh so late Fr dinnerHey so this sat are we going for the intro pilates only Or the kickboxing too Morning only i can okYes i think so I am in office but my lap is in room i think thats on for the last few days I didnt shut that downPick you up bout 730ish What time are  and that goingFrom here after The performance award is calculated every two monthnot for current one month periodWas actually sleeping and still might when u call back So a text is gr8 You rock sis Will send u a text wen i wakeYou are always putting your business out there You put pictures of your ass on facebook You are one of the most open people ive ever met Why would i think a picture of your room would hurt you make you feel violatedGood evening Sir Al Salam Wahleykkumsharing a happy newsBy the grace of God i got an offer from TayseerTISSCO and i joinedHope you are fineInshah Allahmeet you sometimeRakheshvisitor from IndiaHmmmkbut i want to change the field quickly dai wanna get system administrator or network administratorFREE RINGTONE text FIRST to 87131 for a poly or text GET to 87131 for a true tone Help 0845 2814032 16 after 1st free tones are 3x£150pw to e£nd txt stopDear how is chechi Did you talk to herThe hair cream has not been shippedNone of thats happening til you get here thoughYep the great loxahatchee xmas tree burning of  ltgt  starts in an hourHaha get used to driving to usf man I know a lot of stonersAll was well until slightly disastrous class this pm with my fav darlings Hope day off ok Coffee wld be good as cant stay late tomorrow Same time  place as alwaysHello Good week Fancy a drink or something laterHeadin towards busetopMessagesome text missing SenderName Missing Number Missing SentDate missing Missing U a lot thats y everything is missing sent via fullonsmscomCome by our room at some point so we can iron out the plan for this weekendCos i want it to be your thingOkies Ill go yan jiu too We can skip ard oso go cine den go mrt one blah blah blah Bring home some Wendy D100 dating service call 09064012103 box334sk38chWhatsup there Dont u want to sleepAlright i have a new goal nowFREE entry into our £250 weekly competition just text the word WIN to 80086 NOW 18 TC wwwtxttowincoukAlright Ill head out in a few minutes text me where to meet youSend a logo 2 ur lover  2 names joined by a heart Txt LOVE NAME1 NAME2 MOBNO eg LOVE ADAM EVE 07123456789 to 87077 Yahoo POBox36504W45WQ TxtNO 4 no ads 150pYesfrom last week itself im taking live callSomeone has contacted our dating service and entered your phone because they fancy you To find out who it is call from a landline 09111032124  PoBox12n146tf150pSiva is in hostel ahaURGENT Your Mobile number has been awarded with a £2000 prize GUARANTEED Call 09058094455 from land line Claim 3030 Valid 12hrs onlySend this to ur friends and receive something about ur voice How is my speaking expression 1childish 2naughty 3Sentiment 4rowdy 5ful of attitude 6romantic 7shy 8Attractive 9funny  ltgt irritating  ltgt lovable reply meOk Shell be ok I guessaathiwhere are you dearAny pain on urination any thing else7 at esplanade Do ü mind giving me a lift cos i got no car todayI wnt to buy a BMW car urgentlyits vry urgentbut hv a shortage of  ltgt Lacsthere is no source to arng dis amt ltgt lacsthats my probAt home watching tv lorDoes she usually take fifteen fucking minutes to respond to a yes or no questionCongrats Nokia 3650 video camera phone is your Call 09066382422 Calls cost 150ppm Ave call 3mins vary from mobiles 16 Close 300603 post BCM4284 Ldn WC1N3XXBooked ticket for pongalYou available now Im like right around hillsborough amp  ltgt thThe message sent is askin for  ltgt dollars Shoul i pay  ltgt  or  ltgt Ask g or iouri Ive told the story like ten times alreadyHow long does applebees fucking takeHi hope u get this txtjourney hasnt been gdnow about 50 mins late I thinkBut i have to I like to have love and arrangeYeshe is really greatbhaji told kallis best cricketer after sachin in worldvery tough to get outYou were supposed to wake ME up gtOic I saw him too but i tot he din c me I found a group liaoSorry Ill call laterHEY HEY WERETHE MONKEESPEOPLE SAY WE MONKEYAROUND HOWDY GORGEOUS HOWU DOIN FOUNDURSELF A JOBYET SAUSAGELOVE JEN XXXSorry my battery died I can come by but Im only getting a gram for now wheres your placeWell done blimey exercise yeah i kinda remember wot that is hmm I wont get concentration dear you know you are my mind and everything LOL  Have you made plans for new years10 min later khanks lotslyThanks for this hope you had a good day todayKkwhat are detail you want to transferacc no enoughOk i will tell her to stay out Yeah its been tough but we are optimistic things will improve this monthLoan for any purpose £500  £75000 Homeowners  Tenants welcome Have you been previously refused We can still help Call Free 0800 1956669 or text back helpSi si I think ill go make those oreo trufflesLOOK AT AMY URE A BEAUTIFUL INTELLIGENT WOMAN AND I LIKE U A LOT I KNOW U DON\\x92T LIKE ME LIKE THAT SO DON\\x92T WORRYI hope you thats the result of being consistently intelligent and kind Start asking him about practicum links and keep your ears open and all the best ttyl120 that call cost Which i guess isnt bad Miss ya need ya want ya love yaGoing thru a very different feelingwavering decisions and coping up with the same is the same individualtime will heal everything i believeWhere did u go My phone is gonna die you have to stay in hereGreat Never been better Each day gives even more reasons to thank GodUpgrdCentre Orange customer you may now claim your FREE CAMERA PHONE upgrade for your loyalty Call now on 0207 153 9153 Offer ends 26th July TCs apply Optout availableSorry Ill call later ok byeOk i am on the way to railwaygreat princess I love giving and receiving oral Doggy style is my fave position How about you I enjoy making love  ltgt  times per night They dont put that stuff on the roads to keep it from getting slippery over thereWhen are you going to ride your bikeYup no need Ill jus wait 4 e rain 2 stopThere are many company Tell me the languageokmail Dear Dave this is your final notice to collect your 4 Tenerife Holiday or 5000 CASH award Call 09061743806 from landline TCs SAE Box326 CW25WX 150ppmHow long has it been since you screamed princessNothing I meant that once the money enters your account here the bank will remove its flat rate Someone transfered  ltgt  to my account and  ltgt dollars got removed So the banks differ and charges also differbe sure you trust the 9ja person you are sending account details to cosWant 2 get laid tonight Want real Dogging locations sent direct 2 ur Mob Join the UKs largest Dogging Network by txting MOAN to 69888Nyt ec2a 31pmsg150pNice line said by a broken heart Plz dont cum 1 more times infront of me Other wise once again I ll trust U Good 9tOk Im gonna head up to usf in like fifteen minutesLove you aathilove u lotTension ahwhat machiany problemK can I pick up another 8th when youre doneWhenre you guys getting back G said you were thinking about not staying for mcrAlmost there see u in a secYo carlos a few friends are already asking me about you you working at all this weekendWatching tv lorThank you baby I cant wait to taste the real thingYou should change your fb to jaykwon thuglyfe falconerfIf we win its really no 1 side for long timeFREE MESSAGE Activate your 500 FREE Text Messages by replying to this message with the word FREE For terms  conditions visit www07781482378comDear reached railway What happen to youDepends on quality If you want the type i sent boye faded glory then about 6 If you want ralphs maybe 2I think ive fixed it can you send a test messageSorry man my accounts dry or I would if you want we could trade back half or I could buy some shit with my credit cardCongrats 1 year special cinema pass for 2 is yours call 09061209465 now C Suprman V Matrix3 StarWars3 etc all 4 FREE bx420ip45we 150pm Dont miss outSorryin meeting Ill call laterWhat class of  ltgt  reunionAre you free nowcan i call nowGot meh WhenNope Think i will go for it on monday Sorry i replied so lateSome of them told accenture is not confirm Is it trueKate jackson rec center before 7ish rightDear i have reache roomFighting with the world is easy u either win or lose bt fightng with some1 who is close to u is dificult if u lose  u lose if u win  u still loseWhen can ü come outCheck with nuerologistLolnice I went from a fish to water123 Congratulations  in this weeks competition draw u have won the £1450 prize to claim just call 09050002311 b4280703 TCsstop SMS 08718727868 Over 18 only 150ppmNo its waiting in e car dats bored wat Cos wait outside got nothing 2 do At home can do my stuff or watch tv watMaybe westshore or hyde park village the place near my houseYou should know now So hows anthony Are you bringing money Ive school fees to pay and rent and stuff like that Thats why i need your help A friend in needWhats the significanceYour opinion about me 1 Over 2 Jada 3 Kusruthi 4 Lovable 5 Silent 6 Spl character 7 Not matured 8 Stylish 9 Simple Pls reply8 at the latest gs still there if you can scrounge up some ammo and want to give the new ak a tryPrabhaim sorydarealyfrm heart im soryLol ok your forgiven Nojst change tat onlyYou are guaranteed the latest Nokia Phone a 40GB iPod MP3 player or a £500 prize Txt word COLLECT to No 83355 IBHltd LdnW15H 150pMtmsgrcvd18Sno competition for himBoltblue tones for 150p Reply POLY or MONO eg POLY3 1 Cha Cha Slide 2 Yeah 3 Slow Jamz 6 Toxic 8 Come With Me or STOP 4 more tones txt MOREYour credits have been topped up for httpwwwbubbletextcom Your renewal Pin is tgxxrzThat way transport is less problematic than on sat night By the way if u want to ask  n  to join my bday feel free But need to know definite nos as booking on fri Usually the person is unconscious thats in children but in adults they may just behave abnormally Ill call you nowBut thats on ebay it might be less elsewhereShall i come to get pickleWere gonna go get some tacosThats very rude you on campusURGENT Your Mobile No was awarded a £2000 Bonus Caller Prize on 020903 This is our 2nd attempt to contact YOU Call 08718729755 BOX95QUHi i wont b ard 4 christmas But do enjoy n merry xmasTodays Offer Claim ur £150 worth of discount vouchers Text YES to 85023 now SavaMob member offers mobile T Cs 08717898035 £300 Sub 16  Unsub reply XYes How is a pretty lady like you singleYou will recieve your tone within the next 24hrs For Terms and conditions please see Channel U Teletext Pg 750Jay says that youre a doublefaggotPRIVATE Your 2003 Account Statement for 07815296484 shows 800 unredeemed SIM points Call 08718738001 Identifier Code 41782 Expires 181104 What Todaysundaysunday is holidayso no workGudnitetcpractice going onIll be lateIve not called you in a while This is hoping it was l8r malaria and that you know that we miss you guys I miss Bani big so pls give her my love especially Have a great dayGood afternoon my love How goes that day  I hope maybe you got some leads on a job I think of you boytoy and send you a passionate kiss from across the seaProbably gonna be here for a while see you later tonight ltOr maybe my fat fingers just press all these buttons and it doesnt know what to doUmmmmmaah Many many happy returns of d day my dear sweet heart HAPPY BIRTHDAY dearI am in tirupur da once you started from office call mefrom wwwApplausestorecom MonthlySubscription50pmsg max6month TCsC web age16 2stop txt stopA famous quote  when you develop the ability to listen to anything unconditionally without losing your temper or self confidence it means you are  MARRIEDBut am going to college pa What to do are else ill come there it self Pa4 oclock at mine Just to bash out a flat planThis girl does not stay in bed This girl doesnt need recovery time Id rather pass out while having fun then be cooped up in bedThen any special thereI know but you need to get hotel now I just got my invitation but i had to apologise Cali is to sweet for me to come to some english blokes weddinSorry that took so long omw nowWait  ltgt  minOk give me 5 minutes I think I see her BTW youre my alibi You were cutting my hair the whole timeImagine you finally get to sink into that bath after I have put you through your paces maybe even having you eat me for a while before I left  But also imagine the feel of that cage on your cock surrounded by the bath water reminding you always who owns you  Enjoy my cuckHurry up Ive been weeddeficient for like three daysSure if I get an acknowledgement from you that its astoundingly tactless and generally faggy to demand a blood oath foOk Every night take a warm bath drink a cup of milk and youll see a work of magic You still need to loose weight Just so that you knowI‘ll have a look at the frying pan in case it‘s cheap or a book perhaps No that‘s silly a frying pan isn‘t likely to be a bookO Well uv causes mutations Sunscreen is like essential thesedaysHaving lunchyou are not in onlinewhyI know that my friend already told thatHi Princess Thank you for the pics You are very pretty How are youAiyo U always c our ex one I dunno abt mei she haven reply First time u reply so fast Y so lucky not workin huh got bao by ur sugardad ahgee Hi msg meim in officeThanx 4 e brownie its v niceGeeeee  I love you so much I can barely stand itGENT We are trying to contact you Last weekends draw shows that you won a £1000 prize GUARANTEED Call 09064012160 Claim Code K52 Valid 12hrs only 150ppm Fuck babe  I miss you already you know  Cant you let me send you some money towards your net  I need you  I want you  I crave you Ill call u 2mrw at ninish with my address that icky American freek wont stop callin me 2 bad Jen k ehOooh bed ridden ey What are YOU thinking ofSo anyways you can just go to your gym or whatever my love smiles I hope your ok and having a good day babe  I miss you so much alreadyLove it Daddy will make you scream with pleasure I am going to slap your ass with my dickWOT U WANNA DO THEN MISSYYar lor wait 4 my mum 2 finish sch then have lunch lor I whole morning stay at home clean my room now my room quite clean HeeDo you know where my lab goggles wentCan you open the doorWaiting for your callNope i waiting in sch 4 daddy You have won 1000 cash or a 2000 prize To claim call09050000327Im tired of arguing with you about this week after week Do what you want and from now on ill do the sameÜ wait 4 me in sch i finish ard 5our mobile number has won £5000 to claim calls us back or ring the claims hot line on 09050005321Arngd marriage is while u r walkin unfortuntly a snake bites u bt love marriage is dancing in frnt of d snake amp sayin Bite me bite meHuh so early Then ü having dinner outside izzitOk anyway no need to change with what you saidWe tried to contact you re your reply to our offer of 750 mins 150 textand a new video phone call 08002988890 now or reply for free delivery tomorrowmy exwife was not able to have kids Do you want kids one daySo hows scotland Hope you are not over showing your JJC tendencies Take care Live the dreamTell them u have a headache and just want to use 1 hour of sick timeI dun thk ill quit yet Hmmm can go jazz  Yogasana oso can We can go meet em after our lessons den Pete can you please ring meive hardly gotany creditYa srsly better than yi thoIm in a meeting call me later atFor ur chance to win a £250 wkly shopping spree TXT SHOP to 80878 TsCs wwwtxt2shopcom custcare 08715705022 1x150pwkYou have been specially selected to receive a 2000 pound award Call 08712402050 BEFORE the lines close Cost 10ppm 16 TCs apply AG PromoPRIVATE Your 2003 Account Statement for 07753741225 shows 800 unredeemed S I M points Call 08715203677 Identifier Code 42478 Expires 241004You still at grand prixI met you as a stranger and choose you as my friend As long as the world stands our friendship never ends Lets be Friends forever Gud nitzI am great How are youGud mrng dear have a nice dayYou have an important customer service announcement Call FREEPHONE 0800 542 0825 nowWill do Was exhausted on train this morning Too much wine and pie You sleep well tooIm going out to buy mums present arMind blastin No more Tsunamis will occur from now on Rajnikant stopped swimming in Indian OceanDIf u sending her home first its ok lor Im not ready yetSpeaking of does he have any cash yetBe happy there I will come after noonMeet after lunch laTaKe CaRE n gET WeLL sOOnXCLUSIVECLUBSAISAI 2MOROW 285 SOIREE SPECIALE ZOUK WITH NICHOLS FROM PARISFREE ROSES 2 ALL LADIES  info 0794674629107880867867 what I meant to say is cant wait to see u again getting bored of this bridgwater banterNeva mind its okIts fine imma get a drink or somethin Want me to come find you22 days to kick off For Euro2004 U will be kept up to date with the latest news and results daily To be removed send GET TXT STOP to 83222Its a valentine game   Send dis msg to all ur friends  If 5 answers r d same then someone really loves u Ques which colour suits me the bestrply meI have many dependentsTHANX4 TODAY CER IT WAS NICE 2 CATCH UP BUT WE AVE 2 FIND MORE TIME MORE OFTEN OH WELL TAKE CARE C U SOONCI called and said all to himthen he have to choose this futureHappy valentines day I know its early but i have hundreds of handsomes and beauties to wish So i thought to finish off aunties and uncles 1stHe like not v shock leh Cos telling shuhui is like telling leona also Like dat almost all know liao He got ask me abt ur reaction lorFor my family happinessI come n pick ü up Come out immediately aft ur lessonLet there be snow Let there be snow This kind of weather brings ppl together so friendships can growDear we got  ltgt  dollars hi hiGood words But words may leave u in dismay many timesMAKE SURE ALEX KNOWS HIS BIRTHDAY IS OVER IN FIFTEEN MINUTES AS FAR AS YOURE CONCERNEDsorry no have got few things to do may be in pub laterNah its straight if you can just bring bud or drinks or something thats actually a little more useful than straight cashHaha good to hear Im officially paid and on the market for an 8thHow many licks does it take to get to the center of a tootsie popYup i thk they r e teacher said that will make my face look longer Darren ask me not 2 cut too shortNew TEXTBUDDY Chat 2 horny guys in ur area 4 just 25p Free 2 receive Search postcode or at gaytextbuddycom TXT ONE name to 89693Todays Vodafone numbers ending with 4882 are selected to a receive a £350 award If your number matches call 09064019014 to receive your £350 awardPlease dont say like that Hi hi hiThank uOh that was a forwarded message I thought you send that to meGot it Seventeen pounds for seven hundred ml – hope okDear Voucher Holder 2 claim this weeks offer at your PC go to httpwwwetlpcoukexpressoffer TsCs apply2 stop texts txt STOP to 80062Me n him so funnySweetheart hope you are not having that kind of day Have one with loads of reasons to smile BiolaWhen ü login dat time Dad fetching ü home nowWhat will we do in the shower babyI had askd u a question some hours before Its answerWell imma definitely need to restock before thanksgiving Ill let you know when Im out said kiss kiss i cant do the sound effects He is a gorgeous man isnt he Kind of person who needs a smile to brighten his day Probably gonna swing by in a wee bitYa very nice  be ready on thursdayAllo We have braved the buses and taken on the trains and triumphed I mean we‘re in b‘ham Have a jolly good rest of weekWatching cartoon listening music amp at eve had to go temple amp church What about uDo you mind if I ask what happened You dont have to say if it is uncomfortablePRIVATE Your 2003 Account Statement for shows 800 unredeemed S I M points Call 08715203694 Identifier Code 40533 Expires 311004No prob I will send to your emailYou have won 1000 cash or a 2000 prize To claim call09050000327 TC RSTM SW7 3SS 150ppmThats cool Sometimes slow and gentle Sonetimes rough and hard Im gonna say no Sorry I would but as normal am starting to panic about time Sorry again Are you seeing on TuesdayWait do you know if wesleys in town I bet she does hella drugsFine i miss you very muchDid u got that persons storyTell them the drug dealers getting impatientSun cant come to earth but send luv as rays cloud cant come to river but send luv as rain I cant come to meet U but can send my care as msg to U Gud evngYou will be in the place of that manIt doesnt make sense to take it there unless its free If you need to know more wikipediacom88800 and 89034 are premium phone services call 08718711108Under the sea there lays a rock In the rock there is an envelope In the envelope there is a paper On the paper there are 3 words Then mums repent howSorry me going home first Daddy come fetch ü laterLeave it de Start Prepare for nextYes baby We can study all the positions of the kama sutra En chikku nange bakra msg kalstiyathen had teacoffeeCarlosll be here in a minute if you still need to buyThis pay is  ltDECIMALgt  lakhsHave a good evening TtylDid u receive my msgHo ho  big belly laugh See ya tomoSMS ac sun0819 posts HELLOYou seem cool wanted to say hi HI Stop Send STOP to 62468Get ur 1st RINGTONE FREE NOW Reply to this msg with TONE Gr8 TOP 20 tones to your phone every week just £150 per wk 2 opt out send STOP 08452810071 16Ditto And you wont have to worry about me saying ANYTHING to you anymore Like i said last night you do whatever you want and ill do the same PeaceIve got  ltgt  any way I could pick upI dont knw pa i just drink milkMaybe Say hi to  and find out if  got his card Great escape or wetherspoons Piggy r u awake I bet ure still sleeping Im going 4 lunch nowCause Im not freaky lolMissed your call cause I was yelling at scrappy Miss u Cant wait for u to come home Im so lonely todayWhat is this hex place you talk of ExplainÜ log off 4 wat Its sdryb8iIs xy going 4 e lunchHi Im sue I am 20 years old and work as a lapdancer I love sex Text me live  Im i my bedroom now text SUE to 89555 By TextOperator G2 1DA 150ppmsg 18I wanted to ask ü to wait 4 me to finish lect Cos my lect finishes in an hour anywayHave you finished work yet Every King Was Once A Crying Baby And Every Great Building Was Once A Map Not Imprtant Where U r TODAY BUT Where U Wil Reach TOMORW Gud ni8DearMe at cherthalain case u r coming cochin pls call bfore u starti shall also reach accordinglyor tell me which day u r comingtmorow i am engaged ans its holidayThanks love But am i doing torch or boldForwarded from 448712404000Please CALL 08712404000 immediately as there is an urgent message waiting for youWas the farm openSorry to trouble u again Can buy 4d for my dad again 1405 1680 1843 All 2 big 1 small sat n sun ThanxMy sister in law hope you are having a great month Just saying hey AbiolaWill purchase d stuff today and mail to you Do you have a po box numberAh poop Looks like ill prob have to send in my laptop to get fixed cuz it has a gpu problemGood Good job I like entrepreneursAight you close by or still down around alexs placemeet you in corporation st outside gap … you can see how my mind is workingMum ask ü to buy food homeKu also dont msg or reply to his msgHow much r ü willing to paySorry Ill call laterWhat is important is that you prevent dehydration by giving her enough fluidsThats a bit weird even  where is the do supposed to be happening But good idea sure they will be in pubTrue deari sat to pray evening and felt soso i smsd you in some timeI dont think I can get away for a trek that long with family in town sorrySo when do you wanna gym harriQuite late lar Ard 12 anyway i wun b drivinTo review and KEEP the fantastic Nokia NGage game deck with Club Nokia go 2 wwwcnupdatescomnewsletter unsubscribe from alerts reply with the word OUT4mths half price Orange line rental  latest camera phones 4 FREE Had your phone 11mths Call MobilesDirect free on 08000938767 to update now or2stoptxt TCsHeight of Confidence All the Aeronautics professors wer calld amp they wer askd 2 sit in an aeroplane Aftr they sat they wer told dat the plane ws made by their students Dey all hurried out of d plane Bt only 1 didnt move He saidif it is made by my studentsthis wont even start Datz confidenceIt just seems like weird timing that the night that all you and g want is for me to come smoke is the same day as when a shitstorm is attributed to me always coming over and making everyone smoke08714712388 between 10am7pm Cost 10pSave yourself the stress If the person has a dorm account just send your account details and the money will be sent to youHe also knows about lunch menu only da  I knowWhen i have stuff to sell ill tell you449071512431 URGENT This is the 2nd attempt to contact UU have WON £1250 CALL 09071512433 b4 050703 TCsBCM4235WC1N3XX callcost 150ppm mobilesvary max£7 50Book which lesson then you msg me I will call up after work or sth Im going to get specs My membership is PX3748You have WON a guaranteed £1000 cash or a £2000 prize To claim yr prize call our customer service representative on 08714712394 between 10am7pmMacha dont feel upseti can assume your mindsetbelieve me one evening with me and i have some wonderful plans for both of usLET LIFE BEGIN AGAINcall me anytimeOh is it Send me the addressSfine Anytime All the best with itThat is wondar full flimYa even those cookies have jelly on themThe world is running and i am stillmaybe all are feeling the sameso be itor i have to admiti am madthen where is the correctionor let me call this is lifeand keep running with the worldmay be u r also runninglets runGot it It looks scrumptious daddy wants to eat you all night longOf cos can lar im not so ba dao ok 1 pm lor Y u never ask where we go ah I said u would ask on fri but he said u will ask todayAlright omw gotta change my order to a half8thExactly Anyways how far Is jide her to study or just visitingDunno y u ask meEmail AlertFrom Jeri StewartSize 2KBSubject Lowcost prescripiton drvgsTo listen to email call 123No he didnt Spring is coming early yayLol you wont feel bad when I use her money to take you out to a steak dinner DEven u dont get in trouble while convincingjust tel him once or twice and just tel neglect his msgs dont c and read itjust dont replyLeaving to qatar tonite in search of an opportunityall went fastpls add me in ur prayers dearRakheshThen why no one talking to meThanks for looking out for me I really appreciateHi Customer Loyalty OfferThe NEW Nokia6650 Mobile from ONLY £10 at TXTAUCTION Txt word START to No 81151  get yours Now 4TCtxt TC 150pMTmsgWish i were with you nowHaha mayb ure rite U know me well Da feeling of being liked by someone is gd lor U faster go find one then all gals in our group attached liaoYes i will be there Glad you made itDo well all will for little time Thing of good times aheadJust got up have to be out of the room very soon … i hadnt put the clocks back til at 8 i shouted at everyone to get up and then realised it was 7 wahay another hour in bedOk There may be a free gym aboutMen like shorter ladies Gaze up into his eyesDunno he jus say go lido Same time 930I promise to take good care of you princess I have to run now Please send pics when you get a chance TtylU are subscribed to the best Mobile Content Service in the UK for £3 per 10 days until you send STOP to 82324 Helpline 08706091795Is there a reason weve not spoken this year Anyways have a great week and all the best in your examBy monday next week Give me the full gistDo you realize that in about 40 years well have thousands of old ladies running around with tattoosYou have an important customer service announcement from PREMIERDont gimme that lip caveboyWhen did you get to the libraryRealy sorryi dont recognise this number and am now confused  who r u please So why didnt you hollaCant think of anyone with  spare room off  top of my headFaith makes things possibleHope makes things workLove makes things beautifulMay you have all three this ChristmasMerry ChristmasU should have made an appointmentCall me when youcarlos isare here my phones vibrate is acting up and I might not hear textsRomantic Paris 2 nights 2 flights from £79 Book now 4 next year Call 08704439680TsCs applyWe are at grandmas Oh dear u still ill I felt Shit this morning but i think i am just hungover Another night then We leave on satUrgent Ur £500 guaranteed award is still unclaimed Call 09066368327 NOW closingdate040902 claimcode M39M51 £150pmmorefrommobile2BremovedMobyPOBox734LS27YFNothing but we jus tot u would ask cos u ba gua But we went mt faber yest Yest jus went out already mah so today not going out Jus call lorWishing you and your family Merry X mas and HAPPY NEW Year in advanceUR awarded a City Break and could WIN a £200 Summer Shopping spree every WK Txt STORE to 88039  SkilGme TsCs087147403231WinawkAge16 £150perWKsubIm nt goin got somethin on unless they meetin 4 dinner lor Haha i wonder who will go tis timeSorry Ill call laterI cant pick the phone right now Pls send a messageLol I know Theyre so dramatic Schools already closed for tomorrow Apparently we cant drive in the inch of snow were supposed to getNot getting anywhere with this damn job hunting over hereLol U drunkard Just doing my hair at d moment Yeah still up 4 tonight Wats the plan idc get over here you are not weaseling your way out of this shit twice in a rowI wil be there with in  ltgt  minutes Got any spaceJust sleepingand surfingThanks for picking up the trashWhy dont you go tell your friend youre not sure you want to live with him because he smokes too much then spend hours begging him to come smokeHi its Kate it was lovely to see you tonight and ill phone you tomorrow I got to sing and a guy gave me his card xxxHappy New year my dear brother I really do miss you Just got your number and decided to send you this text wishing you only happiness AbiolaThat means get the doorYour opinion about me 1 Over 2 Jada 3 Kusruthi 4 Lovable 5 Silent 6 Spl character 7 Not matured 8 Stylish 9 Simple Pls replyHmmm  I thought we said 2 hours slave not 3  You are late  How should I punish you BeerageYou have an important customer service announcement from PREMIER Call FREEPHONE 0800 542 0578 nowDont think so It turns off like randomlly within 5min of openingShe was supposed to be but couldnt make it shes still in town thoughIt does it on its own Most of the time it fixes my spelling But sometimes it gets a completely diff word Go figureEver thought about living a good life with a perfect partner Just txt back NAME and AGE to join the mobile community 100pSMS5 Free Top Polyphonic Tones call 087018728737 National Rate Get a toppoly tune sent every week just text SUBPOLY to 81618 £3 per pole UnSub 08718727870Gud mrng dear hav a nice dayThis is hoping you enjoyed your game yesterday Sorry ive not been in touch but pls know that you are fondly bein thot off Have a great week AbiolaAll e best 4 ur driving tmr YWHERE U AT DOGBREATH ITS JUST SOUNDING LIKE JAN C THAT\\x92S ALOmg I want to scream I weighed myself and I lost more weight WoohooThere generally isnt one Its an uncountable noun  u in the dictionary pieces of researchits really getting me down just hanging aroundOrange customer you may now claim your FREE CAMERA PHONE upgrade for your loyalty Call now on 0207 153 9996 Offer ends 14thMarch TCs apply Optout availaPetey boy whereare you me and all your friendsare in theKingshead come down if you canlove NicOk i msg u b4 i leave my houseGimme a few was  ltgt  minutes agoLast Chance Claim ur £150 worth of discount vouchers today Text SHOP to 85023 now SavaMob offers mobile T Cs SavaMob POBOX84 M263UZ £300 Sub 16Appt is at ltTIMEgt am Not my fault u dont listen I told u twiceFREE for 1st week No1 Nokia tone 4 ur mobile every week just txt NOKIA to 8077 Get txting and tell ur mates wwwgetzedcouk POBox 36504 W45WQ 16 norm150ptoneYou have won a guaranteed £200 award or even £1000 cashto claim UR award call free on 08000407165 18 2 stop getstop on 88222 PHP RG21 4JXK Ill be there before 4I dled 3d its very impsure but make sure he knows we aint smokin yetBoooo you always work Just quitI am taking half day leave bec i am not wellUgh I dont wanna get out of bed Its so warmSsnervous  ltgt So theres a ring that comes with the guys costumes Its there so they can gift their future yowifes Hint hintCongratulations ur awarded either £500 of CD gift vouchers  Free entry 2 our £100 weekly draw txt MUSIC to 87066 TnCs wwwLdewcom1win150ppmx3age16I borrow ur bag okU were outbid by simonwatson5120 on the Shinco DVD Plyr 2 bid again visit sms acsmsrewards 2 end bid notifications reply END OUTWheres my boytoy I miss you  What happenedHe has lots of used ones babe but the model doesnt help Youi have to bring it over and hell match it upAlso are you bringing galileo or dobbyThen why you not respondingBOO BABE U ENJOYIN YOURJOB U SEEMED 2 B GETTIN ON WELL HUNNYHOPE URE OKTAKE CARE  I\\x92LLSPEAK 2U SOONLOTS OF LOVEME XXXXGood afternoon starshine Hows my boytoy Does he crave me yet Ache to fuck me  sips cappuccino I miss you babe teasing kissOn the road so cant txtSMSSERVICES for yourinclusive text credits pls goto wwwcomuknet login 3qxj9 unsubscribe with STOP no extra charge help 08702840625COMUK 220CM2 9AE25p 4 alfie Moons Children in need song on ur mob Tell ur m8s Txt Tone charity to 8007 for Nokias or Poly charity for polys zed 08701417012 profit 2 charityHave a good evening TtylHmm  Bits and pieces lol  sighs Hahahause your brain dearHey You got any mailSorry light turned green I meant another friend wanted  ltgt  worth but he may not be aroundThanks for yesterday sir You have been wonderful Hope you enjoyed the burial MojiBiolaU have a secret admirer REVEAL who thinks U R So special Call 09065174042 To opt out Reply REVEAL STOP 150 per msg recd Cust care 07821230901Hi mate its RV did u hav a nice hol just a message 3 say hello coz haven\\x92t sent u 1 in ages started driving so stay off roadsRVxDear Voucher Holder To claim this weeks offer at you PC please go to httpwwwetlpcoukexpressoffer TsCs apply To stop texts txt STOP to 80062Thank you so much When we skyped wit kz and sura we didnt get the pleasure of your company Hope you are good Weve given you ultimatum oh We are countin down to aburo Enjoy This is the message i sent days agoSurely result will offerGood Morning my Dear Have a great amp successful dayDo you want 750 anytime any network mins 150 text and a NEW VIDEO phone for only five pounds per week call 08002888812 or reply for delivery tomorrowSir I have been late in paying rent for the past few months and had to pay a  ltgt  charge I felt it would be inconsiderate of me to nag about something you give at great cost to yourself and thats why i didnt speak up I however am in a recession and wont be able to pay the charge this month hence my askin well ahead of months end Can you please help ThanksWe tried to contact you re our offer of New Video Phone 750 anytime any network mins HALF PRICE Rental camcorder call 08000930705 or reply for delivery WedLast chance 2 claim ur £150 worth of discount vouchersText YES to 85023 nowSavaMobmember offers mobile T Cs 08717898035 £300 Sub 16  Remove txt X or STOPI luv u soo much u don\\x92t understand how special u r 2 me ring u 2morrow luv u xxxPls send me a comprehensive mail about who im paying when and how muchOur Prashanthettans mother passed away last night pray for her and familyUrgent call 09066350750 from your landline Your complimentary 4 Ibiza Holiday or 10000 cash await collection SAE TCs PO BOX 434 SK3 8WP 150 ppm 18 Kkwhen are you goingMeanwhile in the shit suite xavier decided to give us  ltgt  seconds of warning that samantha was coming over and is playing jays guitar to impress her or some shit Also I dont think doug realizes I dont live here anymoreMy stomach has been thru so much trauma I swear I just cant eat I better lose weightI am in officewhats the mattermsg me nowi will call you at breakYeah theres barely enough room for the two of us x has too many fucking shoes Sorry man see you laterTodays Offer Claim ur £150 worth of discount vouchers Text YES to 85023 now SavaMob member offers mobile T Cs 08717898035 £300 Sub 16  Unsub reply XU reach orchard already U wan 2 go buy tickets firstI am real baby I want to bring out your inner tigressNo da if you run that it activate the full version daAH POOR BABYHOPE URFEELING BETTERSN LUV PROBTHAT OVERDOSE OF WORK HEY GO CAREFUL SPK 2 U SN LOTS OF LOVEJEN XXXStop the story Ive told him ive returned it and hes saying i should not re order itTalk sexy Make new friends or fall in love in the worlds most discreet text dating service Just text VIP to 83110 and see who you could meetGoing to take your babe out Hai ana tomarrow am coming on morning  ltDECIMALgt  ill be there in sathy then we ll go to RTO office Reply me after came to homeSpoons it is then okayDid he just say somebody is named tampaIn work now Going have in few minYour brother is a geniusSorry I guess whenever I can get a hold of my connections maybe an hour or two Ill text youDid u find out what time the bus is at coz i need to sort some stuff outDude ive been seeing a lotta corvettes latelyCongratulations ur awarded either a yrs supply of CDs from Virgin Records or a Mystery Gift GUARANTEED Call 09061104283 TsCs wwwsmsconet £150pm approx 3minsSame here but I consider walls and bunkers and shit important just because I never play on peaceful but I guess your place is high enough that it dont matterPRIVATE Your 2003 Account Statement for 07808 XXXXXX shows 800 unredeemed S I M points Call 08719899217 Identifier Code 41685 Expires 071104Hello We need some posh birds and chaps to user trial prods for champneys Can i put you down I need your address and dob asap Ta rWhat do U want for Xmas How about 100 free text messages  a new video phone with half price line rental Call free now on 0800 0721072 to find out moreWell am officially in a philosophical hole so if u wanna call am at home ready to be savedIts going goodno problembut still need little experience to understand american customer voiceIll text you when I drop x offUgh its been a long day Im exhausted Just want to cuddle up and take a napTalk With Yourself Atleast Once In A Day Otherwise You Will Miss Your Best FRIEND In This WORLD Shakespeare SHESIL  ltgtShop till u Drop IS IT YOU either 10K 5K £500 Cash or £100 Travel voucher Call now 09064011000 NTT PO Box CR01327BT fixedline Cost 150ppm mobile varyAre you in castor You need to see somethingSunshine Quiz Wkly Q Win a top Sony DVD player if u know which country Liverpool played in mid week Txt ansr to 82277 £150 SPTyroneU have a secret admirer who is looking 2 make contact with Ufind out who they Rreveal who thinks UR so specialcall on 09058094565U have a Secret Admirer who is looking 2 make contact with Ufind out who they Rreveal who thinks UR so specialcall on 09065171142stopsms08Reminder You have not downloaded the content you have already paid for Goto httpdoit mymoby tv to collect your contentsee i knew giving you a break a few times woul lead to you always wanting to miss curfew I was gonna gibe you til one but a MIDNIGHT movie is not gonna get out til after 2 You need to come home You need to getsleep and if anything you need to b studdying ear trainingI love to give massages I use lots of baby oil What is your fave positionDude we should go sup againYoyyooo u know how to change permissions for a drive in mac My usb flash driveGibbs unsoldmike husseyI like to talk pa but am not able to I dont know yY dun cut too short leh U dun like ah She failed Shes quite sadYou unbelievable faglordWifehow she knew the time of murder exactlyWhy do you ask princessI am great princess What are you thinking about me Nutter Cutter Ctter Cttergg Cttargg Ctargg Ctagg ie youIts ok i noe ure busy but im really too bored so i msg u I oso dunno wat colour she choose 4 me oneDoesnt g have class early tomorrow and thus shouldnt be trying to smoke at  ltgtSuperb Thought Be grateful that u dont have everything u want That means u still have an opportunity to be happier tomorrow than u are todayHope you are having a good week Just checking inIm used to it I just hope my agents dont drop me since ive only booked a few things this year This whole me in boston them in nyc was an experimentThursday night Yeah sure thing well work it out thenYour free ringtone is waiting to be collected Simply text the password MIX to 85069 to verify Get Usher and Britney FML PO Box 5249 MK17 92H 450Ppw 16Probably money worries Things are coming due and i have several outstanding invoices for work i did two and three months agoHow is it possible to teach you And whereI wonder if your phone battery went dead  I had to tell you I love you babeLovely smell on this bus and it aint tobacco Were all getting worried over here derek and taylor have already assumed the worstHey whats up charles sorry about the late replyall the lastest from Stereophonics Marley Dizzee Racal Libertines and The Strokes Win Nookii games with Flirt Click TheMob WAP Bookmark or text WAP to 82468Ill give her once i have it Plus she said grinule greet you whenever we speakWHITE FUDGE OREOS ARE IN STORESJanuary Male Sale Hot Gay chat now cheaper call 08709222922 National rate from 15pmin cheap to 78pmin peak To stop texts call 08712460324 10pminMy love  How come it took you so long to leave for Zahers I got your words on ym and was happy to see them but was sad you had left I miss youI am sorry it hurt youCant I feel nauseous Im so pissed I didnt eat any sweets all week cause today I was planning to pig out I was dieting all week And now Im not hungry Ok lor but not too early Me still having project meeting nowCall me da i am waiting for your callI could ask carlos if we could get more if anybody else can chip inWas actually about to send you a reminder today Have a wonderful weekendWhen people see my msgs They think Iam addicted to msging They are wrong Bcoz They dont know that Iam addicted to my sweet Friends BSLVYLHey you gave them your photo when you registered for driving ah Tmr wanna meet at yck Dont talk to him ever ok its my wordWhen u wana see it thenOn ma way to school Can you pls send me ashleys numberIt shall be fine I have avalarr now Will hollalaterShe went to attend another two rounds todaybut still didt reach homeActually i deleted my old websitenow i m blogging at magicalsongsblogspotcomK wait chikkuil send aftr  ltgt minsBut Im on a diet And I ate 1 too many slices of pizza yesterday Ugh Im ALWAYS on a dietKi will give my kvb acc detailsOh all have to come ahmoney you r a lucky winner  2 claim your prize text money 2 88600 over £1million to give away  ppt150x3normal text rate box403 w1t1jyIm really sorry i wont b able 2 do this fridayhope u can find an alternativehope yr terms going okCongratulations ore mo owo re wa Enjoy it and i wish you many happy moments to and fro wherever you goSo do you have samus shoulders yetWhat time you think youll have it Need to know when I should be near campusDear Matthew please call 09063440451 from a landline your complimentary 4Lux Tenerife holiday or £1000 CASH await collection ppm150 SAE TCs Box334 SK38XHThen dun wear jeans lorSince when which side any fever any vomitinKkare you in collegeUrgent call 09061749602 from Landline Your complimentary 4 Tenerife Holiday or £10000 cash await collection SAE TCs BOX 528 HP20 1YF 150ppm 18Better Made up for Friday and stuffed myself like a pig yesterday Now I feel bleh But at least its not writhing pain kind of blehNo we sell it all so well have tons if coins Then sell our coins to someone thru paypal Voila Money back in life pocketsTheyre doing it to lots of places Only hospitals and medical places are safeHow about getting in touch with folks waiting for company Just txt back your NAME and AGE to opt in Enjoy the community 150pSMSAnd also Ive sorta blown him off a couple times recently so id rather not text him out of the blue looking for weedI sent my scores to sophas and i had to do secondary application for a few schools I think if you are thinking of applying do a research on cost also Contact joke ogunrinde her school is one me the less expensive onesI cant wait to see you How were the photos were useful Ur cashbalance is currently 500 pounds  to maximize ur cashin now send GO to 86688 only 150pmsg CC 08718720201 PO BOX 11414 TCRW1Hey i booked the kb on sat already what other lessons are we going for ah Keep your sat night free we need to meet and confirm our lodging Chk in ur belovd ms dictIs that what time you want me to comeAwesome lemme know whenever youre aroundShb b ok lor ThanxBeautiful Truth against Gravity Read carefully Our heart feels light when someone is in it But it feels very heavy when someone leaves it GOOD NIGHTAlso remember to get dobbys bowl from your carFilthy stories and GIRLS waiting for yourSorry i now then c ur msg Yar lor so poor thing But only 4 one night Tmr ull have a brand new room 2 sleep inLove isnt a decision its a feeling If we could decide who to love then life would be much simpler but then less magicalWelp apparently he retiredMy sort code is  and acc no is  The bank is natwest Can you reply to confirm ive sent this to the right personWhere U sure u cant take any sick timeURGENT We are trying to contact U Todays draw shows that you have won a £800 prize GUARANTEED Call 09050001808 from land line Claim M95 Valid12hrs onlyWatching cartoon listening music amp at eve had to go temple amp church What about uYo chad which gymnastics class do you wanna take The site says Christians class is fullAre you this much buzyOr better still can you catch her and let ask her if she can sell  ltgt  for meI am not sure about night menu   I know only about noon menuWhat do u want when i come backa beautiful necklace as a token of my heart for youthats what i will give but ONLY to MY WIFE OF MY LIKINGBE THAT AND SEENO ONE can give you thatdont call mei will wait till i comeAre you willing to go for aptitude classIt wont b until 215 as trying 2 sort house out is that okYar lor he wan 2 go c horse racing today mah so eat earlier lor I ate chicken rice UHaha awesome omw back now thenYup i thk so until e shop closes lorwhat is your account numberEh u send wrongly larHey no I ad a crap nite was borin without ya 2 boggy with me u boring biatch Thanx but u wait til nxt time il ave ya Ok i shall talk to himDont hesitate You know this is the second time she has had weakness like that So keep i notebook of what she eat and did the day before or if anything changed the day before so that we can be sure its nothingHey you can pay With salary de Only  ltgt Another month I need chocolate weed and alcoholIf he started searching he will get job in few dayshe have great potential and talentReckon need to be in town by eightish to walk from  carparkCongrats 2 mobile 3G Videophones R yours call 09063458130 now videochat wid your mates play java games Dload polyPH music noline rentlLOOK AT THE FUCKIN TIME WHAT THE FUCK YOU THINK IS UPYo guess what I just droppedCarlos says hell be at mu in  ltgt  minutesIm in office now  I will call you  ltgt  minGeeee  I miss you already you know  Your all I can think about Fuck I cant wait till next year when we will be together  loving kissYun ahthe ubi one say if ü wan call by tomorrowcall 67441233 look for ireneere only got bus822656166382 Ubi cresubi tech park6ph for 1st 5wkg daysènUgh Gotta drive back to sd from la My butt is sore26th OF JULYHi im having the most relaxing time ever we have to get up at 7am every day was the party good the other night I get home tomorrow at 5ishUp to ü Ü wan come then come lor But i din c any stripes skirtThe Xmas story is peace The Xmas msg is love The Xmas miracle is jesus Hav a blessed month ahead amp wish U Merry XmasI cant I dont have her numberChange again Its e one next to escalatorYetunde im in class can you not run water on it to make it ok Pls nowNot a lot has happened here Feels very quiet Beth is at her aunts and charlie is working lots Just me and helen in at the mo How have you been Then ü wait 4 me at bus stop aft ur lect lar If i dun c ü then i go get my car then come back n pick üAight will do thanks again for comin outNobut heard abt tatPlease call our customer service representative on FREEPHONE 0808 145 4742 between 9am11pm as you have WON a guaranteed £1000 cash or £5000 prizeYeshe is really greatbhaji told kallis best cricketer after sachin in worldvery tough to get outltgt  am I think Should say on syllabusUmma Did she say anythingGive me a sec to think think about itPanasonic  BluetoothHdset FREE Nokia FREE Motorola FREE  DoubleMins  DoubleTxt on Orange contract Call MobileUpd8 on 08000839402 or call 2optoutI dont quite know what to do I still cant get hold of anyone I cud pick you up bout 730pm and we can see if theyre in the pubPoyyarikaturkolathupalayamunjalur posterode dis ltgt Dear Heroi am leaving to qatar tonite for an apt opportunitypls do keep in touch at  ltEMAILgt keralaLol I would but my mom would have a fit and tell the whole family how crazy and terrible I amI just got home babe are you still awake I dunno they close oredi not Ü v ma fanJust buy a pizza Meat lovers or supreme U get to pickYa toldshe was asking wats matterDearregret i cudnt pick calldrove down frm ctla now at cochin homeleft mobile in carente style ishtamayoohappy bakridFREE for 1st week No1 Nokia tone 4 ur mob every week just txt NOKIA to 8007 Get txting and tell ur mates wwwgetzedcouk POBox 36504 W45WQ norm150ptone 16Shall i send that exe to your mail idNope watching tv at home Not going out V boredDon knowwait i will check itGood afternoon on this glorious anniversary day my sweet J  I hope this finds you happy and content my Prey I think of you and send a teasing kiss from across the sea coaxing images of fond souveniers  You CougarPenGuess what Somebody you know secretly fancies you Wanna find out who it is Give us a call on 09065394514 From Landline DATEBox1282EssexCM61XN 150pmin 18We still on for tonightMay i call You later PlsHasnt that been the pattern recently crap weekendsI have a sore throat Its scratches when I talkYes da Any plm at ur officeAre you not around or just still asleep VLol you forgot it eh  Yes Ill bring it in babeIts good well find a wayCan not use foreign stamps in this country Good lecture Yup bathe liaoHAPPY NEW YEAR MY NO1 MANOH MR SHEFFIELD You wanna play THAT game okay Youre the boss and Im the nanny You give me a raise and Ill give YOU oneZOE IT JUST HIT ME 2 IM FUCKING SHITIN MYSELF IL DEFO TRY MY HARDEST 2 CUM 2MOROW LUV U MILLIONS LEKDOGHello baby did you get back to your moms  Are you setting up the computer now  Filling your belly  How goes it loverboy  I miss you already  sighsNo my blankets are sufficient thxnaughty little thought its better to flirt flirt n flirt rather than loving someone n gettin hurt hurt n hurt Gud nytEdison has rightly said A fool can ask more questions than a wise man can answer Now you know why all of us are speechless during ViVa GMGNGEGNTThey just talking thats it de They wont any otherToday am going to college so am not able to atten the classIm in class Will holla laterEasy ahsen got selected means its goodMmm thats better now i got a roast down me i\\x92d b better if i had a few drinks down me 2 Good indianWe know someone who you know that fancies you Call 09058097218 to find out who POBox 6 LS15HB 150pCome round its  Do 1 thing Change that sentence into Because i want 2 concentrate in my educational career im leaving here1000s flirting NOW Txt GIRL or BLOKE  ur NAME  AGE eg GIRL ZOE 18 to 8007 to join and get chattingI walked an hour 2 c u doesn\\x92t that show I care y wont u believe im serious18 days to Euro2004 kickoff U will be kept informed of all the latest news and results daily Unsubscribe send GET EURO STOP to 83222Are you available for soiree on June 3rdDo u noe wat time e place dat sells 4d closesI got another job The one at the hospital doing data analysis or something starts on monday Not sure when my thesis will got finishedJays getting really impatient and belligerentHIYA COMIN 2 BRISTOL 1 ST WEEK IN APRIL LES GOT OFF  RUDI ON NEW YRS EVE BUT I WAS SNORINGTHEY WERE DRUNK U BAK AT COLLEGE YET MY WORK SENDS INK 2 BATHIm at work Please callThen u drive lorArd 515 like dat YTell me theyre female V howre you throwing in Were deciding what all to get nowEASTENDERS TV Quiz What FLOWER does DOT compare herself to D VIOLET E TULIP F LILY txt D E or F to 84025 NOW 4 chance 2 WIN £100 Cash WKENT150P16Im working technical support voice processnetworking fieldI might come to kerala for 2 daysso you can be prepared to take a leave once i finalise dont plan any travel during my visitneed to finish urgent worksOk Not sure what time tho as not sure if can get to library before class Will try See you at some point Have good eveWe have new local dates in your area  Lots of new people registered in YOUR AREA Reply DATE to start now 18 only wwwflirtpartyus REPLYS150Thats fine Ill bitch at you about it later thenNo my mum went 2 dentistOnce free call me sir I am waiting for youMeeting u is my work   Tel me when shall i do my work tomorrowSomeone U know has asked our dating service 2 contact you Cant Guess who CALL 09058091854 NOW all will be revealed PO BOX385 M6 6WUJus finish bathingalright Ill make sure the car is back tonightURGENT We are trying to contact U Todays draw shows that you have won a £800 prize GUARANTEED Call 09050003091 from land line Claim C52 Valid12hrs onlyDear Uve been invited to XCHAT This is our final attempt to contact u Txt CHAT to 86688Lul im gettin some juicy gossip at the hospital Two nurses are talking about how fat they are gettin And one thinks shes obese OyeaAight ill get on fb in a couple minutesOi Ami parchi na re Kicchu kaaj korte iccha korche na Phone ta tul na Plz PlzWhere can download clear movies Dvd copiesYep by the pretty sculptureConvey my regards to himMe too watching surya movie only  after 6 pm vijay movie POKKIRIYou tell what happen dont behave like this to me Ok no need to sayCan u get pic msgs to your phoneSend to someone else Wat makes some people dearer is not just de happiness dat u feel when u meet them but de pain u feel when u miss demFor me the love should start with attractioni should feel that I need her every time around meshe should be the first thing which comes in my thoughtsI would start the day and end it with hershe should be there every time I dreamlove will be then when my every breath has her namemy life should happen around hermy life will be named to herI would cry for herwill give all my happiness and take all her sorrowsI will be ready to fight with anyone for herI will be in love when I will be doing the craziest things for herlove will be when I dont have to proove anyone that my girl is the most beautiful lady on the whole planetI will always be singing praises for herlove will be when I start up making chicken curry and end up makiing sambarlife will be the most beautiful thenwill get every morning and thank god for the day because she is with meI would like to say a lotwill tell laterFRNDSHIP is like a needle of a clock Though V r in d same clock V r nt able 2 met Evn if V meetitz only 4few seconds Bt V alwys stay conected Gud 9tI dont think he has spatula handsYou can never do NOTHINGYou are awarded a SiPix Digital Camera call 09061221061 from landline Delivery within 28days T Cs Box177 M221BP 2yr warranty 150ppm 16  p p£399Goodmorning today i am late for  ltDECIMALgt minWIN URGENT Your mobile number has been awarded with a £2000 prize GUARANTEED call 09061790121 from land line claim 3030 valid 12hrs only 150ppm Please da call me any mistake from my side sorry da Pls da goto doctorWhere r we meetingWell the weather in calis great But its complexities are great You need a car to move freely its taxes are outrageous But all in all its a great place The sad part is i missing homeNow only i reached home   I am very tired now  I will come tomorroRyder unsoldnow gibbsDear Subscriber ur draw 4 £100 gift voucher will b entered on receipt of a correct ans When was Elvis Presleys Birthday TXT answer to 80062Dont fret Ill buy the ovulation test strips and send them to you You wont get them til like march Can you send me your postal addressull be alrightOkayNO GIFTS You trying to get me to throw myself off a cliff or somethingBeen up to ne thing interesting Did you have a good birthday When are u wrking nxt I started uni todayYou busy or can I come by at some point and figure out what were doing tomorrowYeah go on then bored and depressed sittin waitin for phone to ring Hope the wind drops though scaryBlack shirt n blue jeans I thk i c üAiyah sorry lor I watch tv watch until i forgot 2 check my phoneMessage Important information for O2 user Today is your lucky day 2 find out why log onto httpwwwurawinnercom there is a fantastic surprise awaiting youon hen night Going with a swingGood afternoon my love How goes your day  What are you up to  I woke early and am online waiting for you  Hmmm  Italian boy is online I see  grinsFrom someone not to smoke when every time Ive smoked in the last two weeks is because of you calling or texting me that you wanted to smokeNo youll just get a headache trying to figure it out U can trust me to do the math I promise OS sfirst timedhoni rocksOk ill tell the companyAwesome think we can get an 8th at usf some time tonightSo that means you still think of tejuNo Im good for the movie is it ok if I leave in an hourishNo nothis is kallis home groundamla home town is durbanSo lets make it saturday or monday as per convenienceHey What time is your driving on fri We go for evaluation on fri449050000301 You have won a £2000 price To claim call 09050000301Im going 4 lunch now wif my family then aft dat i go str 2 orchard lorBored of speed dating Try SPEEDCHAT txt SPEEDCHAT to 80155 if you dont like em txt SWAP and get a new chatter Chat80155 POBox36504W45WQ 150pmsg rcd 16Cancel cheyyamoand get some money backDo you want 750 anytime any network mins 150 text and a NEW video phone for only five pounds per week call 08000776320 now or reply for delivery TomorrowOkok okthenwhats ur todays planGood morning princess How are youAiyar sorry lor forgot 2 tell uFor taking part in our mobile survey yesterday You can now have 500 texts 2 use however you wish 2 get txts just send TXT to 80160 TC wwwtxt43com 150pNot tonight mate Catching up on some sleep This is my new number by the way Height of Oh shit situation A guy throws a luv letter on a gal but falls on her brothers head whos a gayDUr HMV Quiz cashbalance is currently £500  to maximize ur cashin now send HMV1 to 86688 only 150pmsgSo check your errors and if you had difficulties do correctionHowz painhope u r fineSorry Ill call laterGood morning princess How are youAs I entered my cabin my PA said  Happy Bday Boss  I felt special She askd me 4 lunch After lunch she invited me to her apartment We went thereU wake up already Thanx 4 e tau sar piah its quite niceK do I need a login or anythingDont forget you can place as many FREE Requests with 1stchoicecouk as you wish For more Information call 08707808226LOL  No just was busyWhat  u wearingMessagesome text missing SenderName Missing Number Missing SentDate missing Missing U a lot thats y everything is missing sent via fullonsmscomOhas usual vijay film or its differentI dont know u and u dont know me Send CHAT to 86688 now and lets find each other Only 150pMsg rcvd HGSuite3422LandsRowW1J6HL LDN 18 years or overHave you had a good day Mine was really busy are you up to much tomorrow nightAnd is there a way you can send shades stuff to her And she has been wonderful tooReally I tot ur paper ended long ago But wat u copied jus now got use U happy lar I still haf 2 study Thank you winner notified by sms Good Luck No future marketing reply STOP to 84122 customer services 08450542832Babe  I lost you  Ok Help me ask if shes working tmr a notIm not driving Raining Then ill get caught at e mrt station lorNot a drop in the tankThat said can you text him one more timeSorry Ill call laterOk i go change also1000s of girls many local 2 u who r virgins 2 this  r ready 2 4fil ur every sexual need Can u 4fil theirs text CUTE to 69911£150p mDid u find a sitter for kaitlyn I was sick and slept all day yesterdaySorry man accidentally left my phone on silent last night and didnt check it til I got upHey Something came up last min Think i wun be signing up tmr HeeHes an adult and would learn from the experience Theres no real danger I just dont like peeps using drugs they dont need But no commentHey Theres veggie pizza Yun buying But school got offer 2000 plus onlyYou sure your neighbors didnt pick it upK I will sent it againFree entry in 2 a wkly comp to win FA Cup final tkts 21st May 2005 Text FA to 87121 to receive entry questionstd txt rateTCs apply 08452810075over18sNew Theory Argument wins d SITUATION but loses the PERSON So dont argue with ur friends just    kick them amp say Im always correctWell Im computerless Time to make some oreo trufflesHaha yeah I see that now be there in a secI am not having her number sirLol now Im after that hot air balloonOk   now i am in bus  If i come soon i will come otherwise tomorrowMsgs r not time passThey silently say that I am thinking of U right now and also making U think of me at least 4 a moment Gd ntswt drms ShesilYeah we can probably swing by once my roommate finishes up with his girlGot what it takes 2 take part in the WRC Rally in Oz U can with Lucozade Energy Text RALLY LE to 61200 25p see packs or lucozadecoukwrc  itcould be uHappy new years melodyÜ dun need to pick ur gfYay You better not have told that to 5 other girls eitherHorrible u eat macs eat until u forgot abt me already rite U take so long 2 reply I thk its more toot than b4 so b prepared Now wat shall i eatDid he say how fantastic I am by any chance or anything need a bigger life lift as losing the will 2 live do you think I would be the first person 2 die from N V Q Just nw i came to hme daIm outside islands head towards hard rock and youll run into meTo day class is there are no classIm in chennai velacheryYou flippin your shit yetK give me a sec breaking a  ltgt  at cstoreAm i that much bad to avoid like thisYo you around Just got my car backAnnoying isnt itGoodmorning Today i am late for  ltgt minTheres no point hangin on to mr not right if hes not makin u happyAll will come alivebetter correct any good looking figure there itselfIn that case I guess Ill see you at campus lodgeWere doneCome to my home for one last time i wont do anything Trust meI was up all night too worrying about this appt Its a shame we missed a girls night out with quizzes popcorn and you doing my hairSex up ur mobile with a FREE sexy pic of Jordan Just text BABE to 88600 Then every wk get a sexy celeb PocketBabecouk 4 more pics 16 £3wk 087016248Ok C yaYou have 1 new voicemail Please call 08719181503What he said is not the matter My mind saying some other matter is thereHe also knows about lunch menu only da  I knowAl he does is moan at me if n e thin goes wrong its my faultal de arguments r my faultfed up of him of himso y bother Hav 2go thanxxxNEFT Transaction with reference number  ltgt  for Rs ltDECIMALgt  has been credited to the beneficiary account on  ltgt  at  ltTIMEgt  ltgtOtherwise had part time job natuitionI know she called meMe also da i feel yesterday night  wait til 2day night dearThanks for understanding Ive been trying to tell sura thatWIN a year supply of CDs 4 a store of ur choice worth £500  enter our £100 Weekly draw txt MUSIC to 87066 TsCs wwwLdewcomsubs161win150ppmx3The whole car appreciated the last two Dad and are having a map reading semi argument but apart from that things are going ok PAs a SIM subscriber you are selected to receive a Bonus Get it delivered to your door Txt the word OK to No 88600 to claim 150pmsg EXP 30AprI need you to be in my strong armsAlso maaaan are you missing outHis bday real is in april Guessin you aint gonna be here before 9Ok then i will come to ur home after half an hourYo the game almost over Want to go to walmart soonYeah probably but not sure Ilol let u know but personally I wuldnt bother then again if ur goin to then I mite as wellIll text now All creepy like so he wont think that we forgotthat would be good … Ill phone you tomo lunchtime shall I to organise somethingYou have 1 new voicemail Please call 08719181513Damn can you make it tonight or do you want to just wait til tomorrowKkim also finewhen will you complete the courseTrue It is passable And if you get a high score and apply for phd you get 5years of salary So it makes life easierNo 1 Nokia Tone 4 ur mob every week Just txt NOK to 87021 1st Tone FREE  so get txtin now and tell ur friends 150ptone 16 reply HL 4infoPrakesh is there knowTeach me apps da When you come to collegeRofl betta invest in some  anti aging productsYou are a winner U have been specially selected 2 receive £1000 cash or a 4 holiday flights inc speak to a live operator 2 claim 0871277810810sir you will receive the account no another 1hr time Sorry for the delayReply with your name and address and YOU WILL RECEIVE BY POST a weeks completely free accommodation at various global locations wwwphb1com ph08700435505150pSo üll be submitting da project tmr riteFREE entry into our £250 weekly comp just send the word ENTER to 84128 NOW 18 TC wwwtextcompcom cust care 08712405020Jus ans me lar Ull noe laterI want to send something that can sell fast  ltgt k is not easy moneyhave got  few things to do may be in  pub later1s finish meeting call meLol ok Ill snatch her purse tooHellodrivby0quit edrunk sorry iff pthis makes no senrddnot no how  dancce 2 drum n basqihave fun 2nhite x ros xxxxxxxYour opinion about me 1 Over 2 Jada 3 Kusruthi 4 Lovable 5 Silent 6 Spl character 7 Not matured 8 Stylish 9 Simple Pls replyHow much are we gettingIs ur paper in e morn or aft tmrDear relieved of westonzoyland all going to plan this end tooHope you are having a great new semester Do wish you the very best You are made for greatnessOh yes I can speak txt 2 u no Hmm Did u get  emailI want to show you the world princess  how about europeNobody can decide where to eat and dad wants ChineseNo shoot me Im in the docs waiting room Now Im going out 4 dinner soonHello which the site to download songs its urgent plsI do know what u mean  is the king of not havin credit Im goin2bed now Night night sweet Only1more sleep Horrible gal Me in sch doing some stuff How come u got mcHI HUN IM NOT COMIN 2NITETELL EVERY1 IM SORRY 4 ME HOPE U AVA GOODTIMEOLI RANG MELNITE IFINK IT MITE B SORTEDBUT IL EXPLAIN EVERYTHIN ON MONL8RSxI call you later dont have network If urgnt sms meUmmmmmaah Many many happy returns of d day my dear sweet heart HAPPY BIRTHDAY dearPlease CALL 08712402779 immediately as there is an urgent message waiting for youYeah like if it goes like it did with my friends imma flip my shit in like half an hourMum say we wan to go then go Then she can shun bian watch da glass exhibition What your plan for pongalJust wait till end of march when el nino gets himself OhNot yet chikkugoing to room nw im in busAm also doing in cbe only But have to payHoney boo Im missing uWe have sent JD for Customer Service cum Accounts Executive to ur mail id For details contact usYo Im at my parents gettin cash Good news we picked up a downstemThank you so much When we skyped wit kz and sura we didnt get the pleasure of your company Hope you are good Weve given you ultimatum oh We are countin down to aburo EnjoyHungry gay guys feeling hungry and up 4 it now Call 08718730555 just 10pmin To stop texts call 08712460324 10pminOk No wahala Just remember that a friend in need I will see in half an hourIm in inperialmusic listening2the weirdest track ever by\\x94leafcutter john\\x94sounds like insects being molestedsomeone plumbingremixed by evil men on acidHey sorry I didntgive ya a a bellearlier hunnyjust been in bedbut mite go 2 thepub l8tr if uwana mt uploads a luv JenxxxSERIOUSLY TELL HER THOSE EXACT WORDS RIGHT NOWCan U get 2 phone NOW I wanna chat 2 set up meet Call me NOW on 09096102316 U can cum here 2moro Luv JANE xx Calls£1minmoremobsEMSPOBox45PO139WATee hee Off to lecture cheery bye byeSorry chikku my cell got some problem thts y i was nt able to reply u or msg uIf you still havent collected the dough pls let me know so i can go to the place i sent it to get the control numberOknetwork operator The service is free For T  Cs visit 80488bizLet me know how to contact you Ive you settled in a room Lets know you are okWot u up 2 u weirdoCan do lorDont put your phone on silent mode okCan i meet ü at 5 As 4 where depends on where ü wan 2 in lorWaiting 4 my tv show 2 start lor U leh still busy doing ur reportOh ho Is this the first time u use these type of wordsAm I the only one who doesnt stalk profilesEver green quote ever told by Jerry in cartoon A Person Who Irritates u Always Is the one Who Loves u Vry Much But Fails to Express It   gud nytYes i thought so ThanksBut if shes drinkin im okJust wondering the others just took offNight has ended for another day morning has come in a special way May you smile like the sunny rays and leaves your worries at the blue blue bay Gud mrngWhat do you do my dog  Must I always wait till the end of your day to have word from you  Did you run out of time on your cell alreadyHappy new year to u tooHeyGreat dealFarm tour 9am to 5pm 95pax 50 deposit by 16 MayEat jap done oso aft ur lect wat Ü got lect at 12 rite Hey babe I saw you came online for a second and then you disappeared what happened Da my birthdate in certificate is in april but real date is today But dont publish it I shall give you a special treat if you keep the secret Any way thanks for the wishesHappy birthday May all ur dreams come trueAiyah u did ok already lar E nydc at wheellockTELL HER I SAID EAT SHITSure I am driving but will reach my destination soonK so am I how much for an 8th FiftyYour daily text from me – a favour this timeGreat to hear you are settling well So whats happenin wit olaThose cocksuckers If it makes you feel better ipads are worthless garbage novelty items and you should feel bad for even wanting oneI tot u reach liao He said tshirtFRAN I DECIDED 2 GO N E WAY IM COMPLETELY BROKE AN KNACKERED I GOT UP BOUT 3 C U 2MRW LOVE JANX PS THIS IS MY DADS FONE NO CREDITI cant pick the phone right now Pls send a messageYour right Ill make the appointment right nowDesignation is software developer and may be she get chennaiEnjoy the jamster videosound gold club with your credits for 2 new videosounds2 logosmusicnews get more fun from jamstercouk 16only Help call 09701213186 Get 3 Lions England tone reply lionm 4 mono or lionp 4 poly 4 more go 2 wwwringtonescouk the original n best Tones 3GBP network operator rates applyI jokin oni lar Ü busy then i wun disturb üOk be careful  Dont text and drive Ill always be there even if its just in spirit Ill get a bb soon Just trying to be sure i need itU r too much close to my heart If u go away i will be shattered Plz stay with meI love u 2 babe R u sure everything is alrite Is he being an idiot Txt bak girlieHow abt making some of the pics biggerGot but got 2 colours lor One colour is quite light n e other is darker lor Actually im done shes styling my hair nowWhenevr ur sad Whenevr ur gray Remembr im here 2 listn 2 watevr u wanna say Jus walk wid me a little whileamp I promise Ill bring back ur smileWhy nothing Ok anyway give me treatWin the newest “Harry Potter and the Order of the Phoenix Book 5 reply HARRY answer 5 questions  chance to be the first among readersOkCorrect So how was work todayJust sent again Do you scream and moan in bed princessI wake up long ago already Dunno what other thingOh just getting even with u uI thk 50 shd be ok he said plus minus 10 Did ü leave a line in between paragraphsCan you call me plz Your number shows out of coveragd area I have urgnt call in vasai amp have to reach before 4o clock so call me plzYeah jays sort of a fucking retardSorry was in the bathroom supUr balance is now £500 Ur next question is Who sang Uptown Girl in the 80s  2 answer txt ur ANSWER to 83600 Good luckMy exam is for february 4 Wish you a great dayI dont know what to do to come out of this so only am ask questions like this dont mistake meAight no rush Ill ask jayGood Morning plz call me sirIts ok lar U sleep early too NiteOh Icic K lor den meet other dayOh  A half hour is much longer in Syria than Canada eh  Wow you must get SO much more work done in a day than us with all that extra time  grinsSometimes we put walls around our heartsnot just to be safe from getting hurt But to find out who cares enough to break the walls amp get closer GOODNOONSweet we may or may not go to 4U to meet carlos so gauge pattys interest in thatThen she buying today Ü no need to c mehAight sorry I take ten years to shower Whats the planEvery mondaynxt week vl be completingMight ax well im thereJust chill for another 6hrs If you could sleep the pain is not a surgical emergency so see how it unfolds OkayYeah Ill try to scrounge something upCrazy ar hes married Ü like gd looking guys not me My frens like say hes korean leonas fave but i dun thk he is Aft some thinking mayb most prob ill goWere somewhere on FredericksburgQue pases un buen tiempo or something like thatIs it ok if I stay the night here Xavier has a sleeping bag and Im getting tiredShe doesnt need any testNothing much chillin at home Any super bowl planFREE2DAY sexy St Georges Day pic of JordanTxt PIC to 89080 dont miss out then every wk a saucy celeb4 more pics c PocketBabecouk 0870241182716 £3wkBugis oso near wat Yo theres no class tmrw rightLet Ur Heart Be Ur Compass Ur Mind Ur Map Ur Soul Ur Guide And U Will Never loose in worldgnun  Sent via WAY2SMSCOMGoodnight sleep well da please take care pa PleaseBaaaaabe I misss youuuuu  Where are you  I have to go and teach my class at 5 Convey my regards to himU ned to convince him tht its not possible witot hurting his feeling its the mainGood afternoon loverboy  How goes you day  Any luck come your way I think of you sweetie and send my love across the sea to make you smile and happyIf i start sending blackberry torch to nigeria will you find buyer for melike 4a month And tell dad not to buy bb from anyone ohltgt of pple marry with their lovers becz they hav gud undrstndng dat avoids problems i sent dis 2 u u wil get gud news on friday by d person you like And tomorrow will be the best day of your life Dont break this chain If you break you will suffer send this to  ltgt  frnds in ltgt  mins whn u readYo dude guess who just got arrested the other dayShuhui say change 2 suntec steamboat U noe where Where r u nowWhat does the dance river doYetunde im sorry but moji and i seem too busy to be able to go shopping Can you just please find some other way to get what you wanted us to get Please forgive me You can reply free via yahoo messengerHey i will be really pretty late You want to go for the lesson first I will join you Im only reaching tp mrtHOT LIVE FANTASIES call now 08707509020 Just 20p per min NTT Ltd PO Box 1327 Croydon CR9 5WB 0870kBbq this sat at mine from 6ish Ur welcome 2 comeI dont know same thing thats wrong everyso often he panicks starts goin on bout not bein good enough …Alright Im outhave a good nightDid you try making another buttHope you are feeling great Pls fill me in AbiolaI though we shd go out n have some fun so bar in town or something – sound ok1 Go to write msg 2 Put on Dictionary mode 3Cover the screen with hand 4Press  ltgt  5Gently remove Ur hand Its interestingBears Pic Nick and Tom Pete and  Dick In fact all types try gay chat with photo upload call 08718730666 10pmin 2 stop texts call 08712460324500 New Mobiles from 2004 MUST GO Txt NOKIA to No 89545  collect yours todayFrom ONLY £1 www4tcbiz 2optout 08718726270150gbpmtmsg18 TXTAUCTIONWere finally ready fyiAuntie huai juan never pick up her phoneDouble Mins  Double Txt  12 price Linerental on Latest Orange Bluetooth mobiles Call MobileUpd8 for the very latest offers 08000839402 or call2optoutLF56Ya tel wats ur problemNo 1 Nokia Tone 4 ur mob every week Just txt NOK to 87021 1st Tone FREE  so get txtin now and tell ur friends 150ptone 16 reply HL 4infoi dnt wnt to tlk wid uWe spend our days waiting for the ideal path to appear in front of us But what we forget is paths are made by walking not by waiting GoodnightIts ok my arm is feeling weak cuz i got a shot so we can go another timePlease reserve ticket on saturday eve from chennai to thirunelvali and again from tirunelvali to chennai on sunday evei already see in netno ticket availablei want to book ticket through tackle Storming msg Wen u lift d phne u say HELLO Do u knw wt is d real meaning of HELLO    Its d name of a girl    Yes And u knw who is dat girl Margaret Hello She is d girlfrnd f Grahmbell who invnted telphone     MoralOne can 4get d name of a person bt not his girlfrnd G o o d n i g h t   Thats ok I popped in to ask bout something and she said youd been in Are you around tonght wen this girl comesAll e best 4 ur exam laterHope ur head doesnt hurt 2 much  Am ploughing my way through a pile of ironing  Staying in with a chinky tonight come round if you likeOh ki think most of wi and nz players unsoldHaha Where got so fast lose weight thk muz go 4 a month den got effect Geelater we go aust put bk e weightI wonder how you got online my love  Had you gone to the net cafe  Did you get your phone recharged  Were you on a friends net  I think of you boytoyHaha just kidding papa needs drugsThk shld b can Ya i wana go 4 lessons Haha can go for one whole stretchOh okR we still meeting 4 dinner tonightThats cool I am a gentleman and will treat you with dignity and respectShall i start from hearThen we wait 4 u lor No need 2 feel bad larNo did you check I got his detailed message nowYou have registered Sinco as Payee Log in at icicibankcom and enter URN  ltgt  to confirm Beware of frauds Do NOT share or disclose URN to anyoneNo I decided that only people who care about stuff vote and caring about stuff is for losersKaiez Enjoy ur tuition Gee Thk e second option sounds beta Ill go yan jiu den msg uYou have registered Sinco as Payee Log in at icicibankcom and enter URN  ltgt  to confirm Beware of frauds Do NOT share or disclose URN to anyonecool We will have fun practicing making babiesActually getting ready to leave the houseKkany special todayURGENT IMPORTANT INFORMATION FOR O2 USER TODAY IS YOUR LUCKY DAY 2 FIND OUT WHY LOG ONTO HTTPWWWURAWINNERCOM THERE IS A FANTASTIC SURPRISE AWAITING FOR YOUThen we gotta do it after thatIve got ten bucks jay is being noncomittalWhere at were hungry tooPls speak to that customer machansomewhere out there beneath the pale moon light someone think in of u some where out there where dreams come true goodnite amp sweet dreamsWen ur lovable bcums angry wid u dnt take it seriously Coz being angry is d most childish n true way of showing deep affection care n luv kettoda manda Have nice day daDear Uve been invited to XCHAT This is our final attempt to contact u Txt CHAT to 86688 150pMsgrcvdHGSuite3422LandsRowW1J6HL LDN 18 yrsSo wats ur opinion abt him and how abt is characterJay is snickering and tells me that x is totally fucking up the chords as we speakNofew hours beforewent to hair cut No wonder Cos i dun rem seeing a silver car But i thk i saw a black oneLmao Take a pic and send it to meSpeak only when you feel your words are better than the silence Gud mrngNo Shes currently in scotland for thatDo you work all this week Congratulations ur awarded either £500 of CD gift vouchers  Free entry 2 our £100 weekly draw txt MUSIC to 87066 TnCs wwwLdewcom 1 win150ppmx3age16Lol great now im getting hungryYes now only saw your messageIll be at mu in like  ltgt  secondsOkTHING R GOOD THANX GOT EXAMS IN MARCH IVE DONE NO REVISION IS FRAN STILL WITH BOYF IVE GOTTA INTERVIW 4 EXETER BIT WORRIEDxTell you what if you make a little spreadsheet and track whose idea it was to smoke to determine who smokes too much for the entire month of february Ill come upFor sale  arsenal dartboard Good condition but no doubles or treblesDont look back at the building because you have no coat and i dont want you to get more sick Just hurry home and wear a coat to the gymMy painful personal thought I always try to keep everybody happy all the time But nobody recognises me when i am aloneThanks for ve lovely wisheds You rockYou intrepid duo you Have a great time and see you both soon I asked sen to come chennai and search for jobDad went out oredi I jus hope its true that  missin me cos im really missin him You havent done anything to feel guilty about yetWat so late still early mah Or we juz go 4 dinner lor Aiya i dunnoArms fine hows Cardiff and uni In fact when do you leave I think addie goes back to school tues or wedCool breeze Bright sun Fresh flower Twittering birds All these waiting to wish u GOODMORNING amp HAVE A NICE DAY Yagoing for restaurantIts ok i just askd did u knw tht noFree 1st week entry 2 TEXTPOD 4 a chance 2 win 40GB iPod or £250 cash every wk Txt POD to 84128 TsCs wwwtextpodnet custcare 08712405020Those ducking chinchillasI am in a marriage functionLooks like u wil b getting a headstart im leaving here bout 230ish but if u r desperate for my company I could head in earlierwe were goin to meet in rummerDon‘t give a flying monkeys wot they think and I certainly don‘t mind Any friend of mine and all thatAs a registered optin subscriber ur draw 4 £100 gift voucher will be entered on receipt of a correct ans to 80062 Whats No1 in the BBC chartssay thanks2 Msg me when rajini comesYa when are ü taking ure practical lessons I start in june  Thats good because I need drugsStupidits not possibleCan ü all decide faster cos my sis going home liaoSummers finally here Fancy a chat or flirt with sexy singles in yr area To get MATCHED up just reply SUMMER now Free 2 Join OptOut txt STOP Help08714742804U sleeping now Or you going to take Haha I got spys wat Me online checking n replying mails lorCLAIRE here am havin borin time  am now alone U wanna cum over 2nite Chat now 09099725823 hope 2 C U Luv CLAIRE xx Calls£1minmoremobsEMSPOBox45PO139WAFighting with the world is easy u either win or lose bt fightng with some1 who is close to u is dificult if u lose  u lose if u win  u still loseBought one ringtone and now getting texts costing 3 pound offering more tones etcYalru lyfu astne chikku Bt innu mundhe lyf ali halla ke bilo marriageprogram edhae so lyf is nt yet ovr chikkuali vargu lyfu meow meowDKinda First one gets in at twelve Aah Speak tomo09066362231 URGENT Your mobile No 07xxxxxxxxx won a £2000 bonus caller prize on 020603 this is the 2nd attempt to reach YOU call 09066362231 ASAPOk good then i later come find ü C lucky i told ü to go earlier Later pple take finish ü no more againWat makes u thk ill fall down But actually i thk im quite prone 2 falls Lucky my dad at home i ask him come n fetch me alreadyYOU 07801543489 are guaranteed the latests Nokia Phone a 40GB iPod MP3 player or a £500 prize Txt wordCOLLECT to No83355 TCLLC NYUSA 150pMt msgrcvd18Your account has been refilled successfully by INR  ltDECIMALgt  Your KeralaCircle prepaid account balance is Rs  ltDECIMALgt  Your Transaction ID is KR ltgt I wont touch you with out your permissionHi its LUCY Hubby at meetins all day Fri  I will B alone at hotel U fancy cumin over Pls leave msg 2day 09099726395 Lucy x Calls£1minMobsmoreLKPOBOX177HP51FL7 wonders in My WORLD 7th You 6th Ur style 5th Ur smile 4th Ur Personality 3rd Ur Nature 2nd Ur SMS and 1st Ur Lovely Friendship good morning dearTake some small dose tablet for feverOh U must have taken your REAL Valentine out shopping firstJust sent you an email – to an address with incomm in it is that rightWill do you gonna be at blakes all night I might be able to get out of here a little earlyFriendship is not a game to play It is not a word to say It doesnt start on March and ends on May It is tomorrow yesterday today and eNice Waitshould you be texting right now Im not gonna pay your ticket ya knowIm watching lotr w my sis dis aft So u wan 2 meet me 4 dinner at nite a notWhy you keeping me away like thisI think its far more than that but find out Check google maps for a place from your dormMy trip was ok but quite tiring lor Uni starts today but its ok 4 me cos im not taking any modules but jus concentrating on my final yr projectHave you always been saying welpIm a guy browsin is compulsoryOkPurity of friendship between two is not about smiling after reading the forwarded messageIts about smiling just by seeing the name Gud evng musthuSorry Ill call laterI should add that I dont really care and if you cant I can at least get this dude to fuck off but hey your money if you want itHello lover How goes that new job Are you there now Are you happy Do you think of me I wake my slave and send you a teasing kiss from across the seaI told your number to gauthamTell them no need to investigate about me anywhereOk i juz receiveCant believe i said so many things to you this morning when all i really wanted to say was good morning i love you Have a beautiful morning See you in the library laterYour account has been credited with 500 FREE Text Messages To activate just txt the word CREDIT to No 80488 TCs www80488bizIn the end she might still vomit but its okay Not everything will come outHow are you with moneYas in to youmoney aint a thinghow are you shaIt has everything to do with the weather Keep extra warm Its a cold but nothing serious Pls lots of vitamin cHey gals Anyone of u going down to e driving centre tmrIm always on yahoo messenger now Just send the message to me and ill get it you may have to send it in the mobile mode sha but ill get it And will replyIm putting it on now It should be ready for  ltTIMEgt Time n Smile r the two crucial things in our life Sometimes time makes us to forget smile and sometimes someones smile makes us to forget time gud noonSMS ac JSco Energy is high but u may not know where 2channel it 2day ur leadership skills r strong Psychic Reply ANS wquestion End Reply END JSCOHostbased IDPS for linux systemsHOT LIVE FANTASIES call now 08707509020 Just 20p per min NTT Ltd PO Box 1327 Croydon CR9 5WB 0870 is a national rate callDon no dawhats you planIll be there on  ltgt  okOh my God Im almost homeTotal video converter free download type this in google searchThanks for the Vote Now sing along with the stars with Karaoke on your mobile For a FREE link just reply with SING nowWen ur lovable bcums angry wid u dnt take it seriously Coz being angry is d most childish n true way of showing deep affection care n luv kettoda manda Have nice day daSounds like something that someone testing me would sayyWhen u love someone Dont make them to love u as much as u do But Love them so much that they dont want to be loved by anyone except you Gud nitPeteis this your phone still Its Jenny from college and Leannewhat are you up to nowOops sorry Just to check that you dont mind picking me up tomo at half eight from station Would that be okHey sweet I was wondering when you had a moment if you might come to me  I want to send a file to someone but it wont go over yahoo for them because their connection sucks remember when you set up that page for me to go to and download the format disc  Could you tell me how to do that  Or do you know some other way to download big files  Because they can download stuff directly from the internet Any help would be great my prey  teasing kissHows the champ just leaving glasgowKall the bestcongratsI wonder if youll get this textI need to come home and give you some good lovinOur brand new mobile music service is now live The free music player will arrive shortly Just install on your phone to browse content from the top artistsShall i ask one thing if you dont mistake meCheck wid corect speling ie SarcasmURGENT Your Mobile No was awarded a £2000 Bonus Caller Prize on 10803 This is our 2nd attempt to contact YOU Call 08714719523 BOX95QU BT National RateAre you angry with me What happen dearI thk u dun haf 2 hint in e forum already lor Cos i told ron n darren is going 2 tell shuhuiYup ok thanxHicts employee how are youPls pls find out from aunt nikeWow  I love you sooo much you know  I can barely stand it  I wonder how your day goes and if you are well my love  I think of you and miss youNo screaming means shoutingHey what happen de Are you alrightShould I have picked up a receipt or something earlierI think chennai well settledOh dang I didnt mean o send that to you LolUnfortunately ive just found out that we have to pick my sister up from the airport that evening so dont think ill be going out at all We should try to go out one of thHorrible bf I now v hungryRemember on that dayYou have won a Nokia 7250i This is what you get when you win our FREE auction To take part send Nokia to 86021 now HGSuite3422Lands RowW1JHL 16Hows it feel Mr Your not my real Valentine just my yo Valentine even tho u hardly playAll sounds good Fingers  Makes it difficult to typeMidnight at the earliestYoure not sure that Im not trying to make xavier smoke because I dont want to smoke after being told I smoke too muchK come to nordstrom when youre doneDo u konw waht is rael FRIENDSHIP Im gving yuo an exmpel Jsut ese tihs msg Evrey splleing of tihs msg is wrnog Bt sitll yuo can raed it wihtuot ayn mitsake GOODNIGHT amp HAVE A NICE SLEEPSWEET DREAMSNow press conference daHello from Orange For 1 months free access to games news and sport plus 10 free texts and 20 photo messages reply YES Terms apply wwworangecoukowAfter completed degree There is no use in joining financeGood afternoon my love  Any job prospects  Are you missing me  What do you do  Are you being lazy and bleak hmmm  Or happy and filled with my love Shant disturb u anymore Jia youBishan lar nearer No need buy so early cos if buy now i gotta park my carMe i dont know again ohDude sux for snake He got old and raiden got buffHe says hi and to get your ass back to south tampa preferably at a keggerIn e msg jus now U said thanks for giftU tooOk how you dear Did you call chechiYeah we do totes When u wannaOk i found dis pierre cardin one which looks normal costs 20 its on saleGood sleep is about rhythm The person has to establish a rhythm that the body will learn and use If you want to know more Wat r u doingMessage from  I am at Truro Hospital on ext You can phone me here as I have a phone by my sideSingle line with a big meaning Miss anything 4 ur Best Life but dont miss ur best life for anything Gud nytJust got some gas money any chance you and the gang want to go on a grand nature adventureDnt worryuse ice pieces in a cloth packalso take 2 tabletsDude just saw a parked car with its sunroof popped up SuxGet ready to put on your excellent sub face Tmrw Im finishing 9 doorsThe  ltgt g that i saw a few days ago the guy wants sell wifi only for  ltgt  and with 3g for  ltgt  Thats why i blanked himI am late I will be there atwhatever im pretty pissed offToday is ACCEPT DAYU Accept me as Brother Sister Lover Dear1 Best1 Clos1 Lvblefrnd Jstfrnd Cutefrnd Lifpartnr Belovd Swtheart Bstfrnd No rply means enemyI dont have that much image in classNoi got rumour that you going to buy apartment in chennaiNear kalainar tv officethenampetUr cashbalance is currently 500 pounds  to maximize ur cashin now send GO to 86688 only 150pmsg CC 08718720201 HGSuite3422Lands RowW1J6HLSMS AUCTION  A BRAND NEW Nokia 7250 is up 4 auction today Auction is FREE 2 join  take part Txt NOKIA to 86021 now HGSuite3422Lands RowW1J6HLMy sis is catching e show in e afternoon so im not watching w her So c u wan 2 watch today or tmr lorSounds gd Haha Can Wah u yan jiu so fast liaoNo To be nosy I guess Idk am I over reacting if Im freakedRemember all those whom i hurt during days of satanic imposter in meneed to pay a priceso be itmay destiny keep me going and as u said pray that i get the mind to get over the sameHow to Make a girl Happy Its not at all difficult to make girls happy U only need to be 1 A friend 2 Companion 3 Lover 4 Chef     ltgt  Good listener  ltgt  Organizer  ltgt  Good boyfriend  ltgt  Very clean  ltgt  Sympathetic  ltgt  Athletic  ltgt  Warm     ltgt  Courageous  ltgt  Determined  ltgt  True  ltgt  Dependable  ltgt  Intelligent     ltgt  Psychologist  ltgt  Pest exterminator  ltgt  Psychiatrist  ltgt  Healer    ltgt  Stylist  ltgt  Driver   Aaniye pudunga venaamWhy is that princess I bet the brothas are all chasing youI shall book chez jules for half eight if thats ok with youHhahhaahahah rofl wtf nig was leonardo in your room or somethingYep at dereks house now see you Sunday lt3Its cool let me know before it kicks off around  ltgt  Ill be out and about all daySorry Ill call laterI was wondering if it would be okay for you to call uncle john and let him know that things are not the same in nigeria as they r here That  ltgt  dollars is 2years sent and that you know its a strain but i plan to pay back every dime he gives Every dime so for me to expect anything from you is not practical Something like thatThere are no other charges after transfer charges and you can withdraw anyhow you likeDont search love let love find U Thats why its called falling in love bcoz U dont force yourself U just fall and U know there is smeone to hold U BSLVYLAt 4 Lets go to bill millersI love you You set my soul on fire It is not just a spark But it is a flame A big rawring flame XoXoSomewhr someone is surely made 4 u And God has decided a perfect time to make u meet dat person    till den      Enjoy ur crushesThats my honeymoon outfit Will it help if we propose going back again tomorrowPRIVATE Your 2003 Account Statement for shows 800 unredeemed S I M points Call 08719899230 Identifier Code 41685 Expires 071104Never blame a day in ur life Good days give u happiness Bad days give u experience Both are essential in life All are Gods blessings good morningPls confirm the time to collect the chequeAs a Registered Subscriber yr draw 4 a £100 gift voucher will b entered on receipt of a correct ans When are the next olympics Txt ans to 80062URGENT Your Mobile number has been awarded with a £2000 prize GUARANTEED Call 09061790121 from land line Claim 3030 Valid 12hrs only 150ppmDaddy will take good care of you Yeah probably I still gotta check out with leoKthen any other specialCarlos is taking his sweet time as usual so let me know when you and patty are donewant to smoke and Ill tell him to haul assOk pa Nothing problemHave you heard about that job Im going to that wildlife talk again tonight if u want2come Its that2worzels and a wizzle or whatever it is God picked up a flower and dippeditinaDEW lovingly touched itwhichturnedinto u and the he gifted tomeandsaidTHIS FRIEND IS 4UWhen you came to hostelOk no prob Ill come after lunch thenJus telling u dat ill b leaving 4 shanghai on 21st instead so well haf more time 2 meet up cyaAre your freezing  Are you home yet  Will you remember to kiss your mom in the morning Do you love me  Do you think of me  Are you missing me yet You all ready for  big day tomorrowIll probably be around mu a lot645RTKIng Pro Video Club Need help inforingtonekingcouk or call 08701237397 You must be 16 Club credits redeemable at wwwringtonekingcouk EnjoyThnx dude u guys out 2niteMe sef dey laugh you Meanwhile hows my darling anjieMm i had my food da from outK makes sense btw carlos is being difficult so you guys are gonna smoke while I go pick up the second batch and get gasDid u download the fring appThe 2 oz guy is being kinda flaky but one friend is interested in picking up  ltgt  worth tonight if possibleFriends that u can stay on fb chat withFuck babe I miss you sooooo much  I wish you were here to sleep with me  My bed is so lonely  I go now to sleep  To dream of you my love Living is very simple Loving is also simple Laughing is too simple Winning is tooo simple But being SIMPLE is very difficult Gud nteU have a secret admirer who is looking 2 make contact with Ufind out who they Rreveal who thinks UR so specialcall on 09058094599Ah well that confuses things doesn‘t it500 free text msgs Just text ok to 80488 and well credit your accountHi Dear Call me its urgnt I dont know whats your problem You dont want to work or if you have any other problem at least tell me Wating for your replyDear how you Are you okYou have been selected to stay in 1 of 250 top British hotels  FOR NOTHING Holiday Worth £350 To Claim Call London 02072069400 Bx 526 SW73SSYes princess I want to make you happySounds like you have many talents would you like to go on a dinner date next weekI am going to film 2day da At 6pm Sorry daWe not watching movie already Xy wants 2 shop so im shopping w her nowHello my little party animal I just thought Id buzz you as you were with your friends grins Reminding you were loved and send a naughty adoring kissYesterday its with me only  Now am going homeEerie Nokia tones 4u rply TONE TITLE to 8007 eg TONE DRACULA to 8007 Titles GHOST ADDAMSFA MUNSTERS EXORCIST TWILIGHT wwwgetzedcouk POBox36504W45WQ 150pYou have come into my life and brought the sun Shiny down on me warming my heart Putting a constant smile on my face  Making me feel loved and cared forNo shit but I wasnt that surprised so I went and spent the evening with that french guy I met in town here and we fooled around a bit but I didnt let him fuck me0ANETWORKS allow companies to bill for SMS so they are responsible for their suppliers just as a shop has to give a guarantee on what they sell B GGreat comedycant stop laughing daFreeMsgFeelin kinda lnly hope u like 2 keep me company Jst got a cam moby wanna c my picTxt or reply DATE to 82242 Msg150p 2rcv Hlp 08712317606 stop to 82242Alright were all set here text the manHi  where are you Were at  and theyre not keen to go out i kind of am but feel i shouldnt so can we go out tomo dont mind do youSleeping nt feeling wellU WILL SWITCH YOUR FONE ON DAMMITIndia have to take leadIll post her out l8r In classThts wat Wright Brother did to flyEvening  v good if somewhat event laden Will fill you in dont you worry … Head  ok but throat  wrecked See you at six thenIf u laugh really loud If u talk spontaneously If u dont care what others feel U are probably with your dear amp best friends GOODEVENING DearITS A LAPTOP TAKE IT WITH YOUI dont have any of your file in my bagi was in work when you called mei ll tell you if i find anything in my roomI wan but too early lei Me outside now wun b home so early Neva mind thenFor ur chance to win a £250 cash every wk TXT ACTION to 80608 TsCs wwwmovietriviatv custcare 08712405022 1x150pwkI was at bugis juz now wat But now im walking home oredi Ü so late then reply I oso saw a top dat i like but din buy Where r ü now Wishing you and your family Merry X mas and HAPPY NEW Year in advanceAt 7 we will go ok naYes I posted a couple of pics on fb Theres still snow outside too Im just waking up Sif we have one good partnership going we will take leadRGENT This is the 2nd attempt to contact UU have WON £1250 CALL 09071512433 b4 050703 TCsBCM4235WC1N3XX callcost 150ppm mobilesvary max£7 50Yeah wheres your class atNo just send to you Bec you in temple naYou arent coming home between class right I need to work out and showerHi if ur lookin 4 saucy daytime fun wiv busty married woman Am free all next week Chat now 2 sort time 09099726429 JANINExx Calls£1minMobsmoreLKPOBOX177HP51FLS but mostly not like thatÜ v ma fanDunno cos i was v late n when i reach they inside already But we ate spageddies lor Its e gals who r laughing at me lorGuess who spent all last night phasing in and out of the fourth dimensionSo now my dad is gonna call after he gets out of work and ask all these crazy questionsYesbut they said its ITVery hurting n meaningful lines ever I compromised everything for my love But at d end my love compromised me for everything Gud morninLmaonice 1Glad to see your replyURGENT We are trying to contact U Todays draw shows that you have won a £800 prize GUARANTEED Call 09050001295 from land line Claim A21 Valid 12hrs onlyMonthly password for wap mobsicom is 391784 Use your wap phone not PCNah dub but je still buffPainful words I thought being Happy was the most toughest thing on Earth But the toughest is acting Happy with all unspoken pain insideYeah thats fine Its £6 to get in is that ok Lol where do u come up with these ideasSo many people seems to be special at first sight But only very few will remain special to you till your last sight Maintain them till life ends ShjasToday is song dedicated day Which song will u dedicate for me Send this to all ur valuable frnds but first rply meOkay We wait ahY leiHI BABE U R MOST LIKELY TO BE IN BED BUT IM SO SORRY ABOUT TONIGHT I REALLY WANNA SEE U TOMORROW SO CALL ME AT 9 LOVE ME XXXAlready am squatting is the new way of walkingDo you want bold 2 or bb torchCramps stopped Going back to sleeptodays vodafone numbers ending with 0089my last four digits are selected to received a £350 award If your number matches please call 09063442151 to claim your £350 awardFree Top ringtone sub to weekly ringtoneget 1st week freesend SUBPOLY to 816183 per weekstop sms08718727870Nan sonathaya soladha Why bossBring tat cd don forgetSunshine Quiz Wkly Q Win a top Sony DVD player if u know which country the Algarve is in Txt ansr to 82277 £150 SPTyroneI dont know but Im raping dudes at pokerWeightloss No more girl friends Make loads of money on ebay or something And give thanks to GodWas gr8 to see that message So when r u leaving Congrats dear What school and wat r ur plansÜ eatin later but im eatin wif my frens now lei Ü going home first Finish already Yar they keep saying i mushy I so embarrassed okSorry man my stash ran dry last night and I cant pick up more until sundayHai priya are you right What doctor said pa Where are youFree msg Sorry a service you ordered from 81303 could not be delivered as you do not have sufficient credit Please top up to receive the serviceOkPlease ask mummy to call fatherCan come my room but cannot come my house cos my house still messy HahaI have lost 10 kilos as of todayJust taste fish curry PWhat can i do Might accidant tookplace between somewhere ghodbandar rd Traffic moves slovely So plz slip amp dont worryYun ahnow ü wkg wherebtw if ü go nus sc Ü wana specialise in wadYes I am a one woman man Please tell me your likes and dislikes in bedWas doing my test earlier I appreciate you Will call you tomorrowHows my loverboy doing  What does he do that keeps him from coming to his Queen hmmm  Doesnt he ache to speak to me  Miss me desparately U meet other fren dun wan meet me ah Muz b a guy riteNo promises on when though havent even gotten dinner yetI got your back Do you have any dislikes in bedo turns out i had stereo love on mi phone under the unknown albumHard LIVE 121 chat just 60pmin Choose your girl and connect LIVE Call 09094646899 now Cheap Chat UKs biggest live service VU BCM1896WC1N3XXYeah I dont see why notAsking do u knw them or nt May be ur frnds or classmatesSorry about earlier Putting out firesAre you around to talk after 9 Or do you actually have a life lolWOW The Boys R Back TAKE THAT 2007 UK Tour Win VIP Tickets  prebook with VIP Club Txt CLUB to 81303 Trackmarque Ltd infovipclub4uAs in missionary hook up doggy hook up standingThen u better go sleep Dun disturb u liao U wake up then msg me lorFighting with the world is easy u either win or lose bt fightng with some1 who is close to u is dificult if u lose  u lose if u win  u still loseAm watching house – very entertaining – am getting the whole hugh laurie thing – even with the stick – indeed especially with the stickThought praps you meant another one Goodo Ill look tomorrow Hi Jon Pete here Ive bin 2 Spain recently  hav sum dinero left Bill said u or ur \\x91rents mayb interested in it I hav 12000pes so around £48 tb JamesThere bold 2  ltgt  Is that yoursYou know there is I shall speak to you in  ltgt  minutes thenALRITE HUNNYWOT U UP 2 2NITE DIDNT END UP GOIN DOWN TOWN JUS DA PUB INSTEAD JUS CHILLIN AT DA MO IN ME BEDROOMLOVE JEN XXXI went to project centreAs per your request Maangalyam Alaipayuthe has been set as your callertune for all Callers Press 9 to copy your friends CallertuneLol yeah at this point I guess notDoing project w frens lor Lol Well quality aint bad at all so i aint complainingK can that happen tonightHi this is Mandy Sullivan calling from HOTMIX FMyou are chosen to receive £500000 in our Easter Prize drawPlease telephone 09041940223 to claim before 290305 or your prize will be transferred to someone elseI think were going to finns now comeWhy tired what special there you hadI will come tomorrow diI cant pick the phone right now Pls send a messageK go and sleep well Take restU guys never invite me anywhere UR GOING 2 BAHAMAS CallFREEFONE 08081560665 and speak to a live operator to claim either Bahamas cruise of£2000 CASH 18only To opt out txt X to 07786200117I can do that I want to please you both inside and outside the bedroomEY CALM DOWNON THEACUSATIONS ITXT U COS IWANA KNOW WOTU R DOIN AT THEWEND HAVENTCN U IN AGESRING ME IF UR UP4 NETHING SATLOVE J XXXI love to wine and dine my ladySomeone has conacted our dating service and entered your phone because they fancy youTo find out who it is call from landline 09111030116 PoBox12n146tf15I\\x92m cool ta luv but vtired 2 cause i have been doin loads of planning all wk we have got our social services inspection at the nursery Take care  spk sn xI don know account detailsi will ask my mom and send youmy mom is out of reach nowI think u have the wrong numberFeel Yourself That You Are Always Happy Slowly It Becomes Your Habit amp Finally It Becomes Part Of Your Life Follow It Happy Morning amp Have A Happy DayDO NOT B LATE LOVE MUMGot itmail panren paru Was thinking about chuckin ur red green n black trainners 2 save carryin them bac on trainGive one miss from that number pleaseJus came back fr lunch wif my sis only U lehHow is your schedule next week I am out of town this weekendReally gooddhanush rocks once againLmao ok I wont be needing u to do my hair anymoreMiss ya need ya want ya love yaSorry im not freeDo u ever get a song stuck in your head for no reason and it wont go away til u listen to it like 5 timesNt yet chikkusimple habbahw abt uGot ur mail Dileepthank you so muchand look forward to lots of supportvery less contacts hereremember one venugopal you mentionedtomorrow if not latei shall try to come up till theregoodnight dearSometimes Heart Remembrs someone Very much Forgets someone soon Bcoz Heart will not like everyone But liked ones will be Remembered Everytime BSLVYLJoys father is John Then John is the NAME of Joys father MandanHi 07734396839 IBH Customer Loyalty Offer The NEW NOKIA6600 Mobile from ONLY £10 at TXTAUCTIONTxt wordSTART to No81151  get Yours Now4THi this is yijue Its regarding the 3230 textbook its intro to algorithms second edition Im selling it for 50SMS AUCTION You have won a Nokia 7250i This is what you get when you win our FREE auction To take part send Nokia to 86021 now HGSuite3422Lands RowW1JHL 16K want us to come by nowHow Its a little difficult but its a simple way to enter this placeHa Both of us doing e same thing But i got tv 2 watch U can thk of where 2 go tonight or u already haf smth in mindDont show yourself How far Put new pictures up on facebookWatching tv now I got new job Good afternoon sexy buns How goes the job search  I wake and you are my first thought as always my love I wish your fine and happy and know I adore youIm not coming over do whatever you wantIts ok chikku and its my 1 of favourite songDid u see what I posted on your FacebookCall FREEPHONE 0800 542 0578 nowBuy Space Invaders 4 a chance 2 win orig Arcade Game console Press 0 for Games Arcade std WAP charge See o2coukgames 4 Terms  settings No purchase7 wonders in My WORLD 7th You 6th Ur style 5th Ur smile 4th Ur Personality 3rd Ur Nature 2nd Ur SMS and 1st Ur Lovely Friendship good morning dearLoan for any purpose £500  £75000 Homeowners  Tenants welcome Have you been previously refused We can still help Call Free 0800 1956669 or text back helpBIG BROTHER ALERT The computer has selected u for 10k cash or 150 voucher Call 09064018838 NTT PO Box CRO1327 18 BT Landline Cost 150ppm mobiles vary oh well c u laterMy uncles in Atlanta Wish you guys a great semesterNo dear i do have free messages without any recharge Hi hi hiDont search love let love find U Thats why its called falling in love bcoz U dont force yourself U just fall and U know there is smeone to hold U BSLVYLI dun believe u I thk u told himDo you know why god created gap between your fingers So that One who is made for you comes amp fills those gaps by holding your hand with LOVEYessura in sun tvlolArun can u transfr me d amtTakin a shower now but yeah Ill leave when Im doneAm not working but am up to eyes in philosophy so will text u later when a bit more free for chatU haven\\x92t lost me ill always b here 4ui didn\\x92t intend 2 hurt u but I never knew how u felt about me when Iwasmarinethat\\x92s what itried2tell urmomi careabout uWIN We have a winner Mr T Foley won an iPod More exciting prizes soon so keep an eye on ur mobile or visit wwwwin82050coukYou bad girl I can still remember themHow much i gave to you MorningI hope your alright babe I worry that you might have felt a bit desparate when you learned the job was a fake  I am here waiting when you come back my loveHey can you tell me blakes address Carlos wanted me to meet him there but I got lost and hes not answering his phoneCan i get your opinion on something firstThat one week leave i put know that time WhyIf we hit it off you can move in with me excellent I spent  ltgt  years in the Air Force Iraq and afghanistan I am stable and honest do you like travelingI wanna watch that movieOk lor thanx Ü in schoolIm in class Did you get my textThe bus leaves at  ltgt God blessget good sleep my deari will prayTodays Voda numbers ending 1225 are selected to receive a £50award If you have a match please call 08712300220 quoting claim code 3100 standard rates app Do have a nice day today I love you so dearlyAiyo a bit pai seh ü noe Scared he dun rem who i am then die Hee But he become better lookin oredi lehAight Ill ask a few of my roommatesNow whats your house  again  And do you have any beer there Do ü all wan 2 meet up n combine all the parts Hows da rest of da project goingGetting tickets 4 walsall tue 6 th march My mate is getting me them on sat ill pay my treat Want 2 go Txt bak TerryYes we are chatting tooHI ITS JESS I DONT KNOW IF YOU ARE AT WORK BUT CALL ME WHEN U CAN IM AT HOME ALL EVE XXXSian Aft meeting supervisor got work 2 do liao U working nowAre you going to write ccna exam this weekWell i will watch shrek in 3DBAm i that much dirty fellowDunno dats wat he told me Ok lorIll probably be by tomorrow or even later tonight if somethings going onI couldnt say no as he is a dying man and I feel sad for him so I will go and I just wanted you to know I would probably be gone late into your nightIf youre thinking of lifting me one then noSame as u Dun wan Y u dun like me already ah Wat u doing now Still eatingSent me ur email id soonWat makes some people dearer is not just de happiness dat u feel when u meet them but de pain u feel when u miss demDude Whats up How Teresa Hope you have been okay When i didnt hear from these people i called them and they had received the package since dec  ltgt  Just thot yould like to know Do have a fantastic year and all the best with your reading Plus if you can really really Bam first aid for Usmle then your work is doneHey gorgeous man My work mobile number is Have a good one babe Squishy MwahsMay i call You later PlsHottest pics straight to your phone See me getting Wet and Wanting just for you xx Text PICS to 89555 now txt costs 150p textoperator g696ga 18 XxXThats the way you should stay ohHello thanx for taking that call I got a job Starts on mondayWhat time is ur flight tmrWhen should I come overI have a rather prominent bite mark on my right cheek Will be september by thenAre you wet right nowAnd hows your husbandHack Chat Get backdoor entry into 121 chat rooms at a fraction of the cost Reply NEO69 or call 09050280520 to subscribe 25p pm DPS Bcm box 8027 Ldn wc1n3xxAre we doing the norm tomorrow I finish just a 415 cos of st tests Need to sort library stuff out at some point tomo  got letter from today  access til end march so i better get move onYeah I got a list with only u and Joanna if Im feeling really anti socialI am in your office naAre you comingdown laterSuper dagood replacement for muraliDa is good good playerwhy he is unsoldHi  Do u want  to join me with sts later  Meeting them at five  Call u after classIts on in engalnd But telly has decided it wont let me watch it and mia and elliot were kissing Damn itFREE NOKIA Or Motorola with upto 12mths 12price linerental 500 FREE xnet mins100txtmth FREE Btooth Call Mobileupd8 on 08001950382 or call 2optoutD3WVI dont want to hear philosophy Just say what happenYou got job in wiproyou will get every thing in life in 2 or 3 yearsThen cant get da laptop My matric card wif ü lei Dunno da next show aft 6 is 850 Toa payoh got 650This is the 2nd time we have tried 2 contact u U have won the 750 Pound prize 2 claim is easy call 08718726970 NOW Only 10p per min BTnationalrate I just made some payments so dont have that much Sorry Would you want it fedex or the other wayThey didt play one day last year know even though they have very good team Like indiaKyou are the only girl waiting in reception ahSay this slowly GODI LOVE YOU amp I NEED YOUCLEAN MY HEART WITH YOUR BLOODSend this to Ten special people amp u c miracle tomorrow do itplspls do itI hate when she does this She turns what should be a fun shopping trip into an annoying day of how everything would look in her houseSir i am waiting for your callWhats up Do you want me to come onlineIt could work well reach a consensus at the next meetingAiyah then i wait lor Then u entertain me HeeThe last thing i ever wanted to do was hurt you And i didnt think it would have Youd laugh be embarassed delete the tag and keep going But as far as i knew it wasnt even up The fact that you even felt like i would do it to hurt you shows you really dont know me at all It was messy wednesday but it wasnt bad The problem i have with it is you HAVE the time to clean it but you choose not to You skype you take pictures you sleep you want to go out I dont mind a few things here and there but when you dont make the bed when you throw laundry on top of it when i cant have a friend in the house because im embarassed that theres underwear and bras strewn on the bed pillows on the floor thats something else You used to be good about at least making the bedIll let you know when it kicks inYou call him now ok i said call himCall to the number which is available in appointment And ask to connect the call to waheed fathimaOr ü go buy wif him then i meet ü later canMmmm  Fuck  Not fair  You know my weaknesses  grins pushes you to your knees exposes my belly and pulls your head to it Dont forget  I know yours too wicked smileToday my system sh get readyall is well and i am also in the deep wellMom wants to know where you atAight Ill text you when Im backDont know supports ass and srt i thnk I think ps3 can play through usb tooOh ok i didnt know what you meant Yep i am baby jontinYou have WON a guaranteed £1000 cash or a £2000 prizeTo claim yr prize call our customer service representative onWould you like to see my XXX pics they are so hot they were nearly banned in the ukHMV BONUS SPECIAL 500 pounds of genuine HMV vouchers to be won Just answer 4 easy questions Play Now Send HMV to 86688 More infowww100percentrealcomWatching tv now I got new job This pen thing is beyond a joke Wont a Biro do Dont do a masters as cant do this ever again I AM AT A PARTY WITH ALEX NICHOLSU have a secret admirer who is looking 2 make contact with Ufind out who they Rreveal who thinks UR so specialcall on 09058094594Just seeing your missed call my dear brother Do have a gr8 dayOk Ü finishing soonSorry I cant help you on thisCome to me slave Your doing it again  Going into your shell and unconsciously avoiding me  You are making me unhappy I love your ass Do you enjoy doggy style I think asking for a gym is the excuse for lazy people I jogDear 0776xxxxxxx Uve been invited to XCHAT This is our final attempt to contact u Txt CHAT to 86688 150pMsgrcvdHGSuite3422LandsRowW1J6HL LDN 18yrs Urgent Please call 09061743811 from landline Your ABTA complimentary 4 Tenerife Holiday or £5000 cash await collection SAE TCs Box 326 CW25WX 150ppmNo On the way home So if not for the long dry spell the season would have been overI gotta collect da car at 6 leiOk but knackered Just came home and went to sleep Not good at this full time work larkProbably earlier than that if the stations where I think it isCALL 09090900040  LISTEN TO EXTREME DIRTY LIVE CHAT GOING ON IN THE OFFICE RIGHT NOW TOTAL PRIVACY NO ONE KNOWS YOUR sic LISTENING 60P MIN 247MP 0870753331018Good Morning plz call me sirFreeMsg Hey U i just got 1 of these videopic fones reply WILD to this txt  ill send U my pics hurry up Im so bored at work xxx 18 150prcvd STOP2stopUh heads up we dont have THAT much leftI tot u outside cos darren say u come shopping Of course we nice wat We jus went sim lim look at mp3 playerAight sounds good When do you want me to come downWat would u like 4 ur birthdayI love working from home And miss vday the parachute and double coins U must not know me very wellSorry Ill call laterMy sister got placed in birla soft daFree entry in 2 a weekly comp for a chance to win an ipod Txt POD to 80182 to get entry std txt rate TCs apply 08452810073 for details 18Wah Okie okie Muz make use of e unlimited Haha Therere some people by mu Im at the table by lambdaAnd stop being an old man You get to build snowman snow angels and snowball fightsELLO BABE U OKHello beautiful r u ok Ive kinda ad a row wiv and he walked out the pub I wanted a night wiv u Miss u Then u going ikea str aft datBecoz its  ltgt  jan whn al the post ofice is in holiday so she cn go fr the post oficegot it dufferLol grr my mom is taking forever with my prescription Pharmacy is like 2 minutes away UghFor real tho this sucks I cant even cook my whole electricity is out And Im hungryYou want to go New TEXTBUDDY Chat 2 horny guys in ur area 4 just 25p Free 2 receive Search postcode or at gaytextbuddycom TXT ONE name to 89693 08715500022 rpl Stop 2 cnlIts not that time of the month nor mid of the timeFffff Can you text kadeem or are you too far goneWe not leaving yet Ok lor then we go elsewhere n eat U thkIs fujitsu s series lifebook goodYar i wanted 2 scold u yest but late already I where got zhong se qing you If u ask me b4 he ask me then ill go out w u all lor N u still can act so realDont know you bring some foodNo current and food here I am alone alsoIll be in sch fr 46 I dun haf da book in sch Its at homeHello They are going to the village pub at 8 so either come here or there accordingly OkOkWe don call like  ltgt  times oh No give us hypertension ohDont give a monkeys wot they think and i certainly dont mind Any friend of mineall that Just dont sleep wiv  that wud be annoyinOmg it could snow here toniteCall from 08702490080  tells u 2 call 09066358152 to claim £5000 prize U have 2 enter all ur mobile  personal details  the prompts CarefulFree 1st week entry 2 TEXTPOD 4 a chance 2 win 40GB iPod or £250 cash every wk Txt VPOD to 81303 TsCs wwwtextpodnet custcare 08712405020Carry on not disturbing both of youWhat pa tell me I went to bathJus finished avatar nigroR u over scratching itHope you are having a great dayDid either of you have any ideas Do you know of anyplaces doing somethingMy planning usually stops at find hella weed smoke hella weedThe fact that youre cleaning shows you know why im upset Your priority is constantly what i want to do not what i need to doExcellent Are you ready to moan and scream in ecstasyMore people are dogging in your area now Call 09090204448 and join like minded guys Why not arrange 1 yourself Theres 1 this evening A£150 minAPN LS278BBDude avatar 3d was imp At one point i thought there were actually flies in the room and almost tried hittng one as a reflexWELL DONE Your 4 Costa Del Sol Holiday or £5000 await collection Call 09050090044 Now toClaim SAE TCs POBox334 Stockport SK38xh Cost£150pm Max10minsKkwhy cant you come here and search jobI got lousy sleep I kept waking up every 2 hours to see if my cat wanted to come in I worry about him when its cold Yeah Ill leave in a couple minutes amp let you know when I get to muCan ü call me at 1010 to make sure dat ive woken upHey we can go jazz power yoga hip hop kb and yogasana The battery is for mr adewale my uncle Aka EgbonI cant pick the phone right now Pls send a messageWait 2 minstand at bus stopOh ic I thought you meant mary janeHaha Really oh no How Then will they deduct your lesson tmrNah im goin 2 the wrks with j wot bout uThen just eat a shit and wait for ur monkey face bitch U assholeGood night Am going to sleepAight Ill grab something to eat too text me when youre back at muKkwhy cant you come here and search jobTake something for pain If it moves however to any side in the next 6hrs see a doctorLol  Oh no babe I wont be sliding into your place after midnight but thanks for the inviteHowz that persons storyGuess what Somebody you know secretly fancies you Wanna find out who it is Give us a call on 09065394973 from Landline DATEBox1282EssexCM61XN 150pmin 18LOL that would be awesome paybackit to 80488 Your 500 free text messages are valid until 31 December 2005Yes it completely in out of formclark also utter wasteHoneybee Said Im d Sweetest in d World God Laughed amp Said WaitU Havnt Met d Person Reading This Msg MORAL Even GOD Can Crack Jokes GMGNGEGNThanks It was only from tescos but quite nice All gone now Speak soon Whats a feathery bowa Is that something guys have that I dont know aboutEven i cant close my eyes you are in me our vava playing umma D2 laptop I noe infra but too slow lar I wan fast oneYou have won a guaranteed £200 award or even £1000 cashto claim UR award call free on 08000407165 18 2 stop getstop on 88222 PHPNvm its okEnjoy ur life  Good nightYes but can we meet in town cos will go to gep and then home You could text at bus stop And dont worry well have finished by march … ishI had askd u a question some hours before Its answerThats cool Where should i cum On you or in you Delhi and chennai still silentLol alright i was thinkin that too hahaReply to win £100 weekly Where will the 2006 FIFA World Cup be held Send STOP to 87239 to end serviceNo Im in the same boat Still here at my moms Check me out on yo Im half nakedShhhhh nobody is supposed to knowSorry Ill call laterSorry Ill call later in meeting any thing related to trade please call Arul ltgt Hey i will be late im at amk Need to drink tea or coffeeI wnt to buy a BMW car urgentlyits vry urgentbut hv a shortage of  ltgt Lacsthere is no source to arng dis amt ltgt lacsthats my probUrgent Please call 09061743810 from landline Your ABTA complimentary 4 Tenerife Holiday or 5000 cash await collection SAE TCs Box 326 CW25WX 150 ppmThe length is e same but e top shorter n i got a fringe now I thk im not going liao Too lazy Dun wan 2 distract u alsoSantha num corrct daneNo callsmessagesmissed callsSorry Ill call laterThe baskets gettin full so I might be by tonightHI DARLIN IVE JUST GOT BACK AND I HAD A REALLY NICE NIGHT AND THANKS SO MUCH FOR THE LIFT SEE U TOMORROW XXXNo other Valentines huh The proof is on your fb page Ugh Im so glad I really DIDNT watch your rupaul show you TOOLFree tones Hope you enjoyed your new content text stop to 61610 to unsubscribe help08712400602450p Provided by tones2youcoukEh den sat u book e kb liao huhHave you been practising your curtseyShall i come to get pickleLol boo I was hoping for a laughYEH I AM DEF UP4 SOMETHING SATJUST GOT PAYED2DAY  I HAVBEEN GIVEN A£50 PAY RISE 4MY WORK  HAVEBEEN MADE PRESCHOOLCOORDINATOR 2I AM FEELINGOOD LUVWell I have to leave for my class babe  You never came back to me    Hope you have a nice sleep my loveLMAO wheres your fish memory when I need itBut ill b going 2 sch on mon My sis need 2 take smthIdea will soon get converted to liveTheMobYo yo yoHere comes a new selection of hot downloads for our members to get for FREE Just click  open the next link sent to ur foneSsindia going to draw the series after many years in south african soilGoodmorning today i am late for  ltDECIMALgt minCant take any major roles in community outreach You rock melShopping lor Them raining mah hard 2 leave orchardHi here have birth at on the  to  at 8lb 7oz Mother and baby doing brilliantlySee the forwarding message for proofI cant keep going through this It was never my intention to run you out but if you choose to do that rather than keep the room clean so I dont have to say no to visitors then maybe thats the best choice Yes I wanted you to be embarassed so maybe youd feel for once how I feel when i have a friend who wants to drop buy and i have to say no as happened this morning Ive tried everything I dont know what else to doDunno lei I thk mum lazy to go out I neva ask her yetDo whatever you want You know what the rules are We had a talk earlier this week about what had to start happening you showing responsibility Yet every week its can i bend the rule this way What about that way Do whatever Im tired of having thia same argument with you every week And a  ltgt  movie DOESNT inlude the previews Youre still getting in after 1Beautiful Truth against Gravity Read carefully Our heart feels light when someone is in it But it feels very heavy when someone leaves it GOODMORNINGGreat News Call FREEFONE 08006344447 to claim your guaranteed £1000 CASH or £2000 gift Speak to a live operator NOWAmbrithmaduraimet u in arun dha marrgeremembrJust re read it and I have no shame but tell me how he takes it and if he runs I will blame u 4 ever Not really 4 ever just a long time Princess is your kitty shaved or naturalBetter than bb If he wont use it his wife will or them doctorYa it came a while agoFrom tomorrow onwards eve 6 to 3 workAnything lor but toa payoh got place 2 walk mehI dont have anybodys number I still havent thought up a tactful way to ask alexU can WIN £100 of Music Gift Vouchers every week starting NOW Txt the word DRAW to 87066 TsCs wwwldewcom SkillGame1Winaweek age16150ppermessSubscriptionIs there any movie theatre i can go to and watch unlimited movies and just pay onceU having lunch alone I now so boredYes obviously but you are the eggspert and the potato head… Speak soon Nah man my car is meant to be crammed full of peopleNo got new job at bar in airport on satsgettin 447per hour but means no lie in keep in touchKallis is ready for bat in 2nd inningsThanx but my birthday is over alreadyUgh y cant u just apologize admit u were wrong and ask me to take u backI noe la U wana pei bf oso rite K lor other days denYes im small kid And boost is the secret of my energyIM GONNA MISS U SO MUCHIs avatar supposed to have subtoitlesSimply sitting and watching match in officeYou can jot down things you want to remember laterOh sorry please its overHey are we going for the lo lesson or gym Dont pack what you can buy at any storelike cereals If you must pack food pack gari or something 9ja that you will missYou always make things bigger than they areÜ dun wan to watch infernal affairMe not waking up until 4 in the afternoon sup4mths half price Orange line rental  latest camera phones 4 FREE Had your phone 11mths  Call MobilesDirect free on 08000938767 to update now or2stoptxtI can send you a pic if you like Okay I booked all already Including the one at bugisAight fuck it Ill get it laterNo de But call me after some time Ill tell you kSo dont use hook up any howHow much is blackberry bold2 in nigeriaHi where you You in home or calicutHey darlin i can pick u up at college if u tell me wen  where 2 mt love Pete xxCall 09094100151 to use ur mins Calls cast 10pmin mob vary Service provided by AOM just GBP5month AOM Box61M60 1ER until u stop Ages 18 onlyOh I was thkin of goin yogasana at 10 den no nd to go at 3 den can rush to parco 4 nb Okie lor u call me when readyY so late but i need to go n get da laptopSir I am waiting for your mailPlease charge my mobile when you get up in morningNothing i got msg frm tht unknown noUgh fuck it Im resubbing to eveHe didnt see his shadow We get an early spring yayI did One slice and one breadstick LolHey  I want you  I crave you  I miss you  I need you  I love you Ahmad Saeed al Hallaq Is there any training tomorrowURGENT Your mobile No  WON a £2000 Bonus Caller Prize on 020603 This is the 2nd attempt to reach YOU Call 09066362220 ASAP BOX97N7QP 150ppmPass dis to all ur contacts n see wat u get Redim in luv wid u Blueu put a smile on my face Purpleu r realy hot Pinku r so swt Orangei thnk i lyk u Greeni realy wana go out wid u Yelowi wnt u bck Blackim jealous of u Browni miss you Nw plz giv me one colorCos daddy arranging time c wat time fetch ü mahThen You are eldest knowWhos there say hi to our drugdealerIts hard to believe things like this All can say lie but think twice before saying anything to meEerie Nokia tones 4u rply TONE TITLE to 8007 eg TONE DRACULA to 8007 Titles GHOST ADDAMSFA MUNSTERS EXORCIST TWILIGHT wwwgetzedcouk POBox36504W45WQ 150p Sexy Singles are waiting for you Text your AGE followed by your GENDER as wither M or F EG23F For gay men text your AGE followed by a G eg23GGood night my dear SleepwellampTake careThat is wondarfull songFreeMsg Claim ur 250 SMS messagesText OK to 84025 nowUse web2mobile 2 ur mates etc Join Txt250com for 150pwk TC BOX139 LA32WU 16  Remove txtX or stopYar lor actually we quite fast Cos da ge slow wat HahaMust come later I normally bathe him in da afternoon mahTrust me Even if isnt there its thereHey hunonbus goin 2 meet him He wants 2go out 4a meal but I donyt feel like it cuz have 2 get last bus homeBut hes sweet latelyxxx85233 FREERingtoneReply REALI can take you at like noonWhere is it Is there any opening for mcaIm aight Wats happening on your sideIm done orediyou are sweet as well princess Please tell me your likes and dislikes in bedHow are you Wish you a great semesterMoji i love you more than words Have a rich dayDude how do you like the buff windalright babe justthought i\\x92d sayhey how u doinnearly the endof me wk offdam nevamindWe will have 2Hook up sn if uwant m8 loveJen xWell done ENGLAND Get the official poly ringtone or colour flag on yer mobile text TONE or FLAG to 84199 NOW Optout txt ENG STOP Box39822 W111WX £150No im not I cant give you everything you want and need You actually could do better for yourself on yor ownyouve got more money than i do I cant get work i cant get a man i cant pay the rent i cant even fill my fucking gas tank yes im stressed and depressed I didnt even call home for thanksgiving cuz ill have to tell them im up to nothingSkallis wont play in first two odiThen get some cash together and Ill text jasonOh my love its soooo good to hear from you Omg I missed you so much today Im sorry your having problems with the provider but thank you for tming meFinal Chance Claim ur £150 worth of discount vouchers today Text YES to 85023 now SavaMob member offers mobile T Cs SavaMob POBOX84 M263UZ £300 Subs 16PRIVATE Your 2004 Account Statement for 07742676969 shows 786 unredeemed Bonus Points To claim call 08719180248 Identifier Code 45239 ExpiresProbably want to pick up moreIm doneAre you the cutest girl in the world or whatNo dice art class 6 thru 9  thanks though Any idea what time I should come tomorrowSMS SERVICES for your inclusive text credits pls goto wwwcomuknet login  unsubscribe with STOP no extra charge help08700469649 PO BOX420 IP4 5WEOh Howda gud gud Mathe en samachara chikkuI thk 530 lor But dunno can get tickets a not Wat u doing nowAudrie lousy autocorrectIts a site to simulate the test It just gives you very tough questions to test your readinessAnyway seriously hit me up when youre back because otherwise I have to light up with armand and he always has shit andor is vomitingI fetch yun or u fetchThank you I like you as wellHmmm  And imagine after youve come home from that having to rub my feet make me dinner and help me get ready for my date  Are you sure your ready for that kind of life FREE2DAY sexy St Georges Day pic of JordanTxt PIC to 89080 dont miss out then every wk a saucy celeb4 more pics c PocketBabecouk 0870241182716 £3wkLara said she can loan me  ltgt Do we have any spare power suppliesYar he quite clever but aft many guesses lor He got ask me 2 bring but i thk darren not so willing 2 go Aiya they thk leona still not attach watYou are a winner you have been specially selected to receive £1000 cash or a £2000 award Speak to a live operator to claim call 087123002209am7pm Cost 10pYeah dont go to bed Ill be back before midnightSunshine Hols To claim ur med holiday send a stamped self address envelope to Drinks on Us UK PO Box 113 Bray Wicklow Eire Quiz Starts Saturday Unsub StopWell I wasnt available as I washob nobbing with last night so they had to ask Nickey Platt instead of meIts that time of the week again ryanWish u many many returns of the day Happy birthday vikkyU can WIN £100 of Music Gift Vouchers every week starting NOW Txt the word DRAW to 87066 TsCs wwwIdewcom SkillGame 1Winaweek age16 150ppermessSubscriptionI hope you know Im still mad at youArgh my 3g is spotty anyway the only thing I remember from the research we did was that province and sterling were the only problemfree places we looked atIn xam hall boy asked girl Tell me the starting term for dis answer I can den manage on my own After lot of hesitation n lookin around silently she said THE intha ponnungale ipaditanDo you know when the result123 Congratulations  in this weeks competition draw u have won the £1450 prize to claim just call 09050002311 b4280703 TCsstop SMS 08718727868 Over 18 only 150ppmBeautiful Truth against Gravity Read carefully Our heart feels light when someone is in it But it feels very heavy when someone leaves it GOOD NIGHTSorry im getting up now feel really bad totally rejected that kinda me thingYou do got a shitload of diamonds thoughTessypls do me a favor Pls convey my birthday wishes to Nimyapls dnt forget it Today is her birthday ShijasWell Im going to be an auntyMine here like all fr china then so noisyLater i guess I needa do mcat study tooSfrom the training manual it show there is no tech processits all about password reset and troubleshootingYour B4U voucher wc 2703 is MARSMS Log onto wwwB4Utelecom for discount credit To opt out reply stop Customer care call 08717168528Spoke with uncle john today He strongly feels that you need to sacrifice to keep me here Hes going to call you When he does i beg you to just listen Dont make any promises or make it clear things are not easy And i need you to please let us work things out As long as i keep expecting help my creativity will be stifled so pls just keep him happy no promises on your partIf he started searching he will get job in few dayshe have great potential and talentCarlos took a while again we leave in a minuteWell done and  luv ya all Then why you came to hostelK still are you loving meBut i juz remembered i gotta bathe my dog todayAfter the drug she will be able to eatAlright took the morphine Back in yoYou see the requirements pleaseYou stayin out of trouble strangersaw Dave the other day he\\x92s sorted nowstill with me bloke when u gona get a girl MRur mum still Thinks we will get 2GETHA FreeMsg Hey  Im Buffy 25 and love to satisfy men Home alone feeling randy Reply 2 C my PIX QlynnBV Help08700621170150p a msg Send stop to stop txtsSunshine Hols To claim ur med holiday send a stamped self address envelope to Drinks on Us UK PO Box 113 Bray Wicklow Eire Quiz Starts Saturday Unsub StopSo can collect ur laptopOk Can be later showing around 8830 if you want  cld have drink before Wld prefer not to spend money on nosh if you dont mind as doing that nxt wkI will once i get homeWaaaat Lololo ok next time thenThe tables occupied Im waiting by the treeI surely dont forgot to comei will always be in touch in with youHi kindly give us back our documents which we submitted for loan from STAPATII dont have i shall buy one dearOh god i am happy to see your message after 3 daysWhat year And how many milesHey cutie How goes it Here in WALES its kinda ok There is like hills and shit but i still avent killed myself Sad story of a Man  Last week was my bday My Wife didnt wish me My Parents forgot n so did my Kids  I went to work Even my Colleagues did not wish As I entered my cabin my PA said  Happy Bday Boss  I felt special She askd me 4 lunch After lunch she invited me to her apartment We went there She said do u mind if I go into the bedroom for a minute   OK I sed in a sexy mood She came out 5 minuts latr wid a caken My Wife My Parents My Kidz My Friends n My Colleagues All screaming SURPRISE  and I was waiting on the sofa    NAKEDI think you should go the honesty road Call the bank tomorrow Its the tough decisions that make us great peopleFREE for 1st week No1 Nokia tone 4 ur mob every week just txt NOKIA to 87077 Get txting and tell ur mates zed POBox 36504 W45WQ norm150ptone 16No Its not specialisation Can work but its slave labor Will look for it this month sha cos no shakara 4 beggarIs she replying Has boye changed his phone number1 Go to write msg 2 Put on Dictionary mode 3Cover the screen with hand 4Press  ltgt  5Gently remove Ur hand Its interestinghi my darlin im on my way to London and we have just been smashed into by another driver and have a big dent im really missing u what have u been up to xxxNothing really just making sure everybodys up to speedIm not coming home 4 dinnerThank you And by the way I just lostYeshe have good crickiting mindThx All will be well in a few monthsShop till u Drop IS IT YOU either 10K 5K £500 Cash or £100 Travel voucher Call now 09064011000 NTT PO Box CR01327BT fixedline Cost 150ppm mobile varyCAN I PLEASE COME UP NOW IMIN TOWNDONTMATTER IF URGOIN OUTL8RJUST REALLYNEED 2DOCDPLEASE DONTPLEASE DONTIGNORE MYCALLSU NO THECD ISVIMPORTANT TOME 4 2MOROI wont So wats wit the guysYavnt tried yet and never played original eitherHiya had a good day Have you spoken to since the weekendSee I thought it all throughIm at work Please callget ready to moan and scream Oh k why you got job then whats upI dont think so You dont need to be going out that late on a school night ESPECIALLY when the one class you have is the one you missed last wednesday and probably failed a test in on fridayAnd popping ltgt ibuprofens was no helpBabe  How goes that day  What are you doing  Where are you  I sip my cappuccino and think of you my love  I send a kiss to you from across the seaOkPS U no ur a grown up now rightChinatown got porridge claypot rice yam cake fishhead beehoon Either we eat cheap den go cafe n tok or go nydc or somethinI know a few people I can hit up and fuck to the yesPurity of friendship between two is not about smiling after reading the forwarded messageIts about smiling just by seeing the name Gud evngSo is there anything specific I should be doing with regards to jaklin or what because idk what the fuckOh god Im gonna Google nearby cliffs nowFREE camera phones with linerental from 449month with 750 cross ntwk mins 12 price txt bundle deals also avble Call 08001950382 or call2optoutJ MFYup i shd haf ard 10 pages if i add figures Ü all got how many pagesOoh 4got im gonna start belly dancing in moseley weds 630 if u want 2 join me they have a cafe too Thankyou so much for the call I appreciate your careCongrats  Treat pendingi am not on mail for 2 dayswill mail once thruRespect mother at homecheck mailsI called but no one pick up e phone I ask both of them already they said okHi my email address has changed now it is Valuable Affectionate Loveable Eternal Noble Truthful Intimate Natural Enamous Happy VALENTINES DAY in advanceNot much just some textin How bout youBring it if you got itIm in a movie Call me 4 watNot sure I have the stomach for it Haha can But im having dinner with my cousinA boy was late 2 home His father POWER OF FRNDSHIPAnd my man carlos is definitely coming by mu tonight no excusessoon you will have the real thing princess Do i make you wet Rajipls do me a favour Pls convey my Birthday wishes to Nimya Pls Today is her birthdayHaha my legs and neck are killing me and my amigos are hoping to end the night with a burn think I could swing by in like an hourURGENT Your mobile No 07xxxxxxxxx won a £2000 bonus caller prize on 020603 this is the 2nd attempt to reach YOU call 09066362231 ASAP BOX97N7QP 150PPMUsually the body takes care of it buy making sure it doesnt progress Can we pls continue this talk on saturdayURGENT Your 4 Costa Del Sol Holiday or £5000 await collection Call 09050090044 Now toClaim SAE TC s POBox334 Stockport SK38xh Cost£150pm Max10minsHmm well night night Just wanted to say holy shit you guys werent kidding about this budJust gettin a bit arty with my collages at the mo well tryin 2 ne way Got a roast in a min lovely i shall enjoy thatThis is one of the days you have a billion classes rightGoodmorning today i am late for 2hrs Because of back painOk then ill let him noe later n ask him call u tmrPrabhaim sorydarealyfrm heart im soryOK im waliking ard now Do u wan me 2 buy anything go ur house Will have two more cartons off u and is very pleased with shelvesNice talking to you please dont forget my pix  i want to see all of youYou have WON a guaranteed £1000 cash or a £2000 prize To claim yr prize call our customer service representative on 08714712379 between 10am7pm Cost 10pBut really quite funny lor wat Then u shd haf run shorter distance watI notice you like looking in the shit mirror youre turning into a right freakGreat I was getting worried about you Just know that a wonderful and caring person like you will have only the best in life Know that u r wonderful and Gods love is yoursThanks for your ringtone order ref number K718 Your mobile will be charged £450 Should your tone not arrive please call customer services on 09065069120I prefer my free days Tues wed fri oso can Ü ask those workin lorAlrite jod hows the revision goin Keris bin doin a smidgin N e way u wanna cum over after collegexxIf you have belive me Come to my homeOh kkwhere did you take testThose were my exact intentionshaha but no money leh Later got to go for tuition Haha and looking for empty slots for driving lessonsHey Thk we juz go accordin to wat we discussed yest lor except no kb on sun Cos theres nt much lesson to go if we attend kb on satK wen ur free come to my home and also tel vikky i hav sent mail to him also Better come evening il be free today aftr 6pmNothing just getting msgs by dis name wit different nosGood Morning plz call me sirWhats your room number again Wanna make sure Im knocking on the right doorSicomo nolistened2the plaid albumquite gdthe new air1 which is hilariousalso bought\\x94braindance\\x94a compofstuff on aphex\\x92s abelu hav2hear itc u sn xxxxPls tell nelson that the bbs are no longer comin The money i was expecting aint comingGive her something to drink if she takes it and doesnt vomit then you her temp might drop If she unmits however let me knowThink you sent the text to the home phone That cant display texts If you still want to send it his number isEvery day i use to sleep after  ltgt  so onlyK Ill call you when Im closeU buy newspapers alreadyNope wif my sis lor Aft bathing my dog then i can bathe Looks like its going 2 rain soonBoo Im on my way to my moms Shes making tortilla soup YummmmNo management puzzelesHow did you find out in a way that didnt include all of these detailsHi ya babe x u 4goten bout me scammers getting smartThough this is a regular vodafone no if you respond you get further prem rate msgsubscription Other nos used also BewareBack 2 work 2morro half term over Can U C me 2nite 4 some sexy passion B4 I have 2 go back Chat NOW 09099726481 Luv DENA Calls £1minMobsmoreLKPOBOX177HP51FLwill you like to be spoiled Thanks for your ringtone order ref number R836 Your mobile will be charged £450 Should your tone not arrive please call customer services on 09065069154I am getting threats from your sales executive Shifad as i raised complaint against him Its an official messagehope things went well at doctors  reminds me i still need 2godid u c d little thing i left in the loungeDen wat will e schedule b lk on sunLol enjoy role playing muchOk Me watching tv tooI just lov this line Hurt me with the truth I dont mindi wil toleratbcs ur my someone But Never comfort me with a lie gud ni8 and sweet dreamsJust checked out heading out to drop off my stuff nowHere got lots of hair dresser fr chinaSad story of a Man  Last week was my bday My Wife didnt wish me My Parents forgot n so did my Kids  I went to work Even my Colleagues did not wishIll call you evening ill some ideasSplashMobile Choose from 1000s of gr8 tones each wk This is a subscrition service with weekly tones costing 300p U have one credit  kick back and ENJOYDid you show him and wot did he say or could u not c him 4 dustIt should take about  ltgt  minNot heard from U4 a while Call 4 rude chat private line 01223585334 to cum Wan 2C pics of me gettin shagged then text PIX to 8552 2End send STOP 8552 SAM xxxOk   now i am in bus  If i come soon i will come otherwise tomorrowI cant pick the phone right now Pls send a messageForwarded from 88877FREE entry into our £250 weekly comp just send the word ENTER to 88877 NOW 18 TC wwwtextcompcomFinish liao U88066 FROM 88066 LOST 3POUND HELPHaha i think i did tooU know we watchin at lidoLife spend with someone for a lifetime may be meaningless but a few moments spent with someone who really love you means more than life itselfHaha awesome Ive been to 4u a couple times Who alls comingCold Dont be sad dearThink I could stop by in like an hour or so My roommates looking to stock up for a tripIs that on the telly No its Brdget JonesLove you aathilove u lotHello How r u Im bored Inever thought id get bored with the tv but I am Tell me something exciting has happened there Anything HmmBad newsHype park plaza 700 studio takenOnly left 2 bedrm900Sorry Ill call later in meetingR ü comin back for dinnerI hav almost reached Call i m unable to connect uWhom you waited for yesterdayI reach home safe n sound liaoVelly good yes pleaseHi wkend ok but journey terrible Wk not good as have huge back log of marking to doI have had two more letters from  I will copy them for you cos one has a message for you Speak soonAlex knows a guy who sells mids but hes down in south tampa and I dont think I could set it up before like 8Dont you have message offerHad your mobile 11mths  Update for FREE to Oranges latest colour camera mobiles  unlimited weekend calls Call Mobile Upd8 on freefone 08000839402 or 2StopTxHEY THERE BABE HOW U DOIN WOT U UP 2 2NITE LOVE ANNIE XRemind me how to get there and I shall do so thats not v romanticHello Damn this christmas thing I think i have decided to keep this mp3 that doesnt workYou have 1 new message Please call 08718738034HI DARLIN IM MISSIN U HOPE YOU ARE HAVING A GOOD TIME WHEN ARE U BACK AND WHAT TIME IF U CAN GIVE ME A CALL AT HOME JESS XXForwarded from 21870000Hi  this is your Mailbox Messaging SMS alert You have 4 messages You have 21 matches Please call back on 09056242159 to retrieve your messages and matchesDraw vai dont think soDont pick up d call when something important is There to tell HrishiCongrats 1 year special cinema pass for 2 is yours call 09061209465 now C Suprman V Matrix3 StarWars3 etc all 4 FREE bx420ip45we 150pm Dont miss outNothin comes to my mind Ü help me buy hanger lor Ur laptop not heavyltgt  thats all Guess thats easy enoughWe can make a baby in yo thoShould I tell my friend not to come round til like  ltgt ishFriendship poem Dear O Dear U R Not Near But I Can Hear Dont Get Fear Live With Cheer No More Tear U R Always my Dear Gud ni8Still in the area of the restaurant Ill try to come back soonAight thatll work thanksWIN a year supply of CDs 4 a store of ur choice worth £500  enter our £100 Weekly draw txt MUSIC to 87066 TsCs wwwLdewcomsubs161win150ppmx3Moby Pub QuizWin a £100 High Street prize if u know who the new Duchess of Cornwall will be Txt her first name to 82277unsub STOP £150 008704050406 SP ArrowI have 2 sleeping bags 1 blanket and paper and  phone details Anything elseYou have won a Nokia 7250i This is what you get when you win our FREE auction To take part send Nokia to 86021 now HGSuite3422Lands RowW1JHL 16 Congratulations Thanks to a good friend U have WON the £2000 Xmas prize 2 claim is easy just call 08718726971 NOW Only 10p per minute BTnationalratetddnewsletteremc1couk More games from TheDailyDraw Dear Helen Dozens of Free Games  with great prizesWithSo what do you guys doAlso that chat was awesome but dont make it regular unless you can see her in personThats significant but dont worryThats cause your old I live to be highWaqt se pehle or naseeb se zyada kisi ko kuch nahi miltaZindgi wo nahi he jo hum sochte hai Zindgi wo hai jo ham jeetey haiOn the way to office daIn which place do you want daThis pain couldnt have come at a worse timeOkShould I be stalking uSorry dude Dont know how i forgot Even after Dan reminded me Sorry Hope you guys had funOk lorApps class varaya elayaThe Xmas story is peace The Xmas msg is love The Xmas miracle is jesus Hav a blessed month ahead amp wish U Merry XmasURGENT Your mobile number  WON a £2000 Bonus Caller prize on 100603 This is the 2nd attempt to reach you Call 09066368753 ASAP Box 97N7QP 150ppmThat day you asked about anand number WhyAm surfing online store For offers do you want to buy any thingLong beach lor Expected U having dinner nowAt home by the wayWe are both fine ThanksWhat happen to her tell the truthDo you like Italian foodWhich is weird because I know I had it at one pointAww you must be nearly deadWell Jez isComing over toDo some workAnd that whillTake foreverTell your friends what you plan to do on Valentines day  ltURLgtAlright see you in a bitCheers for the message Zogtorius I\\x92ve been staring at my phone for an age deciding whether to text or notI will take care of financial problemi will helpTell dear what happen to you Why you talking to me like an alianDouble your mins  txts on Orange or 12 price linerental  Motorola and SonyEricsson with BTooth FREENokia FREE Call MobileUpd8 on 08000839402 or2optoutHV9D1 Go to write msg 2 Put on Dictionary mode 3Cover the screen with hand 4Press  ltgt  5Gently remove Ur hand Its interestingOkieHi this is yijue can i meet u at 11 tmrIts posible dnt live in  ltgt century cm frwd n thnk differentBut i dint slept in afternoonThat seems unnecessarily affectionateYar else ill thk of all sorts of funny thingsYou will be in the place of that manDownload as many ringtones as u like no restrictions 1000s 2 choose U can even send 2 yr buddys Txt Sir to 80082 £3 Thats cool How was your dayPlease CALL 08712402902 immediately as there is an urgent message waiting for youR we going with the  ltgt  busHello my love  How went your day  Are you alright  I think of you my sweet and send a jolt to your heart to remind you  I LOVE YOU Can you hear it  I screamed it across the sea for all the world to hear Ahmad al Hallaq is loved  and owned  possessive passionate kissNohe joined today itselfOkay same with me Well thanks for the clarificationIll talk to the others and probably just come early tomorrow thenSpook up your mob with a Halloween collection of a logo  pic message plus a free eerie tone txt CARD SPOOK to 8007 zed 08701417012150p per logopicHad the money issue weigh me down but thanks to you I can breathe easier now Ill make sure you dont regret it ThanksHi Im sorry i missed your call Can you pls call backHow are you doing Hope youve settled in for the new school year Just wishin you a gr8 dayFantasy Football is back on your TV Go to Sky Gamestar on Sky Active and play £250k Dream Team Scoring starts on Saturday so register nowSKY OPT OUT to 88088Ok then no need to tell me anything i am going to sleep good nightOk try to do week end course in coimbatoreTone Club Your subs has now expired 2 resub reply MONOC 4 monos or POLYC 4 polys 1 weekly  150p per week Txt STOP 2 stop This msg free Stream 0871212025016V nice Off 2 sheffield tom 2 air my opinions on categories 2 b used 2 measure ethnicity in next census Busy transcribing If you r  home then come down within 5 minA Boy loved a gal He propsd bt she didnt mind He gv lv lttrs Bt her frnds threw thm Again d boy decided 2 aproach d gal  dt time a truck was speeding towards d gal Wn it was about 2 hit d girld boy ran like hell n saved her She asked hw cn u run so fast D boy replied Boost is d secret of my energy n instantly d girl shouted our energy n Thy lived happily 2gthr drinking boost evrydy Moral of d story I hv free msgsD gud ni8That day ü say ü cut ur hair at paragon is it called hair sense Do ü noe how much is a hair cut Hmm too many of them unfortunately Pics obviously arent hot cakes Its kinda fun thoWatching tv lor Y she so funny we bluff her 4 wat Izzit because she thk its impossible between usXMAS Prize draws We are trying to contact U Todays draw shows that you have won a £2000 prize GUARANTEED Call 09058094565 from land line Valid 12hrs onlyDunno lei he neva sayThanx 4 2day U r a goodmate I THINK UR RITE SARY ASUSUAL1 U CHEERED ME UP LOVE U FRANYxxxxxIm on my way home Went to change batt 4 my watch then go shop a bit lorYES The only place in town to meet exciting adult singles is now in the UK Txt CHAT to 86688 now 150pMsgHi Mobile no  ltgt  has added you in their contact list on wwwfullonsmscom It s a great place to send free sms to people For more visit fullonsmscomGood evening Sir hope you are having a nice day I wanted to bring it to your notice that I have been late in paying rent for the past few months and have had to pay a  ltgt  charge I felt it would be inconsiderate of me to nag about something you give at great cost to yourself and thats why i didnt speak up I however am in a recession and wont be able to pay the charge this month hence my askin well ahead of months end Can you please help Thank you for everythingIf i let you do this i want you in the house by 8amBest line said in Love  I will wait till the day I can forget u Or The day u realize that u cannot forget me GnI will reach before ten morningYour pussy is perfectSorry Ill call laterSomeone has contacted our dating service and entered your phone becausethey fancy you To find out who it is call from a landline 09058098002 PoBox1 W14RG 150pNo messageno responcewhat happendAlso wheres the piecewiskey Brandy Rum Gin Beer Vodka Scotch Shampain Wine KUDIyarasu dhina vaazhthukkal Boo Hows things Im back at home and a little bored already First has she gained more than  ltgt kg since she took in Second has she done the blood sugar tests If she has and its ok and her blood pressure is within normal limits then no worriesPICK UR FONE UP NOW U DUMBThanks da thangam i feel very very happy dear I also miss you daOkey doke Im at home but not dressed cos laying around ill Speak to you later bout times and stuff I dont run away frm u I walk slowly amp it kills me that u dont care enough to stop meBabe Im back  Come back to me Well you told others youd marry themNeshanthtel me who r uYO YO YO BYATCH WHASSUPOh Kay On sat rightHi This is Roger from CL How are youBabe U want me dont u baby Im nasty and have a thing 4 filthyguys Fancy a rude time with a sexy bitch How about we go slo n hard Txt XXX SLO4msgsOh oh Wasted Den muz chiong on sat n sun liaoJesus christ bitch Im trying to give you drugs answer your fucking phonePlease give it 2  or i will pick it up on Tuesday evening about 8 if that is okIm meeting DarrenOne of best dialogue in cute reltnship Wen i Die Dont Come Near My Body Bcoz My Hands May Not Come 2 Wipe Ur Tears Off That TimeGud ni8Solve d Case  A Man Was Found Murdered On  ltDECIMALgt  ltgt  AfterNoon 1His wife called Police 2Police questioned everyone 3Wife SirI was sleeping when the murder took place 4Cook I was cooking 5Gardener I was picking vegetables 6HouseMaid I went 2 d post office 7Children We went 2 play 8Neighbour We went 2 a marriage Police arrested d murderer Immediately Whos It Reply With Reason If U r BrilliantDear where you will be when i reach thereAww thats the first time u said u missed me without asking if I missed u first You DO love me Ok Thanx Gd nite 2 ü tooCome to me right now AhmadI dont know u and u dont know me Send CHAT to 86688 now and lets find each other Only 150pMsg rcvd HGSuite3422LandsRowW1J6HL LDN 18 years or overLol please do Actually send a pic of yourself right now I wanna see Pose with a comb and hair dryer or somethingO was not into fps thenHuh means computational science Y they like dat one push here n thereCould you not read me my Love  I answered youOh Lk tt den we take e one tt ends at cine lor Dun wan yogasana oso can Madamregret disturbancemight receive a reference check from DLF Premaricakindly be informedRgdsRakheshKeralaSMS SERVICES For your inclusive text credits pls gotto wwwcomuknet login 3qxj9 unsubscribe with STOP no extra charge help 08702840625 comuk220cm2 9AEOic Then better quickly go bathe n settle downErr Cud do Im going to  at 8pm I havent got a way to contact him until thenA bloo bloo bloo Ill miss the first bowlLmao but its so funOh k kbut he is not a big hitteranyway goodHey I almost forgot  Happy Bday babe  I love yaValentines Day Special Win over £1000 in our quiz and take your partner on the trip of a lifetime Send GO to 83600 now 150pmsg rcvd CustCare08718720201Do you think i can move  ltgt  in a weekShes find I sent you an offline message to know how anjolas nowGuess who am IThis is the first time I created a web page WWWASJESUSCOM read all I wrote Im waiting for your opinions I want to be your friend 11How was txting and drivingThats good Lets thank God Please complete the drug Have lots of water And have a beautiful dayReally dun bluff me leh U sleep early too NiteIndians r poor but India is not a poor country Says one of the swiss bank directors He says that  ltgt  lac crore of Indian money is deposited in swiss banks which can be used for taxless budget for  ltgt  yrs Can give  ltgt  crore jobs to all Indians From any village to Delhi 4 lane roads Forever free power suply to more than  ltgt  social projects Every citizen can get monthly  ltgt  for  ltgt  yrs No need of World Bank amp IMF loan Think how our money is blocked by rich politicians We have full rights against corrupt politicians Itna forward karo ki pura INDIA padhegmUncle boye I need movies oh Guide me Plus you know torrents are not particularly legal here And the system is slowing down What should i do Have a gr8 day Plus have you started cos i dont meet you online How was the honey moonOh ya ya I remember da Btw regarding that we should really try to see if anyone else can be our 4th guy before we commit to a random dudeFor ur chance to win £250 cash every wk TXT PLAY to 83370 TsCs wwwmusictrivianet custcare 08715705022 1x150pwkI not busy juz dun wan 2 go so early Hee Rightio 1148 it is then Well arent we all up bright and early this morningGreat Im in church now will holla when i get outBack in brum Thanks for putting us up and keeping us all and happy See you soon I donno if they are scorableltgt  great loxahatchee xmas tree burning update you can totally see stars hereYes but i dont care I need you bad princessThe guy kadeem hasnt been selling since the break I know one other guy but hes paranoid as fuck and doesnt like selling without me there and I cant be up there til late tonightSorry Ill call laterTmr then ü brin lar Aiya later i come n c lar Mayb ü neva set properly ü got da help sheet wif üDo u knw dis no ltgt Then she dun believe watKgive back my thanksI know complain num onlybettr directly go to bsnl offc nd apply for itOkay Ive seen it So i should pick it on fridayHow much she payed SuganyaLeft dessert U wan me 2 go suntec look 4 uAbeg make profit But its a start Are you using it to get sponsors for the next eventOnum ela pa Normal thanKkhow is your sister kidsCool Ill text you when Im on the wayNope Meanwhile she talk say make i greet youi cant talk to you nowi will call when i candont keep callingAnything larRose needs water season needs change poet needs imaginationMy phone needs ur sms and i need ur lovely frndship foreverGood afternoon babe How goes that day  Any job prospects yet  I miss you my love  sighs  They will pick up and drop in carso no problemSi think he is waste for rrHe is world famamusIs there coming friday is leave for pongaldo you get any news from your work placeLol well dont do it without me We could have a big sale together Am on my wayEat at old airport road But now 630 oredi Got a lot of pplesry cant talk on phone with parentsFinal Chance Claim ur £150 worth of discount vouchers today Text YES to 85023 now SavaMob member offers mobile T Cs SavaMob POBOX84 M263UZ £300 Subs 16Ok lor wat time ü finishPrincess i like to make love  ltgt  times per night Hope thats not a problemMm i am on the way to railwayi dnt wnt to tlk wid uIm done Im sorry I hope your next space gives you everything you want Remember all the furniture is yours If im not around when you move it just lock all the locks and leave the key with jenneNot yet Just id like to keep in touch and it will be the easiest way to do that from barcelona By the way how ru and how is the houseSppok up ur mob with a Halloween collection of nokia logopic message plus a FREE eerie tone txt CARD SPOOK to 8007Urgent call 09066612661 from landline Your complementary 4 Tenerife Holiday or £10000 cash await collection SAE TCs PO Box 3 WA14 2PX 150ppm 18 Sender Hol OfferKdo it at evening daurgentPansy Youve been living in a jungle for two years Its my driving you should be more worried aboutMm have some kanji dont eat anything heavy okOnly if you promise your getting out as SOON as you can And youll text me in the morning to let me know you made it in okLol thats different I dont go trying to find every real life photo you ever tookI dont thnk its a wrong calling between usK ill drinkpa then what doing I need srs model pls send it to my mail id paAiyah e rain like quite big leh If drizzling i can at least run homeI have 2 docs appointments next week Im tired of them shoving stuff up me Ugh why couldnt I have had a normal bodyDun b sad Its over Dun thk abt it already Concentrate on ur other papers kGreetings me  Consider yourself excusedNo drama Plsi have had enough from you and family while i am struggling in the hot sun in a strange placeNo reason why there should be an ego of not going IF NOT INVITED when actually its necessity to gowait for very serious reppurcussionsthey released another Italian one today and it has a cosign optionYou at mu You should try to figure out how much money everyone has for gas and alcohol jay and I are trying to figure out our weed budgetWINNER As a valued network customer you hvae been selected to receive a £900 reward To collect call 09061701444 Valid 24 hours only ACL03530150PMHCL chennai requires FRESHERS for voice processExcellent english neededSalary upto  ltgt Call MsSuman  ltgt  for Telephonic interview via IndyarockscomDai what this da Can i send my resume to this idI know where the  ltgt  is Ill be there around 5Yup ive finished c ü thereRemember to ask alex about his pizzaNo datoday also i forgotOla would get back to you maybe not today but I ve told him you can be his direct link in the US in getting cars he bids for online you arrange shipping and you get a cut Or U For a partnership where U Invest money for shipping and he takes care of the restUWud b self reliant soon dnt worryFwiw the reason Im only around when its time to smoke is that because of gas I can only afford to be around when someone tells me to be and that apparently only happens when somebody wants to light upHello my boytoy I made it home and my constant thought is of you my love I hope your having a nice visit but I cant wait till you come home to me kissCongrats kanowhr s the treat magaWho u talking aboutYupOkU wake up already Wat u doing U picking us up later rite Im taking sq825 reaching ard 7 smth 8 like dat U can check e arrival time C ya soonYunny im walking in citylink now ü faster come down Me very hungryEr yep sure PropsHiya  have u been paying money into my account If so thanks Got a pleasant surprise when i checked my balance u c i dont get statements 4 that accU have won a nokia 6230 plus a free digital camera This is what u get when u win our FREE auction To take part send NOKIA to 83383 now POBOX11414TCRW1 16Ok ill send you with in  ltDECIMALgt  okBognor it is Should be splendid at this time of yearYesim in office daSorry Ill call laterJoys father is John Then John is the NAME of Joys father MandanOk I only ask abt e movie U wan ktv osoMisplaced your number and was sending texts to your old number Wondering why ive not heard from you this year All the best in your mcat Got this number from my atlanta friendsSorry Ill call laterDunno lei I might b eatin wif my frens If ü wan to eat then i wait 4 ü larSorry Ill call laterFREE entry into our £250 weekly comp just send the word WIN to 80086 NOW 18 TC wwwtxttowincoukSay this slowly GODI LOVE YOU amp I NEED YOUCLEAN MY HEART WITH YOUR BLOODSend this to Ten special people amp u c miracle tomorrow do itplspls do itDo u noe how 2 send files between 2 computersMmmmm  I loved waking to your words this morning  I miss you too my Love I hope your day goes well and you are happy I wait for us to be together againjay says hell put in  ltgtCan you just come in for a sec Theres somebody here I want you to seeSo the sun is anti sleep medicineWhats happening with you Have you gotten a job and have you begun registration for permanent residencyYup okGlad it went well  come over at 11 then well have plenty of time before claire goes to workOk enjoy  R u there in homeCan you pls pls send me a mail on all you know about relatives coming to deliver here All you know about costs risks benefits and anything else ThanksYou do what all you likeThats y we haf to combine n c how lorThe monthly amount is not that terrible and you will not pay anything till 6months after finishing schoolHmmmhow many players selectedThey said if its gonna snow it will start around 8 or 9 pm tonite They are predicting an inch of accumulationI dont Can you send it to me Plus hows modeAiyo please ü got time mehPackage all your programs wellShe is our sister She belongs 2 our family She is d hope of tomorrow Pray 4 herwho was fated 4 d Shoranur train incident Lets hold our hands together amp fuelled by love amp concern prior 2 her grief amp pain Pls join in dis chain amp pass it STOP VIOLENCE AGAINST WOMENSo are you guys asking that i get that slippers again or its gone with last yearCompany is very goodenvironment is terrific and food is really niceText82228 Get more ringtones logos and games from wwwtxt82228com Questions infotxt82228coukHonestly ive just made a lovely cup of tea and promptly dropped my keys in it and then burnt my fingers getting them outYup but not studying surfing lor Im in e lazy mode todayPlease sen my kind advice please come here and tryIm done C ü thereOh fine Ill be by tonightÜ give me some time to walk thereIll reach in ard 20 mins okFreeMSG You have been awarded a FREE mini DIGITAL CAMERA just reply SNAP to collect your prize quizclub Opt out Stop 80122300pwk SPRWM Ph08704050406Fuck babe  What happened to you  How come you never came backThis message is brought to you by GMW Ltd and is not connected to theSome friends want me to drive em someplace probably take a whileI also thk too fast Xy suggest one not me U dun wan its ok Going 2 rain leh where got gdAre you still getting the goodsAnd maybe some pressiesYeah I am so Ill leave maybe 7ishKkim also finewhen will you complete the courseUnder the sea there lays a rock In the rock there is an envelope In the envelope there is a paper On the paper there are 3 words I told her I had a Dr appt next week She thinks Im gonna die I told her its just a check Nothing to be worried about But she didnt listenYou in your room I need a fewI dont want to hear anythingHey For me there is no leave on friday Wait i will ask my superior and tell youUltimately tor motive tui achieve korliFrom 5 to 2 only my work timing… and don‘t worry we‘ll have finished by march … ishThe house is on the water with a dock a boat rolled up with a newscaster who dabbles in jazz flute behind the wheelCongrats 2 mobile 3G Videophones R yours call 09063458130 now videochat wid ur mates play java games Dload polypH music noline rentl bx420 ip4 5we 150pYour next amazing xxx PICSFREE1 video will be sent to you enjoy If one vid is not enough for 2day text back the keyword PICSFREE1 to get the next videoNow thats going to ruin your thesisIn sch but neva mind u eat 1st lorHey whats up U sleeping all morningErm I thought the contract ran out the4th of octoberI dunno until when Lets go learn pilatesU are subscribed to the best Mobile Content Service in the UK for £3 per ten days until you send STOP to 83435 Helpline 08706091795Yup im elaborating on the safety aspects and some other issues3 FREE TAROT TEXTS Find out about your love life now TRY 3 FOR FREE Text CHANCE to 85555 16 only After 3 Free Msgs £150 eachGoodmorning today i am late for 1hrHi happy birthday Hi hi hi hi hi hi hiI will be outside office take all from thereIf you dont respond imma assume youre still asleep and imma start calling n shitAight see you in a bitMy superior telling that friday is leave for all other department except oursso it will be leave for youany way call waheed fathima hr and conform itJoin the UKs horniest Dogging service and u can have sex 2nite Just sign up and follow the instructions Txt ENTRY to 69888 now NytEC2A3LPmsg150pLol I have to take it member how I said my aunt flow didnt visit for 6 months Its cause I developed ovarian cysts Bc is the only way to shrink themStill work going onit is very small houseMy friend just got here and says hes upping his order by a few grams hes got  ltgt  when can you get hereTmr timin still da same wat cos i got lesson until 6That‘s the thing with apes u can fight to the death to keep something but the minute they have it when u let go thats itSunshine Quiz Wkly Q Win a top Sony DVD player if u know which country Liverpool played in mid week Txt ansr to 82277 £150 SPTyroneNo im not gonna be able to  too late notice  ill be home in a few weeks anyway  what are the plansGot fujitsu ibm hp toshiba Got a lot of model how to sayOkie ThanxGosh that  what a pain Spose I better come thenAs usualiam fine happy amp doing wellOkieSo when you gonna get rimac access Im at arestaurant eating squid i will be out about 1030 wanna dosomething or is that to lateYou call times job today ok umma and ask them to speed upHELLO UCALL WEN U FINISH WRKI FANCY MEETIN UP WIV U ALL TONITE AS I NEED A BREAK FROM DABOOKS DID 4 HRS LAST NITE2 TODAY OF WRKR U SAM P IN EACHOTHER IF WE MEET WE CAN GO 2 MY HOUSE yeah Lol Luckily i didnt have a starring role like youHello madam how are you Awesome text me when youre restockedAs usualiam fine happy amp doing wellKnock Knock Txt whose there to 80082 to enter r weekly draw 4 a £250 gift voucher 4 a store of yr choice TCs wwwtklscom age16 to stoptxtstop£150weekYes Its all innocent fun OThanks for sending this mental ability questionSir hope your day is going smoothly i really hoped i wont have to bother you about this I have some bills that i cant settle this month I am out of all extra cash I know this is a challenging time for you also but i have to let you know2marrow only Wed at  ltgt  to 2 ahaI went to ur hon lab but no one is thereI cant pick the phone right now Pls send a messageHey pple700 or 900 for 5 nightsExcellent location wif breakfast hamperForwarded from 21870000Hi  this is your Mailbox Messaging SMS alert You have 40 matches Please call back on 09056242159 to retrieve your messages and matches cc100pminHow comeLol Nah wasnt too bad thanks Its good to b home but its been quite a reality check Hows ur day been Did u do anything with websiteOk lorIm coming home 4 dinnerS daal r above  ltgtFREE RING TONE just text POLYS to 87131 Then every week get a new tone 0870737910216yrs only £150wkUnni thank you dear for the rechargeRakheshI know Im lacking on most of this particular dramastorms details but for the most part Im not worried about thatHaha They cant what At the most tmr forfeit haha so howHey there Glad u r better now I hear u treated urself to a digi cam is it good We r off at 9pm Have a fab new year c u in coupla wksNo way Im going back thereURGENT Your mobile No 077xxx WON a £2000 Bonus Caller Prize on 020603 This is the 2nd attempt to reach YOU Call 09066362206 ASAP BOX97N7QP 150ppmI WILL CAL YOU SIR In meetingThats what I love to hear V see you sundayish thenSorry da thangam very very sorry i am held up with prasadTiwary to rcbbattle between bang and kochiThank god they are in bedNo I dont have cancer Moms making a big deal out of a regular checkup aka pap smearAm in gobi arts collegeWhy she wants to talk to mePandy joined 4w technologies todayhe got jobYou are guaranteed the latest Nokia Phone a 40GB iPod MP3 player or a £500 prize Txt word COLLECT to No 83355 IBHltd LdnW15H 150pMtmsgrcvd18They can try They can get lost in fact Tee heeHi You just spoke to MANEESHA V Wed like to know if you were satisfied with the experience Reply Toll Free with Yes or NoMy friends use to call the sameSorry Ill call laterEm its olowoyey uscedu have a great time in argentina Not sad about secretary everything is a blessingIts a taxt massagetiepos argh ok LoolHi can i please get a  ltgt  dollar loan from you Ill pay you back by mid february PlsYou might want to pull out more just in case and just plan on not spending it if you can I dont have much confidence in derek and taylors money managementDo you like shaking your booty on the dance floorText me when you get off dont call my phones having problemsNo need for the drug anymoreSorry dai was thought of calling you lot of timeslil busyi will call you at noonIts sarcasm nt scarcasimGreat I have to run now so ttylFeel like trying kadeem again VDai  ltgt  naal erukuNot yet chikkuwat abt uOkWant to finally have lunch todayDo you know when dad will be backHello darling how are you today I would love to have a chat why dont you tell me what you look like and what you are in to sexy8007 FREE for 1st week No1 Nokia tone 4 ur mob every week just txt NOKIA to 8007 Get txting and tell ur mates wwwgetzedcouk POBox 36504 W4 5WQ norm 150ptone 16He remains a bro amongst brosR u meeting da ge at nite tmr Was a nice day and impressively i was sensible went home early and now feel fine Or am i just boring Whens yours i cant rememberWhy de You looking good onlyWanna get laid 2nite Want real Dogging locations sent direct to ur mobile Join the UKs largest Dogging Network Txt PARK to 69696 now Nyt ec2a 3lp £150msgwe tried to contact you re your response to our offer of a new nokia fone and camcorder hit reply or call 08000930705 for deliveryYes They replied my mail Im going to the management office later Plus will in to bank later alsoor on wednesdayThats cool Ill come by like  ltgt ishSuper msg danalla timingGood afternoon my boytoy  How are you feeling today  Better I hope Are you being my good boy Are you my obedient slave Do you please your QueenI am 6 ft We will be a good combinationIm sick  Im needy  I want you  pouts stomps feet Where are you  pouts stomps feet I want my slave  I want him now  Am on a train back from northampton so im afraid notWhere in abj are you serving Are you staying with dad or aloneWas playng 9 doors game and gt racing on phone lolNew Tones This week include 1McFlyAll Ab 2 Sara JorgeShock 3 Will SmithSwitch To order follow instructions on next messageSolve d Case  A Man Was Found Murdered On  ltDECIMALgt  ltgt  AfterNoon 1His wife called Police 2Police questioned everyone 3Wife SirI was sleeping when the murder took place 4Cook I was cooking 5Gardener I was picking vegetables 6HouseMaid I went 2 d post office 7Children We went 2 play 8Neighbour We went 2 a marriage Police arrested d murderer Immediately Whos It Reply With Reason If U r BrilliantIm on da bus going homeI got a call from a landline number   I am asked to come to anna nagar    I will go in the afternoonIm okay Chasing the dream Whats good What are you doing nextYupz Ive oredi booked slots 4 my weekends liao URGENT We are trying to contact U Todays draw shows that you have won a £800 prize GUARANTEED Call 09050003091 from land line Claim C52 Valid 12hrs onlyThere r many modelsony ericson also der ltgt it luks good bt i forgot modl noOkieYes I know the cheesy songs from frosty the snowman Ya ok vikky vl c witin  ltgt mins and il reply usports fans  get the latest sports news str 2 ur mobile 1 wk FREE PLUS a FREE TONE Txt SPORT ON to 8007 wwwgetzedcouk 0870141701216 norm 4txt120p Hey tmr meet at bugis 930 Urgent Urgent We have 800 FREE flights to Europe to give away call B4 10th Sept  take a friend 4 FREE Call now to claim on 09050000555 BA128NNFWFLY150ppmAll these nice new shirts and the only thing I can wear them to is nudist themed  you in muHey sexy buns What of that day No word from you this morning on YM    I think of youAnd whenever you and i see we can still hook up tooNope but im going home now then go pump petrol lor Like going 2 rain soonCan you use foreign stamps for whatever you send them off for FROM 88066 LOST £12 HELPOh baby of the house How come you dont have any new pictures on facebookFeb  ltgt  is I LOVE U day Send dis to all ur VALUED FRNDS evn me If 3 comes back ull gt married d person u luv If u ignore dis u will lose ur luv 4 EvrHiya sorry didnt hav signal I havent seen or heard from and neither has which is unusual in itself Ill put on the case and get him to sort it out Hugs and snogsOmw back to tampa from west palm you hear what happenedYup no more already Thanx 4 printing n handing it upFreeMsg Fancy a flirt Reply DATE now  join the UKs fastest growing mobile dating service Msgs rcvd just 25p to optout txt stop to 83021 Reply DATE nowWhat i mean is do they come chase you out when its over or is it stated you can watch as many movies as you wantS now only i took tablets  Reaction morning onlyGreat NEW Offer  DOUBLE Mins  DOUBLE Txt on best Orange tariffs AND get latest camera phones 4 FREE Call MobileUpd8 free on 08000839402 NOW or 2stoptxt TCsNah Im a perpetual DDSorry de i went to shopHope you enjoyed your new content text stop to 61610 to unsubscribe help08712400602450p Provided by tones2youcoukWen ur lovable bcums angry wid u dnt take it seriously Coz being angry is d most childish n true way of showing deep affection care n luv kettoda manda Have nice day daHey you still want to go for yogasana Coz if we end at cine then can go bathe and hav the steam bathNope im not drivin I neva develop da photos leiI am thinking of going down to reg for pract lessons Flung my advance Haha wat time u goingCool I am  ltgt  inches long hope you like them bigHouseMaid is the murderer coz the man was murdered on  ltgt th January As public holiday all govtinstituitions are closedincluding post officeunderstandOkie Thanx18 days to Euro2004 kickoff U will be kept informed of all the latest news and results daily Unsubscribe send GET EURO STOP to 83222Go where n buy Juz buy when we get there larOk lorIm working technical support voice processIts justbeen overa week since we broke up and already our brains are going to mushTunde how are you doing This is just wishing you a great day AbiolaNope C ü thenNo But well do medical missions to nigeriaNo i am not having not any movies in my laptopWhatsup there Dont u want to sleepUrgent Please call 09066612661 from landline £5000 cash or a luxury 4 Canary Islands Holiday await collection TCs SAE award 20M12AQ 150ppm 16 “Urgent Please call 09066612661 from your landline your complimentary 4 Lux Costa Del Sol holiday or £1000 CASH await collection ppm 150 SAE TCs James 28 EH74RRI havent lei Next mon canMm feeling sleepy today itself i shall get that dearHow dare you stupid I wont tell anything to you Hear after i wont talk to youDo ü noe if ben is goingCan you do a mag meeting this avo at some pointI meant middle left or rightReally I crashed out cuddled on my sofaHi Chachi tried calling u now unable to reach u  Pl give me a missed cal once u c tiz msg  KanaguI sent you the prices and do you mean the  ltgt gAre you this much buzyNothing CanI dont know u and u dont know me Send CHAT to 86688 now and lets find each other Only 150pMsg rcvd HGSuite3422LandsRowW1J6HL LDN 18 years or overNo  am working on the ringing u thing but have whole houseful of screaming brats so  am pulling my hair out Loving uBut my family not responding for anything Now am in room not went to home for diwali but no one called me and why not coming It makes me feel like diedTick tick tick  BabeR ü going 4 todays meetingK dahow many page you wantYa had just nowonion roastSend his number and give reply tomorrow morning for why you said that to him like that okYou said not now No problem When you can Let me knowOk but tell me half an hr b4 u come i need 2 preparePlay w computer Aiyah i tok 2 u lorSat right Okay thanks Derp Which is worse a dude who always wants to party or a dude who files a complaint about the three drug abusers he lives withOk Chinese food on its way When I get fat youre paying for my lipoWe r outside alreadyHave a good trip Watch out for  Remember when you get back we must decide about easterYo we are watching a movie on netflixWhat time I‘m out until prob 3 or soCan meh Thgt some will clash Really ah i dun mind I dun seen to have lost any weight GeeI dont thnk its a wrong calling between usI am not sure about night menu   I know only about noon menuARR birthday today i wish him to get more oscarSay this slowly GODI LOVE YOU amp I NEED YOUCLEAN MY HEART WITH YOUR BLOODSend this to Ten special people amp u c miracle tomorrow do itplspls do itOpen rebtel with firefox When it loads just put plus sign in the user name place and it will show you two numbers The lower number is my number Once you pick that number the pin will display okay and  picking them up from various pointsMarried local women looking for discreet action now 5 real matches instantly to your phone Text MATCH to 69969 Msg cost 150p 2 stop txt stop BCMSFWC1N3XXWow v v impressed Have funs shoppingI am on the way to ur homeBurger King  Wanna play footy at a top stadium Get 2 Burger King before 1st Sept and go Large or Super with CocaCola and walk out a winnerNo problem Talk to you laterThen ur sis howStill in customer placeHow come it takes so little time for a child who is afraid of the dark to become a teenager who wants to stay out all nightDude u knw also teluguthts gudk gud nytWe confirm eating at esplanadeSend me your id and passwordKind of Took it to garage Centre part of exhaust needs replacing Part ordered n taking it to be fixed tomo morningFor ur chance to win a £250 cash every wk TXT ACTION to 80608 TsCs wwwmovietriviatv custcare 08712405022 1x150pwkWell I might not come thenLong after I quit I get on only like 5 minutes a day as it isThen its most likely called Mittelschmertz Google it If you dont have paracetamol dont worry it will goWell at this right Im gonna have to get up and check todays steam salespee so text me when you want me to come get youJust arrived see you in a couple days lt3K wat s tht incidentYeah get the unlimitedcThen i thk shd b enuff Still got conclusion n contents pg n references Ill b doing da contents pg n cover pgForgot it takes me 3 years to shower sorry Where you atyour phone dead yetÜ got wat to buy tell us then ü no need to come in againWhen you are big God will bring successU’ve Bin Awarded £50 to Play 4 Instant Cash Call 08715203028 To Claim EVERY 9th Player Wins Min £50£500 OptOut 08718727870… we r stayin here an extra week back next wed How did we do in the rugby this weekend Hi to and and  c u soon Well theres still a bit left if you guys want to tonightNot from this campus Are you in the libraryThe affidavit says  ltgt  E Twiggs St division g courtroom  ltgt  ltTIMEgt  AM Ill double check and text you again tomorrowHow will I creep on you now Tell your friends what you plan to do on Valentines day  ltURLgtIf I get there before you after your ten billion calls and texts so help me godPurity of friendship between two is not about smiling after reading the forwarded messageIts about smiling just by seeing the name Gud evng musthuIve told him that ive returned it That should i re order itHouseMaid is the murderer coz the man was murdered on  ltgt th January As public holiday all govtinstituitions are closedincluding post officeDepends on where u going lorAnd smile for me right now as you go and the world will wonder what you are smiling about and think your crazy and keep away from you  grinsFreeMsgFAV XMAS TONESReply REALLil fever now fineI think its all still in my carCan a notDecember only Had your mobile 11mths You are entitled to update to the latest colour camera mobile for Free Call The Mobile Update Co FREE on 08002986906 Yes princess I want to catch you with my big strong handsOh yeah I forgot U can only take 2 out shopping at onceMm so you asked me not to call radioThinkin about someone is all good No drugs for thatSay this slowly GODI LOVE YOU amp I NEED YOUCLEAN MY HEART WITH YOUR BLOODSend this to Ten special people amp u c miracle tomorrow do itplspls do itEnjoy the showers of possessiveness poured on u by ur loved ones bcoz in this world of lies it is a golden gift to be loved trulyAlright if youre sure let me know when youre leavingSome are lasting as much as 2 hours You might get luckyGenius whats up How your brother Pls send his number to my skypeGr8 Poly tones 4 ALL mobs direct 2u rply with POLY TITLE to 8007 eg POLY BREATHE1 Titles CRAZYIN SLEEPINGWITH FINEST YMCA getzedcouk POBox365O4W45WQ 300pThk some of em find wtc too far Weiyi not goin E rest i dunno yet R ur goin 4 dinner den i might b able to joinDont forget who owns you and whos private property you are  And be my good boy always  passionate kissINTERFLORA  \\x93Its not too late to order Interflora flowers for christmas call 0800 505060 to place your order before Midnight tomorrowOh godtaken the teethis it painingROMCAPspam Everyone around should be responding well to your presence since you are so warm and outgoing You are bringing in a real breath of sunshineThen u ask darren go n pick u lor But i oso sian tmr haf 2 meet lectNo need to buy lunch for me I eat maggi meeCongratulations  Thanks to a good friend U have WON the £2000 Xmas prize 2 claim is easy just call 08712103738 NOW Only 10p per minute BTnationalrateOk lorOh right ok Ill make sure that i do loads of work during the day  got a really nasty cough today and is dry n shot so that should really help itWifehow she knew the time of murder exactlySend a logo 2 ur lover  2 names joined by a heart Txt LOVE NAME1 NAME2 MOBNO eg LOVE ADAM EVE 07123456789 to 87077 Yahoo POBox36504W45WQ TxtNO 4 no ads 150pHowz that persons storyThanx 4 sending me homeIts normally hot mail Com you seeYouve won tkts to the EURO2004 CUP FINAL or £800 CASH to collect CALL 09058099801 b4190604 POBOX 7876150ppmU sick still can go shoppingYa they are well and fine BBDpooja full pimpleseven she become quite blackand ur rite here its too cold wearing sweatterNicenicehow is it working1s reach home call meWere trying to find a Chinese food place around hereEasy mate  guess the quick drink was bit ambitiousBABE  I miiiiiiissssssssss you  I need you  I crave you    Geeee  Im so sad without you babe  I love you Ok thanxaathiwhere are you dearTunji hows the queen how are you doing This is just wishing you a great day AbiolaToday iZ Yellow rose day If u love my frndship give me 1 misscall amp send this to ur frndZ amp See how many miss calls u get If u get 6missed U marry ur LoverWill be out of class in a few hours SorryWat time u finish ur lect todayFreemessage JamsterGet the crazy frog sound now For poly text MAD1 for real text MAD2 to 88888 6 crazy sounds for just 3 GBPweek 16only TCs applySad story of a Man  Last week was my bday My Wife didnt wish me My Parents forgot n so did my Kids  I went to work Even my Colleagues did not wish As I entered my cabin my PA said  Happy Bday Boss  I felt special She askd me 4 lunch After lunch she invited me to her apartment We went there She said do u mind if I go into the bedroom for a minute   OK I sed in a sexy mood She came out 5 minuts latr wid a caken My Wife My Parents My Kidz My Friends n My Colleagues All screaming SURPRISE  and I was waiting on the sofa    NAKEDYOUR CHANCE TO BE ON A REALITY FANTASY SHOW call now  08707509020 Just 20p per min NTT Ltd PO Box 1327 Croydon CR9 5WB 0870 is a national  rate callShes fine Good to hear from you How are you my dear Happy new year ohAre you going to wipro interview todayhow tall are you princessI doubt you could handle 5 times per night in any caseHaha Hope ü can hear the receipt sound Gd luckYour gonna be the death if me Im gonna leave a note that says its all robs fault Avenge meJapanese Proverb If one Can do it U too Can do it If none Can do itU must do it Indian version If one Can do it LET HIM DO it If none Can do itLEAVE it And finally Kerala version If one can do it Stop him doing it If none can do it Make a strike against it Today im not workin but not free oso Gee Thgt u workin at ur frens shop  In life when you face choices Just toss a coin not becoz its settle the question But while the coin in the air U will know what your heart is hoping for Gudni8Do you know why god created gap between your fingers So that One who is made for you comes amp fills those gaps by holding your hand with LOVEI want to be there so i can kiss you and feel you next to meI am not at all happy with what you saying or doingAdult 18 Content Your video will be with you shortlyOk that would b lovely if u r sure Think about wot u want to do drinkin dancin eatin cinema in out about Up to u Wot about  What Im saying is if you havent explicitly told nora I know someone Im probably just not gonna botherHe says hi and to get your ass back to south tampa preferably at a keggerSmith waste dai wanna gayleMum ive sent you many many messages since i got here I just want to know that you are actually getting them Do enjoy the rest of your dayAight tomorrow around  ltgt  it isHouseMaid is the murderer coz the man was murdered on  ltgt th January As public holiday all govtinstituitions are closedincluding post officeunderstandYOUR CHANCE TO BE ON A REALITY FANTASY SHOW call now  08707509020 Just 20p per min NTT Ltd PO Box 1327 Croydon CR9 5WB 0870 is a national  rate callI actually did for the first time in a while I went to bed not too long after i spoke with you Woke up at 7 How was your nightSee you there I dont understand your messageCrucify is c not s You should have told me earlierIdk You keep saying that youre not but since he moved we keep butting heads over freedom vs responsibility And im tired I have so much other shit to deal with that im barely keeping myself together once this gets added to itFuck cedar key and fuck her come over anyway thotwenty past five he said will this train have been to durham already or not coz i am in a reserved seatHey Boys Want hot XXX pics sent direct 2 ur phone Txt PORN to 69855 24Hrs free and then just 50p per day To stop text STOPBCM SF WC1N3XXU still painting ur wallLast Chance Claim ur £150 worth of discount vouchers today Text SHOP to 85023 now SavaMob offers mobile T Cs SavaMob POBOX84 M263UZ £300 Sub 16Printer is cool I mean groovy Wine is groovyingHi Harishs rent has been transfred to ur AcntAnything lor is she comingCbe is really good nowadayslot of shop and showroomscity is shaping goodÜ still attending da talksNo probs hon How u doinat the moK Ill take care of itI take it we didnt have the phone callon Friday Can we assume we wont have it this year nowMy battery is low babeShuhui has bought rons present its a swatch watchYeah theres quite a bit left Ill swing by tomorrow when I get upBabe You said 2 hours and its been almost 4  Is your internet down K Ill be sure to get up before noon and see whats whatKkyesterday i was in cbe Went to ganesh dress shoppdateNow  Double mins and 1000 txts on Orange tariffs Latest Motorola SonyEricsson  Nokia  Bluetooth FREE Call MobileUpd8 on 08000839402 or call2optoutYHLÜ collecting ur laptop then going to configure da settings izzitIf you r  home then come down within 5 minAight I should be there by 8 at the latest probably closer to 7 Are jay and tyler down or should we just do two tripsCome aftr  ltDECIMALgt now i m cleaning the houseUr cashbalance is currently 500 pounds  to maximize ur cashin now send CASH to 86688 only 150pmsg CC 08718720201 PO BOX 11414 TCRW1Bill as in Are there any letters for me i’m expecting one from orange that isn’t a bill but may still say orange on itTell me pa How is pain deHI DARLIN I HOPE YOU HAD A NICE NIGHT I WISH I HAD COME CANT WAIT TO SEE YOU LOVE FRAN PS I WANT DIRTY ANAL SEX AND I WANT A 10 MAN GANG BANGHa You don‘t know either I did a a clever but simple thing with pears the other day perfect for christmasHelloooo Wake up Sweet morning welcomes You Enjoy This Day with full of joy GUD MRNGALRITEWhy must we sit around and wait for summer days to celebrate Such a magical sight when the worlds dressed in white Oooooh let there be snowURGENT Your Mobile number has been awarded with a £2000 prize GUARANTEED Call 09058094454 from land line Claim 3030 Valid 12hrs onlyHow do you guys go to see movies on your sideSorryin meeting Ill call laterYou didnt have to tell me thatnow im thinking Plus hes going to stop all your runsKindly send some one to our flat before  ltDECIMALgt  todaySorry U can not unsubscribe yet THE MOB offer package has a min term of 54 weeks pls resubmit request after expiry Reply THEMOB HELP 4 more infoNothing lor A bit bored too Then y dun u go home early 2 sleep todayWhat time should I tell my friend to be aroundYes that will be fine Love you Be safeThanks chikku gud nytIs xy in ur car when u picking me upThanx 4 the time we\\x92ve spent 2geva its bin mint Ur my Baby and all I want is uxxxxYo any way we could pick something up tonightIve not sent it He can send meFine am simply sittingThts gods gift for birds as humans hav some natural gift frm godAre you coming to day for classIm done Just studyn in libraryOk U enjoy ur showsAnythingWhere wuld I be without my baby The thought alone mite break me and I don\\x92t wanna go crazy but everyboy needs his lady xxxxxxxxWats my dear doing Sleeping ahHi Test on  ltgt rd Only 2 students solved this CAT question in xam 532 ltgt  924 ltgt  863 ltgt  then 725 Tell me the answer if u r brilliant1thingi got d answrYo do you know anyone  ltgt  or otherwise able to buy liquor Our guy flaked and right now if we dont get a hold of somebody its just 4 loko all nightYup n her fren lor Im meeting my fren at 730Yeah we got one lined up for usAnd stop wondering wow is she ever going to stop tming me  because I will tm you whenever I want because you are MINE  laughsLol yep did that yesterday Already got my fireplace Now its just another icon sitting there for meHey ive booked the pilates and yoga lesson already HahaAre you ok What happen to behave like thisYou have 1 new message Please call 08712400200My supervisor find 4 me one lor i thk his students I havent ask her yet Tell u aft i ask herHello No news on job they are making me wait a fifth week Yeah im up for some woozles and weasels In exeter still but be home about 3 No messageno responcewhat happendWe currently have a message awaiting your collection To collect your message just call 08718723815Hey babe sorry i didnt get sooner Gary can come and fix it cause he thinks he knows what it is but he doesnt go as far a Ptbo and he says it will cost  ltgt  bucks I dont know if it might be cheaper to find someone there  We dont have any second hand machines at all right now let me know what you want to do babemake that 3 4 fucks sake xLeave it U will always be ignorantNope but ill b going 2 sch on fri quite early lor cos mys sis got paper in da morn at bruce b downs amp fletcher nowWhere are you  You said you would be here when I woke  Hey now am free you can call meTell me whos this plsURGENT Your mobile was awarded a £1500 Bonus Caller Prize on 27603 Our final attempt 2 contact U Call 08714714011Think i might have to give it a miss Am teaching til twelve then have lecture at two Damn this working thingId have to check but theres only like 1 bowls worth leftYes there were many sweetsI would but Im still cozy And exhausted from last nightnobody went to school or work Everything is closedU have a secret admirer REVEAL who thinks U R So special Call 09065174042 To opt out Reply REVEAL STOP 150 per msg recd Cust care 07821230901Buzzzz grins Did I buzz your ass Buzz your chest  Buzz your cock  Where do you keep your phone  Is the vibrator on  Did you feel it shake Sir send to group mail check itIm doing da intro covers energy trends n pros n cons Brief description of nuclear fusion n oso brief history of iter n jet got abt 7 n half pagesNONENOWHERE IKNO DOESDISCOUNTSHITINNITYou dont know you jabo me abiDo you ever notice that when youre driving anyone going slower than you is an idiot and everyone driving faster than you is a maniacNot yet hadya sapna aunty manege yday hogidhechinnu full weak and swalpa black agidhaneAre you being good baby NEFT Transaction with reference number  ltgt  for Rs ltDECIMALgt  has been credited to the beneficiary account on  ltgt  at  ltTIMEgt  ltgtMostly sports typelyk footblcrcktMa head dey swell oh Thanks for making my dayU should make a fb listHeight of Confidence All the Aeronautics professors wer calld amp they wer askd 2 sit in an aeroplane Aftr they sat they wer told dat the plane ws made by their students Dey all hurried out of d plane Bt only 1 didnt move He saidif it is made by my studentsthis wont even start Datz confidenceSary just need Tim in the bollox it hurt him a lot so he tol meHappy New Year PrincessIll text carlos and let you know hang onDont worry  is easy once have ingredientsI love u 2 my little pocy bell I am sorry but I love uOk omw now you at castorYar lor Keep raining non stop Or u wan 2 go elsewhereXmas Offer Latest Motorola SonyEricsson  Nokia  FREE Bluetooth or DVD Double Mins  1000 Txt on Orange Call MobileUpd8 on 08000839402 or call2optout4QF2What u mean u almost done Done wif sleeping But i tot u going to take a nap Yup i send her liao so im picking her up at ard 4 smth lor7 wonders in My WORLD 7th You 6th Ur style 5th Ur smile 4th Ur Personality 3rd Ur Nature 2nd Ur SMS and 1st Ur Lovely Friendship good morning dearTonight Yeah Id be down for thatWhat should i eat fo lunch senorHe said that he had a right giggle when he saw u again You would possibly be the first person2die from NVQ but think how much you could for No break time one How I come out n get my stuff fr üReply to win £100 weekly What professional sport does Tiger Woods play Send STOP to 87239 to end serviceIm there and I can see you but you cant see me  Maybe you should reboot ym  I seen the buzzDo you still have the grinderNo 1 POLYPHONIC tone 4 ur mob every week Just txt PT2 to 87575 1st Tone FREE  so get txtin now and tell ur friends 150ptone 16 reply HL 4infoLove isnt a decision its a feeling If we could decide who to love then life would be much simpler but then less magicalHOT LIVE FANTASIES call now 08707509020 Just 20p per min NTT Ltd PO Box 1327 Croydon CR9 5WB 0870 is a national rate callKi didt see youkwhere are you nowSo im doing a list of buyersNo idea I guess well work that out an hour after were supposed to leave since as usual nobody has any interest in figuring shit out before the last secondMm not entirely sure i understood that text but hey Ho Which weekendThey released vday shirts and when u put it on it makes your bottom half naked instead of those white underwearDon knowhe is watching film in computerNo b4 ThursdayOh then your phone phoned me but it disconnectedId onluy matters when getting on from offcampusThis message is free Welcome to the new  improved Sex  Dogging club To unsubscribe from this service reply STOP msgs150p 18onlyExcellent Ill see what rileys plans areI will see in half an hourYouve won tkts to the EURO2004 CUP FINAL or £800 CASH to collect CALL 09058099801 b4190604 POBOX 7876150ppmEw are you one of themAlso hi wesley howve you beenAh you see You have to be in the lingo I will let you know wot on earth it is when has finished making itLoan for any purpose £500  £75000 Homeowners  Tenants welcome Have you been previously refused We can still help Call Free 0800 1956669 or text back helpUpdateNow  12Mths Half Price Orange line rental 400minsCall MobileUpd8 on 08000839402 or call2optoutJ5QImagine Life WITHOUT ME see How fast u are searching meDont worry lm always there To disturb U GoodnoonHm good morning headache anyone Yeah no probs  last night is obviously catching up with you Speak soon FREE UNLIMITED HARDCORE PORN direct 2 your mobile Txt PORN to 69200  get FREE access for 24 hrs then chrgd50p per day txt Stop 2exit This msg is freeI might go 2 sch Yar at e salon now v boring ltgt  mins but i had to stop somewhere firstltgt  is fast approaching So Wish u a very Happy New Year Happy Sankranti Happy republic day Happy Valentines Day Happy Shivratri Happy Ugadi Happy Fools day Happy May Day Happy Independence Day Happy FriendshipMotherFatherTeachersChildrens Day amp HAPPY BIRTHDAY 4 U Happy Ganesh festival Happy Dasara Happy Diwali Happy Christmas  ltgt  Good Mornings Afternoons Evenings Nights RememberI AM the first to WISHING U ALL THESEyours RajOne of the joys in lifeis waking up each daywith thoughts that somewhereSomeone cares enough tosend a warm morning greeting I didnt get the second half of that messageWat time do u wan 2 meet me laterI thank you so much for all you do with selflessness I love you plentyAm in film ill call you laterHow dare you change my ringYou are a very very very very bad girl Or ladyI love ya too but try and budget your money better babe Gary would freak on me if he knewWhat part of dont initiate dont you understandI finished my lunch already U wake up alreadyYou still at the gameYou have got tallent but you are wastingWhat is your record for one night Also sir i sent you an email about how to log into the usc payment portal Ill send you another message that should explain how things are back home Have a great weekend gonna let me know cos comes bak from holiday that day  is coming Dont4get2text me  number Jokin only lar  depends on which phone my father can get lorAight lemme know whats upGet ready for  ltgt  inches of pleasureRajipls do me a favour Pls convey my Birthday wishes to Nimya Pls Today is her birthday ok I feel like john lennonCos darren say ü considering mah so i ask üYou are not bothering me but you have to trust my answers PlsWishing you and your family Merry X mas and HAPPY NEW Year in advanceOne day a crab was running on the sea shoreThe waves came n cleared the footprints of the crab Crab asked being my frnd y r u clearing my beautiful footprints Waves replied A fox was following ur footprints to catch you thats y i cleared it off frndsship never lets u dwn  GUD nytAight what time you want me to come upSlaaaaave  Where are you  Must I summon you to me all the time now  Dont you wish to come to me on your own anymoreYour bill at 3 is £3365 so thats not badLet me know how it changes in the next 6hrs It can even be appendix but you are out of that age range However its not impossible So just chill and let me know in 6hrsHello yeah ive just got out of the bath and need to do my hair so ill come up when im done yeahSo hows the weather over thereOk Not much to do here though HM Friday cant wait Dunno wot the hell im gonna do for another 3 weeks Become a slob oh wait already done that Die Now i have e toot fringe againLol they dont know about my awesome phone I could click delete right now if I wantOkAwesome question with a cute answer Someone asked a boy how is ur life   He smiled amp answered   She is fine GudnitePlease leave this topicsorry for telling thatPls send me the correct name daWhat happened to our yo dateEASTENDERS TV Quiz What FLOWER does DOT compare herself to D VIOLET E TULIP F LILY txt D E or F to 84025 NOW 4 chance 2 WIN £100 Cash WKENT150P16Webpage s not availableJust woke up Yeesh its late But I didnt fall asleep til ltgt am You are now unsubscribed all services Get tons of sexy babes or hunks straight to your phone go to httpgotbabescouk No subscriptionsDear all as we know  ltgt th is the  ltgt th birthday of our loving Gopalettan We are planning to give a small gift on that day Those who like to participate in that you are welcome Please contact our admin team for more detailsKkfrom tomorrow onwards started ahWhat u talking bout early morning Its almost noon where your atFine Do you remember meHi babe its Jordan how r u Im home from abroad and lonely text me back if u wanna chat xxSP visionsmscom Text stop to stopCost 150p 08712400603Ok How many should i buySounds good keep me postedGet a brand new mobile phone by being an agent of The Mob Plus loads more goodies For more info just text MAT to 87021Ok So april Cant waitBoy you best get yo ass out here quickAy wana meet on satü wkg on satIm now but have to wait till 2 for the bus to pick meApart from the one i told you about yesterdayOk lor But buy watSomebody should go to andros and steal iceDon know I didt msg him recentlyTake us out shopping and Mark will distract IsaiahDMum hope you are having a great day Hoping this text meets you well and full of life Have a great day AbiolaThere is no sense in my foot and penisOkay but i thought you were the expertdeep sigh  I miss you   I am really surprised you havent gone to the net cafe yet to get to me  Dont you miss meSsi thinl role is like sachinjust standing Others have to hitHave a great trip to India And bring the light to everyone not just with the project but with everyone that is lucky to see you smile Bye AbiolaAnd very importantly all we discuss is between u and i onlyKkhow about your training processOk lor I ned 2 go toa payoh 4 a while 2 return smth u wan 2 send me there or watIn da car park I wish that I was with you Holding you tightly Making you see how important you are How much you mean to me  How much I need you  In my life So i asked hows anthony Dad And your bfWnevr i wana fal in luv vth my books My bed fals in luv vth me  Yen madodu nav pretsorginta nammanna pretsovru important alwa Gud eveBWhat Todaysundaysunday is holidayso no workAm going to take bath ill place the key in windowLORD OF THE RINGSRETURN OF THE KING in store NOWREPLY LOTR by 2 June 4 Chance 2 WIN LOTR soundtrack CDs StdTxtRate Reply STOP to end txtsDear take care I am just reaching homelove u a lotstaffsciencenusedusgphyhcmkteachingpc1323Have you emigrated or something Ok maybe 530 was a bit hopefulOlol i printed out a forum post by a guy with the exact same  prob which was fixed with a gpu replacement Hopefully they dont ignore thatWe walked from my moms Right on stagwood pass right on winterstone left on victors hill Address is ltgtYo you at jp and hungry like a mofoThis is all just creepy and crazy to meOk I din get ur msgTessypls do me a favor Pls convey my birthday wishes to Nimyapls dnt forget it Today is her birthday ShijasPathaya enketa maraikara paEven if he my friend he is a priest call him nowU so lousy run already come back then half dead HeeThats y i said its bad dat all e gals know u Wat u doing nowOr remind me in a few hrsI had been hoping i would not have to send you this message My rent is due and i dont have enough for it My reserves are completely gone Its a loan i need and was hoping you could her The balance is  ltgt  Is there a way i could get that from you till mid march when i hope to pay backHi Happy New Year I dont mean to intrude but can you pls let me know how much tuition you paid last semester and how much this semester is ThanksHello hun how ru Its here by the way Im good Been on 2 dates with that guy i met in walkabout so far We have to meet up soon Hows everyone elseLol I was gonna last month I cashed some in but I left ltgt just in case I was collecting more during the week cause they announced it on the blogGood Luck Draw takes place 28th Feb 06 Good Luck For removal send STOP to 87239 customer services 08708034412Short But Cute   Be a good person  but dont try to prove  Gud mrngJust havent decided where yet eh Wat time liao where still gotYes watching footie but worried were going to blow it  Phil NevilleI wait 4 ü inside da car parkUncle Abbey Happy New Year AbiolaNow am free call me paR u saying i should re order the slippers cos i had to pay for returning itStop knowing me so wellGood evening this is roger How are youSmall problem in auctionpunj now asking tiwaryFree entry in 2 a weekly comp for a chance to win an ipod Txt POD to 80182 to get entry std txt rate TCs apply 08452810073 for details 18He telling not to tell any one If so treat for me hi hi hiMy uncles in Atlanta Wish you guys a great semester1st wk FREE Gr8 tones str8 2 u each wk Txt NOKIA ON to 8007 for Classic Nokia tones or HIT ON to 8007 for Polys Nokia150p Poly200p 16U coming 2 pick meThats cool i liked your photos You are very sexywould u fuckin believe it they didnt know i had thurs pre booked off so they re cancelled me AGAIN that needs to b sackedHaha better late than ever any way I could swing byOk But i finish at 6LookAtMe Thanks for your purchase of a video clip from LookAtMe youve been charged 35p Think you can do better Why not send a video in a MMSto 32323Ive been barred from all B and Q stores for lifeThis twat in orange dungerees came up to me and asked if I wanted decking So I got the first punch inSo no messages Had foodOk going to sleep Hope i can meet herWat makes some people dearer is not just de happiness dat u feel when u meet them but de pain u feel when u miss demCan you let me know details of fri when u find out cos Im not in tom or fri mentionned chinese ThanksYoure right I have now that I think about itWat r u doing nowIs ur lecture oversexy sexy cum and text me im wet and warm and ready for some porn u up for some fun THIS MSG IS FREE RECD MSGS 150P INC VAT 2 CANCEL TEXT STOPCustomer place i will call youNot planned yet going to join company on jan 5 onlydon know what will happen after thatBoy I love u Grl Hogolo Boy gold chain kodstini Grl Agalla Boy necklace madstini Grl agalla Boy Hogli 1 mutai eerulli kodthini Grl I love U kanoHaha I heard that text me when youre aroundIll get there tomorrow and send it to youSHIT BABE THASA BIT MESSED UPYEH SHE SHUDVETOLD U DID URGRAN KNOWNEWAY ILLSPEAK 2 U2MORO WEN IM NOT ASLEEPOh thats late Well have a good night and i will give u a call tomorrow Iam now going to go to sleep night nightCHEERS U TEX MECAUSE U WEREBORED YEAH OKDEN HUNNY R UIN WK SATSOUND\\x92S LIKEYOUR HAVIN GR8FUN J KEEP UPDAT COUNTINLOTS OF LOVEME XXXXXSorry  in meeting Ill call you laterYo Howz u girls never rang after india LYeah but which is worse for iHard LIVE 121 chat just 60pmin Choose your girl and connect LIVE Call 09094646899 now Cheap Chat UKs biggest live service VU BCM1896WC1N3XXI tagged MY friends that you seemed to count as YOUR friendsNot heard from U4 a while Call 4 rude chat private line 01223585334 to cum Wan 2C pics of me gettin shagged then text PIX to 8552 2End send STOP 8552 SAM xxxOkLong time You remember me todayHavent shopping now lor i juz arrive onlyThank u IT BETTER WORK OUT CAUSE I WILL FEEL USED OTHERWISEAre you up for the challenge I know i am How much did ur hdd casing costMystery solved Just opened my email and hes sent me another batch Isnt he a sweetieI cant describe how lucky you are that Im actually awake by noonThis is the 2nd time we have tried to contact u U have won the £1450 prize to claim just call 09053750005 b4 310303 TCsstop SMS 08718725756 140ppmTODAY is Sorry day If ever i was angry with you if ever i misbehaved or hurt you plz plz JUST SLAP URSELF Bcoz Its ur fault Im basically GOODCheers for the card  Is it that time of year alreadyHOT LIVE FANTASIES call now 08707509020 Just 20p per min NTT Ltd PO Box 1327 Croydon CR9 5WB 0870kWhen people see my msgs They think Iam addicted to msging They are wrong Bcoz They dont know that Iam addicted to my sweet Friends BSLVYLUgh hopefully the asus ppl dont randomly do a reformatHavent seen my facebook huh LolMah b Ill pick it up tomorrowStill otside leu come 2morrow magaDo u still have plumbers tape and a wrench we could borrowDear Voucher Holder To claim this weeks offer at you PC please go to httpwwwetlpcoukreward TsCs applyIt vl bcum more difficultUR GOING 2 BAHAMAS CallFREEFONE 08081560665 and speak to a live operator to claim either Bahamas cruise of£2000 CASH 18only To opt out txt X to 07786200117Havent still waitin as usual Ü come back sch orediIn meeting da I will call youK k  then watch some filmsDoes cinema plus drink appeal tomo  Is a fr thriller by director i like on at mac at 830There the size of elephant tablets  u shove um up ur assSo many people seems to be special at first sight But only very few will remain special to you till your last sight Maintain them till life ends take cr daMy Parents My Kidz My Friends n My Colleagues All screaming SURPRISE  and I was waiting on the sofa    NAKEDDunno i juz askin cos i got a card got 20 off 4 a salon called hair sense so i tot its da one ü cut ur hair Good morning pookie pie Lol hope I didnt wake u upMAYBE IF YOU WOKE UP BEFORE FUCKING 3 THIS WOULDNT BE A PROBLEMHappy birthday to youdearwith lots of loverakhesh NRIHowz that persons storyThis is the 2nd time we have tried 2 contact u U have won the 750 Pound prize 2 claim is easy call 08712101358 NOW Only 10p per min BTnationalrateX2  ltgt  Are you going to get thatHi neva worry bout da truth coz the truth will lead me 2 ur heart It\\x92s the least a unique person like u deserve Sleep tight or morningUR awarded a City Break and could WIN a £200 Summer Shopping spree every WK Txt STORE to 88039SkilGmeTsCs087147403231WinawkAge16£150perWKsubIs ur paper today in e morn or aftI will lick up every drop  are you ready to use your mouth as wellAnd you Will expect you whenever you text Hope all goes well tomo Great P diddy is my neighbor and comes for toothpaste every morningI av a new number   Wil u only use this onetaSo its to be poking man everyday that they teach you in canada abi How are you Just saying hi7 lor Change 2 suntec Wat time u comingNo deam seeing in online shop so that i askedJust curious because my cuz asked what I was up toNicenicehow is it workingOkay lor Wah like that def they wont let us go Haha What did they say in the terms and conditionsHaha Yup hopefully  we will lose a few kg by mon after hip hop can go orchard and weigh againShes good How are you Where r u working nowOh yes Ive just been a little under the weather so ive kind of been coccooning at homeAt home alsoThis phone has the weirdest auto correctOops my phone died and I didnt even know Yeah I like it betterHavent mus ask if u can 1st wat Of meet 4 lunch den u n him meet can already lor Or u wan 2 go ask da ge 1st then confirm w me asapShe said do u mind if I go into the bedroom for a minute   OK I sed in a sexy mood She came out 5 minuts latr wid a caken My WifeOH YEAHAND HAV A GREAT TIME IN NEWQUAYSEND ME A POSTCARD 1 LOOK AFTER ALL THE GIRLS WHILE IM GONEU KNOW THE 1IM TALKIN BOUTxxWe got a divorce Lol Shes hereWhats ur pinBabe have you got enough money to pick up bread and milk  And Ill give you it back when you get home I want snow Its just freezing and windyURGENT We are trying to contact U Todays draw shows that you have won a £2000 prize GUARANTEED Call 09066358361 from land line Claim Y87 Valid 12hrs onlyCome to mahal bus stop ltDECIMALgtDon knowthis week im going to tirunelvai daMe too baby I promise to treat you well I bet you will take good care of meIts like that hotel dusk game i think You solve puzzles in a area thingThanks for your ringtone order reference number X29 Your mobile will be charged 450 Should your tone not arrive please call customer services 09065989180Hi my love How goes that day Fuck this morning I woke and dropped my cell on the way down the stairs but it seems alright  phews I miss you Well that must be a pain to catchSorry da thangamits my mistakeI need Coz i never go before Rose for redred for bloodblood for heartheart for u But u for me Send tis to all ur friends Including me If u like me If u get back 1u r poor in relation 2u need some 1 to support 3u r frnd 2 many 4some1 luvs u 5 some1 is praying god to marry u try itWifehow she knew the time of murder exactlySIX chances to win CASH From 100 to 20000 pounds txt CSH11 and send to 87575 Cost 150pday 6days 16 TsandCs apply Reply HL 4 infoUr cashbalance is currently 500 pounds  to maximize ur cashin now send COLLECT to 83600 only 150pmsg CC 08718720201 PO BOX 11414 TCRW1I feel like a dick because I keep sleeping through your texts and facebook messages Sup you in townNo plm i will come da On the wayGuess he wants alone time We could just show up and watch when they doHeight of recycling Read twice People spend time for earning money and the same money is spent for spending time Good morning keep smilingYup ü not comin Yes princess ToledoAight text me when youre back at mu and Ill swing by need somebody to get the door for meRon say fri leh N he said ding tai feng cant make reservations But he said wait lorGood No swimsuit allowed Am okay Will soon be over All the bestA cute thought for friendship Its not necessary to share every secret with ur close Frnd but watever u shared should be trueOk ive sent u da latest version of da projectGood Morning my Dear Have a great amp successful dayPls accept me for one day Or am begging you change the numberSqueeeeeze This is christmas hug If u lik my frndshp den hug me back If u get 3 u r cute 6 u r luvd 9 u r so lucky None People hate uIts ok if anybody asks abt me u tel themPFunny fact Nobody teaches volcanoes 2 erupt tsunamis 2 arise hurricanes 2 sway aroundn no 1 teaches hw 2 choose a wife Natural disasters just happens You gonna ring this weekend or wotAlso track down any lighters you can findSorry I cant help you on thisBabe I need your adviceI‘ll leave around four okCome to medical college at 7pm forward it daKkits goodwhen are you goingI can make lasagna for you vodkaHI ITS KATE CAN U GIVE ME A RING ASAP XXXWho were those people  Were you in a tour  I thought you were doing that sofa thing you sent me  Your curious sugarNo but you told me you were going before you got drunkHe fucking chickened out He messaged me he would be late and woould buzz me and then I didnt hear a word from himCongratulations Thanks to a good friend U have WON the £2000 Xmas prize 2 claim is easy just call 08718726978 NOW Only 10p per minute BTnationalrateIm always looking for an excuse to be in the cityYup im still having coffee wif my frens My fren drove shell give me a liftO shore are you takin the busSo u gonna get deus exI will send them to your email Do you mind  ltgt  times per night44 7732584351 Do you want a New Nokia 3510i colour phone DeliveredTomorrow With 300 free minutes to any mobile  100 free texts  Free Camcorder reply or call 08000930705tap  spile at seven  Is that pub on gas st off broad st by canal OkOk then i come n pick u at enginWhich is why i never wanted to tell you any of this Which is why im so short with you and onedge as of lateRaviyog Peripherals bhayandar eastK actually can you guys meet me at the sunoco on howard It should be right on the wayYou have 1 new voicemail Please call 08719181513MOON has come to color your dreams STARS to make them musical and my SMS to give you warm and Peaceful Sleep Good NightJust finished eating Got u a plate NOT leftovers this timeThanx a lotHurry home u big butt Hang up on your last caller if u have to Food is done and Im starving Dont ask what I cookedLol your right What diet Everyday I cheat anyway Im meant to be a fatty Its a great day Do have yourself a beautiful oneWhat happened in interviewSolve d Case  A Man Was Found Murdered On  ltDECIMALgt  ltgt  AfterNoon 1His wife called Police 2Police questioned everyone 3Wife SirI was sleeping when the murder took place 4Cook I was cooking 5Gardener I was picking vegetables 6HouseMaid I went 2 d post office 7Children We went 2 play 8Neighbour We went 2 a marriage Police arrested d murderer Immediately Whos It Reply With Reason If U r BrilliantBadrith is only for chennaii will surely pick for usno competition for himI tot its my group mate Lucky i havent reply Wat time do ü need to leave Hey you around Ive got enough for a half  the ten I owe youHey tmr maybe can meet you at yckALRITE SAM ITS NIC JUST CHECKIN THAT THIS IS UR NUMBERSO IS ITTBThey are just making it easy to pay back I have  ltgt yrs to say but i can pay back earlier You getNot to worry Im sure youll get itThe gas station is like a block away from my house youll drive right by it since armenia ends at swann and you have to take howardSomeone U know has asked our dating service 2 contact you Cant Guess who CALL 09058097189 NOW all will be revealed POBox 6 LS15HB 150p Camera  You are awarded a SiPix Digital Camera call 09061221066 fromm landline Delivery within 28 daysMy tuition is at 330 Hm we go for the 1120 to 1205 one Do you mindIm not smoking while people use wylie smokes too much to justify ruining my shitDear good morning how you feeling dearA little Meds say take once every 8 hours Its only been 5 but pain is back So I took another Hope I dont dieBeautiful tomorrow never comes When it comes its already TODAY In the hunt of beautiful tomorrow dont waste your wonderful TODAY GOODMORNINGDunno lei ü all decide lor How abt leona Oops i tot ben is going n i msg himHi there We have now moved in2 our pub  Would be great 2 c u if u cud come upTodays Voda numbers ending 5226 are selected to receive a 350 award If you hava a match please call 08712300220 quoting claim code 1131 standard rates app This message is free Welcome to the new  improved Sex  Dogging club To unsubscribe from this service reply STOP msgs150p 18 onlyHoneybee Said Im d Sweetest in d World God Laughed amp Said WaitU Havnt Met d Person Reading This Msg MORAL Even GOD Can Crack Jokes GMGNGEGNJust do what ever is easier for youRCT THNQ Adrian for U text Rgds VatianStop calling everyone saying I might have cancer My throat hurts to talk I cant be answering everyones calls If I get one more call Im not babysitting on MondayItll be tough but Ill do what I have toIM GONNAMISSU SO MUCHI WOULD SAY IL SEND U A POSTCARD BUTTHERES ABOUTAS MUCH CHANCE OF MEREMEMBERIN ASTHERE IS OFSI NOT BREAKIN HIS CONTRACT LUV YaxxEe msg na poortiyagi odalebeku Hanumanji 7 name 1Hanuman 2Bajarangabali 3Maruti 4Pavanaputra 5Sankatmochan 6Ramaduth 7Mahaveer ee 7 name  ltgt  janarige ivatte kalisidare next saturday olage ondu good news keluviri Maretare inde 1 dodda problum nalli siguviri idu matra  ltgt  true Dont negletHI DARLIN I FINISH AT 3 DO U 1 2 PICK ME UP OR MEET ME TEXT BACK ON THIS NUMBER LUV KATE XXXSet a place for me in your heart and not in your mind as the mind easily forgets but the heart will always remember Wish you Happy Valentines DayBut im surprised she still can guess right lorOkie ü wan meet at bishan Cos me at bishan now Im not driving todayOh ho Is this the first time u use these type of wordsHI DARLIN HOW WAS WORK DID U GET INTO TROUBLE IJUST TALKED TO YOUR MUM ALL MORNING I HAD A REALLY GOOD TIME LAST NIGHT IM GOIN OUT SOON BUT CALL ME IF U CANI know you are serving I mean what are you doing nowHuh Hyde park not in mel ah opps got confused Anyway if tts e best choice den we juz have to take itOh gei That happend to me in tron Maybe ill dl it in 3d when its outFREE MESSAGE Activate your 500 FREE Text Messages by replying to this message with the word FREE For terms  conditions visit www07781482378comI know girls always safe and selfish know i got it pa Thank you good nightNo worries hope photo shoot went well have a spiffing fun at workage Im freezing and craving ice FmlKay Since we are out already Eh sorry leh I din c ur msg Not sad already lar Me watching tv now U still in officeYo im right by yo workOk darlin i supose it was ok i just worry too muchi have to do some film stuff my mate and then have to babysit again But you can call me therexxShe said do u mind if I go into the bedroom for a minute   OK I sed in a sexy mood She came out 5 minuts latr wid a caken My WifeI don wake since I checked that stuff and saw that its true no available spaces Pls call the embassy or send a mail to themNope Juz off from workHuh so fast Dat means u havent finished painting what number do u live at Is it 11No we put party 7 days a week and study lightly I think we need to draw in some custom checkboxes so they know were hardcoreSac will score big hundredhe is set batsmanSend me yettys number plsHow much it will cost approx  Per monthOk The theory test when are ü going to book I think its on 21 may Coz thought wanna go out with jiayin But she isnt freeYou are being contacted by our dating service by someone you know To find out who it is call from a land line 09050000928 PoBox45W2TG150PThats fine have him give me a call if he knows what he wants or has any questionsSorry got a late start were on the wayThen u go back urself lorI AM AT THE GAS STATION GO THEREK if u bored up just come to my homeBabe  I LOVE YOU  covers your face in kissesLike I made him throw up when we were smoking in our friends car one time it was awesomeStill i have not checked it da  You will go to walmart Ill stayI havent forgotten you i might have a couple bucks to send you tomorrow k I love ya tooOh great Ill disturb him more so that we can talkReverse is cheating That is not mathematicsUre welcome Caught u using broken english againNo problem baby Is this is a good time to talk I called and left a messageSorry Ill call laterOh is it Which brandSorry i cant take your call right now It so happens that there r 2waxsto do wat you want She can come and ill get her medical insurance And shell be able to deliver and have basic care Im currently shopping for the right medical insurance for her So just give me til friday morning Thats when ill see the major person that can guide me to the right insuranceAt what time are you comingCall him and say you not coming today ok and tell them not to fool me like this okI emailed yifeng my part oredi Can ü get it fr himR u sure theyll understand that Wine  good idea just had a slurpMinimum walk is 3miles a dayOk not a problem will get them a taxi C ing  tomorrow and tuesday On tuesday think we r all going to the cinema Brainless Baby DollD vehicle sariyag drive madoke barollaI dont run away frm u I walk slowly amp it kills me that u dont care enough to stop meSorry I missed your call lets talk when you have the time Im on 07090201529Please attend the phoneYou only hate me You can call any but you didnt accept even a single call of mine Or even you messagedNo messages on her phone Im holding it nowCan Im freeYo my trip got postponed you still stocked upSorry Ill call laterI am waiting for your call sirHey what are you doing Y no reply paHey elaine is todays meeting still onSorry ive not gone to that place Ill do so tomorrow Really sorryMost of the tiime when i dont let you hug me its so i dont break into tearsTomorrow i am not going to theatre   So i can come wherever u call me   Tell me where and when to come tomorrowAnd now electricity just went out fmlLooks like you found something to do other than smoke great jobAlso andros ice etc etc Good afternon my love How are today I hope your good and maybe have some interviews I wake and miss you babe A passionate kiss from across the seaYup Wun believe wat U really neva c e msg i sent shuhuiHows that watch resizingDear umma she called me now Just finished Missing you plentycomplimentary 4 STAR Ibiza Holiday or £10000 cash needs your URGENT collection 09066364349 NOW from Landline not to lose out Box434SK38WP150PPM18Well I meant as opposed to my drunken night of beforeK Must book a not huh so going for yoga basic on sundayFREE MSGWe billed your mobile number by mistake from shortcode 83332Please call 08081263000 to have charges refundedThis call will be free from a BT landlineOk canOops  am at my mums in somerset Bit far Back tomo see you soon xSo u workin overtime nigpunSame as kallis dismissial in 2nd testO Guess they both got screwdPlease CALL 08712402972 immediately as there is an urgent message waiting for youIm in a meeting call me later atWhat r u cooking me for dinnerOk thanxBull Your plan was to go floating off to IKEA with me without a care in the world So i have to live with your mess another dayThen i buyURGENT Your Mobile number has been awarded with a £2000 Bonus Caller Prize Call 09058095201 from land line Valid 12hrs onlyHeehee that was so funny thoIt only does simple arithmetic not percentagesYeah we wouldnt leave for an hour at least hows 4 soundAs a valued customer I am pleased to advise you that following recent review of your Mob No you are awarded with a £1500 Bonus Prize call 09066364589Thanks honey Have a great dayAn Amazing Quote  Sometimes in life its difficult to decide whats wrong a lie that brings a smile or the truth that brings a tearGood night my dear SleepwellampTake careThen ü ask dad to pick ü up lar Ü wan 2 stay until 6 mehJus chillaxin what upHEY DAS COOL IKNOW ALL 2 WELLDA PERIL OF STUDENTFINANCIAL CRISISSPK 2 U L8RBeautiful Truth against Gravity Read carefully Our heart feels light when someone is in it But it feels very heavy when someone leaves it GOODMORNINGDo you want a New Nokia 3510i colour phone DeliveredTomorrow With 300 free minutes to any mobile  100 free texts  Free Camcorder reply or call 08000930705Whats that coming over the hill Is it a monster Hope you have a great day Things r going fine here busy though Joys father is John Then John is the  of Joys father If u ans ths you hav  ltgt  IQ Tis s IAS question try to answerOnly once then after ill obey all yoursNo she didnt I will search online and let you knowWhere do you need to go to get itNo pic Please resendHe remains a bro amongst brosUhhhhrmm isnt having tb test bad when youre sickBut i haf enuff space got like 4 mbLIFE has never been this much fun and great until you came in You made it truly special for me I wont forget you enjoy  one gbpsmsDo you want a new Video phone 600 anytime any network mins 400 Inclusive Video calls AND downloads 5 per week Free delTOMORROW call 08002888812 or reply NOWAs a valued customer I am pleased to advise you that following recent review of your Mob No you are awarded with a £1500 Bonus Prize call 09066368470Welcome Please reply with your AGE and GENDER to begin eg 24MFreemsg 1month unlimited free calls Activate SmartCall Txt CALL to No 68866 Subscriptn3gbpwk unlimited calls Help 08448714184 Stoptxt stop landlineonlyHad your mobile 10 mths Update to latest Orange cameravideo phones for FREE Save £s with Free textsweekend calls Text YES for a callback orno to opt outAm new 2 club  dont fink we met yet Will B gr8 2 C U Please leave msg 2day wiv ur area 09099726553 reply promised CARLIE x Calls£1minMobsmore LKPOBOX177HP51FLTrue Its easier with her hereSure but since my parents will be working on Tuesday I dont really need a cover storyHaha okay Today weekend leh Hi darlin did youPhone me Im atHome if youwanna chatI dont know jack shit about anything or id sayask something helpful but if you want you can pretend that I did and just text me whatever in response to the hypotheticalhuagauahahuagahyuhaggaYouve always been the brainy oneYeah if we do have to get a random dude we need to change our info sheets to PARTY  ltgt 7 NEVER STUDY just to be safeCamera  You are awarded a SiPix Digital Camera call 09061221066 fromm landline Delivery within 28 daysChristmas is An occasion that is Celebrated as a Reflection of UR Values Desires Affectionsamp Traditions Have an ideal ChristmasSending you greetings of joy and happiness Do have a gr8 eveningHi darlin i cantdo anythingtomorrow as myparents aretaking me outfor a meal when are u free KatexxxIf india win or level series means this is recordThen what about further planIts good to hear from youawesome how do I deal with the gate Charles told me last night but uh yeahWhat time you thinkin of goinGet a FREE mobile video player FREE movie To collect text GO to 89105 Its free Extra films can be ordered ts and cs apply 18 yrs onlySave money on wedding lingerie at wwwbridalpetticoatdreamscouk Choose from a superb selection with national delivery Brought to you by WeddingFriendYour board is working fine The issue of overheating is also reslove But still software inst is pending I will come around 8o clockYes but I dont care cause I know its therewiskey Brandy Rum Gin Beer Vodka Scotch Shampain Wine KUDIyarasu dhina vaazhthukkal Mon okie lor Haha best is cheap n gd food la ex oso okie Depends on whether wana eat western or chinese food Den which u prefer Sitting ard nothing to do lor U leh busy w workIts  ltgt k here oh Should i send home for saleSorry  mail  Ya just telling abt tht incidentYes we were outside for like 2 hours And I called my whole family to wake them up cause it started at 1 amUgh just got outta classNowadays people are notixiquating the laxinorficated opportunity for bambling of entropication Have you ever oblisingately opted ur books for the masteriastering amplikater of fidalfication It is very champlaxigating i think it is atrocious Wotz Ur Opinion JunnaI dont have any of your file in my bagi was in work when you called mei ll tell you if i find anything in my roomNo need lar Jus testing e phone card Dunno network not gd i thk Me waiting 4 my sis 2 finish bathing so i can bathe Dun disturb u liao u cleaning ur roomOk Ill do you right laterFriendship poem Dear O Dear U R Not Near But I Can Hear Dont Get Fear Live With Cheer No More Tear U R Always my Dear Gud ni8Have your lunch and come quickly and open the doorNot heard from U4 a while Call me now am here all night with just my knickers on Make me beg for it like U did last time 01223585236 XX Luv Nikiyu4netI am back Bit long cos of accident on a30 Had to divert via wadebridgeI had a brilliant weekend thanks Speak soon Lots of loveK I yan jiu liao Sat we can go 4 bugis vill one frm 10 to 3 den hop to parco 4 nb Sun can go cine frm 1030 to 2 den hop to orc mrt 4 hip hop at 4Bloomberg Message center 447797706009 Why wait Apply for your future httpcareers bloombergcomi am seeking a lady in the street and a freak in the sheets Is that youMy phoneHaha figures well I found the piece and priscillas bowlActually fuck that just do whatever do find an excuse to be in tampa at some point before january thoughURGENT We are trying to contact U Todays draw shows that you have won a £800 prize GUARANTEED Call 09050001808 from land line Claim M95 Valid12hrs onlyyay finally lol i missed our cinema trip last week All day working dayexcept saturday and sundayaathiwhere are you dearHeart is empty without love Mind is empty without wisdom Eyes r empty without dreams amp Life is empty without frnds So Alwys Be In Touch Good night amp sweet dreamsI think I‘m waiting for the same bus Inform me when you get there if you ever get thereYou getting back any time soon hows things Just a quick questionNight has ended for another day morning has come in a special way May you smile like the sunny rays and leaves your worries at the blue blue bay Gud mrngI can probably come by everybodys done around  ltgt  rightI got it before the new year cos yetunde said she wanted to surprise you with it but when i didnt see money i returned it mid january before the  ltgt day return period endedI can ask around but theres not a lot in terms of mids up hereBe sure to check your yahoo email We sent photos yesterdayWhat was she looking forWherres my boytoy  Do you want a NEW video phone750 anytime any network mins 150 text for only five pounds per week call 08000776320 now or reply for delivery tomorrowHello my love How goes that day  I wish your well and fine babe and hope that you find some job prospects I miss you boytoy  a teasing kissTell my  bad character which u Dnt lik in me Ill try to change in  ltgt  I ll add tat 2 my new year resolution Waiting for ur replyBe frankgood morningNoi got rumour that you going to buy apartment in chennaiYeah probably earlier than thatChange windows logoff soundStill i have not checked it da  Im also came to roomHuh but i got lesson at 4 lei n i was thinkin of going to sch earlier n i tot of parkin at kent vale  OkI will reach office around  ltDECIMALgt  amp my mobile have problem You cannt get my voice So call you asa ill freeCool text me when you head outYou are being contacted by our dating service by someone you know To find out who it is call from a land line 09050000878 PoBox45W2TG150PWan2 win a MeetGreet with Westlife 4 U or a m8 They are currently on what tour 1Unbreakable 2Untamed 3Unkempt Text 12 or 3 to 83049 Cost 50p std textHappy birthday May u find ur prince charming soon n dun work too hardOh the grand is having a bit of a party but it doesnt mention any cover charge so its probably first come first servedYou said to me before i went back to bed that you cant sleep for anythingI hope you arnt pissed off but id would really like to see you tomorrow Love me xxxxxxxxxxxxxXDorothykiefercom Bank of Granite issues StrongBuy EXPLOSIVE PICK FOR OUR MEMBERS UP OVER 300  Nasdaq Symbol CDGT That is a 500 persays the  ltgt  year old with a man and money Im down to my last  ltgt  Still waiting for that checkI will come to ur home nowFree any day but i finish at 6 on mon n thursWill you be here for foodlife alle moneeppolum oru pole allaloNiteTwo fundamentals of cool life Walk like you are the KING OR Walk like you Dont carewhoever is the KING Gud nytCamera quite good 101mega pixels 3optical and 5digital dooms Have a lovely holiday be safe and i hope you hav a good journey Happy new year to you both See you in a couple of weeks Hi Peteynoi\\x92m ok just wanted 2 chat coz avent spoken 2 u 4 a long timehope ur doin alritehave good nit at js love ya amxI just saw ron burgundy captaining a party boat so yeahIm serious You are in the money baseAlready one guy loving youStaff of placement training in Amrita collegeI always chat with you In fact i need money can you raise meIm job profile seems like bpoWell I was about to give up cos they all said no they didn‘t do one nighters I persevered and found one but it is very cheap so i apologise in advance It is just somewhere to sleep isnt itSo you think i should actually talk to him Not call his boss in the morning I went to this place last year and he told me where i could go and get my car fixed cheaper He kept telling me today how much he hoped i would come back in how he always regretted not getting my number etcAre you willing to go for apps classHanging out with my brother and his familyNo it will reach by 9 only She telling she will be there I dont knowHey are you going to quit soon Xuhui and i working till end of the month Im sorry bout last nite it wasn\\x92t ur fault it was me spouse it was pmt or sumthin U 4give me I think u shldxxxxTry neva mateYeah thatd pretty much be the best case scenarioI not free today i haf 2 pick my parents up toniteHEY BABE FAR 2 SPUNOUT 2 SPK AT DA MO DEAD 2 DA WRLD BEEN SLEEPING ON DA SOFA ALL DAY HAD A COOL NYTHO TX 4 FONIN HON CALL 2MWEN IM BK FRMCLOUD 9 J XShould i send you naughty pix You are a £1000 winner or Guaranteed Caller Prize this is our Final attempt to contact you To Claim Call 09071517866 Now 150ppmPOBox10183BhamB64XEXmas  New Years Eve tickets are now on sale from the club during the day from 10am till 8pm and on Thurs Fri  Sat night this week Theyre selling fastTyler getting an 8th has to leave not long after 9 can you get here in like an hourPrepare to be pounded every nightActually my mobile is full of msg And i m doing a work online where i need to send them  ltgt  sent msg i wil explain u laterSorry Ill call laterGood evening How are youIm at home Please callOic cos me n my sis got no lunch today my dad went out So dunno whether 2 eat in sch or watMmmmm  It was sooooo good to wake to your words this morning my Love Mmmm fuck  I love you too my Lion  devouring kiss from across the seaWe are pleased to inform that your application for Airtel Broadband is processed successfully Your installation will happen within 3 daysWhat happen dear Why you silent I am tensedIll get there at 3 unless you guys want me to come some time soonerIf you are not coughing then its nothingÜ come lt 25 n pass to me larIm e person whos doing e sms surveyLol ok ill try to send Be warned Sprint is dead slow Youll prolly get it tomorrowThank You meet you mondaySO IS TH GOWER MATE WHICH IS WHERE I AM HOW R U MAN ALL IS GOOD IN WALES ILL B BACK \\x91MORROW C U THIS WK WHO WAS THE MSG 4 \\x96 RANDOMRock yr chik Get 100s of filthy films XXX pics on yr phone now rply FILTH to 69669 Saristar Ltd E14 9YT 08701752560 450p per 5 days Stop2 cancelSingle line with a big meaning Miss anything 4 ur Best Life but dont miss ur best life for anything Gud nytI got like  ltgt  I can get some more later though Get whatever you feel likeDad wanted to talk about the apartment so I got a late start omw nowI love you both too Lol u still feeling sickDin i tell u jus now 420am up to my eyes in philosophyFrom next month get upto 50 More Calls 4 Ur standard network charge 2 activate Call 9061100010 C Wire3net 1st4Terms PoBox84 M26 3UZ Cost £150 min MobcudB moreOk lor Im in town now leiI had it alreadysabarish asked me to goNo da  Vijay going to talk in jaya tvURGENT We are trying to contact U Todays draw shows that you have won a £800 prize GUARANTEED Call 09050000460 from land line Claim J89 po box245c2150pmLol I know Hey someone did a great inpersonation of flea on the forums I love itText BANNEDUK to 89555 to see cost 150p textoperator g696ga 18 XXXStill chance there If you search hard you will get itlet have a try Auction round 4 The highest bid is now £54 Next maximum bid is £71 To bid send BIDS e g 10 to bid £10 to 83383 Good luckDo you always celebrate NYs with your family We know TAJ MAHAL as symbol of love But the other lesser known facts 1 Mumtaz was Shahjahans 4th wife out of his 7 wifes 2 Shahjahan killed Mumtazs husband to marry her 3 Mumtaz died in her  ltgt th delivery 4 He then married Mumtazs sister Question arises where the Hell is the LOVE The Great HariIts okcome to my home it vl nice to meet and v can chatCollect your VALENTINES weekend to PARIS inc Flight  Hotel  £200 Prize guaranteed Text PARIS to No 69101 wwwrtfsphostingcomSent me de webadres for geting salary slipShes fine Sends her greetingsCustomer Loyalty OfferThe NEW Nokia6650 Mobile from ONLY £10 at TXTAUCTION Txt word START to No 81151  get yours Now 4TCtxt TC 150pMTmsgBut you dint in touch with meYup leaving right now be back soonYou wont believe it but its true Its Incredible Txts Reply G now to learn truly amazing things that will blow your mind From O2FWD only 18ptxtYeah sure Ill leave in a minAnd do you have any one that can teach me how to ship carsThe sign of maturity is not when we start saying big things But actually it is when we start understanding small things HAVE A NICE EVENING BSLVYLYeah confirmed for you staying at  that weekendThey said ü dun haf passport or smth like dat Or ü juz send to my email account  Multiply the numbers independently and count decimal points then for the division push the decimal places like i showed youHave a lovely night and when you wake up to see this message i hope you smile knowing all is as should be Have a great morningArd 4 lorYou are right Meanwhile hows project twins comin upI sent your maga that money yesterday ohHi 07734396839 IBH Customer Loyalty Offer The NEW NOKIA6600 Mobile from ONLY £10 at TXTAUCTIONTxt wordSTART to No81151  get Yours Now4THeart is empty without love Mind is empty without wisdom Eyes r empty without dreams amp Life is empty without frnds So Alwys Be In Touch Good night amp sweet dreamsI am hot n horny and willing I live local to you  text a reply to hear strt back from me 150p per msg Netcollex LtdHelpDesk 02085076972 reply Stop to endOur ride equally uneventful  not too many of those pesky cyclists around at that time of night If you wereare free i can give Otherwise nalla adi entey nattil kittumIve sent my wife your text After we buy them shell tell you what to do So just relax We should go get them this wkendI am in escape theatre now  Going to watch KAVALAN in a few minutesHow much would it cost to hire a hitmanI anything lorSorry Ill call laterDo you want a New Nokia 3510i Colour Phone Delivered Tomorrow With 200 FREE minutes to any mobile  100 FREE text  FREE camcorder Reply or Call 08000930705Huh but i cant go 2 ur house empty handed rightGood morning princess Happy New YearCongratulations YOUVE Won Youre a Winner in our August £1000 Prize Draw Call 09066660100 NOW Prize Code 2309Aight well head out in a fewThen wat r u doing now Busy wif workI know you mood off todayJay told me already will doCps is causing the outages to conserve energyIm not sure I was just checking out what was happening around the areaHey morning what you come to ask paJordan got voted out last niteThat means you got an A in epi shes fine Shes here nowI have no idea where you arePls come quick cant bare thisJoys father is John Then John is the  of Joys father If u ans ths you hav  ltgt  IQ Tis s IAS question try to answerCall me I m unable to cal Lets meet bhaskar and deepNo Ill meet you in the libraryK my roommate also wants a dubsack and another friend may also want some so plan on bringing extra Ill tell you when they know for sureDepends on individual lor e hair dresser say pretty but my parents say look gong U kaypoh I also dunno wat she collectingOk c ü thenI enjoy watching and playing football and basketball Anything outdoors And youCan you please ask macho what his price range is does he want something new or used plus it he only interfued in the blackberry bold  ltgt  or any bbSorry sent blank msg again Yup but trying 2 do some serious studying nowHey check it da I have listed da8007 25p 4 Alfie Moons Children in Need song on ur mob Tell ur m8s Txt TONE CHARITY to 8007 for nokias or POLY CHARITY for polys zed 08701417012 profit 2 charity I meant as an apology from me for texting you to get me drugs at  ltgt at nightThat means from february to april ill be getting a place to stay down there so i dont have to hustle back and forth during audition season as i have since my sister moved away from harlemGoin to workout lor Muz lose e fats Damn poor zac doesnt stand a chanceNo messageno responcewhat happendI want to tel u one thing u should not mistake me k THIS IS THE MESSAGE THAT YOU SENTYeah right Ill bring my tape measure friStill chance there If you search hard you will get itlet have a try Meeting u is my work   Tel me when shall i do my work tomorrowShould I head straight there or whatGet the official ENGLAND poly ringtone or colour flag on yer mobile for tonights game Text TONE or FLAG to 84199 Optout txt ENG STOP Box39822 W111WX £150Thank you princess You are so sexyOooh I got plenty of thoseHui xin is in da libIts a big difference  ltgt  versus  ltgt  every  ltgt hrsIts not that you make me cry Its just that when all our stuff happens on top of everything else it pushes me over the edge You dont underdtand how often i cry over my sorry sorry lifeME 2 BABE I FEEL THE SAME LETS JUST 4GET ABOUT ITBOTH TRY CHEER UPNOT FIT SOO MUCHXXLOVE U LOCAXXYou know what hook up means rightCustomer service announcement We recently tried to make a delivery to you but were unable to do so please call 07090298926 to reschedule Ref9307622Wats da model num of ur phoneHes really into skateboarding now despite the fact that he gets thrown off of it and winds up with bandages and shit all over his arms every five minutesYou can stop further club tones by replying STOP MIX See mytonecomenjoy html for terms Club tones cost GBP450week MFL PO Box 1146 MK45 2WT 23My house here e sky quite dark liao If raining then got excuse not 2 run already rite HeeSorry left phone upstairs OK might be hectic but would be all my birds with one fell swoop Its a date Thought I didnt see youwamma get laidwant real doggin locations sent direct to your mobile join the UKs largest dogging network txt dogs to 69696 nownyt ec2a 3lp £150msgCarlos says we can pick up from him later so yeah were setHey babe my friend had to cancel still up for a visit As per your request Maangalyam Alaipayuthe has been set as your callertune for all Callers Press 9 to copy your friends CallertuneHmm ill have to think about it ok youre forgiven DWe are hoping to get away by 7 from Langport You still up for town tonightWant to send me a virtual hug I need oneProbably not still going over some stuff hereIt has issues right now Ill fix for her by tomorrowWhy i come in between you peopleSenthil group company Apnt 5pmOh really Did you make it on air Whats your talentStudying But ill be free next weekendR u here yet Im wearing blue shirt n black pantsWaiti will come out ltgt  minI will reach ur home in  ltgt  minutesWell then you have a great weekendWhat are you doing in langport Sorry but Ill probably be in bed by 9pm It sucks being ill at xmas When do you and go2sri lanka Frnd s not juz a wordnot merely a relationshipits a silent promise which says   I will be with YOU  Wherevr Whenevr Forevr Gudnyt dearHuh 6 also cannot Then only how many mistakesHa U jus ate honey ar So sweetIm turning off my phone My moms telling everyone I have cancer And my sister wont stop calling It hurts to talk Cant put up with it See u when u get home Love uHoney  Sweetheart  Darling  Sexy buns  Sugar plum  Loverboy  I miss you boytoy  smacks your ass Did you go to the gym too Thanks for loving me so You rockYeah imma come over cause jay wants to do some drugsOk thanx Take care thenYup Thk of u oso boring wat came to look at the flat seems ok in his 50s  Is away alot wiv work Got woman coming at 630 tooMoji just informed me that you saved our lives ThanksYou have won a Nokia 7250i This is what you get when you win our FREE auction To take part send Nokia to 86021 now HGSuite3422Lands RowW1JHL 16Whos this am in classHey r ü still online Ive finished the formattingGreat So what attracts you to the brothasPromotion Number 8714714  UR awarded a City Break and could WIN a £200 Summer Shopping spree every WK Txt STORE to 88039  SkilGme TsCs087147403231WinawkAge16 £150perWKsubStupidits not possibleI cant pick the phone right now Pls send a messageLOL what happens in Vegas stays in vegasHello hello hi lou sorry it took so long 2 reply I left mobile at friends in Lancaster just got it bak Neway im sorry I couldn\\x92t make ur b\\x92day 2 hunWhen did i use soc I use it only at home Ü dunno how 2 type it in word arDad says hurry the hell upWake me up at  ltgt  am morningI get out of class in bsn in like  ltgt  minutes you know where advising isGreat I shoot big loads so get readyIll meet you in the lobbyYou still coming tonightWhat happen dear tell meSir i am waiting for your call once free please call meNo i am not having not any movies in my laptopI was about to do it when i texted I finished a long time ago and showered and erythingOk im not sure what time i finish tomorrow but i wanna spend the evening with you cos that would be vewy vewy lubly Love me xxxHello As per request from  ltgt  Rs5 has been transfered to youI am in tirupur  call you daYou are a winner you have been specially selected to receive £1000 cash or a £2000 award Speak to a live operator to claim call 087147123779am7pm Cost 10pSbut he had some luck2 catches put downHow i noe Did ü specify da domain as nusstu Ü still in schOhi asked for fun Hahatake care üShall i get my pouchHey loverboy I love you  I had to tell  I look at your picture and ache to feel you between my legs  Fuck I want you  I need you  I crave you How is my boy No sweet words left for me this morning  sighs  How goes you day my love  Did you start your studyingKent vale lor Ü wait 4 me there arOk Very good Its all about making that moneyReading gud habit Nan bari hudgi yorge pataistha ertini kanoAight do you still want to get moneyFree Top ringtone sub to weekly ringtoneget 1st week freesend SUBPOLY to 816183 per weekstop sms08718727870Okok okthenwhats ur todays planARE YOU IN TOWN THIS IS V IMPORTANTSorry pa i dont knw who ru paWat u doing thereIf i not meeting ü all rite then ill go home lor If ü dun feel like comin its okOh i will get paid The most outstanding one is for a commercial i did for Hasbroin AUGUST They made us jump through so many hoops to get paid Still notI am lateso call you tomorrow morningtake care sweet dreamsu and meummifyingbyeNetworking technical support associateIm gonna rip out my uterusCool Do you like swimming I have a pool and jacuzzi at my houseThanks for your ringtone order reference number X49 Your mobile will be charged 450 Should your tone not arrive please call customer services 09065989182 From colourredtextcolourTXTstarYeah why not is the gang all readyBlank is Blank But wat is blank LolIm in a movie Collect car orediWe left already we at orchard nowHi there 2nights ur lucky night Uve been invited 2 XCHAT the Uks wildest chat Txt CHAT to 86688 now 150pMsgrcvdHGSuite3422LandsRowW1J6HL LDN 18yrsNothing splwat abt u and whr ruNo chikku nt yet Ya im freeAldrine rakhesh ex RTM herepls callurgentThe search 4 happiness is 1 of d main sources of unhappiness Accept life the way it comes U will find happiness in every moment u liveIm at home Please callI guess you could be as good an excuse as any lolIsnt frnd a necesity in life imagine urself witout a frnd hwd u feel at ur colleg watll u do wth ur cell wat abt functions thnk abt events espell cared missed amp irritated u 4wrd it to all those dearloving frnds wthout whom u cant live I jst did it Takecare GOODMORNINGGud mrng dear hav a nice dayOld Orchard near univ How about you4 tacos  1 rajas burrito rightIt‘s £6 to get in is that okHows the street where the end of library walk isPlz note if anyone calling from a mobile Co amp asks u to type  ltgt  or  ltgt  Do not do so Disconnect the callcoz it iz an attempt of terrorist to make use of the sim card no Itz confirmd by nokia n motorola n has been verified by CNN IBNWe stopped to get ice cream and will go back afterDid you stitch his trouserNo da  Vijay going to talk in jaya tv22 146tf150pHey im bored So im thinking of u So wat r u doingNah Wednesday When should I bring the mini cheetos bag overNobody names their penis a girls name this story doesnt add up at allAight let me know when youre gonna be around usfIm not She lip synced with shangelaÜ neva tell me how i noe Im not at home in da aft wat A bit of Ur smile is my hppnss a drop of Ur tear is my sorrow a part of Ur heart is my life a heart like mine wil care for U forevr as my GOODFRIENDDear Voucher Holder 2 claim your 1st class airport lounge passes when using Your holiday voucher call 08704439680 When booking quote 1st class x 2Buzz Hey my Love  I think of you and hope your day goes well Did you sleep in  I miss you babe I long for the moment we are together againloving smileHaha Sounds crazy dunno can tahan anotWhy are u up so earlyYa that one is slow as pooBloomberg Message center 447797706009 Why wait Apply for your future httpcareers bloombergcomIm on gloucesterroad what are uup to laterYeshere tv is always available in work placeYES The only place in town to meet exciting adult singles is now in the UK Txt CHAT to 86688 now 150pMsgLol no ouch but wish id stayed out a bit longerGOD ASKED What is forgiveness A little child gave lovely reply It is d wonderful fruit that a tree gives when it is being hurt by a stone Good nightWell join the  ltgt  busWas just about to ask Will keep this one Maybe thats why you didnt get all the messages we sent you on gloFREE for 1st week No1 Nokia tone 4 ur mob every week just txt NOKIA to 8007 Get txting and tell ur mates wwwgetzedcouk POBox 36504 W45WQ norm150ptone 16Ki will send in  ltgt  minWould me smoking you out help us work through this difficult timeSomeone U know has asked our dating service 2 contact you Cant guess who CALL 09058095107 NOW all will be revealed POBox 7 S3XY 150p Yesmum lookin strongSir Goodmorning Once free call meWhere are you call meWas gr8 to see that message So when r u leaving Congrats dear What school and wat r ur plansLove it The girls at the office may wonder why you are smiling but soreHi wlcome back did wonder if you got eaten by a lion or something nothing muchDoes uncle timi help in clearing carsI came hostel I m going to sleep Plz call me up before class HrishiOk But bag againHi You just spoke to MANEESHA V Wed like to know if you were satisfied with the experience Reply Toll Free with Yes or NoOk lor Msg me b4 u callMila age23 blonde new in UK I look sex with UK guys if u like fun with me Text MTALK to 6986618  30pptxt 1st 5free £150 increments Help08718728876Once a fishrman woke early in d mrng It was very dark He waited a while amp found a sack ful of stones He strtd throwin thm in2 d sea 2 pass time Atlast he had jus 1stone sun rose up amp he found out tht those r nt stones those were diamonds MoralDont wake up early in d mrng GOOD nightClaim a 200 shopping spree just call 08717895698 now Have you won MobStoreQuiz10ppmThen ur physics get aDear friends sorry for the late information Today is the birthday of our loving ArPraveesh for more details log on to face book and see Its his number  ltgt  Dont miss a delicious treatHow r ü going to send it to meCan you do online transactionDear got train and seat mine lower seatLet me know if you need anything else Salad or desert or something How many beers shall i getWat r u doingWHORE YOU ARE UNBELIEVABLEWant to funk up ur fone with a weekly new tone reply TONES2U 2 this text wwwringtonescouk the original n best Tones 3GBP network operator rates applyAre you sure you dont mean get here we made you hold all the weedI love you  You know Can you feel it Does it make your belly warm I wish it does my love  I shall meet you in your dreams Ahmad  adoring kissTwinks bears scallies skins and jocks are calling now Dont miss the weekends fun Call 08712466669 at 10pmin 2 stop texts call 08712460324nat rateLove it I want to flood that pretty pussy with cumHey are you angry with me Reply me drShort But Cute Be a good person but dont try to prove it Gud noonAlso remember the beads dont come off EverThey have a thread on the wishlist section of the forums where ppl post nitro requests Start from the last page and collect from the bottom upFor The First Time In The History Need Comfort And Luxury Are Sold At Same Price In India OnionRs ltgt  PetrolRs ltgt  BeerRs ltgt  SHESIL  ltgtFeb  ltgt  is I LOVE U day Send dis to all ur VALUED FRNDS evn me If 3 comes back ull gt married d person u luv If u ignore dis u will lose ur luv 4 EvrActually nvm got hella cash we still on for  ltgt ishWe tried to contact you re your reply to our offer of a Video Handset 750 anytime any networks mins UNLIMITED TEXT Camcorder Reply or call 08000930705 NOWIts ok at least armands still aroundNo da I am happy that we sit together naYup song bro No creative Neva test quality He said check review onlineNo dude its not fakemy frnds got money thts y im reffering uif u member wit my mail link u vl be credited  ltgt rs and il be getiing  ltgt rsi can draw my acc wen it is  ltgt rsDude while were makin those weirdy brownies my sister made awesome cookies I took picsURGENT We are trying to contact you Last weekends draw shows that you have won a £900 prize GUARANTEED Call 09061701851 Claim code K61 Valid 12hours onlyPls dont restrict her from eating anythin she likes for the next two daysMm you ask him to come its enough At the funeral home with Audrey and dadAight can you text me the addressExcellent Wish we were together right nowYep then is fine 730 or 830 for ice agePls i wont belive godnot only jesusCan Dunno wat to get 4 herNot yet chikkuk then wat abt tht guy did he stopped irritating or msging to uHow long does it take to get itThis is my number by vivek74355 XMAS iscoming  ur awarded either £500 CD gift vouchers  free entry 2 r £100 weekly draw txt MUSIC to 87066 TnCsorry brah just finished the last of my exams what upI got arrested for possession at I shit you not  ltTIMEgt  pmYou are right though I cant give you the space you want and need This is really starting to become an issue I was going to suggest setting a definite move outif im still there after greece But maybe you are ready and should do it nowJust normal only here Please protect yourself from ethreats SIB never asks for sensitive information like PasswordsATMSMS PIN thru email Never share your password with anybodyI miss you so much Im so desparate I have recorded the message you left for me the other day and listen to it just to hear the sound of your voice I love youHi Im always online on yahoo and would like to chat with you somedayGoodmorningmy grandfather expiredso am on leave todayCongratulations U can claim 2 VIP row A Tickets 2 C Blu in concert in November or Blu gift guaranteed Call 09061104276 to claim TSCs wwwsmsconet cost£375max Where are you  What are you doing  Are yuou working on getting the pc to your moms  Did you find a spot that it would work  I need youSure Ill see if I can come by in a bitI agree So i can stop thinkin about ipad Can you please ask macho the same questionLets pool our money together and buy a bunch of lotto tickets If we win I get ltgt  u get ltgt  DealOkI had askd u a question some hours before Its answerWatching tv lor Nice one then i like lorIm thinking that chennai forgot to come for auctionThen ü come n pick me at 530 arEarly bird Any purchases yetWent to pay rent So i had to go to the bank to authorise the paymentErm … ill pick you up at about 645pm Thatll give enough time to get there park and thatHEY MATE HOWS U HONEYDID U AVE GOOD HOLIDAY GIMMI DE GOSSxHowz painit will come down todaydo as i said ystrdayice and medicinechile please Its only a  ltDECIMALgt  hour drive for me I come down all the time and will be subletting febapril for audition seasonYes ammaelife takes lot of turns you can only sit and try to hold the steeringYeah thats what I thought lemme know if anythings goin on laterMmmm I cant wait to lick itPls go there today  ltgt  I dont want any excusesFantasy Football is back on your TV Go to Sky Gamestar on Sky Active and play £250k Dream Team Scoring starts on Saturday so register nowSKY OPT OUT to 88088Can you plz tell me the ans BSLVYL sent via fullonsmscomU in town aloneI to am looking forward to all the sex cuddling Only two more sleeps We have all rounderso not requiredNo its truekDo u knw dis no ltgt Dont worry 1 day very big lambu ji vl cometil then enjoy batchlor partyoh ya Got hip hop open Haha i was thinking can go for jazz then zoom to cine Actually tonight im free leh And theres a kb lesson tonightFree msg Single Find a partner in your area 1000s of real people are waiting to chat nowSend CHAT to 62220Cncl send STOPCS 08717890890£150 per msgIm ok Will do my part tomorrowNo But we found a diff farm shop to buy some cheese On way back now can i call inR u still working nowWin the newest \\x93Harry Potter and the Order of the Phoenix Book 5 reply HARRY answer 5 questions  chance to be the first among readersYep I do like the pink furniture thoFree Msg RingtoneFrom httptms widelivecomindex wmlid1b6a5ecef91ff937819firsttrue180430JUL05Customer place i wil cal u sirOh my god Ive found your number again Im so glad text me back xafter this msgs cst std ntwk chg £150A pure hearted person can have a wonderful smile that makes even hisher enemies to feel guilty for being an enemy So catch the world with your smile GOODMORNING amp HAVE A SMILEY SUNDAYTHAT\\x92S ALRITE GIRL U KNOW GAIL IS NEVA WRONGTAKE CARE SWEET AND DON\\x92T WORRYC U L8TR HUNLOVE YaxxxTheoretically yeah he could be able to comeAlright were hooked up where you guys atnot that I know of most people up here are still out of townNo let me do the math Your not good at itOh ok wait 4 me there My lect havent finishYeah my usual guys out of town but therere definitely people around I knowI am joining today formallyPls keep prayingwill talk laterHappy or sad  one thing about past is Its no more GOOD MORNING No Did you multimedia message them or emailOkie but i scared u say i fat Then u dun wan me alreadydid u get that messageSorry sir i will call you tomorrow  senthilhsbcWhat you need You have a person to give naShe left it very vague She just said she would inform the person in accounting about the delayed rent and that i should discuss with the housing agency about my renting another place But checking online now and all places around usc are  ltgt  and upHi juan Im coming home on fri hey Of course i expect a welcome party and lots of presents Ill phone u when i get back Loads of love nicky x x x x x x x x xCan you plz tell me the ans BSLVYL sent via fullonsmscomShort But Cute Be a good person but dont try to prove it Gud noonGumbys has a special where a  ltgt  cheese pizza is 2 so I know what were doin tonightA link to your picture has been sent You can also use httpalto18coukwavewaveaspo44345Like a personal sized or whatSame Im at my great aunts anniversary party in tarpon springsCab is availablethey pick up and drop at door stepsoktake careumma to you tooUnlimited texts Limited minutesDouble Mins  1000 txts on Orange tariffs Latest Motorola SonyEricsson  Nokia with Bluetooth FREE Call MobileUpd8 on 08000839402 or call2optoutHF8No problem We will be spending a lot of quality time togetherURGENT This is our 2nd attempt to contact U Your £900 prize from YESTERDAY is still awaiting collection To claim CALL NOW 09061702893 ACL03530150PMHave you heard from this weekDear Dave this is your final notice to collect your 4 Tenerife Holiday or 5000 CASH award Call 09061743806 from landline TCs SAE Box326 CW25WX 150ppmYes Last  practicetells u 2 call 09066358152 to claim £5000 prize U have 2 enter all ur mobile  personal details  the prompts CarefulNo Thank you Youve been wonderfulOtherwise had part time job natuitionÜ mean its confirmed I tot they juz say oni Ok then OkieThat depends How would you like to be treated Right on brah see you laterWaiting in e car 4 my mum lor U leh Reach home alreadyYour 2004 account for 07XXXXXXXXX shows 786 unredeemed points To claim call 08719181259 Identifier code XXXXX Expires 260305Do you want a new video handset 750 anytime any network mins Half Price Line Rental Camcorder Reply or call 08000930705 for delivery tomorrowWent fast asleep deartake careNo that just means you have a fat headSounds like a plan Cardiff is still here and still cold Im sitting on the radiatorSerious What like proper tongued herShes good She was wondering if you wont say hi but shes smiling now So how are you coping with the long distanceHow i noe Shes in da car now Later then c lar Im wearing shortsYou have an important customer service announcement Call FREEPHONE 0800 542 0825 nowYeah whatever lolToday is ACCEPT DAYU Accept me as Brother Sister Lover Dear1 Best1 Clos1 Lvblefrnd Jstfrnd Cutefrnd Lifpartnr Belovd Swtheart Bstfrnd No rply means enemyArd 530 lor I ok then message ü lorOk C u thenEh ur laptop got no stock lei He say mon muz come again to take a look c got a notNo need to ke qi Ü too bored izzit y suddenly thk of thisI wish I dont think its gonna snow that much But it will be more than those flurries we usually get that melt before they hit the ground Eek We havent had snow since ltgt before I was even bornFREERingtone Reply REAL or POLY eg REAL1 1 PushButton 2 DontCha 3 BabyGoodbye 4 GoldDigger 5 WeBeBurnin 1st tone FREE and 6 more when u join for £3wkDo 1 thing Change that sentence into Because i want 2 concentrate in my educational career im leaving hereOh really perform write a paper go to a movie AND be home by midnight huhOkay lor Will they still let us go a not ah Coz they will not know until later We drop our cards into the box rightHow Izzit still rainingAs if i wasnt having enough trouble sleepingI havent add ü yet right Lol  I really need to remember to eat when Im drinking but I do appreciate you keeping me company that night babe smilesBabe  I lost you  Will you try rebooting Yes Nigh you cant ahaI thk ü gotta go home by urself Cos ill b going out shopping 4 my frens present Nooooooo Im gonna be bored to death all day Cable and internet outageSos Any amount i can get plsPlayin space poker uHow come guoyang go n tell her Then u told herYou need to get up NowThey r giving a second chance to rahul dengraYeah in fact he just asked if we needed anything like an hour ago When and how muchWHEN THE FIRST STRIKE IS A RED ONE THE BIRD  ANTELOPE BEGIN TOPLAY IN THE FIELDOF SELFINDEPENDENCE BELIEVE THIS  THE FLOWER OF CONTENTION WILL GROWRANDOMY ü wan to go there C doctorDoes daddy have a bb nowFree Msg get Gnarls Barkleys Crazy ringtone TOTALLY FREE just reply GO to this message right nowShes borderline but yeah whateverI got a call from a landline number   I am asked to come to anna nagar    I will go in the afternoonUntil 545 lor Ya can go 4 dinner togetherI will be gentle princess We will make sweet gentle loveHow u doin baby girl  hope u are okay every time I call ure phone is off I miss u get in touchSorry went to bed early nightnightI like to think theres always the possibility of being in a pub laterHMM yeah if your not too grooved out And im looking forward to my pound special I got to video tape pple type in message lor U so free wan 2 help me Hee Cos i noe u wan 2 watch infernal affairs so ask u along Asking shuhui osoHi dude hw r u da realy mising u todayMe hungry buy some food good lei But mum n yun dun wan juz buy a little bit Refused a loan Secured or Unsecured Cant get credit Call free now 0800 195 6669 or text back help  we willI probably wont eat at all today I think Im gonna pop How was your weekend Did u miss meI knew it U slept v late yest Wake up so lateHaha dont be angry with yourself Take it as a practice for the real thing  Where is that one day trainingSo i could kiss and feel you next to meHave a nice day my dearI sent lanre fakeyes Eckankar details to the mail boxYour dad is back in phYou have been specially selected to receive a 3000 award Call 08712402050 BEFORE the lines close Cost 10ppm 16 TCs apply AG PromoIf you ask her or she say any please messageIf e timing can then i go w u lorLove you aathilove u lotI was just callin to say hi Take care bruvYOU HAVE WON As a valued Vodafone customer our computer has picked YOU to win a £150 prize To collect is easy Just call 09061743386Did u turn on the heater The heater was on and set to ltgt degreesThanks for your message I really appreciate your sacrifice Im not sure of the process of direct pay but will find out on my way back from the test tomorrow Im in class now Do have a wonderful dayThats the trouble with classes that go well  youre due a dodgey one … Expecting mine tomo See you for recovery same time same place Free video camera phones with Half Price line rental for 12 mths and 500 cross ntwk mins 100 txts Call MobileUpd8 08001950382 or Call2OptOut674WOT U UP 2 JNight night see you tomorrowRoger that We‘re probably going to rem in about 20do u think that any girl will propose u today by seing ur bloody funky shit fucking faceasssssholeeeeI wish u were here I feel so aloneGreat NEW Offer  DOUBLE Mins  DOUBLE Txt on best Orange tariffs AND get latest camera phones 4 FREE Call MobileUpd8 free on 08000839402 NOW or 2stoptxt TCsReason is if the team budget is available at last they buy the unsold players for at base rateCERI U REBEL SWEET DREAMZ ME LITTLE BUDDY C YA 2MORO WHO NEEDS BLOKESringtoneking 84484Huh i cant thk of more oredi how many pages do we haveHis frens go then he in lor Not alone wif my mum n sis lorNationwide auto centre or something like that on Newport road I liked them thereHey I missed you tm of last night as my phone was on the charge  smiles  I am meeting a friend shortlyWhatever juliana Do whatever you wantFriendship is not a game to play It is not a word to say It doesnt start on March and ends on May It is tomorrow yesterday today and eRingtone Club Gr8 new polys direct to your mobile every week Hello Sort of out in town already That  So dont rush home I am eating nachos Will let you know etaOk lor Anyway i thk we cant get tickets now cos like quite late already U wan 2 go look 4 ur frens a not Darren is wif them nowBank of Granite issues StrongBuy EXPLOSIVE PICK FOR OUR MEMBERS UP OVER 300  Nasdaq Symbol CDGT That is a 500 perI am on the way to ur homeDizzamn aight Ill ask my suitemates when I get backNimbomsons Yep phone knows that one Obviously cos thats a real wordI love to cuddle I want to hold you in my strong arms right nowR u in this continentWell you pay over like  ltgt yrs so its not too difficultBored housewives Chat n date now 08717507711 BTnational rate 10pmin only from landlinesWe tried to call you re your reply to our sms for a video mobile 750 mins UNLIMITED TEXT free camcorder Reply or call now 08000930705 Del ThursKkwhen will you give treatThis is the 2nd time we have tried to contact u U have won the £400 prize 2 claim is easy just call 087104711148 NOW Only 10p per minute BTnationalrateHes just gonna worry for nothing And he wont give you money its no useDid you get any gift This year i didnt get anything So badsomewhere out there beneath the pale moon light someone think in of u some where out there where dreams come true goodnite amp sweet dreamsWell theres a pattern emerging of my friends telling me to drive up and come smoke with them and then telling me that Im a weed fiendmake them smoke too muchimpede their doing other things so you see how Im hesitant ow u deyi paid 60400thousadi told  u would call  IM FINE BABES AINT BEEN UP 2 MUCH THO SAW SCARY MOVIE YEST ITS QUITE FUNNY WANT 2MRW AFTERNOON AT TOWN OR MALL OR SUMTHINxxIm reaching home in 5 minForgot you were working today Wanna chat but things are ok so drop me a text when youre free  bored etc and ill ring Hope all is well nose essay and all xxHa Then we must walk to everywhere Cannot take tram My cousin said can walk to vic market from our hotel Wan2 win a MeetGreet with Westlife 4 U or a m8 They are currently on what tour 1Unbreakable 2Untamed 3Unkempt Text 12 or 3 to 83049 Cost 50p std textPlease call our customer service representative on FREEPHONE 0808 145 4742 between 9am11pm as you have WON a guaranteed £1000 cash or £5000 prizeDiscussed with your mother ahOkSorry I cant text amp drive coherently see you in twentyYou will be receiving this weeks Triple Echo ringtone shortly Enjoy itIn which place i can get rooms cheapEek thats a lot of time especially since American Pie is like 8 minutes long I cant stop singing itGRAN ONLYFOUND OUT AFEW DAYS AGOCUSOON HONIUve been selected to stay in 1 of 250 top British hotels  FOR NOTHING Holiday valued at £350 Dial 08712300220 to claim  National Rate Call Bx526 SW73SSUniversity of southern californiaWe have to pick rayan macleran thereU gd lor go shopping i got stuff to do U wan 2 watch infernal affairs a not Come larWell Balls Time to make callsWat time ü wan today ltgt  in mca But not conformOh ok Wats ur emailYes princess Are you going to make me moanLol its ok I didnt remember til last nite… anyway many good evenings to u sCool Ill text you in a fewSorry vikky im Watching olave mandara movie kano in trishul theatre wit my frndsIm very happy for you babe  Woo hoo party on dudeI am taking you for italian food How about a pretty dress with no panties Wot u up 2 Thout u were gonna call me Txt bak luv KYOU ARE CHOSEN TO RECEIVE A £350 AWARD Pls call claim number 09066364311 to collect your award which you are selected to receive as a valued mobile customerHow are you holding upDont flatter yourself Tell that man of mine two pints of carlin in ten minutes please Hope you are not scaredI cant pick the phone right now Pls send a messageIm at home n readyPlease call our customer service representative on FREEPHONE 0808 145 4742 between 9am11pm as you have WON a guaranteed £1000 cash or £5000 prizeWhat time do u get outI am literally in bed and have been up for like  ltgt  hoursYes my reg is  CiaoIf You mean the website YesWin a £1000 cash prize or a prize worth £5000Thanks for your ringtone order reference number X49Your mobile will be charged 450 Should your tone not arrive please call customer services 09065989182Lol or I could just starve and lose a pound by the end of the dayYeah thats the impression I gotOk ok take care I can understandMotivate Behind every darkness there is a shining light waiting for you to find it Behind every best friend there is always trust and love BSLVYLYa ok then had dinnerI was slept that timeyou theredont make ne plans for nxt wknd coz she wants us to come down then okWhen is school starting Where will you stay Whats the weather like And the food Do you have a social support system like friends in the school All these things are importantHa ha nan yalrigu heltiniIyo kothi chikku u shared many things wit meso far i didnt told any body and even uttered a word abt u If ur trusting me so much how can i tell these to others Plz nxt time dont use those words to meok chikkuBNoice Text me when youre hereHi di is yijue were meeting at 7 pm at esaplanade tonightMoby Pub QuizWin a £100 High Street prize if u know who the new Duchess of Cornwall will be Txt her first name to 82277unsub STOP £150 008704050406 SPThis weeks SavaMob member offers are now accessible Just call 08709501522 for details SavaMob POBOX 139 LA3 2WU Only £150week SavaMob  offers mobileAight Ive been set free think you could text me blakes address It occurs to me Im not quite as sure what Im doing as I thought I wasHi dear we saw dear We both are happy Where you my battery is lowHow are you Its been ages Hows abjProf you have passed in all the papers in this sem congrats     Student Enna kalaachutaarama Prof Gud mrngDont kick coco when hes downFyi Im gonna call you sporadically starting at like  ltgt  bc we are not not doin this shitYou are being contacted by our Dating Service by someone you know To find out who it is call from your mobile or landline 09064017305 PoBox75LDNS7 TBSPERSOLVO been chasing us since Sept for£38 definitely not paying now thanks to your information We will ignore them Kath ManchesterHope you\\x92re not having too much fun without me see u tomorrow love jess xOk i wont call or disturb any one I know all are avoiding me I am a burden for allIve reached home n i bathe liao U can call me nowLoans for any purpose even if you have Bad Credit Tenants Welcome Call NoWorriesLoanscom on 08717111821Was the actual exam harder than NBMEA lot of this sickness thing going round Take it easy Hope u feel better soon LolGod picked up a flower and dippeditinaDEW lovingly touched itwhichturnedinto u and the he gifted tomeandsaidTHIS FRIEND IS 4U87077 Kick off a new season with 2wks FREE goals  news to ur mobile Txt ur club name to 87077 eg VILLA to 87077Hey sathya till now we dint meet not even a single time then how can i saw the situation sathyaGam gone after outstanding inningsO i played smash bros  ltgt  religiouslySir good morning Hope you had a good weekend I called to let you know that i was able to raise  ltgt  from my dad He however said he would make the rest available by mid feb This amount is still quite short and i was hoping you would help Do have a good day AbiolaHurry home Soup is DONENo no I will check all rooms befor activitiesGood afternoon my love It was good to see your words on YM and get your tm Very smart move my slave  smiles  I drink my coffee and await youQuite ok but a bit ex U better go eat smth now else ill feel guiltyOrange brings you ringtones from all time Chart Heroes with a free hit each week Go to Ringtones  Pics on wap To stop receiving these tips reply STOPLemme know when youre herePRIVATE Your 2003 Account Statement for 07973788240 shows 800 unredeemed S I M points Call 08715203649 Identifier Code 40533 Expires 311004He needs to stop going to bed and make with the fucking dealingHow are you my Love  Are you with your brother  Time to talk english with him  grins Say  Hey Muhommad Penny says hello from across the seaWe tried to call you re your reply to our sms for a video mobile 750 mins UNLIMITED TEXT  free camcorder Reply of call 08000930705 NowHey doc pls I want to get nice t shirt for my hubby nice fiting ones my budget is  ltgt k help pls I will load d card abi hwkeep me posted luv 2 mjI remain unconvinced that this isnt an elaborate test of my willpowerLife is nothing wen v get everything But life is everything wen v miss something  Real value of people wil be realized only in their absence gud mrnghow are you I miss youI aint answerin no phone at what is actually a pretty reasonable hour but Im sleepyHey  is  rite u put »10 evey mnth is that alli am going to bed now prinI think just yourself …Thanks and see you tomoIf u dun drive then how i go 2 schI not at home now leiGSOH Good with SPAM the ladiesU could b a male gigolo 2 join the uks fastest growing mens club reply ONCALL mjzgroup 087143423992stop reply STOP msg£150rcvdOk then i will come to ur home after half an hourU have a secret admirer who is looking 2 make contact with Ufind out who they Rreveal who thinks UR so specialcall on 09058094599Do u hav any frnd by name ashwini in ur collegeJus finish my lunch on my way home lor I tot u dun wan 2 stay in sch todayK then 2marrow are you coming to classHOT LIVE FANTASIES call now 08707500020 Just 20p per min NTT Ltd PO Box 1327 Croydon CR9 5WB 0870 is a national rate callPls send me your address sirI want to lick your pussy nowYo you gonna still be in stock tomorrowtoday Im trying to get a dubsackURGENT Your Mobile number has been awarded a UKP2000 prize GUARANTEED Call 09061790125 from landline Claim 3030 Valid 12hrs only 150ppmIll see but prolly yeahThought we could go out for dinner Ill treat you Seem okWhere are you  What do you do  How can you stand to be away from me  Doesnt your heart ache without me  Dont you wonder of me  Dont you crave me Sorry You never hear unless you book it One was kinda a jokethet were really looking for skinny white girls The other was one lineyou can only do so much on camera with that Something like that theyre casting on the lookWhat you doinghow are youSure thing big man i have hockey elections at 6 shouldn‘t go on longer than an hour thoughWatch lor I saw a few swatch one i thk quite ok Ard 116 but i need 2nd opinion lehHiya do u like the hlday pics looked horrible in them so took mo out Hows the camp Amrca thing Speak soon SerenaBabe How goes that day  What are you up to  I miss you already my Love   loving kiss  I hope everything goes wellYunny Im goin to be lateDoc prescribed me morphine cause the other pain meds arent enough Waiting for my mom to bring it That med should kick in fast so Im gonna try to be on laterCool want me to go to kappa or should I meet you outside muHey sexy buns  Have I told you  I adore you loverboy I hope you remember to thank your sister in law for those meatballs grins  i love you babeMay b approve panalambut it should have more postsSPJanuary Male Sale Hot Gay chat now cheaper call 08709222922 National rate from 15pmin cheap to 78pmin peak To stop texts call 08712460324 10pminSorry Ill call laterI dont thnk its a wrong calling between usMe im not workin Once i get jobAnd by when youre done I mean nowIts Ur luck to Love someone Its Ur fortune to Love the one who Loves U But its a miracle to Love a person who cant Love anyone except U Gud nytHi baby ive just got back from work and i was wanting to see u allday I hope i didnt piss u off on the phone today If u are up give me a call xxxFreeMsg Todays the day if you are ready Im horny  live in your town I love sex fun  games Netcollex Ltd 08700621170150p per msg reply Stop to endIs it your yahoo boys that bring in the perf Or legalNo need to say anything to me I know i am an outsiderhave you ever had one foot beforeJust got to  ltgtGood No don‘t need any receipts—well done … Yes please tell  What‘s her number i could ring herEver green quote ever told by Jerry in cartoon A Person Who Irritates u Always Is the one Who Loves u Vry Much But Fails to Express It   gud nytLeave it wif me lar Ü wan to carry meh so heavy Is da num 98321561 familiar to üBeautiful truth  Expression of the face could Be seen by everyone But the depression of heart Could be understood only By the Loved ones Gud Ni8Infact happy new year How are you where are you when are we seeingIn The Simpsons Movie released in July 2007 name the band that died at the start of the film AGreen Day BBlue Day CRed Day Send A B or CThats a shame Maybe cld meet for few hrs tomoLol I would but despite these cramps I like being a girlI can\\x92t wait for cornwall Hope tonight isn\\x92t too bad as well but it\\x92s rock night shite Anyway i\\x92m going for a kip now have a good night Speak to you soonPls help me tell sura that im expecting a battery from hont And that if should pls send me a message about how to download movies ThanksPlease call Amanda with regard to renewing or upgrading your current TMobile handset free of charge Offer ends today Tel 0845 021 3680 subject to Ts and CsHavent found a way to get another app for your phone eh  Will you go to the net cafe  Did you take that job Geeee I need you babe I crave to see you I only work from mon to thurs but Sat i cant leh Booked liao Which other day u freeÜ comin to fetch us orediWhats nannys addressURGENT Your 4 Costa Del Sol Holiday or £5000 await collection Call 09050090044 Now toClaim SAE TC s POBox334 Stockport SK38xh Cost£150pm Max10minsHaf u eaten Wat time u wan me 2 comeWant a new Video Phone 750 anytime any network mins Half price line rental free text for 3 months Reply or call 08000930705 for free deliveryYo call me when you get the chance a friend of mine wanted me to ask you about a big orderThis single single answers are we fighting Plus i said am broke and you didnt replyIt certainly puts things into perspective when something like this happensNow got tv 2 watch meh U no work todayi felt sonot any conveying reason Ese he What about meHad your mobile 11 months or more U R entitled to Update to the latest colour mobiles with camera for Free Call The Mobile Update Co FREE on 08002986030Hows it going Got any exciting karaoke type activities planned Im debating whether to play football this eve Feeling lazy thoughI told that am coming on wednesdayIts ok called mom instead have funDear Voucher Holder To claim this weeks offer at your PC please go to httpwwwwtlpcouktext TsCs applyWell if Im that desperate Ill just call armand againAre you at work right now Congrats Nokia 3650 video camera phone is your Call 09066382422 Calls cost 150ppm Ave call 3mins vary from mobiles 16 Close 300603 post BCM4284 Ldn WC1N3XXHavent heard anything and hes not answering my texts so Im guessing he flaked That said the jb is fantasticMmmmmm  I love youso much Ahmad  I cant wait for this year to begin as every second takes me closer to being at your side Happy New Year my lovePls whats the full name of jokes school cos fees in university of florida seem to actually be  ltgt k Pls holla backSorry Ill call laterOk But they said ive got wisdom teeth hidden inside n mayb need 2 removeAnd pls pls drink plenty plenty waterHow are you doing Hows the queen Are you going for the royal weddingHes in lag Thats just the sad part but we keep in touch thanks to skypeOk lor then we go tog lorTwo teams waiting for some playersCan ü send me a copy of da reportswhrt how u deyhope ur ok tot about u 2daylove n misstake careOk da i already planned I wil pick youUrgent Please call 0906346330 Your ABTA complimentary 4 Spanish Holiday or £10000 cash await collection SAE TCs BOX 47 PO19 2EZ 150ppm 18Sorry Ill call later in meetingI just really need shit before tomorrow and I know you wont be awake before like 6Im good Have you registered to voteHmm ok ill stay for like an hour cos my eye is really soreDear got bus directly to calicutMm umma ask vava also to come tell him can play later togetherWell the general price is  ltgt oz let me know ifwhenhow much you wantSorry Ill call laterEach Moment in a dayhas its own valueMorning brings hopeafternoon brings faithEvening brings luvNight brings restWish u find them all todayGood Morningltgt  w jetton ave if you forgotOk im coming home nowCan not use foreign stamps in this countryDouble mins and txts 4 6months FREE Bluetooth on Orange Available on Sony Nokia Motorola phones Call MobileUpd8 on 08000839402 or call2optoutN9DXSorry its a lot of friendofafriend stuff Im just now about to talk to the actual guy who wants to buyFREE for 1st week No1 Nokia tone 4 ur mob every week just txt NOKIA to 8007 Get txting and tell ur mates wwwgetzedcouk POBox 36504 W45WQ norm150ptone 16Want to funk up ur fone with a weekly new tone reply TONES2U 2 this text wwwringtonescouk the original n best Tones 3GBP network operator rates applycmon babe make me horny turn me on Txt me your fantasy now babe  Im hot sticky and need you now All replies cost £150 2 cancel send STOPI will come tomorrow diWylie update my weed dealer carlos went to freedom and had a class with lunsfordAre you happy baby  Are you alright  Did you take that job  I hope your fine I send you a kiss to make you smile from across the sea  kiss kissC movie is juz last minute decision mah Juz watch 2 lar but i tot ü not interestedHow are you enjoying this semester Take care brotherIMPORTANT INFORMATION 4 ORANGE USER 0796XXXXXX TODAY IS UR LUCKY DAY2 FIND OUT WHY LOG ONTO httpwwwurawinnercom THERES A FANTASTIC PRIZEAWAITING YOUGet the door Im hereLets use it next week princess Or i go home first lar ü wait 4 me lor I put down my stuff firstI want kfc its Tuesday Only buy 2 meals ONLY 2 No gravy Only 2 Mark 2No dahe is stupid daalways sending like thisdon believe any of those messagepandy is a mentalOi when you gonna ringMissed call alert These numbers called but left no message 07008009200I attended but nothing is thereArd 530 like dat lor We juz meet in mrt station then ü dun haf to come outNo dear i was sleeping PEr mw im filled tuth is aightWill be office around 4 pm Now i am going hospitalActually im waiting for 2 weeks when they start putting adAnything lor if they all go then i go lorU free on sat rite U wan 2 watch infernal affairs wif me n darren n mayb xyPlz note if anyone calling from a mobile Co amp asks u to type  ltgt  or  ltgt  Do not do so Disconnect the callcoz it iz an attempt of terrorist to make use of the sim card no Itz confirmd by nokia n motorola n has been verified by CNN IBNYo you around A friend of mines lookin to pick up later tonightStupid auto correct on my phoneDouble eviction this week  Spiral and Michael and good riddance to themThe world suffers a lot Not because of the violence of bad people But because of the silence of good people Gud nightOk thats cool Its  just off either raglan rd or edward rd Behind the cricket ground Gimme ring when ur closeby see you tuesdayBuy one egg for me dapleaseHave you started in skyeHave you bookedthe hut And also your time off How are you by the wayAnd several to you sirU really pig leh sleep so much My dad wake me up at 10 smth 2 eat lunch todayIm at home Please callMy love  I hope your not doing anything drastic Dont you dare sell your pc or your phone Now only i reached home   I am very tired now  I will come tomorroFREEMSG Our records indicate you may be entitled to 3750 pounds for the Accident you had To claim for free reply with YES to this msg To opt out text STOPU can WIN £100 of Music Gift Vouchers every week starting NOW Txt the word DRAW to 87066 TsCs wwwIdewcom SkillGame 1Winaweek age16 150ppermessSubscriptionLife style garments account no pleaseLol wtf random Btw is that your lunch breakSez hows u  de arab boy Hope u r all good give my love 2 evry1 love ya eshxxxxxxxxxxxThe LAY MAN Just to let you know you are missed and thought off Do have a great day And if you can send me bimbo and ugos numbers ill appreciate SafeDetroit The home of snow Enjoy itShow ur colours Euro 2004 241 Offer Get an England Flag  3Lions tone on ur phone Click on the following service message for infoOkieAight Im chillin in a friends room so text me when youre on the wayIs toshiba portege m100 gdWell welp is sort of a semiobscure internet thingText PASS to 69669 to collect your polyphonic ringtones Normal gprs charges apply only Enjoy your tonesaccordingly I repeat just text the word ok on your mobile phone and sendLoosu go to hospital De dont let it carelessHow much for an eighthOmg Joanna is freaking me out Shes looked thru all my friends to find photos of me And then shes asking about stuff on my MySpace which I havent even logged on in like a year Send ur birthdate with month and year I will tel u ur LIFE PARTNERS name and the method of calculation Reply mustJuz now havent woke up so a bit blur blur Can Dad went out liao I cant cum now osoHow about clothes jewelry and tripsBlock Breaker now comes in deluxe format with new features and great graphics from TMobile Buy for just £5 by replying GET BBDELUXE and take the challengeAah A cuddle would be lush Id need lots of tea and soup before any kind of fumblingimportant information 4 orange user  today is your lucky day2find out why log onto httpwwwurawinnercom THERES A FANTASTIC SURPRISE AWAITING YOUI am late I will be there atSad story of a Man  Last week was my bday My Wife didnt wish me My Parents forgot n so did my Kids  I went to work Even my Colleagues did not wishAre you plans with your family set in stone Pls dont forget to studyYoull never believe this but i have actually got off at taunton WowDen only weekdays got special price Haiz Cant eat liao Cut nails oso muz wait until i finish drivin wat lunch still muz eat wat She just broke down a list of reasons why nobodys in town and I cant tell if shes being sarcastic or just faggy ltDECIMALgt m but its not a common car here so its better to buy from china or asia Or if i find it less expensive Ill hollaThe greatest test of courage on earth is to bear defeat without losing heartgn tcSORRY IM STIL FUCKED AFTER LAST NITE WENT TOBED AT 430 GOT UP 4 WORK AT 630Hey so whats the plan this sat Beauty sleep can help ur pimples tooGreat Hope you are using your connections from mode men also cos you can never know why old friends can lead you to todayNatalja 25F is inviting you to be her friend Reply YES440 or NO440 See her wwwSMSacunat27081980 STOP Send STOP FRND to 62468Where to get thoseKind of Just missed train cos of asthma attack nxt one in half hr so driving in not sure where to parkBall is moving a lotwill spin in last so very difficult to batHaiyoh Maybe your hamster was jealous of millionCan you please send me my auntys numberIm glad You are following your dreamsIve reached home finallyURGENT Important information for 02 user Today is your lucky day 2 find out why  log onto httpwwwurawinnercom there is a fantastic surprise awaiting you WINNER As a valued network customer you have been selected to receivea £900 prize reward To claim call 09061701461 Claim code KL341 Valid 12 hours onlyWn u r hurt by d prsn who s close 2 u do fight wit dem Coz somtimes dis fight saves a relation bt being quiet leaves nothin in a relation Gud eveBU can call nowScience tells that chocolate will melt under the sunlight Please dont walk under the sunlight BCozI dont want to loss a sweet friendYes I come to nyc for audiitions and am trying to relocateI pocked you up there beforeCongrats Thats great I wanted to tell you not to tell me your score cos it might make me relax But its motivating me so thanks for sharingI wud never mind if u dont miss me or if u dont need me But u wil really hurt me wen u need me amp u dont tell me Take careHey mr whats the name of that bill brison book the one about language and words Okay good no problem and thanxFor you information IKEA is spelled with all caps That is not yelling when you thought i had left you you were sitting on the bed among the mess when i came in i said we were going after you got home from class please dont try and bullshit me It makes me want to listen to you lessCall me when ure doneGWRYou best watch what you say cause I get drunk as a motherfuckerKit Strip  you have been billed 150p Netcollex Ltd PO Box 1013 IG11 OJAHMV BONUS SPECIAL 500 pounds of genuine HMV vouchers to be won Just answer 4 easy questions Play Now Send HMV to 86688 More infowww100percentrealcomPlease CALL 08712402578 immediately as there is an urgent message waiting for youthesmszonecom lets you send free anonymous and masked messagesim sending this message from theredo you see the potential for abuseWELL DONE Your 4 Costa Del Sol Holiday or £5000 await collection Call 09050090044 Now toClaim SAE TCs POBox334 Stockport SK38xh Cost£150pm Max10minsHurt me Tease me Make me cry But in the end of my life when i die plz keep one rose on my grave and say STUPID I MISS U HAVE A NICE DAY BSLVYLErm Woodland avenue somewhere Do you get the parish magazine his telephone number will be in thereAre there TA jobs available Let me know please cos i really need to start workingAiyar hard 2 type U later free then tell me then i call n scold n tell uYup im freeGood good billy mates all gone Just been jogging again Did enjoy concertYo come over carlos will be here soonAwww dat is sweet We can think of something to do he he Have a nice time tonight ill probably txt u later cos im lonely  xxxI guess it is useless calling u 4 something importantHa ha  had popped down to the loo when you helloed me HelloHe dint tell anything He is angry on me that why you told to abiSomeone U know has asked our dating service 2 contact you Cant Guess who CALL 09058091854 NOW all will be revealed PO BOX385 M6 6WUIt so happens that there r 2waxsto do wat you want She can come and ill get her medical insurance And shell be able to deliver and have basic care Im currently shopping for the right medical insurance for her So just give me til friday morning Thats when ill see the major person that can guide me to the right insuranceI keep ten rs in my shelf buy two eggI wasnt well babe i have swollen glands at my throat  What did you end up doing Is ur changes 2 da report big Cos ive already made changes 2 da previous reportCaptain is in our roomI cant speak bcaz mobile have problem I can listen you but you cannt listen my voice So i calls you laterHIYA STU WOT U UP 2IM IN SO MUCH TRUBLE AT HOME AT MOMENT EVONE HATES ME EVEN U WOT THE HELL AV I DONE NOW Y WONT U JUST TELL ME TEXT BCK PLEASE LUV DAN Si will take mokka players onlyAre you still playing with gauthamHey mr  and I are going to the sea view and having a couple of gays I mean games Give me a bell when ya finish K jason says hes gonna be around so Ill be up there around  ltgtSorry  I will be able to get to you See you in the morningAight well keep me informedI am not having her number sirAm only searching for good dual sim mobile paThat seems unnecessarily hostileDude got a haircut Now its breezy up thereCongrats 2 mobile 3G Videophones R yours call 09061744553 now videochat wid ur mates play java games Dload polyH music noline rentl bx420 ip4 5we 150pm1AppleDayNo Doctor 1Tulsi LeafDayNo Cancer 1LemonDayNo Fat 1Cup MilkdayNo Bone Problms 3 Litres WatrDayNo Diseases Snd ths 2 Whom U Carei thought we were doing a king of the hill thing thereNope ill come online nowALSO TELL HIM I SAID HAPPY BIRTHDAYY bishan lei I tot ü say lavender Boo what time u get out U were supposed to take me shopping today Now u sound like manky scouse boy stevelike I is travelling on da bus homewot has u inmind 4 recreation dis eveFyi Im taking a quick shower be at epsilon in like  ltgt  minon a Tuesday night r u 4 realYes when is the appt againJust got outta class gonna go gymI want to sent  ltgt mesages today Thats y Sorry if i hurtsÜ all write or watHa I wouldnt say that I just didnt read anything into way u seemed I dont like 2 be judgementali save that for fridays in the pubIts a valentine game   send dis msg to all ur friends  If 5 answers r d same then someone really loves u  Ques which colour suits me the bestHidid you asked to waheeda fathima about leaveEnjoy urself tmrYou still around I could use a half8thU 447801259231 have a secret admirer who is looking 2 make contact with Ufind out who they Rreveal who thinks UR so specialcall on 09058094597You give us back my id proof and  ltgt  rs We wont allow you to work We will come to your home within daysÜ bot notes oredi Cos i juz rem i gotYes Rent is very expensive so its the way we saveNight has ended for another day morning has come in a special way May you smile like the sunny rays and leaves your worries at the blue blue bay Gud mrngHows the pain deary r u smilingFun fact although you would think armand would eventually build up a tolerance or some shit considering how much he smokes he gets fucked up in like 2 hitsimportant information 4 orange user 0789xxxxxxx today is your lucky day2find out why log onto httpwwwurawinnercom THERES A FANTASTIC SURPRISE AWAITING YOUSorry I cant help you on thisGreat So should i send you my account numberHELLOGORGEOUS HOWS U MY FONE WAS ON CHARGE LST NITW WEN U TEXD ME HOPEU AD A NICE WKEND AS IM SURE U DID LOOKIN 4WARD 2 CIN U 2MRW LUV JAZOur dating service has been asked 2 contact U by someone shy CALL 09058091870 NOW all will be revealed POBox84 M26 3UZ 150pÜ only send me the contents pageNight sweet sleep well Ive just been to see The Exorcism of Emily Rose and may never sleep again Hugs and snogs Dont Think About What u Have Got Think About How to Use It That You Have Got gooD ni8I cant right this second gotta hit people up firstEvry Emotion dsnt hav WordsEvry Wish dsnt hav Prayrs If u SmileD World is wit uOthrwise even d Drop of Tear dsnt lik 2 Stay wit uSo b happy Good morning keep smilingSo what about you What do you rememberUjhhhhhhh computer shipped out with address to sandiago and parantella lane Wtf PoopMm yes dear look how i am hugging you both PI like dis sweater fr mango but no more my size already so irritating1 I dont have her number and 2 its gonna be a massive pain in the ass and id rather not get involved if thats possibleAnytime lorDo you want a new Video handset 750 any time any network mins UNLIMITED TEXT Camcorder Reply or Call now 08000930705 for del Sat AMPurity of friendship between two is not about smiling after reading the forwarded messageIts about smiling just by seeing the name Gud evngUr balance is now £600 Next question Complete the landmark Big A Bob B Barry or C Ben  Text A B or C to 83738 Good luckMe fineabsolutly fineK and youre sure I dont have to have consent forms to do it VUr TONEXS subscription has been renewed and you have been charged £450 You can choose 10 more polys this month wwwclubzedcouk BILLING MSGIf you dont your prize will go to another customer TC at wwwtcbiz 18 150pmin Polo Ltd Suite 373 London W1J 6HL Please call back if busyHow much is torch in 9jaDoing nothing then u not having dinner w usHow are you Just checking up on youDone it but internet connection v slow and can‘t send it Will try again later or first thing tomoMathews or tait or edwards or andersonyeah sure thing mate haunt got all my stuff sorted but im going sound anyway promoting hex for by the way who is this dont know number JokeNo need lar i go engin Cos my sis at arts todayThanks honey but still havent heard anything I will leave it a bit longer so not 2 crowd him and will try later  great advice thanks hope cardiff is still thereDo you want a New Nokia 3510i Colour Phone Delivered Tomorrow With 200 FREE minutes to any mobile  100 FREE text  FREE camcorder Reply or Call 8000930705 im  On the snowboarding trip I was wondering if your planning to get everyone together befor we goa meet and greet kind of affair Cheers Sim watching it in livesee you then were all christmassy hereK Im ready  ltgt Do you know why god created gap between your fingers So that One who is made for you comes amp fills those gaps by holding your hand with LOVEThe greatest test of courage on earth is to bear defeat without losing heartgn tcwhat are your new years plansRECPT 13 You have ordered a Ringtone Your order is being processedBaaaaaaaabe Wake up  I miss you  I crave you I need youOnly just got this message not ignoring you Yes i was Shopping that isDear  why you mood off I cant drive so i brother to driveWhen did dad get backCan you tell Shola to please go to college of medicine and visit the academic department tell the academic secretary what the current situation is and ask if she can transfer there She should ask someone to check Sagamu for the same thing and lautech Its vital she completes her medical education in Nigeria Its less expensive much less expensive Unless she will be getting citizen rates in new zealandYes just finished watching days of our lives I love itJuz go google n search 4 qetMany times we lose our best ones bcoz we are Good FRIENDS CaRE for each Other CLoSE Friends UNDERSTaND each Other and TRUE Friends STaY forever beyond words beyond time Gud ni8Just getting back homeSorry Ill call later  ltgt minsDun need to use dial up juz open da browser n surfAs one of our registered subscribers u can enter the draw 4 a 100 GB gift voucher by replying with ENTER To unsubscribe text STOPAwesome plan to get here any time after like  ltgt  Ill text you details in a wee bitTake care and sleep wellyou need to learn to change in lifeyou only need to get CONVINCED on thati will wait but no more conversations between usGET CONVINCED by that timeYour family is over for you in many sensesrespect them but not overemphasiseor u have no role in my lifeFor your chance to WIN a FREE Bluetooth Headset then simply reply back with ADPYou also didnt get na hi hi hi hi hiYa but it cant display internal subs so i gotta extract themIf i said anything wrong sorry deSad story of a Man  Last week was my bday My Wife didnt wish me My Parents forgot n so did my Kids  I went to work Even my Colleagues did not wishHow stupid to say that i challenge godYou dont think at all on what i write instead you respond immedYeah I should be able to Ill text you when Im ready to meet upV skint too but fancied few bevieswaz gona go meet othrs in spoon but jst bin watchng planet earthsofa is v comfey If i dont make it hav gd night says that hes quitting at least5times a day so i wudnt take much notice of that Nah she didnt mind Are you gonna see him again Do you want to come to taunton tonight U can tell me all about When you get free call meHow have your little darlings been so far this week Need a coffee run tomoCant believe its that time of week already …Ok i msg u b4 i leave my houseStill at west coast Haiz Üll take forever to come backMMM  Fuck  Merry Christmas to mealright Thanks for the advice Enjoy your night out Ima try to get some sleepUpdate your face book status frequently Just now saw your messageit k daWas it something u ateSo what did the bank say about the moneyAiyar dun disturb u liao Thk u have lots 2 do aft ur cupboard comeHey they r not watching movie tonight so ill prob b home earlyYar lor How u noe U used dat route too2mro i am not coming to gym machan GoodnightDont think you need yellow card for uk travel Ask someone that has gone before If you do its just  ltgt bucksCan u look 4 me in da lib i got stuff havent finish yetSounds great Im going to sleep now Have a good nightDont b floppy b snappy  happy Only gay chat service with photo upload call 08718730666 10pmin 2 stop our texts call 08712460324HouseMaid is the murderer coz the man was murdered on  ltgt th January As public holiday all govtinstituitions are closedincluding post officeunderstandHow come u got nothing to doNothing will ever be easy But dont be looking for a reason not to take a risk on life and lovei want to grasp your pretty booty Ive got it down to a tea not sure which flavourIm going 2 orchard now laready me reaching soon U reachingDear i am not denying your words pleaseYou know my old Dom I told you about yesterday  His name is Roger He got in touch with me last night and wants me to meet him today at 2 pmCOME BACK TO TAMPA FFFFUUUUUUU2 celebrate my b\\x92day y elseMerry christmas to u too anniePlease tell me you have some of that special stock you were talking aboutI sent them Do you likeUrgent UR awarded a complimentary trip to EuroDisinc Trav AcoEntry41 Or £1000 To claim txt DIS to 87121 186£150moreFrmMob ShrAcomOrSglSuplt10 LS1 3AJAwesome be there in a minuteAnd that is the problem You walk around in julianaland oblivious to what is going on around you I say the same things constantly and they go in one ear and out the other while you go off doing whatever you want to do Its not that you dont know why Im upsetits that you dont listen when i tell you WHAT is going to upset me Then you want to be surprised when Im madIve told you everything will stop Just dont let her get dehydratedOr I guess  ltgt  minIm home Ard wat time will u reachStorming msg Wen u lift d phne u say HELLO Do u knw wt is d real meaning of HELLO    Its d name of a girl    Yes And u knw who is dat girl Margaret Hello She is d girlfrnd f Grahmbell who invnted telphone     MoralOne can 4get d name of a person bt not his girlfrnd G o o d n i g h t   If you want to mapquest it or something look up usf dogwood drive thats the tiny street where the parking lot isAight should I just plan to come up later tonightDie I accidentally deleted e msg i suppose 2 put in e sim archive Haiz I so sadWelcome to UKmobiledate this msg is FREE giving you free calling to 08719839835 Future mgs billed at 150p daily To cancel send go stop to 89123This is wishing you a great day Moji told me about your offer and as always i was speechless You offer so easily to go to great lengths on my behalf and its stunning My exam is next friday After that i will keep in touch more SorryThanks again for your reply today When is ur visa coming in And r u still buying the gucci and bags My sister things are not easy uncle john also has his own bills so i really need to think about how to make my own money Later shaSorry I flaked last night shits seriously goin down with my roommate what you up to tonightHe said i look pretty wif long hair wat But i thk hes cutting quite short 4 me lehRanjith cal drpd Deeraj and deepak 5min holdCHEERS FOR CALLIN BABESOZI CULDNT TALKBUT I WANNATELL U DETAILS LATER WENWECAN CHAT PROPERLY XHey u still at the gymShe said do u mind if I go into the bedroom for a minute   OK I sed in a sexy mood She came out 5 minuts latr wid a caken My WifeMuch better now thanks lolNothing smsing u n xy lor Sorry lor da guys neva c u in person but they sort of know u lor So u wan 2 meet them xy ask me 2 bring u along 4 our next meetingLemme know when I can swing by and pick up Im free basically any time after 1 all this semesterWa U so efficient Gee Thanx3 You have received your mobile content EnjoyS but not able to sleepWant explicit SEX in 30 secs Ring 02073162414 now Costs 20pminWe will meet soon princess TtylIll pick you up at about 515pm to go to taunton if you still want to comeOh only 4 outside players allowed to play knowI anything lorErutupalam thandiyachuY cant u try new invention to flyim not jokingNoits ful of song lyricsWhat do u reckon as need 2 arrange transport if u cant do it thanksTrue lov n care wil nevr go unrecognized though somone often makes mistakes when valuing it but they will definitly undrstnd once when they start missing itShopping Eh ger i toking abt syd lehHahaWhat not under standinghave  good weekendMiss call miss call khelate kintu opponenter miss call dhorte lage Thats d rule One with great phone receiving quality winsCall me when you get the chance plz lt3The new deus ex game comin early next yrMy computer just fried the only essential part we dont keep spares of because my fucking idiot roommates looovvve leaving the thing running on full  ltgt 7My friend shes studying at warwick weve planned to go shopping and to concert tmw but it may be canceled havnt seen  for ages yeah we should get together sometimeProbably a couple hours topsLOL  grins  Im not babe but thanks for thinking of meMan this bus is so so so slow I think youre gonna get there before meHope this text meets you smiling If not then let this text give you a reason to smile Have a beautiful dayIn case you wake up wondering where I am I forgot I have to take care of something for grandma today should be done before the paradeOkLatest Nokia Mobile or iPOD MP3 Player £400 proze GUARANTEED Reply with WIN to 83355 now Norcorp Ltd£150Mtmsgrcvd18SMS SERVICES for your inclusive text credits pls goto wwwcomuknet login 3qxj9 unsubscribe with STOP no extra charge help 08702840625COMUK 220CM2 9AENvm take ur timeSo wats da decisionWot is u up 2 then bitchStupidits not possibleShe told to hr that he want posting in chennaibecause im working hereMobile Club Choose any of the top quality items for your mobile 7cfca1aWhen are you guys leavingHe neva grumble but i sad lor Hee Buy tmr lor aft lunch But we still meetin 4 lunch tmr a not Neva hear fr them lei Ü got a lot of work arNot able to do anythingÜ takin linear algebra todayThis weekend is fine an excuse not to do too much decoratingSorry I missed you babe I was up late and slept in I hope you enjoy your driving lesson boytoy I miss you too  teasing kissNow project pa After that only i can comeMoney i have won wining number 946 wot do i do nextSure whenever you show the fuck up gtThat was random saw my old roomate on campus He graduatedCongrats 2 mobile 3G Videophones R yours call 09061744553 now videochat wid ur mates play java games Dload polyH music noline rentl bx420 ip4 5we 150pmMen always needs a beautiful intelligent caring loving adjustable cooperative wife But the law allows only one wifeThat sucks So what do you got planned for your yo valentine I am your yo valentine arent IJust got part Nottingham  3 hrs 63miles Good thing i love my man so much but only doing 40mph Hey hoWhat to think no one saying clearly Ok leave no need to ask her I will go if she come or notHi good mornin Thanku wish u d sameDO U WANT 2 MEET UP 2MORROActually I decided I was too hungry so I havent left yet VIve sent ü my partCos i was out shopping wif darren jus now n i called him 2 ask wat present he wan lor Then he started guessing who i was wif n he finally guessed darren lorI want some cock My hubbys away I need a real man 2 satisfy me Txt WIFE to 89938 for no strings action Txt STOP 2 end txt rec £150ea OTBox 731 LA1 7WS Understand his loss is my gain  so do you work SchoolHOW ARE U I HAVE MISSED U I HAVENT BEEN UP 2 MUCH A BIT BORED WITH THE HOLIDAY WANT 2 GO BAK 2 COLLEGE SAD ISNT ITxxHiya probably coming home  weekend after nextDont forget though that I love you  And I walk beside you Watching over you and keeping your heart warmI wish things were different I wonder when i will be able to show you how much i value you Pls continue the brisk walks no drugs without askin me please and find things to laugh about I love you dearlyOk both our days So what are you making for dinner tonite Am I invitedGr8 new service  live sex video chat on your mob  see the sexiest dirtiest girls live on ur phone  4 details text horny to 89070 to cancel send STOP to 89070I have no money 4 steve mate IM LATE TELLMISS IM ON MY WAYNever blame a day in ur life Good days give u happiness Bad days give u experience Both are essential in life All are Gods blessings good morningNormally i use to drink more water dailyDare i ask Any luck with sorting out the carPartys at my place at usf no charge but if you can contribute in any way it is greatly appreciated and yeah we got room for one moreUrgh coach hot smells of chip fat Thanks again especially for the duvet not a predictive text wordHiya How was last night Ive been naughty and bought myself clothes and very little  Ready for more shopping tho What kind of time do you wanna meetFreeMsg Hi baby wow just got a new cam moby Wanna C a hot pic or Fancy a chatIm w8in 4uTxt  rply CHAT to 82242 Hlp 08712317606 Msg150p 2rcvIve been trying to reach him without successwhen you and derek done with classNever y lei I v lazy Got wat Dat day ü send me da url cant work oneNever try alone to take the weight of a tear that comes out of ur heart and falls through ur eyes Always remember a STUPID FRIEND is here to share BSLVYLHey mate Spoke to the mag people We‘re on  the is deliver by the end of the month Deliver on the 24th sept Talk later Hope you are having a good week Just checking inHaha my friend tyler literally just asked if you could get him a dubsackHey do u fancy meetin me at 4 at cha \\x96 hav a lil beverage on me if not txt or ring me and we can meet up l8r quite tired got in at 3 vpist  love Pete x x xGreat Have a safe trip Dont panic surrender allSYMPTOMS when U are in love 1U like listening songs 2U get stopped where u see the name of your beloved 3U wont get angry when yourSun ah Thk mayb can if dun have anythin on Thk have to book e lesson E pilates is at orchard mrt u noe hor  Try to do something dear You read something for exams7 wonders in My WORLD 7th You 6th Ur style 5th Ur smile 4th Ur Personality 3rd Ur Nature 2nd Ur SMS and 1st Ur Lovely Friendship good morning dearGettin rdy to ship compI am in hospital da  I will return home in eveningPISS IS TALKING IS SOMEONE THAT REALISE U THAT POINT THIS AT IS ITNOW READ IT BACKWARDSThink  da You wil doIm awake oh Whats upGood afternoon my boytoy How goes that walking here and there day  Did you get that police abstract Are you still out and about I wake and miss you babeHow much u trying to getCome around  ltDECIMALgt pm vikkyim otside nw il come by tht timeTell me again what your address isHoneybee Said Im d Sweetest in d World God Laughed amp Said WaitU Havnt Met d Person Reading This Msg MORAL Even GOD Can Crack Jokes GMGNGEGNShould i buy him a blackberry bold 2 or torch Should i buy him new or used Let me know Plus are you saying i should buy the  ltgt g wifi ipad And what are you saying about the about the  ltgt gBut you were together so you should be thinkin about himhiya hows it going in sunny africa hope u r avin a good time give that big old silver back a big kiss from meAt WHAT TIME should i come tomorrowWanna have a laugh Try CHITCHAT on your mobile now Logon by txting the word CHAT and send it to No 8883 CM PO Box 4217 London W1A 6ZF 16 118pmsg rcvdCHA QUITEAMUZING THAT\\x92SCOOL BABEPROBPOP IN  CU SATTHEN HUNNY 4BREKKIE LOVE JEN XXX PSXTRA LRG PORTIONS 4 ME PLEASE Omg how did u know what I ateURGENT This is the 2nd attempt to contact UU have WON £1000CALL 09071512432 b4 300603tcsBCM4235WC1N3XXcallcost150ppmmobilesvary max£7 50 but your not hereNot directly behind Abt 4 rows behind üCongratulations ur awarded 500 of CD vouchers or 125gift guaranteed  Free entry 2 100 wkly draw txt MUSIC to 87066Had your contract mobile 11 Mnths Latest Motorola Nokia etc all FREE Double Mins  Text on Orange tariffs TEXT YES for callback no to remove from recordsUrgent call 09066350750 from your landline Your complimentary 4 Ibiza Holiday or 10000 cash await collection SAE TCs PO BOX 434 SK3 8WP 150 ppm 18No plans yet What are you doing Hi My engagement has been fixd on  ltgt th of next month I know its really shocking bthmm njan vilikkamt ws al of a sudnNot course Only maths one day one chapter with in one month we can finishWow didnt think it was that common I take it all back ur not a freak Unless u chop it offFor ur chance to win a £250 wkly shopping spree TXT SHOP to 80878 TsCs wwwtxt2shopcom custcare 08715705022 1x150pwkNoooooooo please Last thing I need is stress For once in your life be fairU have a Secret Admirer who is looking 2 make contact with Ufind out who they Rreveal who thinks UR so specialcall on 09065171142stopsms08718727870150ppmMila age23 blonde new in UK I look sex with UK guys if u like fun with me Text MTALK to 6986618  30pptxt 1st 5free £150 increments Help08718728876Ill see if I can swing by in a bit got some things to take care of here firsgI wanted to wish you a Happy New Year and I wanted to talk to you about some legal advice to do with when Gary and I split but in person Ill make a trip to Ptbo for that I hope everything is good with you babe and I love ya Have you not finished work yet or somethingTomorrow i am not going to theatre   So i can come wherever u call me   Tell me where and when to come tomorrowWell done ENGLAND Get the official poly ringtone or colour flag on yer mobile text TONE or FLAG to 84199 NOW Optout txt ENG STOP Box39822 W111WX £150Right it wasnt you who phoned it was someone with a number like yoursIts ok i wun b angry Msg u aft i come home tonightI had a good time too Its nice to do something a bit different with my weekends for a change See ya soonYo sorry was in the shower supCarlos is down but I have to pick it up from him so Ill swing by usf in a little bitFull heat pa i have applyed oil paIm stuck in da middle of da row on da right hand side of da lt Have you laid your airtel line to restHi did u decide wot 2 get 4 his bday if not ill prob jus get him a voucher frm virgin or sumfing FreeMsg Txt CALL to No 86888  claim your reward of 3 hours talk time to use from your phone now Subscribe6GBPmnth inc 3hrs 16 stoptxtStopHey j r u feeling any better hopeSo hunny i amnow feelin ill  ithink i may have tonsolitusaswell damn iam layin in bedreal bored lotsof luv me xxxxAnd I dont plan on staying the night but I prolly wont be back til lateTHANX 4 PUTTIN DA FONE DOWN ON MEI need an 8th but Im off campus atm could I pick up in an hour or twoOh Haha Den we shld had went today too Gee nvm la Kaiez i dun mind goin jazz oso Scared hiphop open cant catch up Been running but only managed 5 minutes and then needed oxygen Might have to resort to the roller optionWe live in the next  ltgt minsY de asking like thisJust glad to be talking to youWat time ü finishSorry da I gone mad so many pending works what to doHow much you got for cleaninghows my favourite person today r u workin hard couldnt sleep again last nite nearly rang u at 430Sunshine Quiz Win a super Sony DVD recorder if you canname the capital of Australia Text MQUIZ to 82277 BÜ called dad orediGood do you think you could send me some pix I would love to see your top and bottomNvm Im going to wear my sport shoes anyway Im going to be late lehSorry Ill call later In meetingTHIS IS A LONG FUCKIN SHOWRReceived understood n acted uponThey finally came to fix the ceilingU need my presnts always bcz U cant mis love jeevithathile irulinae neekunna prakasamanu sneham prakasam ennal prabha That mns prabha isLOVE Got it Dont mis meJus finish blowing my hair U finish dinner alreadyIm on the bus Love youLol  I knew that  I saw him in the dollar storePlease call our customer service representative on 0800 169 6031 between 10am9pm as you have WON a guaranteed £1000 cash or £5000 prizeTodays Voda numbers ending with 7634 are selected to receive a £350 reward If you have a match please call 08712300220 quoting claim code 7684 standard rates applyOnly saturday and sunday holiday so its very difficultEverybody had fun this evening Miss youGot hella gas money want to go on a grand nature adventure with galileo in a little bitIm in a meeting call me later atOh wow thats gay Will firmware update helpThese wont do Have to move on to morphineHow come i din c ü Yup i cut my hairK k pa Had your lunch ahaOh ho Is this the first time u use these type of wordsCaptain vijaykanth is doing comedy in captain tvhe is drunken Of course I guess gods just got me on hold right nowDo you hide anythiing or keeping distance from meHaventYou are being ripped off Get your mobile content from wwwclubmobycom call 08717509990 polytruePixRingtonesGames six downloads for only 3Sorry i din lock my keypadDid u got that persons storyAre you planning to come chennaiWe tried to contact you re your reply to our offer of a Video Phone 750 anytime any network mins Half Price Line Rental Camcorder Reply or call 08000930705God created gap btwn ur fingers so dat sum1 vry special will fill those gaps by holding ur hands Now plz dont ask y he created so much gap between legs We are okay Going to sleep now LaterPlease protect yourself from ethreats SIB never asks for sensitive information like PasswordsATMSMS PIN thru email Never share your password with anybodyFinally it has happened Aftr decades BEER is now cheaper than PETROL The goverment expects us to DRINK   But dont DRIVE A £400 XMAS REWARD IS WAITING FOR YOU Our computer has randomly picked you from our loyal mobile customers to receive a £400 reward Just call 09066380611 Where r e meeting tmrLol yes But it will add some spice to your dayHope you are having a great dayOur Prasanth ettans mother passed away last night Just pray for her and familyK Ill work something outPRIVATE Your 2003 Account Statement for shows 800 unredeemed S I M points Call 08718738002 Identifier Code 48922 Expires 211104This message is from a great Doctor in India 1 Do not drink APPY FIZZ It contains Cancer causing ageI cant pick the phone right now Pls send a messageYou call him and tell now infront of them Call him nowOk no probLadies first and genus second k No Yes please Been swimmingMum not going robinson alreadyOk set let u noe e details laterNottel software nameI send the print  outs daIM REALY SOZ IMAT MY MUMS 2NITE WHAT ABOUT 2MORO When I was born GOD said Oh No Another IDIOT When you were born GOD said OH No COMPETITION Who knew one day these two will become FREINDS FOREVERI didnt get ur full msgsometext is missing send it againProbably not Im almost out of gas and I get some cash tomorrowCustomer service announcement We recently tried to make a delivery to you but were unable to do so please call 07099833605 to reschedule Ref9280114I forgot 2 ask ü all smth Theres a card on da present lei How Ü all want 2 write smth or sign on itIm leaving my house nowHi babe its Chloe how r u I was smashed on saturday night it was great How was your weekend U been missing me SP visionsmscom Text stop to stop 150ptextÜ ready then call meWewa is 130 Iriver 255 All 128 mbIt is a good thing Im now getting the connection to bwSry dajst nw only i came to homeThats cool hell be here all night lemme know when youre aroundAre you staying in town Haha yeah 2 oz is kind of a shitloadOk u can take me shopping when u get paid DMy life Means a lot to me Not because I love my life But because I love the people in my life The world calls them friends I call them my World GeAlright well bring it to you see you in like  ltgt  minsBut pls dont play in others lifeEatin my lunchHmmmbut you should give it on one dayDidnt try g and I decided not to head outOk no probSurly ill give it to you while coming to reviewBy march ending i should be ready But will call you for sure The problem is that my capital never complete How far with you Hows work and the ladiesTessypls do me a favor Pls convey my birthday wishes to Nimyapls dnt forget it Today is her birthday ShijasPls give her the food preferably pap very slowly with loads of sugar You can take up to an hour to give it And then some water Very very slowlyURGENT Your Mobile No 07808726822 was awarded a £2000 Bonus Caller Prize on 020903 This is our 2nd attempt to contact YOU Call 08718729758 BOX95QUA guy who gets used but is too dumb to realize itOkey dokey i‘ll be over in a bit just sorting some stuff outDon no dawhats you planYes fine WIN We have a winner Mr T Foley won an iPod More exciting prizes soon so keep an eye on ur mobile or visit wwwwin82050coukI liked the new mobileAnytimeMmmmmmm snuggles into you deep contented sigh  whispers  I fucking love you so much I can barely stand it Yar but they say got some errorHey anyway i have to Wow so healthy Old airport rd lor Cant thk of anything else But ill b bathing my dog laterWif my family booking tour packageDid you say bold then torch later Or one torch and 2boldHaha awesome I might need to take you up on that what you doin tonightYa i knw u vl givits ok thanks kanoanyway enjoy wit ur family wit 1st salaryHuh so slow i tot u reach long ago liao U 2 more days only i 4 more lehThats cool princess I will cover your face in hot sticky cum Big brother‘s really scraped the barrel with this shower of social misfitsOops i thk i dun haf enuff I go check then tell üS8 min to go for lunchHey What happened U switch off ur cell d whole day This isnt good Now if u do care give me a call tomorrowK will do addie amp I are doing some art so Ill be here when you get homeMy uncles in Atlanta Wish you guys a great semesterAiyo Her lesson so early Im still sleepin haha Okie u go home liao den confirm w me lorForgot to tell ü smth Can ü like number the sections so that its clearerYup Anything lor if u dun wan its okIm home my love  If your still awake  loving kissHELLO PEACH MY CAKE TASTS LUSHFREE GAME Get Rayman Golf 4 FREE from the O2 Games Arcade 1st get UR games settings Reply POST then save  activ8 Press 0 key for Arcade TermsapplyTherell be a minor shindig at my place later tonight you interestedJason says its cool if we pick some up from his place in like an hourHad your mobile 10 mths Update to the latest CameraVideo phones for FREE KEEP UR SAME NUMBER Get extra free minstexts Text YES for a callI Career Tel have added u as a contact on INDYAROCKSCOM to send FREE SMS To remove from phonebook  sms NO to  ltgtIve reached alreadyI dont know ask to my brother Nothing problem some thing that Just i told Keng rocking in ashesWat time r ü going to xins hostelGood Morning my Dear Shijutta Have a great amp successful dayBuy Space Invaders 4 a chance 2 win orig Arcade Game console Press 0 for Games Arcade std WAP charge See o2coukgames 4 Terms  settings No purchaseOh kafter that placement there ahNot for possession especially not first offenseNt only for driving even for many reasons she is called BBDthts it chikku then hw abt dvg coldheard tht vinobanagar violence hw is the conditionand hw ru  Any problemI bought the test yesterday Its something that lets you know the exact day u ovulatewhen will get 2u in about 2 to 3wks But pls pls dont fret I know u r worried Pls relax Also is there anything in ur past history u need to tell meWe have pizza if u wantI keep seeing weird shit and bein all woah then realising its actually reasonable and Im all ohMany more happy returns of the day I wish you happy birthdayYa very nice  be ready on thursdayI am in hospital da  I will return home in eveningThinking of u  xCamera  You are awarded a SiPix Digital Camera call 09061221066 fromm landline Delivery within 28 daysOrh i tot u say she now still dun believeWhen you just put in the  sign choose my number and the pin will show RightThe beauty of life is in next second which hides thousands of secrets I wish every second will be wonderful in ur life gud n8Thanx u darlinim cool thanx A few bday drinks 2 nite 2morrow off Take care c u soonxxxIf youre still up maybe leave the credit card so I can get gas when I get back like he told me toYour weekly CoolMob tones are ready to download This weeks new Tones include 1 Crazy FrogAXEL F 2 AkonLonely 3 Black EyedDont P More info in nWell boy am I glad G wasted all night at applebees for nothingCashbincouk Get lots of cash this weekend wwwcashbincouk Dear Welcome to the weekend We have got our biggest and best EVER cash give away TheseOk lor Or u wan me go look 4 uU wan 2 haf lunch im in da canteen nowDont make life too stressfull Always find time to Laugh It may not add years to your Life But surely adds more life to ur years Gud ni8swt dreamshey looks like I was wrong and one of the kappa guys numbers is still on my phone if you want I can text him and see if hes aroundURGENT Your Mobile number has been awarded with a £2000 prize GUARANTEED Call 09061790121 from land line Claim 3030 Valid 12hrs only 150ppmThanks 4 your continued support Your question this week will enter u in2 our draw 4 £100 cash Name the NEW US President txt ans to 80082Im home Doc gave me pain meds says everything is fineIts é only 140 ardÉ rest all ard 180 at leastWhich is é price 4 é 2 bedrm 900Me too Have a lovely night xxxPrepare to be pleasured Hitechnical supportproviding assistance to us customer through call and emailif you text on your way to cup stop that should work And that should be BUSWhens your radio showYour unique user ID is 1172 For removal send STOP to 87239 customer services 08708034412Im not sure if its still available thoughwatever reLation u built up in dis world only thing which remains atlast iz lonlines with lotz n lot memories feelingCHEERS LOU YEAH WAS A GOODNITE SHAME U NEVA CAME C YA GAILxxHii got the money daHi Mobile no  ltgt  has added you in their contact list on wwwfullonsmscom It s a great place to send free sms to people For more visit fullonsmscomOk then u tell me wat time u coming later lorU repeat e instructions again Wats e road name of ur houseSo many people seems to be special at first sight But only very few will remain special to you till your last sight Maintain them till life ends ShjasQuite lor But dun tell him wait he get complacentSorry completely forgot  will pop em round this week if your still hereU R THE MOST BEAUTIFUL GIRL IVE EVER SEEN U R MY BABY COME AND C ME IN THE COMMON ROOMO we cant see if we can join denis and mina Or does denis want alone timeSen told that he is going to join his uncle finance in cbeYup Hey then one day on fri we can ask miwa and jiayin take leave go karaoke Call me i am senthil from hsbcEspecially since i talk about boston all up in my personal statement lol I woulda changed that if i had realized it said nyc It says boston nowIndeed and by the way it was either or  not both Urgent call 09066649731from Landline Your complimentary 4 Ibiza Holiday or £10000 cash await collection SAE TCs PO BOX 434 SK3 8WP 150ppm 18Holy living christ what is taking you so longÜ thk of wat to eat tonightThanx Yup we coming back on sun Finish dinner going back 2 hotel now Time flies were tog 4 exactly a mth today Hope well haf many more mths to comeWere on the opposite side from where we dropped you offYup Izzit still raining heavily cos im in e mrt i cant c outsideSend me your resumeGd luck 4 ur exams Or u ask they all if next sat can a not If all of them can make it then im ok lorSorry that was my uncle Ill keep in touchSaw Guys and Dolls last night with Patrick Swayze it was greatURGENT This is our 2nd attempt to contact U Your £900 prize from YESTERDAY is still awaiting collection To claim CALL NOW 09061702893Santa calling Would your little ones like a call from Santa Xmas Eve Call 09077818151 to book you time Calls150ppm last 3mins 30s TC wwwsantacallingcomJust come home I dont want u to be miserableI dont know why shes not getting your messagesits cool but tyler had to take off so were gonna buy for him and drop it off at his place later tonight Our total order is a quarter you got enoughThe guy at the car shop who was flirting with me got my phone number from the paperwork and called and texted me Im nervous because of course now he may have my address Should i call his boss and tell him knowing this may get him firedReverse is cheating That is not mathematicsHow do you plan to manage thatEr hello things didn‘t quite go to plan – is limping slowly home followed by aa and with exhaust hanging offSorry for the delay Yes mastersCall me when u finish then i come n pick uPRIVATE Your 2004 Account Statement for 0784987 shows 786 unredeemed Bonus Points To claim call 08719180219 Identifier Code 45239 Expires 060505Whats up my own oga Left my phone at home and just saw ur messages Hope you are good Have a great weekendDont worry though I understand how important it is that I be put in my place with a poorly thought out punishment in the face of the worst thing that has ever happened to me Brb gonna go kill myselfHoney can you pls find out how much they sell Predicte in Nigeria And how many times can it be used Its very important to have a reply before mondayE admin building there I might b slightly earlier Ill call u when im reachingfyi Im at usf now swing by the room wheneveri can call in  ltgt  min if thats okUmmmmmaah Many many happy returns of d day my dear sweet heart HAPPY BIRTHDAY dearÜ no home work to do meh Anything is valuable in only 2 situations First Before getting it Second After loosing itMe too Mark is taking forever to pick up my prescription and the pain is coming backHows ur paperGot smaller capacity one Quite exCheck Out Choose Your Babe Videos  smsshsexnetUN fgkslpoPW fgkslpoIm good I have been thinking about youu r a winner U ave been specially selected 2 receive £1000 cash or a 4 holiday flights inc speak to a live operator 2 claim 0871277810710pmin 18  Not thought bout it  Drink in tap  spile at seven  Is that pub on gas st off broad st by canal  OkI am going to sleep I am tired of travelHaha just what I was thinkinYup but its not giving me problems now so mayb ill jus leave itLol no Just trying to make your day a little more interestingHow long before you get reply just defer admission til next semesterThe word Checkmate in chess comes from the Persian phrase Shah Maat which means the king is dead Goodmorning Have a good dayPo de  No need job ahaRats Hey did u ever vote for the next themesNew Mobiles from 2004 MUST GO Txt NOKIA to No 89545  collect yours today From ONLY £1 www4tcbiz 2optout 08718726270150gbpmtmsg18 TXTAUCTIONI hope your pee burns toniteOH RITE WELL IM WITH MY BEST MATE PETE WHO I WENT OUT WITH 4 A WEEK NOW WERE 2GEVA AGAIN ITS BEEN LONGER THAN A WEEKYay cant wait to party togetherphotoshop makes my computer shut downAll boys made fun of me today Ok i have no problem I just sent one message just for funThats one of the issues but california is okay No snow so its manageablePRIVATE Your 2003 Account Statement for shows 800 unredeemed S I M points Call 08715203652 Identifier Code 42810 Expires 29100Hmmm Mayb can try e shoppin area one but forgot e name of hotelAwesome that gonna be soon or later tonightI need details about that online jobYOU HAVE WON As a valued Vodafone customer our computer has picked YOU to win a £150 prize To collect is easy Just call 09061743386 Missing you toopray inshah allahPls help me tell Ashley that i cant find her number ohI am in escape theatre now  Going to watch KAVALAN in a few minutesSthis will increase the chance of winningeither way works for me I am  ltgt  years old Hope that doesnt bother youMaybe you should find something else to do insteadGain the rights of a wifedont demand iti am trying as husband tooLets seeI liked your new houseIm fine Hope you are alsoAlso north carolina and texas atm you would just go to the gre site and pay for the test results to be sentSame to uyes baby I need to stretch open your pussyThanks  and  Or bomb and date as my phone wanted to say OkHey a guy I know is breathing down my neck to get him some bud anyway youd be able to get a half track to usf tonightResponse is one of d powerful weapon 2 occupy a place in others HEART So always give response 2 who cares 4 U Gud nightswt dreamstake careNokia phone is lovlyFREE MESSAGEThanks for using the Auction Subscription Service 18  150pMSGRCVD 2 Skip an Auction txt OUT 2 Unsubscribe txt STOP CustomerCare 08718726270Bored housewives Chat n date now 08717507711 BTnational rate 10pmin only from landlinesSorry datoday i wont come to playi have driving clasIm really sorry I lit your hair on fireOh Shit I thought that was your trip Loooooool  That just makes SO much more sense now  grins and the sofa reference was  The sleep on a couch link you sent me  Wasnt that how you went on your trip  Oh  And didnt your babe go with you for that celebration with your rentsOkey dokey swashbuckling stuff what ohWatching cartoon listening music amp at eve had to go temple amp church What about u1 Tension face 2 Smiling face 3 Waste face 4 Innocent face 5Terror face 6Cruel face 7Romantic face 8Lovable face 9decent face  ltgt joker faceDips cell dead So i m coming with him U better respond else we shall come backWell You know what i mean TextingHi dis is yijue i would be happy to work wif ü all for gek1510Lol Oops sorry Have fun Wat happened to the cruise thingI know dat feelin had it with Pete Wuld get with em  nuther place nuther time mayblyricalladie21F is inviting you to be her friend Reply YES910 or NO910 See her wwwSMSacuhmmross STOP Send STOP FRND to 62468The worlds most happiest frnds never have the same characters Dey just have the best understanding of their differencesNo 1 POLYPHONIC tone 4 ur mob every week Just txt PT2 to 87575 1st Tone FREE  so get txtin now and tell ur friends 150ptone 16 reply HL 4infoYeah just open chat and click friend lists Then make the list Easy as piealright tylers got a minor crisis and has to be home sooner than he thought so be here asapWhenwhere do I pick you upAs usual u can call me ard 10 smthNew Theory Argument wins d SITUATION but loses the PERSON So dont argue with ur friends just    kick them amp say Im always correctFor many things its an antibiotic and it can be used for chest abdomen and gynae infections even bone infectionsPoor girl cant go one day lmaoOr just do that 6timesTodays Vodafone numbers ending with 4882 are selected to a receive a £350 award If your number matches call 09064019014 to receive your £350 awardYou have to pls make a note of all shes exposed to Also find out from her school if anyone else was vomiting Is there a dog or cat in the house Let me know laterJapanese Proverb If one Can do it U too Can do it If none Can do itU must do it Indian version If one Can do it LET HIM DO it If none Can do itLEAVE it And finally Kerala version If one can do it Stop him doing it If none can do it Make a strike against it Sounds like there could be a lot of time spent in that chastity device boy  grins  Or take your beatings like a good dog Going to lounge in a nice long bath now Its worse if if uses half way then stops Its better for him to complete itMiserable They dont tell u that the side effects of birth control are massive gut wrenching cramps for the first 2 months I didnt sleep at all last nightSend me the new numberConvey my regards to himWant the latest Video handset 750 anytime any network mins Half price line rental Reply or call 08000930705 for delivery tomorrow2 and half years i missed your friendshipI cant pick the phone right now Pls send a messageOh for fucks sake shes in like tallahasseeHaha that was the first person I was gonna askou are guaranteed the latest Nokia Phone a 40GB iPod MP3 player or a £500 prize Txt word COLLECT to No 83355 IBHltd LdnW15H 150pMtmsgrcvd18Taka lor Wat time u wan 2 come n look 4 us FREE POLYPHONIC RINGTONE Text SUPER to 87131 to get your FREE POLY TONE of the week now 16 SN PoBox202 NR31 7ZS subscription 450pwIm reaching in another 2 stopsno i didnt mean to post it I wrote it and like so many other times ive ritten stuff to you i let it sit there it WAS what i was feeling at the time I was angry Before i left i hit send then stop It wasnt there I checked on my phone when i got to my car It wasnt there You said you didnt sleep you were bored So why wouldnt THAT be the time to clean fold laundry etc At least make the bedWarner Village 83118 C Colin Farrell in SWAT this wkend Warner Village  get 1 free med PopcornJust show msgticketkioskValid 4712 C tc kiosk Reply SONY 4 mre film offersWill you come online today nightThen anything specialIm in solihull  do you want anythingWill do Have a good dayWE REGRET TO INFORM U THAT THE NHS HAS MADE A MISTAKEU WERE NEVER ACTUALLY BORNPLEASE REPORT 2 YOR LOCAL HOSPITAL 2B TERMINATEDWE R SORRY 4 THE INCONVENIENCELove that holiday Monday feeling even if I have to go to the dentists in an hourI am on the way to tirupurGoal Arsenal 4 Henry 7 v Liverpool 2 Henry scores with a simple shot from 6 yards from a pass by Bergkamp to give Arsenal a 2 goal margin after 78 minsYouve already got a flaky parent Itsnot supposed to be the childs job to support the parentnot until theyre The Ride age anyway Im supposed to be there to support you And now ive hurt you unintentional But hurt nonethelessWe took hooch for a walk toaday and i fell over Splat Grazed my knees and everything Should have stayed at home See you tomorrow Just dropped em off omw back nowThis is the 2nd time we have tried 2 contact u U have won the 750 Pound prize 2 claim is easy call 08712101358 NOW Only 10p per min BTnationalrateSitting in mu waiting for everyone to get out of my suite so I can take a showerRe your call You didnt see my facebook huhG says you never answer your texts confirmdenyIts so common hearin How r u Wat r u doing How was ur day So let me ask u something different Did u smile today If not do it now Gud evngHi Dear Call me its urgnt I dont know whats your problem You dont want to work or if you have any other problem at least tell me Wating for your replyOh yah We never cancel leh Haha We can go 4 e normal pilates after our intro  Ok Let u noe when i leave my houseOh yes why is it like torture watching englandWanna do some art DJust hopeing that wasn‘t too pissed up to remember and has gone off to his sisters or somethingGot what it takes 2 take part in the WRC Rally in Oz U can with Lucozade Energy Text RALLY LE to 61200 25p see packs or lucozadecoukwrc  itcould be uHi the SEXYCHAT girls are waiting for you to text them Text now for a great night chatting send STOP to stop this serviceGood morning my boytoy Hows those yummy lips  Wheres my sexy buns now  What do you do  Do you think of me  Do you crave me  Do you need me Match startedindia  ltgt  for 2Once free call me sirHey do you want anything to buyHey babe hows it going  Did you ever figure out where your going for New Years Kkcongratulation G wants to know where the fuck you areNo it was cancelled yeah baby Well that sounds important so i understand my darlin give me a ring later on this fone love Kate xTomarrow i want to got to court At  ltDECIMALgt  So you come to bus stand at 9Ü go home liao Ask dad to pick me up at 6Omg you can make a wedding chapel in frontierville Why do they get all the good stuffIm eatin now lor but goin back to work soon E mountain deer show huh I watch b4 liao very niceCheck maili have mailed varma and kept copy to you regarding membershiptake careinsha allahWrong phone This phone I answer this one but assume the other is people i dont wellAnyway I dont think I can secure anything up here lemme know if you want me to drive down south and chillIm already back home so no probably notGreat News Call FREEFONE 08006344447 to claim your guaranteed £1000 CASH or £2000 gift Speak to a live operator NOWHi this is Amy we will be sending you a free phone number in a couple of days which will give you an access to all the adult partiesI am in bus on the way to calicutHi its me you are probably having too much fun to get this message but i thought id txt u cos im bored and james has been farting at me all nighthi baby im sat on the bloody bus at the mo and i wont be home until about 730 wanna do somethin later call me later ortxt back jess xxWelcome to Select an O2 service with added benefits You can now call our specially trained advisors FREE from your mobile by dialling 402I lost 4 pounds since my doc visit last week woot woot Now Im gonna celebrate by stuffing my faceU coming back 4 dinner rite Dad ask me so i re confirm wif uDoing my masters When will you buy a bb cos i have for sale and hows bfAhhhhjust woken uphad a bad dream about u thoso i dont like u right now  i didnt know anything about comedy night but i guess im up for itIm viveki got call from your numberWhy didnt u call on your lunchWhat i mean was i left too early to check cos im working a 96I want  ltgt  rs dado you have itA bit of Ur smile is my hppnss a drop of Ur tear is my sorrow a part of Ur heart is my life a heart like mine wil care for U forevr as my GOODFRIENDYup okI want to see your pretty pussyDear Voucher holder Have your next meal on us Use the following link on your pc 2 enjoy a 2 4 1 dining experiencehttpwwwvouch4mecometlpdiningaspA few people are at the game Im at the mall with iouri and kailaURGENT We are trying to contact U Todays draw shows that you have won a £2000 prize GUARANTEED Call 09058094507 from land line Claim 3030 Valid 12hrs onlyYou can donate £250 to UNICEFs Asian Tsunami disaster support fund by texting DONATE to 864233 £250 will be added to your next billFuture is not what we planned for tomorrow it is the result of what we do today Do the best in present enjoy the futureI will cme i want to go to hos 2morow After that i wil cme This what i got from her dear what to do She didnt say any timeWe are supposed to meet to discuss abt our trip Thought xuhui told you In the afternoon Thought we can go for lesson after thatHey come online Use msn We are all thereIm fine Hope you are good Do take careOops I was in the shower when u called Hey a parking garage collapsed at university hospital See Im not crazy Stuff like that DOES happenAiyo u so poor thing Then u dun wan 2 eat U bathe alreadyYar I tot u knew dis would happen long ago alreadyYou are gorgeous keep those pix cumming  thank youA boy was late 2 home His father POWER OF FRNDSHIPJADE ITS PAUL Y DIDN\\x92T U TXT ME DO U REMEMBER ME FROM BARMED I WANT 2 TALK 2 U TXT MESpending new years with my brother and his family Lets plan to meet next week Are you ready to be spoiled So what u doing todayI said its okay SorrySlept I thinkThis time  ltgt  pm is not dangerousNetworking job is theregoldviking 29M is inviting you to be his friend Reply YES762 or NO762 See him wwwSMSacugoldviking STOP Send STOP FRND to 62468Dont let studying stress you out L8rThats y u haf 2 keep me busyNo rushing Im not working Im in school so if we rush we go hungryWhich channelSo your telling me I coulda been your real Valentine and I wasnt U never pick me for NOTHINGPhony £350 award  Todays Voda numbers ending XXXX are selected to receive a £350 award If you have a match please call 08712300220 quoting claim code 3100 standard rates appWe made it Eta at taunton is 1230 as planned hope that‘s still okday Good to see you xxIm hungry buy smth homeHEY KATE HOPE UR OK WILL GIVE U A BUZ WEDLUNCH GO OUTSOMEWHERE 4 ADRINK IN TOWNCUD GO 2WATERSHD 4 A BIT PPL FROMWRK WILL BTHERE LOVE PETEXXXMy drive can only be read I need to writeJust looked it up and addie goes back Monday sucks to be herHappy new year Hope you are having a good semesterEsplanade lor Where elseCan you talk with meHmph Go head big ballerWell its not like you actually called someone a punto That woulda been worseNope Since ayo travelled he has forgotten his guyYou still around Looking to pick up laterCDs 4u Congratulations ur awarded £500 of CD gift vouchers or £125 gift guaranteed  Freeentry 2 £100 wkly draw xt MUSIC to 87066 TnCs wwwldewcom1win150ppmx3age16 Theres someone here that has a year  ltgt  toyota camry like mr olayiwolas own Mileage is  ltgt kits clean but i need to know how much will it sell for If i can raise the dough for it how soon after landing will it sell Holla backGuess which pub im in Im as happy as a pig in clover or whatever the saying is ILL B DOWN SOONOh k  I will come tomorrowGo fool dont cheat others okMy mobile numberpls sms ur mail idconvey regards to achanammaRakheshQatarBy the way rencontre is to meet again Mountains dontYou have WON a guaranteed £1000 cash or a £2000 prize To claim yr prize call our customer service representative on 08714712412 between 10am7pm Cost 10pU attend ur driving lesson how many times a wk n which dayUncle G just checking up on you Do have a rewarding monthHello boytoy  Geeee  Im missing you today I like to send you a tm and remind you Im thinking of you  And you are loved  loving kissI think the other two still need to get cash but we can def be ready by 9Hey galsU all wanna meet 4 dinner at nìte Dear 0776xxxxxxx Uve been invited to XCHAT This is our final attempt to contact u Txt CHAT to 86688 150pMsgrcvdHGSuite3422LandsRowW1J6HL LDN 18yrsBabe  What are you doing  Where are you  Who are you talking to  Do you think of me  Are you being a good boy Are you missing me Do you love me Great How is the office todayIts cool we can last a little while Getting more any time soon sad puppy noiseYes its possible but dint try Pls dont tell to any one kAnyway holla at me whenever youre around because I need an excuse to go creep on people in sarasotaWhere you What happenI was gonna ask you lol but i think its at 7Ur cashbalance is currently 500 pounds  to maximize ur cashin now send GO to 86688 only 150pmeg CC 08718720201 HGSuite3422lands RowW1j6HLPRIVATE Your 2003 Account Statement for shows 800 unredeemed SIM points Call 08715203685 Identifier Code4xx26 Expires 131004Go chase after her and run her over while shes crossing the streetId like to tell you my deepest darkest fantasies Call me 09094646631 just 60pmin To stop texts call 08712460324 nat rateIs there coming friday is leave for pongaldo you get any news from your work placeHey Very inconvenient for your sis a not huhOk i vldo u know i got adsense approved Was really good to see you the other day dudette been missing youI want to go to perumbavoorHow many times i told in the stage all use to laugh You not listen ahaYou wont believe it but its true Its Incredible Txts Reply G now to learn truly amazing things that will blow your mind From O2FWD only 18ptxtYou didnt hear it from meThanks for being there for me just to talk to on saturday You are very dear to me I cherish having you as a brother and role modelPls clarify back if an open return ticket that i have can be preponed for me to go back to keralaNatalie 20F is inviting you to be her friend Reply YES165 or NO165 See her wwwSMSacunatalie2k9 STOP Send STOP FRND to 62468She ran off with a younger man we will make pretty babies together Jamster To get your free wallpaper text HEART to 88888 now TC apply 16 only Need Help Call 08701213186O ic lol Should play 9 doors sometime yoDunno my dad said he coming home 2 bring us out 4 lunch Yup i go w u lor I call u when i reach school lorWe have sent JD for Customer Service cum Accounts Executive to ur mail id For details contact usDesires u going to doctor 4 liver And get a bit stylish Get ur hair managed Thats itHmmmstill we dont have openerYeah so basically any time next week you can get away from your mom amp get up before 3Edison has rightly said A fool can ask more questions than a wise man can answer Now you know why all of us are speechless during ViVa GMGNGEGNTI will vote for wherever my heart guides meWith my sis lor We juz watched italian jobTick tick tick  Where are you  I could die of loneliness you know  pouts stomps feet I need you Lmao you know me so wellDouble Mins  Double Txt  12 price Linerental on Latest Orange Bluetooth mobiles Call MobileUpd8 for the very latest offers 08000839402 or call2optoutLF56Am on a train back from northampton so im afraid not Im staying skyving off today ho ho Will be around wednesday though Do you fancy the comedy club this week by the wayGoodnight da thangam I really miss u dearHey next sun 1030 theres a basic yoga course at bugis We can go for that Pilates intro next sat Tell me what time you r freeGeeeee  Your internet is really bad today eh Free video camera phones with Half Price line rental for 12 mths and 500 cross ntwk mins 100 txts Call MobileUpd8 08001950382 or Call2OptOut674I think i am disturbing her daSorry Ill call you  later I am in meeting sirHavent stuck at orchard in my dads car Going 4 dinner now U leh So r they free tonightOk i also wan 2 watch e 9 pm showI dunno lei Like dun hafBut your brother transfered only  ltgt    ltgt  PaI calls you later Afternoon onwords mtnl service get problem in south mumbai I can hear you but you cannt listen me83039 62735£450 UK Break AccommodationVouchers terms  conditions apply 2 claim you mustprovide your claim number which is 15541 Talk to g and x about thatHai dear friends This is my new amp present number By Rajitha Raj Ranju5p 4 alfie Moons Children in need song on ur mob Tell ur m8s Txt Tone charity to 8007 for Nokias or Poly charity for polys zed 08701417012 profit 2 charityAs in different stylesWIN a £200 Shopping spree every WEEK Starting NOW 2 play text STORE to 88039 SkilGme TsCs08714740323 1Winawk age16 £150perweeksubGud ni8 dearslp welltake careswt dreamsMuahI want to sent  ltgt mesages today Thats y Sorry if i hurtsThis is the 2nd attempt to contract U you have won this weeks top prize of either £1000 cash or £200 prize Just call 09066361921Well im glad you didnt find it totally disagreeable  LolGuy no flash me now If you go call me call me How madam Take care ohDo you want a New Nokia 3510i colour phone DeliveredTomorrow With 300 free minutes to any mobile  100 free texts  Free Camcorder reply or call 08000930705Mark works tomorrow He gets out at 5 His work is by your house so he can meet u afterwardsKeep ur problems in ur heart bcoz nobody will fight for u Only u amp u have to fight for ur self amp win the battle VIVEKANAND G 9t SD\\nham\\tYeah give me a call if youve got a minute\\nham\\tHI BABE UAWAKEFEELLIKW SHITJUSTFOUND OUT VIA ALETTER THATMUM GOTMARRIED 4thNOVBEHIND OURBACKS \\x96 FUCKINNICESELFISHDEVIOUSBITCHANYWAYI\\x92L CALL UAmazing  If you rearrange these letters it gives the same meaning Dormitory  Dirty room Astronomer  Moon starer The eyes  They see Election results  Lies lets recount Motherinlaw  Woman Hitler Eleven plus two Twelve plus one Its Amazing Aiya we discuss later lar Pick ü up at 4 is itHey happy birthdaySorry i missed your call Can you please call backOmg if its not one thing its another My cat has worms  when does this bad day endGood morning im suffering from fever and dysentry will not be able to come to office todayI wont do anything deWhat type of stuff do you singSt andre virgils creamNo no I will check all rooms befor activitiesMy fri ah Okie lorgoin 4 my drivin den go shoppin after ttGokila is talking with you ahaHi ShanilRakhesh herethanksi have exchanged the uncut diamond stuffleaving back Excellent service by Dino and PremKkthis month kotees birthday knowBut im really really broke oh No amount is too small even  ltgt Sorry about that this is my mates phone and i didnt write it love KateTheMobHit the link to get a premium Pink Panther game the new no 1 from Sugababes a crazy Zebra animation or a badass Hoody wallpaperall 4 FREEAh well that confuses things doesnt it I thought was friends with now Maybe i did the wrong thing but i already sort of invited tho he may not come cos of moneyAight call me once youre closeNope thats fine I might have a nap tho This msg is for your mobile content order It has been resent as previous attempt failed due to network error Queries to customersqueriesnetvisionukcomIn other news after hassling me to get him weed for a week andres has no money HAUGHAIGHGTUJHYGUJA Boy loved a gal He propsd bt she didnt mind He gv lv lttrs Bt her frnds threw thm Again d boy decided 2 aproach d gal  dt time a truck was speeding towards d gal Wn it was about 2 hit d girld boy ran like hell n saved her She asked hw cn u run so fast D boy replied Boost is d secret of my energy n instantly d girl shouted our energy n Thy lived happily 2gthr drinking boost evrydy Moral of d story I hv free msgsD gud ni8I wnt to buy a BMW car urgentlyits vry urgentbut hv a shortage of  ltgt Lacsthere is no source to arng dis amt ltgt lacsthats my probDing me on ya break fassyole Blacko from londnI REALLY NEED 2 KISS U I MISS U MY BABY FROM UR BABY 4EVAThe sign of maturity is not when we start saying big things But actually it is when we start understanding small things HAVE A NICE EVENING BSLVYLOh you got many responsibilitiesYou have 1 new message Please call 08715205273Ive reached sch alreadyDecember only Had your mobile 11mths You are entitled to update to the latest colour camera mobile for Free Call The Mobile Update VCo FREE on 08002986906 U definitely need a module from e humanities dis sem izzit U wan 2 take other modules 1stArgh why the fuck is nobody in town Get 3 Lions England tone reply lionm 4 mono or lionp 4 poly 4 more go 2 wwwringtonescouk the original n best Tones 3GBP network operator rates applyThanks Fills me with complete calm and reassurance Aslamalaikkuminsha allah tohar beeen muht albi mufti mahfuuzmeaning same hereAre you driving or trainingLol for real She told my dad I have cancerPRIVATE Your 2003 Account Statement for 078Oops I did have it  ltgt NOT ENUFCREDEIT TOCALLSHALL ILEAVE UNI AT 6 GET A BUS TO YOR HOUSEHi Chikku send some nice msgsHe is impossible to argue with and he always treats me like his sub like he never released me  Which he did and I will remind him of that if necessaryAfter my work ah Den 6 plus lor U workin oso rite Den go orchard lor no other place to go liaoTo the wonderful Okors have a great month We cherish you guys and wish you well each day MojiBiolaCuz ibored And don wanna studyWot about on wed nite I am 3 then but only til 9Rose for redred for bloodblood for heartheart for u But u for me Send tis to all ur friends Including me If u like me If u get back 1u r poor in relation 2u need some 1 to support 3u r frnd 2 many 4some1 luvs u 5 some1 is praying god to marry u try itAny way where are you and what doingThat sucks Ill go over so u can do my hair Youll do it free rightits still not working And this time i also tried adding zeros That was the savings The checking is  ltgt Hmm Dunno leh mayb a bag 4 goigng out dat is not too small Or jus anything except perfume smth dat i can keepSday only joinedso training we started todaySorry  was at the grocersThere are some nice pubs near here or there is Frankie n Bennys near the warner cinemaYOU VE WON Your 4 Costa Del Sol Holiday or £5000 await collection Call 09050090044 Now toClaim SAE TC s POBox334 Stockport SK38xh Cost£150pm Max10minsYup I havent been there before You want to go for the yoga I can call up to book Oh shut it Omg yesterday I had a dream that I had 2 kids both boys I was so pissed Not only about the kids but them being boys I even told mark in my dream that he was changing diapers cause Im not getting owed in the faceYeah I imagine he would be really gentle Unlike the other docs who treat their patients like turkeysFREE for 1st week No1 Nokia tone 4 ur mobile every week just txt NOKIA to 8077 Get txting and tell ur mates wwwgetzedcouk POBox 36504 W45WQ 16 norm150ptoneNow that you have started dont stop Just pray for more good ideas and anything i see that can help you guys ill forward you a linkHi darlin im on helens fone im gonna b up the princes 2 nite please come up tb love KateIm in office now dawhere are youAiyar u so poor thing I give u my support k Jia you Ill think of uOh unintentionally not bad timing Great Fingers  the trains play along Will give fifteen min warningGet your garden ready for summer with a FREE selection of summer bulbs and seeds worth £3350 only with The Scotsman this Saturday To stop go2 notxtcoukKthen come wenever u lik to come and also tel vikky to come by getting free timePls call me da What happenHappy new year to u and ur familymay this new year bring happiness  stability and tranquility to ur vibrant colourful lifeNo problem with the renewal Ill do it right away but i dont know his detailsIdk Im sitting here in a stop and shop parking lot right now bawling my eyes out because i feel like im a failure in everything Nobody wants me and now i feel like im failing youHavent left yet so probably gonna be here til dinnerLike  ltgt  same questionMY NEW YEARS EVE WAS OK I WENT TO A PARTY WITH MY BOYFRIEND WHO IS THIS SI THEN HEYSir I need Velusamy sirs date of birth and company bank facilities detailsK k sms chat with meI will come with karnan car Please wait till 6pm will directly goto doctorNo but the bluray player canOk Then r we meeting laterLol no I just need to cash in my nitros Hurry come on before I crash outJust send a text Well skype laterOk leave no need to askCongrats 2 mobile 3G Videophones R yours call 09063458130 now videochat wid ur mates play java games Dload polypH music noline rentl bx420 ip4 5we 150pÜ still got lessons  Ü in schY she dun believe leh I tot i told her its true already I thk she muz c us tog then she believeOh did you charge cameraI‘ve got some salt you can rub it in my open wounds if you likeNow im going for lunchIm in school now n ill be in da lab doing some stuff give me a call when ü r doneOh k  I will come tomorrowAight text me tonight and well see whats upU 2Water logging in desert Geoenvironmental implicationsRajipls do me a favour Pls convey my Birthday wishes to Nimya Pls Today is her birthdayCompany is very goodenvironment is terrific and food is really niceVery strange  and  are watching the 2nd one now but im in bed Sweet dreams miss u SMS AUCTION  A BRAND NEW Nokia 7250 is up 4 auction today Auction is FREE 2 join  take part Txt NOKIA to 86021 nowHi hope u r both ok he said he would text and he hasnt have u seen him let me down gently please Babe I fucking love you too  You know Fuck it was so good to hear your voice I so need that I crave it I cant get enough I adore you Ahmad kissesK sure am in my relatives home Sms me de PlsI sent them Do you likeFuuuuck I need to stop sleepin supIm in town now so ill jus take mrt down laterI just cooked a rather nice salmon a la youI uploaded mine to FacebookWHAT TIME U WRKINOkieree entry in 2 a weekly comp for a chance to win an ipod Txt POD to 80182 to get entry std txt rate TCs apply 08452810073 for details 18Our records indicate u maybe entitled to 5000 pounds in compensation for the Accident you had To claim 4 free reply with CLAIM to this msg 2 stop txt STOPSorry Ill call laterOh oh Den muz change plan liao Go back have to yan jiu againIts wylie you in tampa or sarasotaOk Take ur time n enjoy ur dinnerDarren was saying dat if u meeting da ge den we dun meet 4 dinner Cos later u leave xy will feel awkward Den u meet him 4 lunch lorSpook up your mob with a Halloween collection of a logo  pic message plus a free eerie tone txt CARD SPOOK to 8007 zed 08701417012150p per logopic I like cheap But i‘m happy to splash out on the wine if it makes you feel betterShes fine I have had difficulties with her phone It works with mine Can you pls send her another friend requestUgh my leg hurts Musta overdid it on monCall Germany for only 1 pence per minute Call from a fixed line via access number 0844 861 85 85 No prepayment Direct access wwwtelediscountcoukYOU VE WON Your 4 Costa Del Sol Holiday or £5000 await collection Call 09050090044 Now toClaim SAE TC s POBox334 Stockport SK38xh Cost£150pm Max10minsWOT STUDENT DISCOUNT CAN U GET ON BOOKSMe fineabsolutly fineHow come she can get it Should b quite diff to guess riteHad your mobile 11mths  Update for FREE to Oranges latest colour camera mobiles  unlimited weekend calls Call Mobile Upd8 on freefone 08000839402 or 2StopTxtI will reach ur home in  ltgt  minutesBabe Im answering you cant you see me  Maybe youd better reboot YM  I got the photo  Its great Hiwhat you think about matchI know you are thinkin malaria But relax children cant handle malaria She would have been worse and its gastroenteritis If she takes enough to replace her loss her temp will reduce And if you give her malaria meds now she will just vomit Its a self limiting illness she has which means in a few days it will completely stopDai i downloaded but there is only exe file which i can only run that exe after installingIt is only yesterday true trueKkhow is your business now3 pa but not selectedNatalja 25F is inviting you to be her friend Reply YES440 or NO440 See her wwwSMSacunat27081980 STOP Send STOP FRND to 62468I keep ten rs in my shelf buy two eggI am late I will be there atWell thats nice Too bad i cant eat itI accidentally brought em home in the boxPls she needs to dat slowly or she will vomit moreI have to take exam with in march 3Jane babes not goin 2 wrk feel ill after lst nite Foned in already cover 4 me chuck5 nightsWe nt staying at port step liaoToo exIf I die I want u to have all my stuffsOH FUCK JUSWOKE UP IN A BED ON A BOATIN THE DOCKS SLEPT WID 25 YEAR OLD SPINOUT GIV U DA GOSSIP L8R XXXSmile in Pleasure Smile in Pain Smile when trouble pours like Rain Smile when sum1 Hurts U Smile becoz SOMEONE still Loves to see u SmilingPrabhaim sorydarealyfrm heart im soryI remet alex nichols from middle school and it turns out hes dealingPRIVATE Your 2003 Account Statement for fone no shows 800 unredeemed S I M points Call 08715203656 Identifier Code 42049 Expires 261004It means u could not keep ur wordsNope Im still in the marketI realise you are a busy guy and im trying not to be a bother I have to get some exams outta the way and then try the cars Do have a gr8 dayYOU ARE CHOSEN TO RECEIVE A £350 AWARD Pls call claim number 09066364311 to collect your award which you are selected to receive as a valued mobile customerHey what how about your project Started aha daOk cool See ya thenAm on the uworld site Am i buying the qbank only or am i buying it with the self assessment alsoYour opinion about me 1 Over 2 Jada 3 Kusruthi 4 Lovable 5 Silent 6 Spl character 7 Not matured 8 Stylish 9 Simple Pls replySomeonone you know is trying to contact you via our dating service To find out who it could be call from your mobile or landline 09064015307 BOX334SK38ch Yeah I can still give you a rideJay wants to work out first hows 4 soundGud gudk chikku tke care sleep well gud nytIts a part of checking IQHmm thinking lorOf course  Dont tease me  You know I simply must see  grins  Do keep me posted my prey  loving smile devouring kissthanks for the temales it was wonderful Thank Have a great weekThank you princess I want to see your nice juicy bootyHavent eaten all day Im sitting here staring at this juicy pizza and I cant eat it These meds are ruining my lifeGud ni8 dearslp welltake careswt dreamsMuahU come n search tat vidnot finishdK Im leaving soon be there a little after 9Urgent Please call 09061213237 from a landline £5000 cash or a 4 holiday await collection T Cs SAE PO Box 177 M227XY 16Yeah work is fine started last week all the same stuff as before dull but easy and guys are funYou do your studies alone without anyones help If you cant no need to studyPlease tell me not all of my car keys are in your purseI didnt get anything daOk Sweet dreamsWell shes in for a big surpriseAs usualiam fine happy amp doing well1 in cbe 2 in chennaiCan help u swoop by picking u up from wherever ur other birds r meeting if u wantIf anyone calls for a treadmill say youll buy it Make sure its working I found an ad on Craigslist selling for  ltgt I absolutely LOVE South Park I only recently started watching the officeDid you see that filmPls speak with me I wont ask anything other then you friendshipStorming msg Wen u lift d phne u say HELLO Do u knw wt is d real meaning of HELLO    Its d name of a girl    Yes And u knw who is dat girl Margaret Hello She is d girlfrnd f Grahmbell who invnted telphone     MoralOne can 4get d name of a person bt not his girlfrnd G o o d n i g h t   Gud ni8swt drmstake careHI DARLIN ITS KATE ARE U UP FOR DOIN SOMETHIN TONIGHT IM GOING TO A PUB CALLED THE SWAN OR SOMETHING WITH MY PARENTS FOR ONE DRINK SO PHONE ME IF U CANAnything lar then ü not going home 4 dinnerER ENJOYIN INDIANS AT THE MOyeP SaLL gOoD HehE  hows bout u shexy Pete XxIf you dont your prize will go to another customer TC at wwwtcbiz 18 150pmin Polo Ltd Suite 373 London W1J 6HL Please call back if busy Did u fix the teethif not do it asapok take careSo u wan 2 come for our dinner tonight a notHelloHow u doingWhat u been up 2When will u b moving out of the flat cos I will need to arrange to pick up the lamp etc Take care Hello carolineIts too latebut its kwish you the sameHi Hope ur day  good Back from walk table booked for half eight Let me know when ur coming overOh yeah clearly its my faultDunno leh cant remember mayb lor So wat time r we meeting tmrBest msg Its hard to be with a person when u know that one more step foward will make u fall in love amp One step back can ruin ur friendship good night URGENT Your Mobile number has been awarded with a £2000 prize GUARANTEED Call 09061790126 from land line Claim 3030 Valid 12hrs only 150ppmHelloooo Wake up Sweet morning welcomes You Enjoy This Day with full of joy GUD MRNGVikky come around  ltTIMEgt And how you will do that princess I have gone into get info bt dont know what to doYeah probably here for a whileSent me ur email id soonURGENT You have won a 1 week FREE membership in our £100000 Prize Jackpot Txt the word CLAIM to No 81010 TC wwwdbuknet LCCLTD POBOX 4403LDNW1A7RW18Im still pretty weak today  Bad day Hey  Dont forget  You are MINE  For ME  My possession  MY property  MMM  childish smile An excellent thought by a misundrstud frnd I knw u hate me bt the day wen ull knw the truth ull hate urself GnHey Congrats 2u2 id luv 2 but ive had 2 go homeDear where you Call meXy trying smth now U eat already We haventUrgent Please call 09061213237 from landline £5000 cash or a luxury 4 Canary Islands Holiday await collection TCs SAE PO Box 177 M227XY 150ppm 16I donno its in your genes or somethingXMAS iscoming  ur awarded either £500 CD gift vouchers  free entry 2 r £100 weekly draw txt MUSIC to 87066 TnC wwwLdewcom1win150ppmx3age16subscription Alex says hes not ok with you not being ok with itAre u coming to the funeral homeMy darling sister How are you doing Whens school resuming Is there a minimum wait period before you reapply Do take careIll hand her my phone to chat wit uWell good morning mr  Hows london treatin ya treacleI cant make it tonightAt WHAT TIME should i come tomorrowAbout  ltgt bucks The banks fees are fixed Better to call the bank and find outI can But it will tell quite long cos i havent finish my film yetPls ask macho how much is budget for bb bold 2 is cos i saw a new one for  ltgt  dollarsHi missed your Call and my mumHas beendropping red wine all over theplace what is your adressIll be at yours in about 3 mins but look out for meWhat you did in  leaveIm coming back on Thursday Yay Is it gonna be ok to get the money Cheers Oh yeah and how are you Everything alright Hows school Or do you call it work nowJolly good By the way  will give u tickets for sat eve 730 Speak before then xyeah thats what I was thinkingKkim going to tirunelvali this week to see my uncle i already spend the amount by taking dress so only i want moneyi will give it on feb 1Here got ur favorite oyster N got my favorite sashimi Ok lar i dun say already Wait ur stomach start rumblingMy sister going to earn more than me daGet the official ENGLAND poly ringtone or colour flag on yer mobile for tonights game Text TONE or FLAG to 84199 Optout txt ENG STOP Box39822 W111WX £150Hahahause your brain dearJus finish watching tv UK fyi Im back in my parents place in south tampa so I might need to do the deal somewhere elseGood morning my Love  I go to sleep now and wish you a great day full of feeling better and opportunity  You are my last thought babe I LOVE YOU kissKothi print out marandrathaBut we havent got da topic yet riteOk no problem Yup im going to sch at 4 if i rem correctlyThanks Ill keep that in mindAah bless Hows your armDear SirSalam AlaikkumPride and Pleasure meeting you today at the Tea ShopWe are pleased to send you our contact number at QatarRakhesh an IndianPls save our NumberRespectful RegardsGal n boy walking in d park galcan i hold ur hand boyy do u think i would run away galno jst wana c how it feels walking in heaven with an princeGNWhat makes you most happyWishing you a wonderful weekSweet heart how are youSir waiting for your letterDude im no longer a pisces Im an aquarius nowX course it 2yrs Just so her messages on messenger lik you r sending meI think steyn surely get one wicketNeither in sterm voice  im studying All fine with me Not sure the  thing will be resolved tho Anyway Have a fab holsGarbage bags eggs jam bread hannaford wheat chexNo Its not pride Im almost  ltgt  years old and shouldnt be takin money from my kid Youre not supposed to have to deal with this stuff This is grownup stuffwhy i dont tell youSounds better than my evening im just doing my costume Im not sure what time i finish tomorrow but i will txt you at the endMy birthday is on feb  ltgt  da So when do you wanna gymYoud like that wouldnt you JerkAre u awake Is there snow thereAnd of course you should make a stinku r subscribed 2 TEXTCOMP 250 wkly comp 1st wks free question follows subsequent wks charged150pmsg2 unsubscribe txt STOP 2 84128custcare 08712405020No go No openings for that room til after thanksgiving without an upchargeWhen you guys planning on coming overWat ü doing nowMy Parents My Kidz My Friends n My Colleagues All screaming SURPRISE  and I was waiting on the sofa    NAKEDNo sir Thats why i had an 8hr trip on the bus last week Have another audition next wednesday but i think i might drive this timeDo I I thought I put it back in the boxIm homeNo one interested May be some business planYup its at paragon I havent decided whether 2 cut yet HeeGood morning princess Have a great dayGuai Ü shd haf seen him when hes naughty Ü so free today Can go joggingAiyo cos i sms ü then ü neva reply so i wait 4 ü to reply lar I tot ü havent finish ur lab watLiving is very simple Loving is also simple Laughing is too simple Winning is tooo simple But Being SIMPLE is very difficult Tell me something Thats okayOkHmm Shall i bring a bottle of wine to keep us amused Just joking Ill still bring a bottle Red or white See you tomorrowThis is ur face test  1 2 3 4 5 6 7 8 9  ltgt   select any number i will tell ur face astrology am waiting quick replyHey iouri gave me your number Im wylie ryans friendYep get with the program Youre slackingIm in inside officestill filling formsdon know when they leave meI think your mentor is  but not 100 percent sureCall 09095350301 and send our girls into erotic ecstacy Just 60pmin To stop texts call 08712460324 nat rateCamera  You are awarded a SiPix Digital Camera call 09061221066 fromm landline Delivery within 28 daysA £400 XMAS REWARD IS WAITING FOR YOU Our computer has randomly picked you from our loyal mobile customers to receive a £400 reward Just call 09066380611Just trying to figure out when Im suppose to see a couple different people this week We said wed get together but I didnt set datesIMPORTANT MESSAGE This is a final contact attempt You have important messages waiting out our customer claims dept Expires 13404 Call 08717507382 NOWHi mom we might be back later than  ltgt datingi have had two of these Only started after i sent a text to talk sport radio last week Any connection do you think or coincidenceLol oh you got a friend for the dog Ok is any problem to u frm him Wats matterK Ill head out in a few mins see you thereDo u konw waht is rael FRIENDSHIP Im gving yuo an exmpel Jsut ese tihs msg Evrey splleing of tihs msg is wrnog Bt sitll yuo can raed it wihtuot ayn mitsake GOODNIGHT amp HAVE A NICE SLEEPSWEET DREAMSI cant pick the phone right now Pls send a messageI dont want you to leave But im barely doing what i can to stay sane fighting with you constantly isnt helpingThe current leading bid is 151 To pause this auction send OUT Customer Care 08718726270Free entry to the gr8prizes wkly comp 4 a chance to win the latest Nokia 8800 PSP or £250 cash every wkTXT GREAT to 80878 httpwwwgr8prizescom 08715705022Somebody set up a website where you can play hold em using eve online spacebucksIts sunny in california The weathers just coolYou have 1 new message Call 02070836089I can make it up there squeezed  ltgt  bucks out of my dadGood day to You tooPray for meRemove the teeth as its painful maintaining other stuffHow are you babes Hope your doing ok I had a shit nights sleep I fell asleep at 5I\\x92m knackered and i\\x92m dreading work tonight What are thou upto tonight XHow do friends help us in problems They give the most stupid suggestion that Lands us into another problem and helps us forgt the previous problemIm at work Please callI will be gentle baby Soon you will be taking all  ltgt  inches deep inside your tight pussyNOT MUCH NO FIGHTS IT WAS A GOOD NITEOkok okthenwhats ur todays planNt joking seriously i toldWatching ajith film ahOoooooh I forgot to tell u I can get on yoville on my phoneAll done all handed in Dont know if mega shop in asda counts as celebration but thats what im doingI dont know exactly could you ask chechiDunno lei shd b driving lor cos i go sch 1 hr oniAs in i want custom officer discount ohThats necessarily respectfulHi Hope you had a good day Have a better nightAnd hes apparently bffs with carly quick nowHARD BUT TRUE How much you show amp  express your love to someonethat much it will hurt when they leave you or you get seperated鈥┾〨ud eveningBabes I think I got ur brolly I left it in English wil bring it in 2mrw 4 u luv FranxxHi babe its me thanks for coming even though it didnt go that welli just wanted my bed Hope to see you soon love and kisses xxxSo gd got free ice cream I oso wanPls give her prometazine syrup 5mls then  ltgt mins later feedSo how many days since thenDear are you angry i was busy dearYup he msg me is tat yijue Then i tot its my group mate cos we meeting today mah Im askin if ü leaving earlier or wat mah cos mayb ü haf to walk v far Are you in the pubThere is a first time for everything Daddy shu shu is looking 4 u U wan me 2 tell him ure not in singapore or watI ask if u meeting da ge tmr niteGr8 So how do you handle the victoria island traffic Plus whens the album dueNite nite pocay wocay luv u more than n e thing 4eva I promise ring u 2morrowxxxxEast coastYou should get more chicken broth if you want ramen unless theres some I dont know aboutMy slave I want you to take 2 or 3 pictures of yourself today in bright light on your cell phone Bright lightNope I just forgot Will show next weekSo how are you really What are you up to Hows the masters And so onIm at bruce amp fowler now but Im in my moms car so I cant park long storyI dont know oh Hopefully this monthHi elaine is todays meeting confirmedOk ksry i knw 2 sivatats y i askdSorry Ill call laterU horrible gal U knew dat i was going out wif him yest n u still come n ask meOtherwise had part time job natuitionOh yeah And my diet just flew out the windowSanta Calling Would your little ones like a call from Santa Xmas eve Call 09058094583 to book your timeYou didnt complete your gist ohEr yeah i will b there at 1526 sorry Just tell me which pubcafe to sit in and come wen u canIf you can make it any time tonight or whenever you can its cool just text me whenever youre aroundIf I was I wasnt paying attentionThanx a lot 4 ur helpYoure gonna have to be way more specific than thatJesus armand really is trying to tell everybody he can findIm wif him now buying tix larMode men or have you leftAm slow in using biolas fneWhat are youdoing later Sar xxxHey ive booked the 2 lessons on sun liaoThank you do you generally date the brothasBy the way make sure u get train to worc foregate street not shrub hill Have fun night xI thought id get him a watch just cos thats the kind of thing u get4an18th And he loves so muchYou have won a guaranteed 32000 award or maybe even £1000 cash to claim ur award call free on 0800  18 Its a legitimat efreefone number wat do u thinkGood morning At the repair shopthe ONLY reason im up at this hourAnd thats fine I got enough bud to last most of the night at leastI am back Good journey Let me know if you need any of the receipts Shall i tell you like the pendentSo that takes away some money worriesaight we can pick some up you open before tonightLatest News Police station toilet stolen cops have nothing to go onSac needs to carry onJust sing HU I think its also important to find someone female that know the place well preferably a citizen that is also smart to help you navigate through Even things like choosing a phone plan require guidance When in doubt ask especially girlsWhat Hello wats talks email addressExcept theres a chick with huge boobsIm just wondering what your doing right nowWishing you a beautiful day Each moment revealing even more things to keep you smiling Do enjoy itFor the most sparkling shopping breaks from 45 per person call 0121 2025050 or visit wwwshortbreaksorgukArun can u transfr me d amtSorry Ill call laterIf you hear a loud scream in about ltgt minutes its cause my Gyno will be shoving things up me that dont belong December only Had your mobile 11mths You are entitled to update to the latest colour camera mobile for Free Call The Mobile Update Co FREE on 08002986906Ok i thk i got it Then u wan me 2 come now or watTxt CALL to No 86888  claim your reward of 3 hours talk time to use from your phone now Subscribe6GBPmnth inc 3hrs 16 stoptxtStop wwwgambtvU GOIN OUT 2NITEI will treasure every moment we spend togetherShall I bring us a bottle of wine to keep us amused Only joking I‘ll bring one anywayhttptms widelivecomindex wmlid820554ad0a1705572711firsttrue¡C C Ringtone¡Get your garden ready for summer with a FREE selection of summer bulbs and seeds worth £3350 only with The Scotsman this Saturday To stop go2 notxtcoukURGENT Last weekends draw shows that you have won £1000 cash or a Spanish holiday CALL NOW 09050000332 to claim TC RSTM SW7 3SS 150ppmOk lorI thought slide is enoughYupWell obviously not because all the people in my cool college life went home Ok lor ü reaching then message meWheres mummys boy  Is he being good or bad  Is he being positive or negative  Why is mummy being made to wait HmmmmDhoni have luck to win some big titleso we will winYes princess I want to please you every night Your wish is my commandWhat Todaysundaysunday is holidayso no workNo probably  ltgt Really do hope the work doesnt get stressful Have a gr8 dayHave you seen whos back at HolbyShall call now dear having foodURGENT We are trying to contact you Last weekends draw shows u have won a £1000 prize GUARANTEED Call 09064017295 Claim code K52 Valid 12hrs 150p pmSo li hai Me bored now da lecturer repeating last weeks stuff waste time    and  picking them up from various points  going 2 yeovil  and they will do the motor project 4 3 hours  and then u take them home  12 2 530 max  Very easyAlso fuck you and your family for going to rhode island or wherever the fuck and leaving me all alone the week I have a new bong gtOfcourse I also upload some songs2p per min to call Germany 08448350055 from your BT line Just 2p per min Check PlanetTalkInstantcom for info  Ts  Cs Text stop to opt outK I will sent it againOh thanks a loti already bought 2 eggs K I will sent it againU studying in sch or going home Anyway ill b going 2 sch laterMarvel Mobile Play the official Ultimate Spiderman game £450 on ur mobile right now Text SPIDER to 83338 for the game  we ll send u a FREE 8Ball wallpaperI think if he rule tamilnaduthen its very tough for our peopleCool we shall go and see have to go to tip anyway Are you at home got something to drop in later So lets go to town tonight Maybe mum can take us inGood afternoon my love  How goes your day  How did you sleep  I hope your well my boytoy  I think of you Yes I trust u to buy new stuff ASAP so I can try it outSMS SERVICES for your inclusive text credits pls goto wwwcomuknet login 3qxj9 unsubscribe with STOP no extra charge help 08702840625COMUK 220CM2 9AEWhy did I wake up on my own gtNow get step 2 outta the way Congrats againLove has one law Make happy the person you love In the same way friendship has one law Never make ur friend feel alone until you are alive Gud nightPRIVATE Your 2003 Account Statement for 07808247860 shows 800 unredeemed S I M points Call 08719899229 Identifier Code 40411 Expires 061104Apo all other are mokka players onlyPerhaps  is much easy give your account identification so i will tomorrow at UNIWait  I will msg after  ltgt  minWhat i told before i tell Stupid hear after i wont tell anything to you You dad called to my brother and spoken Not with meGods love has no limit Gods grace has no measure Gods power has no boundaries May u have Gods endless blessings always in ur life Gud ni8I want to be inside you every nightMachan you go to gym tomorrow  i wil come late goodnightLol they were mad at first but then they woke up and gave inI went to project centreIt‘s reassuring in this crazy worldJust making dinner you Yes Please leave at  ltgt  So that at  ltgt  we can leaveOh Okie lorWe go on sat You are a great role model You are giving so much and i really wish each day for a miracle but God as a reason for everything and i must say i wish i knew why but i dont Ive looked up to you since i was young and i still do Have a great dayYa im referin to meis ex wat No ah waitin 4 u to treat somebody shld b rich liaoSo gd den u dun have to work frm tmr onwardsMiles and smiles r made frm same letters but do u know d difference smile on ur face keeps me happy even though I am miles away from u keep smiling Good nytBy the way ive put a skip right outside the front of the house so you can see which house it is Just pull up before itCan you pls send me that company name In saibaba colanyNo I dont want to hear anythingYou are a big chic Common DeclareThats cool I want to please youGoing to join tomorrowYou are awarded a SiPix Digital Camera call 09061221061 from landline Delivery within 28days T Cs Box177 M221BP 2yr warranty 150ppm 16  p p£399I want to tell you how bad I feel that basically the only times I text you lately are when I need drugsPRIVATE Your 2003 Account Statement for shows 800 unredeemed SIM points Call 08718738001 Identifier Code 49557 Expires 261104Total disappointment when I texted you was the craziest shit got Its just the effect of irritation Just ignore itWhat about this one thenI think that tantrums finished so yeah Ill be by at some pointCompliments to you Was away from the system How your sidehappened here while you were adventuringHey chief can you give me a bell when you get this Need to talk to you about this royal visit on the 1st june Ok which your another numberI know you are thinkin malaria But relax children cant handle malaria She would have been worse and its gastroenteritis If she takes enough to replace her loss her temp will reduce And if you give her malaria meds now she will just vomit Its a self limiting illness she has which means in a few days it will completely stopAiyah ok wat as long as got improve can already watWant explicit SEX in 30 secs Ring 02073162414 now Costs 20pmin Gsex POBOX 2667 WC1N 3XXI cant believe how attached I am to seeing you every day I know you will do the best you can to get to me babe I will go to teach my class at your midnightJust sleepingand surfingASKED 3MOBILE IF 0870 CHATLINES INCLU IN FREE MINS INDIA CUST SERVs SED YES L8ER GOT MEGA BILL 3 DONT GIV A SHIT BAILIFF DUE IN DAYS I O £250 3 WANT £800Yeah its jus riteArmand says get your ass over to epsilonU still havent got urself a jacket ahIm taking derek amp taylor to walmart if Im not back by the time youre done just leave the mouse on my desk and Ill text you when priscillas readyHi its in durban are you still on this numberIc There are a lotta childporn cars thenHad your contract mobile 11 Mnths Latest Motorola Nokia etc all FREE Double Mins  Text on Orange tariffs TEXT YES for callback no to remove from recordsNo I was trying it all weekend VYou know wot people wear T shirts jumpers hat belt is all we know We r at CribbsCool what time you think you can get hereWen did you get so spiritual and deep Thats greatHave a safe trip to Nigeria Wish you happiness and very soon company to share moments withHahahause your brain dearWell keep in mind Ive only got enough gas for one more round trip barring a sudden influx of cashYeh Indians was nice Tho it did kane me off a bit he he We shud go out 4 a drink sometime soon Mite hav 2 go 2 da works 4 a laugh soon Love Pete x xYes i have So thats why u texted Pshewmissing you so muchNo I meant the calculation is the same That  ltgt units at  ltgt  This school is really expensive Have you started practicing your accent Because its important And have you decided if you are doing 4years of dental school or if youll just do the nmde examSorry Ill call laterif you arent here in the next  ltgt  hours imma flip my shitAnything lor Juz both of us lorGet me out of this dump heap My mom decided to come to lowes BORINGOk lor Sony ericsson salesman I ask shuhui then she say quite gd 2 use so i consideringArd 6 like dat lorWhy dont you wait til at least wednesday to see if you get your Huh y leiREMINDER FROM O2 To get 250 pounds free call credit and details of great offers pls reply 2 this text with your valid name house no and postcodeThis is the 2nd time we have tried 2 contact u U have won the £750 Pound prize 2 claim is easy call 087187272008 NOW1 Only 10p per minute BTnationalrateWill ü b going to esplanade fr homePity  was in mood for that Soany other suggestionsThe guy did some bitching but I acted like id be interested in buying something else next week and he gave it to us for freeRofl Its true to its name'"
      ]
     },
     "execution_count": 84,
     "metadata": {},
     "output_type": "execute_result"
    }
   ],
   "source": [
    "b1"
   ]
  },
  {
   "cell_type": "code",
   "execution_count": 85,
   "metadata": {},
   "outputs": [
    {
     "ename": "SyntaxError",
     "evalue": "unexpected EOF while parsing (<ipython-input-85-0d62b86088fe>, line 2)",
     "output_type": "error",
     "traceback": [
      "\u001b[1;36m  File \u001b[1;32m\"<ipython-input-85-0d62b86088fe>\"\u001b[1;36m, line \u001b[1;32m2\u001b[0m\n\u001b[1;33m    \u001b[0m\n\u001b[1;37m    ^\u001b[0m\n\u001b[1;31mSyntaxError\u001b[0m\u001b[1;31m:\u001b[0m unexpected EOF while parsing\n"
     ]
    }
   ],
   "source": [
    "def text_process(t):\n",
    "    "
   ]
  },
  {
   "cell_type": "code",
   "execution_count": 86,
   "metadata": {},
   "outputs": [
    {
     "data": {
      "text/html": [
       "<div>\n",
       "<style scoped>\n",
       "    .dataframe tbody tr th:only-of-type {\n",
       "        vertical-align: middle;\n",
       "    }\n",
       "\n",
       "    .dataframe tbody tr th {\n",
       "        vertical-align: top;\n",
       "    }\n",
       "\n",
       "    .dataframe thead th {\n",
       "        text-align: right;\n",
       "    }\n",
       "</style>\n",
       "<table border=\"1\" class=\"dataframe\">\n",
       "  <thead>\n",
       "    <tr style=\"text-align: right;\">\n",
       "      <th></th>\n",
       "      <th>Length</th>\n",
       "    </tr>\n",
       "  </thead>\n",
       "  <tbody>\n",
       "    <tr>\n",
       "      <th>count</th>\n",
       "      <td>5572.000000</td>\n",
       "    </tr>\n",
       "    <tr>\n",
       "      <th>mean</th>\n",
       "      <td>80.489950</td>\n",
       "    </tr>\n",
       "    <tr>\n",
       "      <th>std</th>\n",
       "      <td>59.942907</td>\n",
       "    </tr>\n",
       "    <tr>\n",
       "      <th>min</th>\n",
       "      <td>2.000000</td>\n",
       "    </tr>\n",
       "    <tr>\n",
       "      <th>25%</th>\n",
       "      <td>36.000000</td>\n",
       "    </tr>\n",
       "    <tr>\n",
       "      <th>50%</th>\n",
       "      <td>62.000000</td>\n",
       "    </tr>\n",
       "    <tr>\n",
       "      <th>75%</th>\n",
       "      <td>122.000000</td>\n",
       "    </tr>\n",
       "    <tr>\n",
       "      <th>max</th>\n",
       "      <td>910.000000</td>\n",
       "    </tr>\n",
       "  </tbody>\n",
       "</table>\n",
       "</div>"
      ],
      "text/plain": [
       "            Length\n",
       "count  5572.000000\n",
       "mean     80.489950\n",
       "std      59.942907\n",
       "min       2.000000\n",
       "25%      36.000000\n",
       "50%      62.000000\n",
       "75%     122.000000\n",
       "max     910.000000"
      ]
     },
     "execution_count": 86,
     "metadata": {},
     "output_type": "execute_result"
    }
   ],
   "source": [
    "df1.describe()"
   ]
  },
  {
   "cell_type": "code",
   "execution_count": null,
   "metadata": {},
   "outputs": [],
   "source": []
  },
  {
   "cell_type": "code",
   "execution_count": null,
   "metadata": {},
   "outputs": [],
   "source": []
  },
  {
   "cell_type": "code",
   "execution_count": null,
   "metadata": {},
   "outputs": [],
   "source": []
  },
  {
   "cell_type": "code",
   "execution_count": 87,
   "metadata": {},
   "outputs": [],
   "source": [
    "from sklearn.pipeline import Pipeline"
   ]
  },
  {
   "cell_type": "code",
   "execution_count": 88,
   "metadata": {},
   "outputs": [
    {
     "ename": "NameError",
     "evalue": "name 'CountVectorizer' is not defined",
     "output_type": "error",
     "traceback": [
      "\u001b[1;31m---------------------------------------------------------------------------\u001b[0m",
      "\u001b[1;31mNameError\u001b[0m                                 Traceback (most recent call last)",
      "\u001b[1;32m<ipython-input-88-7d4c7d082cf2>\u001b[0m in \u001b[0;36m<module>\u001b[1;34m()\u001b[0m\n\u001b[1;32m----> 1\u001b[1;33m \u001b[0mmodel\u001b[0m\u001b[1;33m=\u001b[0m\u001b[0mPipeline\u001b[0m\u001b[1;33m(\u001b[0m\u001b[1;33m[\u001b[0m\u001b[1;33m(\u001b[0m\u001b[1;34m'cv'\u001b[0m\u001b[1;33m,\u001b[0m\u001b[0mCountVectorizer\u001b[0m\u001b[1;33m(\u001b[0m\u001b[0manalyzer\u001b[0m\u001b[1;33m=\u001b[0m\u001b[0mtext_process\u001b[0m\u001b[1;33m)\u001b[0m\u001b[1;33m)\u001b[0m\u001b[1;33m,\u001b[0m\u001b[1;33m(\u001b[0m\u001b[1;34m'tfidf'\u001b[0m\u001b[1;33m,\u001b[0m\u001b[0mTfidfTransormer\u001b[0m\u001b[1;33m(\u001b[0m\u001b[1;33m)\u001b[0m\u001b[1;33m)\u001b[0m\u001b[1;33m,\u001b[0m\u001b[1;33m(\u001b[0m\u001b[1;34m'finalmodel'\u001b[0m\u001b[1;33m,\u001b[0m\u001b[0mGaussianNB\u001b[0m\u001b[1;33m(\u001b[0m\u001b[1;33m)\u001b[0m\u001b[1;33m)\u001b[0m\u001b[1;33m]\u001b[0m\u001b[1;33m)\u001b[0m\u001b[1;33m\u001b[0m\u001b[0m\n\u001b[0m",
      "\u001b[1;31mNameError\u001b[0m: name 'CountVectorizer' is not defined"
     ]
    }
   ],
   "source": [
    "model=Pipeline([('cv',CountVectorizer(analyzer=text_process)),('tfidf',TfidfTransormer()),('finalmodel',GaussianNB())])"
   ]
  },
  {
   "cell_type": "code",
   "execution_count": 89,
   "metadata": {},
   "outputs": [
    {
     "ename": "NameError",
     "evalue": "name 'model' is not defined",
     "output_type": "error",
     "traceback": [
      "\u001b[1;31m---------------------------------------------------------------------------\u001b[0m",
      "\u001b[1;31mNameError\u001b[0m                                 Traceback (most recent call last)",
      "\u001b[1;32m<ipython-input-89-eddefe0c1907>\u001b[0m in \u001b[0;36m<module>\u001b[1;34m()\u001b[0m\n\u001b[1;32m----> 1\u001b[1;33m \u001b[0mmodel\u001b[0m\u001b[1;33m.\u001b[0m\u001b[0mfit\u001b[0m\u001b[1;33m(\u001b[0m\u001b[0mx\u001b[0m\u001b[1;33m)\u001b[0m\u001b[1;33m\u001b[0m\u001b[0m\n\u001b[0m",
      "\u001b[1;31mNameError\u001b[0m: name 'model' is not defined"
     ]
    }
   ],
   "source": [
    "model.fit(x)"
   ]
  },
  {
   "cell_type": "code",
   "execution_count": 11,
   "metadata": {},
   "outputs": [
    {
     "name": "stdout",
     "output_type": "stream",
     "text": [
      "[nltk_data] Downloading package stopwords to\n",
      "[nltk_data]     C:\\Users\\dell\\AppData\\Roaming\\nltk_data...\n",
      "[nltk_data]   Package stopwords is already up-to-date!\n"
     ]
    },
    {
     "data": {
      "text/plain": [
       "True"
      ]
     },
     "execution_count": 11,
     "metadata": {},
     "output_type": "execute_result"
    }
   ],
   "source": [
    "import nltk\n",
    "nltk.download('stopwords')"
   ]
  },
  {
   "cell_type": "code",
   "execution_count": 12,
   "metadata": {},
   "outputs": [],
   "source": [
    "from nltk.corpus import stopwords"
   ]
  },
  {
   "cell_type": "code",
   "execution_count": 13,
   "metadata": {},
   "outputs": [
    {
     "data": {
      "text/plain": [
       "['i',\n",
       " 'me',\n",
       " 'my',\n",
       " 'myself',\n",
       " 'we',\n",
       " 'our',\n",
       " 'ours',\n",
       " 'ourselves',\n",
       " 'you',\n",
       " \"you're\",\n",
       " \"you've\",\n",
       " \"you'll\",\n",
       " \"you'd\",\n",
       " 'your',\n",
       " 'yours',\n",
       " 'yourself',\n",
       " 'yourselves',\n",
       " 'he',\n",
       " 'him',\n",
       " 'his',\n",
       " 'himself',\n",
       " 'she',\n",
       " \"she's\",\n",
       " 'her',\n",
       " 'hers',\n",
       " 'herself',\n",
       " 'it',\n",
       " \"it's\",\n",
       " 'its',\n",
       " 'itself',\n",
       " 'they',\n",
       " 'them',\n",
       " 'their',\n",
       " 'theirs',\n",
       " 'themselves',\n",
       " 'what',\n",
       " 'which',\n",
       " 'who',\n",
       " 'whom',\n",
       " 'this',\n",
       " 'that',\n",
       " \"that'll\",\n",
       " 'these',\n",
       " 'those',\n",
       " 'am',\n",
       " 'is',\n",
       " 'are',\n",
       " 'was',\n",
       " 'were',\n",
       " 'be',\n",
       " 'been',\n",
       " 'being',\n",
       " 'have',\n",
       " 'has',\n",
       " 'had',\n",
       " 'having',\n",
       " 'do',\n",
       " 'does',\n",
       " 'did',\n",
       " 'doing',\n",
       " 'a',\n",
       " 'an',\n",
       " 'the',\n",
       " 'and',\n",
       " 'but',\n",
       " 'if',\n",
       " 'or',\n",
       " 'because',\n",
       " 'as',\n",
       " 'until',\n",
       " 'while',\n",
       " 'of',\n",
       " 'at',\n",
       " 'by',\n",
       " 'for',\n",
       " 'with',\n",
       " 'about',\n",
       " 'against',\n",
       " 'between',\n",
       " 'into',\n",
       " 'through',\n",
       " 'during',\n",
       " 'before',\n",
       " 'after',\n",
       " 'above',\n",
       " 'below',\n",
       " 'to',\n",
       " 'from',\n",
       " 'up',\n",
       " 'down',\n",
       " 'in',\n",
       " 'out',\n",
       " 'on',\n",
       " 'off',\n",
       " 'over',\n",
       " 'under',\n",
       " 'again',\n",
       " 'further',\n",
       " 'then',\n",
       " 'once',\n",
       " 'here',\n",
       " 'there',\n",
       " 'when',\n",
       " 'where',\n",
       " 'why',\n",
       " 'how',\n",
       " 'all',\n",
       " 'any',\n",
       " 'both',\n",
       " 'each',\n",
       " 'few',\n",
       " 'more',\n",
       " 'most',\n",
       " 'other',\n",
       " 'some',\n",
       " 'such',\n",
       " 'no',\n",
       " 'nor',\n",
       " 'not',\n",
       " 'only',\n",
       " 'own',\n",
       " 'same',\n",
       " 'so',\n",
       " 'than',\n",
       " 'too',\n",
       " 'very',\n",
       " 's',\n",
       " 't',\n",
       " 'can',\n",
       " 'will',\n",
       " 'just',\n",
       " 'don',\n",
       " \"don't\",\n",
       " 'should',\n",
       " \"should've\",\n",
       " 'now',\n",
       " 'd',\n",
       " 'll',\n",
       " 'm',\n",
       " 'o',\n",
       " 're',\n",
       " 've',\n",
       " 'y',\n",
       " 'ain',\n",
       " 'aren',\n",
       " \"aren't\",\n",
       " 'couldn',\n",
       " \"couldn't\",\n",
       " 'didn',\n",
       " \"didn't\",\n",
       " 'doesn',\n",
       " \"doesn't\",\n",
       " 'hadn',\n",
       " \"hadn't\",\n",
       " 'hasn',\n",
       " \"hasn't\",\n",
       " 'haven',\n",
       " \"haven't\",\n",
       " 'isn',\n",
       " \"isn't\",\n",
       " 'ma',\n",
       " 'mightn',\n",
       " \"mightn't\",\n",
       " 'mustn',\n",
       " \"mustn't\",\n",
       " 'needn',\n",
       " \"needn't\",\n",
       " 'shan',\n",
       " \"shan't\",\n",
       " 'shouldn',\n",
       " \"shouldn't\",\n",
       " 'wasn',\n",
       " \"wasn't\",\n",
       " 'weren',\n",
       " \"weren't\",\n",
       " 'won',\n",
       " \"won't\",\n",
       " 'wouldn',\n",
       " \"wouldn't\"]"
      ]
     },
     "execution_count": 13,
     "metadata": {},
     "output_type": "execute_result"
    }
   ],
   "source": [
    "stopwords.words('english')"
   ]
  },
  {
   "cell_type": "code",
   "execution_count": 14,
   "metadata": {},
   "outputs": [],
   "source": [
    "#AGAIN "
   ]
  },
  {
   "cell_type": "code",
   "execution_count": 15,
   "metadata": {},
   "outputs": [],
   "source": [
    "from string import punctuation\n",
    "from nltk.corpus import stopwords"
   ]
  },
  {
   "cell_type": "code",
   "execution_count": 16,
   "metadata": {},
   "outputs": [
    {
     "data": {
      "text/plain": [
       "'!\"#$%&\\'()*+,-./:;<=>?@[\\\\]^_`{|}~'"
      ]
     },
     "execution_count": 16,
     "metadata": {},
     "output_type": "execute_result"
    }
   ],
   "source": [
    "punctuation"
   ]
  },
  {
   "cell_type": "code",
   "execution_count": 17,
   "metadata": {},
   "outputs": [
    {
     "data": {
      "text/plain": [
       "['i',\n",
       " 'me',\n",
       " 'my',\n",
       " 'myself',\n",
       " 'we',\n",
       " 'our',\n",
       " 'ours',\n",
       " 'ourselves',\n",
       " 'you',\n",
       " \"you're\",\n",
       " \"you've\",\n",
       " \"you'll\",\n",
       " \"you'd\",\n",
       " 'your',\n",
       " 'yours',\n",
       " 'yourself',\n",
       " 'yourselves',\n",
       " 'he',\n",
       " 'him',\n",
       " 'his',\n",
       " 'himself',\n",
       " 'she',\n",
       " \"she's\",\n",
       " 'her',\n",
       " 'hers',\n",
       " 'herself',\n",
       " 'it',\n",
       " \"it's\",\n",
       " 'its',\n",
       " 'itself',\n",
       " 'they',\n",
       " 'them',\n",
       " 'their',\n",
       " 'theirs',\n",
       " 'themselves',\n",
       " 'what',\n",
       " 'which',\n",
       " 'who',\n",
       " 'whom',\n",
       " 'this',\n",
       " 'that',\n",
       " \"that'll\",\n",
       " 'these',\n",
       " 'those',\n",
       " 'am',\n",
       " 'is',\n",
       " 'are',\n",
       " 'was',\n",
       " 'were',\n",
       " 'be',\n",
       " 'been',\n",
       " 'being',\n",
       " 'have',\n",
       " 'has',\n",
       " 'had',\n",
       " 'having',\n",
       " 'do',\n",
       " 'does',\n",
       " 'did',\n",
       " 'doing',\n",
       " 'a',\n",
       " 'an',\n",
       " 'the',\n",
       " 'and',\n",
       " 'but',\n",
       " 'if',\n",
       " 'or',\n",
       " 'because',\n",
       " 'as',\n",
       " 'until',\n",
       " 'while',\n",
       " 'of',\n",
       " 'at',\n",
       " 'by',\n",
       " 'for',\n",
       " 'with',\n",
       " 'about',\n",
       " 'against',\n",
       " 'between',\n",
       " 'into',\n",
       " 'through',\n",
       " 'during',\n",
       " 'before',\n",
       " 'after',\n",
       " 'above',\n",
       " 'below',\n",
       " 'to',\n",
       " 'from',\n",
       " 'up',\n",
       " 'down',\n",
       " 'in',\n",
       " 'out',\n",
       " 'on',\n",
       " 'off',\n",
       " 'over',\n",
       " 'under',\n",
       " 'again',\n",
       " 'further',\n",
       " 'then',\n",
       " 'once',\n",
       " 'here',\n",
       " 'there',\n",
       " 'when',\n",
       " 'where',\n",
       " 'why',\n",
       " 'how',\n",
       " 'all',\n",
       " 'any',\n",
       " 'both',\n",
       " 'each',\n",
       " 'few',\n",
       " 'more',\n",
       " 'most',\n",
       " 'other',\n",
       " 'some',\n",
       " 'such',\n",
       " 'no',\n",
       " 'nor',\n",
       " 'not',\n",
       " 'only',\n",
       " 'own',\n",
       " 'same',\n",
       " 'so',\n",
       " 'than',\n",
       " 'too',\n",
       " 'very',\n",
       " 's',\n",
       " 't',\n",
       " 'can',\n",
       " 'will',\n",
       " 'just',\n",
       " 'don',\n",
       " \"don't\",\n",
       " 'should',\n",
       " \"should've\",\n",
       " 'now',\n",
       " 'd',\n",
       " 'll',\n",
       " 'm',\n",
       " 'o',\n",
       " 're',\n",
       " 've',\n",
       " 'y',\n",
       " 'ain',\n",
       " 'aren',\n",
       " \"aren't\",\n",
       " 'couldn',\n",
       " \"couldn't\",\n",
       " 'didn',\n",
       " \"didn't\",\n",
       " 'doesn',\n",
       " \"doesn't\",\n",
       " 'hadn',\n",
       " \"hadn't\",\n",
       " 'hasn',\n",
       " \"hasn't\",\n",
       " 'haven',\n",
       " \"haven't\",\n",
       " 'isn',\n",
       " \"isn't\",\n",
       " 'ma',\n",
       " 'mightn',\n",
       " \"mightn't\",\n",
       " 'mustn',\n",
       " \"mustn't\",\n",
       " 'needn',\n",
       " \"needn't\",\n",
       " 'shan',\n",
       " \"shan't\",\n",
       " 'shouldn',\n",
       " \"shouldn't\",\n",
       " 'wasn',\n",
       " \"wasn't\",\n",
       " 'weren',\n",
       " \"weren't\",\n",
       " 'won',\n",
       " \"won't\",\n",
       " 'wouldn',\n",
       " \"wouldn't\"]"
      ]
     },
     "execution_count": 17,
     "metadata": {},
     "output_type": "execute_result"
    }
   ],
   "source": [
    "stopwords.words('english')"
   ]
  },
  {
   "cell_type": "code",
   "execution_count": 28,
   "metadata": {},
   "outputs": [
    {
     "data": {
      "text/plain": [
       "'Okay name ur price as long as its legal! Wen can I pick them up? Y u ave x ams xx'"
      ]
     },
     "execution_count": 28,
     "metadata": {},
     "output_type": "execute_result"
    }
   ],
   "source": [
    "tt=df1['text'][101]\n",
    "tt"
   ]
  },
  {
   "cell_type": "code",
   "execution_count": 29,
   "metadata": {},
   "outputs": [],
   "source": [
    "tt1=tt.lower()"
   ]
  },
  {
   "cell_type": "code",
   "execution_count": 30,
   "metadata": {},
   "outputs": [
    {
     "data": {
      "text/plain": [
       "'okay name ur price as long as its legal wen can i pick them up y u ave x ams xx'"
      ]
     },
     "execution_count": 30,
     "metadata": {},
     "output_type": "execute_result"
    }
   ],
   "source": [
    "tt1=''.join([i for i in tt1 if i not in punctuation])\n",
    "tt1"
   ]
  },
  {
   "cell_type": "code",
   "execution_count": 32,
   "metadata": {},
   "outputs": [
    {
     "data": {
      "text/plain": [
       "'okay name ur price long legal wen pick u ave x ams xx'"
      ]
     },
     "execution_count": 32,
     "metadata": {},
     "output_type": "execute_result"
    }
   ],
   "source": [
    "tt2=' '.join([i for i in tt1.split() if i not in stopwords.words('english')])\n",
    "tt2"
   ]
  },
  {
   "cell_type": "code",
   "execution_count": 120,
   "metadata": {},
   "outputs": [],
   "source": [
    "def text_process(tt):\n",
    "    tt1=tt.lower()\n",
    "    tt1=''.join([i for i in tt1 if i not in punctuation])\n",
    "    tt2=' '.join([i for i in tt1.split() if i not in stopwords.words('english')])\n",
    "    return tt2"
   ]
  },
  {
   "cell_type": "code",
   "execution_count": 121,
   "metadata": {},
   "outputs": [],
   "source": [
    "from sklearn.naive_bayes import MultinomialNB,GaussianNB"
   ]
  },
  {
   "cell_type": "code",
   "execution_count": 122,
   "metadata": {},
   "outputs": [],
   "source": [
    "from sklearn.feature_extraction.text import CountVectorizer,TfidfTransformer"
   ]
  },
  {
   "cell_type": "code",
   "execution_count": 123,
   "metadata": {},
   "outputs": [],
   "source": [
    "from sklearn.pipeline import Pipeline"
   ]
  },
  {
   "cell_type": "code",
   "execution_count": 124,
   "metadata": {},
   "outputs": [],
   "source": [
    "model=Pipeline([(\"cv\",CountVectorizer(analyzer=text_process)),('tfidf',TfidfTransformer()),('nb',MultinomialNB())])"
   ]
  },
  {
   "cell_type": "code",
   "execution_count": 125,
   "metadata": {},
   "outputs": [],
   "source": [
    "from sklearn.model_selection import train_test_split"
   ]
  },
  {
   "cell_type": "code",
   "execution_count": 129,
   "metadata": {},
   "outputs": [],
   "source": [
    "x_train,x_test,y_train,y_test=train_test_split(df1['text'],df1['type'],test_size=0.3)"
   ]
  },
  {
   "cell_type": "code",
   "execution_count": 131,
   "metadata": {},
   "outputs": [
    {
     "data": {
      "text/plain": [
       "Pipeline(memory=None,\n",
       "     steps=[('cv', CountVectorizer(analyzer=<function text_process at 0x000001189DA16E18>,\n",
       "        binary=False, decode_error='strict', dtype=<class 'numpy.int64'>,\n",
       "        encoding='utf-8', input='content', lowercase=True, max_df=1.0,\n",
       "        max_features=None, min_df=1, ngram_range=(1, 1), preprocessor...linear_tf=False, use_idf=True)), ('nb', MultinomialNB(alpha=1.0, class_prior=None, fit_prior=True))])"
      ]
     },
     "execution_count": 131,
     "metadata": {},
     "output_type": "execute_result"
    }
   ],
   "source": [
    "model.fit(x_train,y_train)"
   ]
  },
  {
   "cell_type": "code",
   "execution_count": 133,
   "metadata": {},
   "outputs": [],
   "source": [
    "pred=model.predict(x_test)"
   ]
  },
  {
   "cell_type": "code",
   "execution_count": 134,
   "metadata": {},
   "outputs": [],
   "source": [
    "from sklearn.metrics import confusion_matrix,classification_report"
   ]
  },
  {
   "cell_type": "code",
   "execution_count": 135,
   "metadata": {},
   "outputs": [
    {
     "name": "stdout",
     "output_type": "stream",
     "text": [
      "[[1435    4]\n",
      " [  53  180]]\n"
     ]
    }
   ],
   "source": [
    "print(confusion_matrix(y_test,pred))"
   ]
  },
  {
   "cell_type": "code",
   "execution_count": 136,
   "metadata": {},
   "outputs": [
    {
     "name": "stdout",
     "output_type": "stream",
     "text": [
      "             precision    recall  f1-score   support\n",
      "\n",
      "        ham       0.96      1.00      0.98      1439\n",
      "       spam       0.98      0.77      0.86       233\n",
      "\n",
      "avg / total       0.97      0.97      0.96      1672\n",
      "\n"
     ]
    }
   ],
   "source": [
    "print(classification_report(y_test,pred))"
   ]
  },
  {
   "cell_type": "code",
   "execution_count": 138,
   "metadata": {},
   "outputs": [
    {
     "name": "stdout",
     "output_type": "stream",
     "text": [
      "ham\n"
     ]
    }
   ],
   "source": [
    "q=pd.Series(['let us give it a try to make it something relevant'])\n",
    "p=model.predict(q)\n",
    "print(p[0])"
   ]
  },
  {
   "cell_type": "code",
   "execution_count": null,
   "metadata": {},
   "outputs": [],
   "source": []
  }
 ],
 "metadata": {
  "kernelspec": {
   "display_name": "Python 3",
   "language": "python",
   "name": "python3"
  },
  "language_info": {
   "codemirror_mode": {
    "name": "ipython",
    "version": 3
   },
   "file_extension": ".py",
   "mimetype": "text/x-python",
   "name": "python",
   "nbconvert_exporter": "python",
   "pygments_lexer": "ipython3",
   "version": "3.6.5"
  }
 },
 "nbformat": 4,
 "nbformat_minor": 2
}
